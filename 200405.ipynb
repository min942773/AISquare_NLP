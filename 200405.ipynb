{
 "cells": [
  {
   "cell_type": "markdown",
   "metadata": {},
   "source": [
    "0. Open\n",
    "1. Review\n",
    "2. Topic\n",
    "    \n",
    "    2.1 피드 포워드 신경망 언어 모델(Neural Network Language Model, NNML)\n",
    "    \n",
    "    2.2 순환 신경망 언어 모델(Recurrent Neural Network Language Model, RNNLM)\n",
    "    \n",
    "    2.3 RNN 이용 텍스트 생성\n",
    "    \n",
    "    2.4 글자 단위 RNN (Char RNN)\n",
    "    \n",
    "3. Q & A\n",
    "4. Next\n",
    "5. Close"
   ]
  },
  {
   "cell_type": "markdown",
   "metadata": {},
   "source": [
    "- 피드 포워드 신경망 언어 모델 (Neural Network Language Model, NNLM)"
   ]
  },
  {
   "cell_type": "markdown",
   "metadata": {},
   "source": [
    "- 언어 모델은 문장에 확률을 할당하는 모델\n",
    "- 주어진 문맥으로 부터 아직 모르는 단어를 예측하는 것을 언어 모델링이라 함\n",
    "- 이전 단어를 이용해서 다음 단어를 예측하는 언어 모델링\n",
    "- 통계적 언어 모델(Statistical Language Model, SLM) : n-gram 언어 모델\n",
    "- 신경망 언어 모델(Neural Network Language Model, NNLM) : FFNN 언어 모델, RNN 언어 모델"
   ]
  },
  {
   "cell_type": "markdown",
   "metadata": {},
   "source": [
    "#### n-gram 언어 모델\n",
    "\n",
    "- 4-gram 언어 모델\n",
    "\n",
    "An adorable little boy is spreading [예측 단어]\n",
    "\n",
    "(An adorable little) -> 무시\n",
    "\n",
    "[boy is spreading] -> 단어 예측에 사용, (n-1)개의 단어\n",
    "\n",
    "P([w] | boy is spreading) = count(boy is spreading [w]) / count(boy is spreading)\n",
    "\n",
    "corpus -> boy is spreading : 1000번 출현  \n",
    "boy is spreading insults : 500번 출현, boy is spreading smiles : 200번 출현\n",
    "\n",
    "P([insults] | boy is spreading) : 0.5  \n",
    "P([smiles] | boy is spreading) : 0.2\n",
    "\n",
    "n-gram 단점 : 희소 문제(sparsity probelm) -> 언어 모델에서 학습하지 않는 대상에 대해서는 확률이 0이기 때문에 예측하지 못하는 문제가 존재\n",
    "\n",
    "- 희소 문제는 단어에 대한 유사도를 알 수 있다면 해결할 수 있다.\n",
    "- 언어 모델이 단어의 유사도를 학습할 수 있도록 설계한다면, corpus에 없는 단어 시퀀스에 대한 예측이라도 유사한 단어가 사용된 단어 시퀀스를 참고하여 보다 정확한 예측을 할 수 있을 것이다.-> NNLM"
   ]
  },
  {
   "cell_type": "markdown",
   "metadata": {},
   "source": [
    "#### 피드 포워드 신경망 및 언어 모델(NNLM)\n",
    "- 언어 모델은 주어진 단어 시퀀스로부터 다음 단어를 예측하는 모델\n",
    "\n",
    "예문 : \"what will the fat cat sit on\"\n",
    "\n",
    "- 훈련 과정에서 \"what will the fat cat\"이라는 단어 시퀀스가 입력으로 주어지면 '다음 단어 \"sit\"을 예측하는 방식으로 훈련\n"
   ]
  },
  {
   "cell_type": "markdown",
   "metadata": {},
   "source": [
    "- NNLM도 n-gram LM과 유사하게 다음 단어를 예측할 때, 앞의 모든 단어를 참고하는 것이 아니라 정해진 n개의 단어만을 참고한다.\n",
    "- 예측을 할 때 정해지는 n개의 범위를 window라고 한다."
   ]
  },
  {
   "cell_type": "markdown",
   "metadata": {},
   "source": [
    "- 투사층(Projection Layer) : NNLM의 은닉층에 해당, 활성화 함수를 적용하지 않는다. 선형 함수 형태, lookup table"
   ]
  },
  {
   "cell_type": "markdown",
   "metadata": {},
   "source": [
    "- NNLM의 이점 : 충분한 양의 훈련 corpus를 NNLM 모델을 통해 학습한다면 결과적으로 수많은 문장에서 유사한 목적으로 사용되는 단어들은 결국 유사한 임베딩 벡터값을 얻게 된다.\n",
    "- NNLM의 단점 : 고정된 길이의 입력에 대한 예측만 가능하다. 윈도우 크기에 따라 학습을 수행하기 때문에 윈도우에 포함되지 않는 단어들을 참고할 수 없다는 문제"
   ]
  },
  {
   "cell_type": "markdown",
   "metadata": {},
   "source": [
    "### RNN 언어 모델(Recurrent Neural Network Language Model, RNNLM)"
   ]
  },
  {
   "cell_type": "markdown",
   "metadata": {},
   "source": [
    "- n-gram 언어 모델이나 NNLM은 고정된 개수의 단어만을 입력으로 받아야하는 단점\n",
    "- 시점(time step)이라는 개념이 도입된 RNN으로 언어 모델을 만들면 입력의 길이를 고정하지 않을 수 있다."
   ]
  },
  {
   "cell_type": "markdown",
   "metadata": {},
   "source": [
    "- RNNLM은 기본적으로 예측 과정에서 이전 시점의 출력을 현재 시점의 입력으로 한다.\n",
    "- RNNLM의 학습 방법(훈련 기법)은 교사 강요(teacher forcing) 방법을 사용한다.\n",
    "- 교사 강요(teacher forcing) : 테스트 과정에서 t 시점의 출력이 t + 1 시점의 입력으로 사용되는 RNN 모델을 훈련시킬 때 사용하는 훈련 기법, 훈련할 때 교사 강요를 사용할 경우, 모델이 t 시점에서 예측한 값을 t + 1 시점에 입력으로 사용하지 않고, t 시점의 레이블, 즉 실제 알고있는 정답을 t + 1 시점의 입력으로 사용한다."
   ]
  },
  {
   "cell_type": "markdown",
   "metadata": {},
   "source": [
    "## RNN을 이용한 텍스트 생성\n",
    "- 다대일(many-to-one) 구조의 RNN을 사용하여 문맥을 반영하여 텍스트를 생성하는 모델"
   ]
  },
  {
   "cell_type": "markdown",
   "metadata": {},
   "source": [
    "- 문장 : '경마장에 있는 말은 뛰고 있다.', '그의 말이 법이다.', '가는 말이 고와야 오는 말이 곱다'\n",
    "- 모델이 문맥을 학습할 수 있도록 전체 문장의 앞 단어들을 전부 고려하여 학습할 때  데이터를 재구성\n",
    "\n",
    "|samples|x|y|\n",
    "|---|---|---|\n",
    "|1|경마장에|있는|\n",
    "|2|경마장에 있는|말이|\n",
    "|3|경마장에 있는 말이|뛰고|\n",
    "|4|경마장에 있는 말이 뛰고||있다|\n",
    "|5|그의|말이|\n",
    "|6|그의 말이|법이다|\n",
    "|7|가는|말이|\n",
    "|8|가는 말이|고와야|\n",
    "|9|가는 말이 고와야|오는|\n",
    "|10|가는 말이 고와야 오는|말이|\n",
    "|11|가는 말이 고와야 오는 말이|곱다|"
   ]
  },
  {
   "cell_type": "code",
   "execution_count": 1,
   "metadata": {},
   "outputs": [],
   "source": [
    "import numpy as np\n",
    "\n",
    "from tensorflow.keras.preprocessing.text import Tokenizer\n",
    "from tensorflow.keras.preprocessing.sequence import pad_sequences\n",
    "\n",
    "from tensorflow.keras.utils import to_categorical"
   ]
  },
  {
   "cell_type": "markdown",
   "metadata": {},
   "source": [
    "### 1. 데이터 이해/전처리"
   ]
  },
  {
   "cell_type": "code",
   "execution_count": 2,
   "metadata": {},
   "outputs": [],
   "source": [
    "text = \"\"\"경마장에 있는 말이 뛰고 있다\\n\n",
    "그의 말이 법이다\\n\n",
    "가는 말이 고와야 오는 말이 곱다\\n\n",
    "\"\"\""
   ]
  },
  {
   "cell_type": "code",
   "execution_count": 3,
   "metadata": {},
   "outputs": [
    {
     "name": "stdout",
     "output_type": "stream",
     "text": [
      "단어 집합의 크기 : 12\n"
     ]
    }
   ],
   "source": [
    "t = Tokenizer()\n",
    "t.fit_on_texts([text])\n",
    "vocab_size = len(t.word_index) + 1\n",
    "print('단어 집합의 크기 : {}'.format(vocab_size))"
   ]
  },
  {
   "cell_type": "code",
   "execution_count": 4,
   "metadata": {},
   "outputs": [
    {
     "name": "stdout",
     "output_type": "stream",
     "text": [
      "{'말이': 1, '경마장에': 2, '있는': 3, '뛰고': 4, '있다': 5, '그의': 6, '법이다': 7, '가는': 8, '고와야': 9, '오는': 10, '곱다': 11}\n"
     ]
    }
   ],
   "source": [
    "print(t.word_index)"
   ]
  },
  {
   "cell_type": "code",
   "execution_count": 5,
   "metadata": {},
   "outputs": [
    {
     "name": "stdout",
     "output_type": "stream",
     "text": [
      "학습에 사용할 샘플의 개수 : 11\n"
     ]
    }
   ],
   "source": [
    "sequences = list()\n",
    "for line in text.split('\\n'):\n",
    "    encoded = t.texts_to_sequences([line])[0]\n",
    "    for i in range(1, len(encoded)):\n",
    "        sequence = encoded[:i + 1]\n",
    "        sequences.append(sequence)\n",
    "        \n",
    "print('학습에 사용할 샘플의 개수 : {:d}'.format(len(sequences)))"
   ]
  },
  {
   "cell_type": "code",
   "execution_count": 6,
   "metadata": {},
   "outputs": [
    {
     "name": "stdout",
     "output_type": "stream",
     "text": [
      "[[2, 3], [2, 3, 1], [2, 3, 1, 4], [2, 3, 1, 4, 5], [6, 1], [6, 1, 7], [8, 1], [8, 1, 9], [8, 1, 9, 10], [8, 1, 9, 10, 1], [8, 1, 9, 10, 1, 11]]\n"
     ]
    }
   ],
   "source": [
    "print(sequences)"
   ]
  },
  {
   "cell_type": "code",
   "execution_count": 7,
   "metadata": {},
   "outputs": [
    {
     "name": "stdout",
     "output_type": "stream",
     "text": [
      "샘플의 최대 길이 : 6\n"
     ]
    }
   ],
   "source": [
    "max_len = max(len(l) for l in sequences)\n",
    "print('샘플의 최대 길이 : {}'.format(max_len))"
   ]
  },
  {
   "cell_type": "code",
   "execution_count": 8,
   "metadata": {},
   "outputs": [
    {
     "name": "stdout",
     "output_type": "stream",
     "text": [
      "[[ 0  0  0  0  2  3]\n",
      " [ 0  0  0  2  3  1]\n",
      " [ 0  0  2  3  1  4]\n",
      " [ 0  2  3  1  4  5]\n",
      " [ 0  0  0  0  6  1]\n",
      " [ 0  0  0  6  1  7]\n",
      " [ 0  0  0  0  8  1]\n",
      " [ 0  0  0  8  1  9]\n",
      " [ 0  0  8  1  9 10]\n",
      " [ 0  8  1  9 10  1]\n",
      " [ 8  1  9 10  1 11]]\n"
     ]
    }
   ],
   "source": [
    "sequences = pad_sequences(sequences, maxlen=max_len, padding='pre')\n",
    "print(sequences)"
   ]
  },
  {
   "cell_type": "code",
   "execution_count": 9,
   "metadata": {},
   "outputs": [],
   "source": [
    "sequences = np.array(sequences)\n",
    "X = sequences[ :, :-1]\n",
    "y = sequences[ :, -1]"
   ]
  },
  {
   "cell_type": "code",
   "execution_count": 10,
   "metadata": {},
   "outputs": [
    {
     "name": "stdout",
     "output_type": "stream",
     "text": [
      "[[ 0  0  0  0  2]\n",
      " [ 0  0  0  2  3]\n",
      " [ 0  0  2  3  1]\n",
      " [ 0  2  3  1  4]\n",
      " [ 0  0  0  0  6]\n",
      " [ 0  0  0  6  1]\n",
      " [ 0  0  0  0  8]\n",
      " [ 0  0  0  8  1]\n",
      " [ 0  0  8  1  9]\n",
      " [ 0  8  1  9 10]\n",
      " [ 8  1  9 10  1]]\n"
     ]
    }
   ],
   "source": [
    "print(X)"
   ]
  },
  {
   "cell_type": "code",
   "execution_count": 11,
   "metadata": {},
   "outputs": [
    {
     "name": "stdout",
     "output_type": "stream",
     "text": [
      "[ 3  1  4  5  1  7  1  9 10  1 11]\n"
     ]
    }
   ],
   "source": [
    "print(y)"
   ]
  },
  {
   "cell_type": "code",
   "execution_count": 12,
   "metadata": {},
   "outputs": [],
   "source": [
    "y = to_categorical(y, num_classes=vocab_size)"
   ]
  },
  {
   "cell_type": "code",
   "execution_count": 13,
   "metadata": {},
   "outputs": [
    {
     "name": "stdout",
     "output_type": "stream",
     "text": [
      "[[0. 0. 0. 1. 0. 0. 0. 0. 0. 0. 0. 0.]\n",
      " [0. 1. 0. 0. 0. 0. 0. 0. 0. 0. 0. 0.]\n",
      " [0. 0. 0. 0. 1. 0. 0. 0. 0. 0. 0. 0.]\n",
      " [0. 0. 0. 0. 0. 1. 0. 0. 0. 0. 0. 0.]\n",
      " [0. 1. 0. 0. 0. 0. 0. 0. 0. 0. 0. 0.]\n",
      " [0. 0. 0. 0. 0. 0. 0. 1. 0. 0. 0. 0.]\n",
      " [0. 1. 0. 0. 0. 0. 0. 0. 0. 0. 0. 0.]\n",
      " [0. 0. 0. 0. 0. 0. 0. 0. 0. 1. 0. 0.]\n",
      " [0. 0. 0. 0. 0. 0. 0. 0. 0. 0. 1. 0.]\n",
      " [0. 1. 0. 0. 0. 0. 0. 0. 0. 0. 0. 0.]\n",
      " [0. 0. 0. 0. 0. 0. 0. 0. 0. 0. 0. 1.]]\n"
     ]
    }
   ],
   "source": [
    "print(y)"
   ]
  },
  {
   "cell_type": "markdown",
   "metadata": {},
   "source": [
    "### 2. 모델 설계"
   ]
  },
  {
   "cell_type": "code",
   "execution_count": 14,
   "metadata": {},
   "outputs": [],
   "source": [
    "from tensorflow.keras.models import Sequential\n",
    "from tensorflow.keras.layers import Embedding, Dense, SimpleRNN"
   ]
  },
  {
   "cell_type": "code",
   "execution_count": 15,
   "metadata": {},
   "outputs": [
    {
     "name": "stdout",
     "output_type": "stream",
     "text": [
      "Train on 11 samples\n",
      "Epoch 1/200\n",
      "11/11 - 1s - loss: 2.4616 - accuracy: 0.1818\n",
      "Epoch 2/200\n",
      "11/11 - 0s - loss: 2.4441 - accuracy: 0.2727\n",
      "Epoch 3/200\n",
      "11/11 - 0s - loss: 2.4266 - accuracy: 0.2727\n",
      "Epoch 4/200\n",
      "11/11 - 0s - loss: 2.4087 - accuracy: 0.2727\n",
      "Epoch 5/200\n",
      "11/11 - 0s - loss: 2.3905 - accuracy: 0.4545\n",
      "Epoch 6/200\n",
      "11/11 - 0s - loss: 2.3716 - accuracy: 0.4545\n",
      "Epoch 7/200\n",
      "11/11 - 0s - loss: 2.3522 - accuracy: 0.4545\n",
      "Epoch 8/200\n",
      "11/11 - 0s - loss: 2.3321 - accuracy: 0.4545\n",
      "Epoch 9/200\n",
      "11/11 - 0s - loss: 2.3111 - accuracy: 0.4545\n",
      "Epoch 10/200\n",
      "11/11 - 0s - loss: 2.2893 - accuracy: 0.4545\n",
      "Epoch 11/200\n",
      "11/11 - 0s - loss: 2.2665 - accuracy: 0.4545\n",
      "Epoch 12/200\n",
      "11/11 - 0s - loss: 2.2429 - accuracy: 0.4545\n",
      "Epoch 13/200\n",
      "11/11 - 0s - loss: 2.2184 - accuracy: 0.3636\n",
      "Epoch 14/200\n",
      "11/11 - 0s - loss: 2.1930 - accuracy: 0.3636\n",
      "Epoch 15/200\n",
      "11/11 - 0s - loss: 2.1670 - accuracy: 0.3636\n",
      "Epoch 16/200\n",
      "11/11 - 0s - loss: 2.1403 - accuracy: 0.3636\n",
      "Epoch 17/200\n",
      "11/11 - 0s - loss: 2.1133 - accuracy: 0.3636\n",
      "Epoch 18/200\n",
      "11/11 - 0s - loss: 2.0863 - accuracy: 0.3636\n",
      "Epoch 19/200\n",
      "11/11 - 0s - loss: 2.0595 - accuracy: 0.3636\n",
      "Epoch 20/200\n",
      "11/11 - 0s - loss: 2.0334 - accuracy: 0.3636\n",
      "Epoch 21/200\n",
      "11/11 - 0s - loss: 2.0083 - accuracy: 0.3636\n",
      "Epoch 22/200\n",
      "11/11 - 0s - loss: 1.9848 - accuracy: 0.3636\n",
      "Epoch 23/200\n",
      "11/11 - 0s - loss: 1.9631 - accuracy: 0.3636\n",
      "Epoch 24/200\n",
      "11/11 - 0s - loss: 1.9435 - accuracy: 0.3636\n",
      "Epoch 25/200\n",
      "11/11 - 0s - loss: 1.9260 - accuracy: 0.3636\n",
      "Epoch 26/200\n",
      "11/11 - 0s - loss: 1.9107 - accuracy: 0.3636\n",
      "Epoch 27/200\n",
      "11/11 - 0s - loss: 1.8972 - accuracy: 0.3636\n",
      "Epoch 28/200\n",
      "11/11 - 0s - loss: 1.8849 - accuracy: 0.3636\n",
      "Epoch 29/200\n",
      "11/11 - 0s - loss: 1.8732 - accuracy: 0.3636\n",
      "Epoch 30/200\n",
      "11/11 - 0s - loss: 1.8617 - accuracy: 0.3636\n",
      "Epoch 31/200\n",
      "11/11 - 0s - loss: 1.8498 - accuracy: 0.3636\n",
      "Epoch 32/200\n",
      "11/11 - 0s - loss: 1.8372 - accuracy: 0.3636\n",
      "Epoch 33/200\n",
      "11/11 - 0s - loss: 1.8238 - accuracy: 0.3636\n",
      "Epoch 34/200\n",
      "11/11 - 0s - loss: 1.8095 - accuracy: 0.3636\n",
      "Epoch 35/200\n",
      "11/11 - 0s - loss: 1.7945 - accuracy: 0.3636\n",
      "Epoch 36/200\n",
      "11/11 - 0s - loss: 1.7790 - accuracy: 0.3636\n",
      "Epoch 37/200\n",
      "11/11 - 0s - loss: 1.7632 - accuracy: 0.3636\n",
      "Epoch 38/200\n",
      "11/11 - 0s - loss: 1.7473 - accuracy: 0.4545\n",
      "Epoch 39/200\n",
      "11/11 - 0s - loss: 1.7316 - accuracy: 0.4545\n",
      "Epoch 40/200\n",
      "11/11 - 0s - loss: 1.7161 - accuracy: 0.4545\n",
      "Epoch 41/200\n",
      "11/11 - 0s - loss: 1.7008 - accuracy: 0.4545\n",
      "Epoch 42/200\n",
      "11/11 - 0s - loss: 1.6858 - accuracy: 0.4545\n",
      "Epoch 43/200\n",
      "11/11 - 0s - loss: 1.6709 - accuracy: 0.4545\n",
      "Epoch 44/200\n",
      "11/11 - 0s - loss: 1.6560 - accuracy: 0.4545\n",
      "Epoch 45/200\n",
      "11/11 - 0s - loss: 1.6411 - accuracy: 0.4545\n",
      "Epoch 46/200\n",
      "11/11 - 0s - loss: 1.6259 - accuracy: 0.4545\n",
      "Epoch 47/200\n",
      "11/11 - 0s - loss: 1.6104 - accuracy: 0.4545\n",
      "Epoch 48/200\n",
      "11/11 - 0s - loss: 1.5946 - accuracy: 0.4545\n",
      "Epoch 49/200\n",
      "11/11 - 0s - loss: 1.5783 - accuracy: 0.4545\n",
      "Epoch 50/200\n",
      "11/11 - 0s - loss: 1.5616 - accuracy: 0.5455\n",
      "Epoch 51/200\n",
      "11/11 - 0s - loss: 1.5445 - accuracy: 0.5455\n",
      "Epoch 52/200\n",
      "11/11 - 0s - loss: 1.5270 - accuracy: 0.5455\n",
      "Epoch 53/200\n",
      "11/11 - 0s - loss: 1.5092 - accuracy: 0.5455\n",
      "Epoch 54/200\n",
      "11/11 - 0s - loss: 1.4911 - accuracy: 0.5455\n",
      "Epoch 55/200\n",
      "11/11 - 0s - loss: 1.4729 - accuracy: 0.5455\n",
      "Epoch 56/200\n",
      "11/11 - 0s - loss: 1.4545 - accuracy: 0.5455\n",
      "Epoch 57/200\n",
      "11/11 - 0s - loss: 1.4360 - accuracy: 0.5455\n",
      "Epoch 58/200\n",
      "11/11 - 0s - loss: 1.4174 - accuracy: 0.5455\n",
      "Epoch 59/200\n",
      "11/11 - 0s - loss: 1.3988 - accuracy: 0.5455\n",
      "Epoch 60/200\n",
      "11/11 - 0s - loss: 1.3802 - accuracy: 0.5455\n",
      "Epoch 61/200\n",
      "11/11 - 0s - loss: 1.3615 - accuracy: 0.6364\n",
      "Epoch 62/200\n",
      "11/11 - 0s - loss: 1.3429 - accuracy: 0.6364\n",
      "Epoch 63/200\n",
      "11/11 - 0s - loss: 1.3242 - accuracy: 0.6364\n",
      "Epoch 64/200\n",
      "11/11 - 0s - loss: 1.3056 - accuracy: 0.6364\n",
      "Epoch 65/200\n",
      "11/11 - 0s - loss: 1.2870 - accuracy: 0.6364\n",
      "Epoch 66/200\n",
      "11/11 - 0s - loss: 1.2686 - accuracy: 0.6364\n",
      "Epoch 67/200\n",
      "11/11 - 0s - loss: 1.2502 - accuracy: 0.6364\n",
      "Epoch 68/200\n",
      "11/11 - 0s - loss: 1.2321 - accuracy: 0.6364\n",
      "Epoch 69/200\n",
      "11/11 - 0s - loss: 1.2141 - accuracy: 0.6364\n",
      "Epoch 70/200\n",
      "11/11 - 0s - loss: 1.1964 - accuracy: 0.6364\n",
      "Epoch 71/200\n",
      "11/11 - 0s - loss: 1.1790 - accuracy: 0.6364\n",
      "Epoch 72/200\n",
      "11/11 - 0s - loss: 1.1617 - accuracy: 0.6364\n",
      "Epoch 73/200\n",
      "11/11 - 0s - loss: 1.1448 - accuracy: 0.6364\n",
      "Epoch 74/200\n",
      "11/11 - 0s - loss: 1.1281 - accuracy: 0.6364\n",
      "Epoch 75/200\n",
      "11/11 - 0s - loss: 1.1116 - accuracy: 0.6364\n",
      "Epoch 76/200\n",
      "11/11 - 0s - loss: 1.0953 - accuracy: 0.7273\n",
      "Epoch 77/200\n",
      "11/11 - 0s - loss: 1.0792 - accuracy: 0.7273\n",
      "Epoch 78/200\n",
      "11/11 - 0s - loss: 1.0633 - accuracy: 0.7273\n",
      "Epoch 79/200\n",
      "11/11 - 0s - loss: 1.0477 - accuracy: 0.7273\n",
      "Epoch 80/200\n",
      "11/11 - 0s - loss: 1.0322 - accuracy: 0.7273\n",
      "Epoch 81/200\n",
      "11/11 - 0s - loss: 1.0170 - accuracy: 0.7273\n",
      "Epoch 82/200\n",
      "11/11 - 0s - loss: 1.0019 - accuracy: 0.7273\n",
      "Epoch 83/200\n",
      "11/11 - 0s - loss: 0.9871 - accuracy: 0.7273\n",
      "Epoch 84/200\n",
      "11/11 - 0s - loss: 0.9725 - accuracy: 0.7273\n",
      "Epoch 85/200\n",
      "11/11 - 0s - loss: 0.9582 - accuracy: 0.7273\n",
      "Epoch 86/200\n",
      "11/11 - 0s - loss: 0.9441 - accuracy: 0.7273\n",
      "Epoch 87/200\n",
      "11/11 - 0s - loss: 0.9301 - accuracy: 0.7273\n",
      "Epoch 88/200\n",
      "11/11 - 0s - loss: 0.9164 - accuracy: 0.7273\n",
      "Epoch 89/200\n",
      "11/11 - 0s - loss: 0.9029 - accuracy: 0.7273\n",
      "Epoch 90/200\n",
      "11/11 - 0s - loss: 0.8895 - accuracy: 0.7273\n",
      "Epoch 91/200\n",
      "11/11 - 0s - loss: 0.8764 - accuracy: 0.7273\n",
      "Epoch 92/200\n",
      "11/11 - 0s - loss: 0.8634 - accuracy: 0.7273\n",
      "Epoch 93/200\n",
      "11/11 - 0s - loss: 0.8507 - accuracy: 0.7273\n",
      "Epoch 94/200\n",
      "11/11 - 0s - loss: 0.8381 - accuracy: 0.7273\n",
      "Epoch 95/200\n",
      "11/11 - 0s - loss: 0.8257 - accuracy: 0.7273\n",
      "Epoch 96/200\n",
      "11/11 - 0s - loss: 0.8135 - accuracy: 0.7273\n",
      "Epoch 97/200\n",
      "11/11 - 0s - loss: 0.8014 - accuracy: 0.7273\n",
      "Epoch 98/200\n",
      "11/11 - 0s - loss: 0.7895 - accuracy: 0.7273\n",
      "Epoch 99/200\n",
      "11/11 - 0s - loss: 0.7778 - accuracy: 0.7273\n",
      "Epoch 100/200\n",
      "11/11 - 0s - loss: 0.7663 - accuracy: 0.7273\n",
      "Epoch 101/200\n",
      "11/11 - 0s - loss: 0.7549 - accuracy: 0.7273\n",
      "Epoch 102/200\n",
      "11/11 - 0s - loss: 0.7437 - accuracy: 0.7273\n",
      "Epoch 103/200\n",
      "11/11 - 0s - loss: 0.7326 - accuracy: 0.7273\n",
      "Epoch 104/200\n",
      "11/11 - 0s - loss: 0.7217 - accuracy: 0.7273\n",
      "Epoch 105/200\n",
      "11/11 - 0s - loss: 0.7110 - accuracy: 0.8182\n",
      "Epoch 106/200\n",
      "11/11 - 0s - loss: 0.7004 - accuracy: 0.8182\n",
      "Epoch 107/200\n",
      "11/11 - 0s - loss: 0.6900 - accuracy: 0.8182\n",
      "Epoch 108/200\n",
      "11/11 - 0s - loss: 0.6798 - accuracy: 0.8182\n",
      "Epoch 109/200\n",
      "11/11 - 0s - loss: 0.6697 - accuracy: 0.8182\n",
      "Epoch 110/200\n",
      "11/11 - 0s - loss: 0.6597 - accuracy: 0.8182\n",
      "Epoch 111/200\n",
      "11/11 - 0s - loss: 0.6499 - accuracy: 0.8182\n",
      "Epoch 112/200\n",
      "11/11 - 0s - loss: 0.6402 - accuracy: 0.8182\n",
      "Epoch 113/200\n",
      "11/11 - 0s - loss: 0.6307 - accuracy: 0.9091\n",
      "Epoch 114/200\n",
      "11/11 - 0s - loss: 0.6214 - accuracy: 0.9091\n",
      "Epoch 115/200\n",
      "11/11 - 0s - loss: 0.6121 - accuracy: 0.9091\n",
      "Epoch 116/200\n",
      "11/11 - 0s - loss: 0.6030 - accuracy: 0.9091\n",
      "Epoch 117/200\n",
      "11/11 - 0s - loss: 0.5941 - accuracy: 0.9091\n",
      "Epoch 118/200\n",
      "11/11 - 0s - loss: 0.5852 - accuracy: 0.9091\n",
      "Epoch 119/200\n",
      "11/11 - 0s - loss: 0.5765 - accuracy: 0.9091\n",
      "Epoch 120/200\n",
      "11/11 - 0s - loss: 0.5679 - accuracy: 0.9091\n",
      "Epoch 121/200\n",
      "11/11 - 0s - loss: 0.5595 - accuracy: 0.9091\n",
      "Epoch 122/200\n",
      "11/11 - 0s - loss: 0.5511 - accuracy: 0.9091\n",
      "Epoch 123/200\n",
      "11/11 - 0s - loss: 0.5429 - accuracy: 0.9091\n",
      "Epoch 124/200\n",
      "11/11 - 0s - loss: 0.5348 - accuracy: 0.9091\n",
      "Epoch 125/200\n",
      "11/11 - 0s - loss: 0.5268 - accuracy: 0.9091\n",
      "Epoch 126/200\n",
      "11/11 - 0s - loss: 0.5189 - accuracy: 0.9091\n",
      "Epoch 127/200\n",
      "11/11 - 0s - loss: 0.5111 - accuracy: 0.9091\n",
      "Epoch 128/200\n",
      "11/11 - 0s - loss: 0.5034 - accuracy: 0.9091\n",
      "Epoch 129/200\n",
      "11/11 - 0s - loss: 0.4958 - accuracy: 0.9091\n",
      "Epoch 130/200\n",
      "11/11 - 0s - loss: 0.4883 - accuracy: 0.9091\n",
      "Epoch 131/200\n",
      "11/11 - 0s - loss: 0.4809 - accuracy: 0.9091\n",
      "Epoch 132/200\n",
      "11/11 - 0s - loss: 0.4736 - accuracy: 0.9091\n",
      "Epoch 133/200\n",
      "11/11 - 0s - loss: 0.4664 - accuracy: 0.9091\n",
      "Epoch 134/200\n",
      "11/11 - 0s - loss: 0.4593 - accuracy: 0.9091\n",
      "Epoch 135/200\n",
      "11/11 - 0s - loss: 0.4523 - accuracy: 0.9091\n",
      "Epoch 136/200\n",
      "11/11 - 0s - loss: 0.4453 - accuracy: 0.9091\n",
      "Epoch 137/200\n",
      "11/11 - 0s - loss: 0.4385 - accuracy: 0.9091\n",
      "Epoch 138/200\n",
      "11/11 - 0s - loss: 0.4317 - accuracy: 0.9091\n",
      "Epoch 139/200\n",
      "11/11 - 0s - loss: 0.4250 - accuracy: 0.9091\n",
      "Epoch 140/200\n",
      "11/11 - 0s - loss: 0.4184 - accuracy: 0.9091\n",
      "Epoch 141/200\n",
      "11/11 - 0s - loss: 0.4119 - accuracy: 0.9091\n"
     ]
    },
    {
     "name": "stdout",
     "output_type": "stream",
     "text": [
      "Epoch 142/200\n",
      "11/11 - 0s - loss: 0.4055 - accuracy: 0.9091\n",
      "Epoch 143/200\n",
      "11/11 - 0s - loss: 0.3992 - accuracy: 0.9091\n",
      "Epoch 144/200\n",
      "11/11 - 0s - loss: 0.3929 - accuracy: 0.9091\n",
      "Epoch 145/200\n",
      "11/11 - 0s - loss: 0.3867 - accuracy: 0.9091\n",
      "Epoch 146/200\n",
      "11/11 - 0s - loss: 0.3806 - accuracy: 0.9091\n",
      "Epoch 147/200\n",
      "11/11 - 0s - loss: 0.3746 - accuracy: 0.9091\n",
      "Epoch 148/200\n",
      "11/11 - 0s - loss: 0.3686 - accuracy: 0.9091\n",
      "Epoch 149/200\n",
      "11/11 - 0s - loss: 0.3628 - accuracy: 0.9091\n",
      "Epoch 150/200\n",
      "11/11 - 0s - loss: 0.3570 - accuracy: 0.9091\n",
      "Epoch 151/200\n",
      "11/11 - 0s - loss: 0.3513 - accuracy: 0.9091\n",
      "Epoch 152/200\n",
      "11/11 - 0s - loss: 0.3456 - accuracy: 0.9091\n",
      "Epoch 153/200\n",
      "11/11 - 0s - loss: 0.3401 - accuracy: 0.9091\n",
      "Epoch 154/200\n",
      "11/11 - 0s - loss: 0.3346 - accuracy: 0.9091\n",
      "Epoch 155/200\n",
      "11/11 - 0s - loss: 0.3292 - accuracy: 0.9091\n",
      "Epoch 156/200\n",
      "11/11 - 0s - loss: 0.3238 - accuracy: 0.9091\n",
      "Epoch 157/200\n",
      "11/11 - 0s - loss: 0.3186 - accuracy: 0.9091\n",
      "Epoch 158/200\n",
      "11/11 - 0s - loss: 0.3134 - accuracy: 0.9091\n",
      "Epoch 159/200\n",
      "11/11 - 0s - loss: 0.3083 - accuracy: 0.9091\n",
      "Epoch 160/200\n",
      "11/11 - 0s - loss: 0.3032 - accuracy: 0.9091\n",
      "Epoch 161/200\n",
      "11/11 - 0s - loss: 0.2982 - accuracy: 0.9091\n",
      "Epoch 162/200\n",
      "11/11 - 0s - loss: 0.2933 - accuracy: 0.9091\n",
      "Epoch 163/200\n",
      "11/11 - 0s - loss: 0.2885 - accuracy: 0.9091\n",
      "Epoch 164/200\n",
      "11/11 - 0s - loss: 0.2837 - accuracy: 0.9091\n",
      "Epoch 165/200\n",
      "11/11 - 0s - loss: 0.2790 - accuracy: 0.9091\n",
      "Epoch 166/200\n",
      "11/11 - 0s - loss: 0.2744 - accuracy: 0.9091\n",
      "Epoch 167/200\n",
      "11/11 - 0s - loss: 0.2699 - accuracy: 0.9091\n",
      "Epoch 168/200\n",
      "11/11 - 0s - loss: 0.2654 - accuracy: 0.9091\n",
      "Epoch 169/200\n",
      "11/11 - 0s - loss: 0.2610 - accuracy: 1.0000\n",
      "Epoch 170/200\n",
      "11/11 - 0s - loss: 0.2566 - accuracy: 1.0000\n",
      "Epoch 171/200\n",
      "11/11 - 0s - loss: 0.2523 - accuracy: 1.0000\n",
      "Epoch 172/200\n",
      "11/11 - 0s - loss: 0.2481 - accuracy: 1.0000\n",
      "Epoch 173/200\n",
      "11/11 - 0s - loss: 0.2440 - accuracy: 1.0000\n",
      "Epoch 174/200\n",
      "11/11 - 0s - loss: 0.2399 - accuracy: 1.0000\n",
      "Epoch 175/200\n",
      "11/11 - 0s - loss: 0.2358 - accuracy: 1.0000\n",
      "Epoch 176/200\n",
      "11/11 - 0s - loss: 0.2319 - accuracy: 1.0000\n",
      "Epoch 177/200\n",
      "11/11 - 0s - loss: 0.2280 - accuracy: 1.0000\n",
      "Epoch 178/200\n",
      "11/11 - 0s - loss: 0.2242 - accuracy: 1.0000\n",
      "Epoch 179/200\n",
      "11/11 - 0s - loss: 0.2204 - accuracy: 1.0000\n",
      "Epoch 180/200\n",
      "11/11 - 0s - loss: 0.2167 - accuracy: 1.0000\n",
      "Epoch 181/200\n",
      "11/11 - 0s - loss: 0.2131 - accuracy: 1.0000\n",
      "Epoch 182/200\n",
      "11/11 - 0s - loss: 0.2095 - accuracy: 1.0000\n",
      "Epoch 183/200\n",
      "11/11 - 0s - loss: 0.2060 - accuracy: 1.0000\n",
      "Epoch 184/200\n",
      "11/11 - 0s - loss: 0.2025 - accuracy: 1.0000\n",
      "Epoch 185/200\n",
      "11/11 - 0s - loss: 0.1991 - accuracy: 1.0000\n",
      "Epoch 186/200\n",
      "11/11 - 0s - loss: 0.1958 - accuracy: 1.0000\n",
      "Epoch 187/200\n",
      "11/11 - 0s - loss: 0.1925 - accuracy: 1.0000\n",
      "Epoch 188/200\n",
      "11/11 - 0s - loss: 0.1893 - accuracy: 1.0000\n",
      "Epoch 189/200\n",
      "11/11 - 0s - loss: 0.1861 - accuracy: 1.0000\n",
      "Epoch 190/200\n",
      "11/11 - 0s - loss: 0.1830 - accuracy: 1.0000\n",
      "Epoch 191/200\n",
      "11/11 - 0s - loss: 0.1800 - accuracy: 1.0000\n",
      "Epoch 192/200\n",
      "11/11 - 0s - loss: 0.1770 - accuracy: 1.0000\n",
      "Epoch 193/200\n",
      "11/11 - 0s - loss: 0.1740 - accuracy: 1.0000\n",
      "Epoch 194/200\n",
      "11/11 - 0s - loss: 0.1712 - accuracy: 1.0000\n",
      "Epoch 195/200\n",
      "11/11 - 0s - loss: 0.1683 - accuracy: 1.0000\n",
      "Epoch 196/200\n",
      "11/11 - 0s - loss: 0.1655 - accuracy: 1.0000\n",
      "Epoch 197/200\n",
      "11/11 - 0s - loss: 0.1628 - accuracy: 1.0000\n",
      "Epoch 198/200\n",
      "11/11 - 0s - loss: 0.1601 - accuracy: 1.0000\n",
      "Epoch 199/200\n",
      "11/11 - 0s - loss: 0.1575 - accuracy: 1.0000\n",
      "Epoch 200/200\n",
      "11/11 - 0s - loss: 0.1549 - accuracy: 1.0000\n"
     ]
    },
    {
     "data": {
      "text/plain": [
       "<tensorflow.python.keras.callbacks.History at 0x1536799e388>"
      ]
     },
     "execution_count": 15,
     "metadata": {},
     "output_type": "execute_result"
    }
   ],
   "source": [
    "model = Sequential()\n",
    "\n",
    "model.add(Embedding(vocab_size, 10, input_length = max_len - 1))\n",
    "model.add(SimpleRNN(32))\n",
    "model.add(Dense(vocab_size, activation='softmax'))\n",
    "\n",
    "model.compile(loss='categorical_crossentropy', optimizer='adam', metrics=['accuracy'])\n",
    "model.fit(X, y, epochs=200, verbose=2)"
   ]
  },
  {
   "cell_type": "markdown",
   "metadata": {},
   "source": [
    "### 모델이 정확하게 예측하는지 문장 생성 확인"
   ]
  },
  {
   "cell_type": "code",
   "execution_count": 19,
   "metadata": {},
   "outputs": [],
   "source": [
    "def sentence_generation(model, t, current_word, n):\n",
    "    init_word = current_word\n",
    "    sentence = ''\n",
    "    for _ in range(n):\n",
    "        encoded = t.texts_to_sequences([current_word])[0]\n",
    "        encoded = pad_sequences([encoded], maxlen=5, padding='pre')\n",
    "        result = model.predict_classes(encoded, verbose=0)\n",
    "        for word, index in t.word_index.items():\n",
    "            if index == result:\n",
    "                break\n",
    "        current_word = current_word + ' ' + word\n",
    "        sentence = sentence + ' ' + word\n",
    "    sentence = init_word + sentence\n",
    "    \n",
    "    return sentence"
   ]
  },
  {
   "cell_type": "code",
   "execution_count": 20,
   "metadata": {},
   "outputs": [
    {
     "data": {
      "text/plain": [
       "'경마장에 있는 말이 뛰고 있다'"
      ]
     },
     "execution_count": 20,
     "metadata": {},
     "output_type": "execute_result"
    }
   ],
   "source": [
    "sentence_generation(model, t, '경마장에', 4)"
   ]
  },
  {
   "cell_type": "code",
   "execution_count": 21,
   "metadata": {},
   "outputs": [
    {
     "data": {
      "text/plain": [
       "'가는 말이 고와야 오는 말이 곱다 있다 말이 곱다 있다 곱다'"
      ]
     },
     "execution_count": 21,
     "metadata": {},
     "output_type": "execute_result"
    }
   ],
   "source": [
    "sentence_generation(model, t, '가는', 10)"
   ]
  },
  {
   "cell_type": "markdown",
   "metadata": {},
   "source": [
    "### LSTM이용한 텍스트 생성"
   ]
  },
  {
   "cell_type": "code",
   "execution_count": 22,
   "metadata": {},
   "outputs": [],
   "source": [
    "import pandas as pd\n",
    "from string import punctuation"
   ]
  },
  {
   "cell_type": "markdown",
   "metadata": {},
   "source": [
    "### 데이터 수집"
   ]
  },
  {
   "cell_type": "code",
   "execution_count": 23,
   "metadata": {},
   "outputs": [
    {
     "data": {
      "text/html": [
       "<div>\n",
       "<style scoped>\n",
       "    .dataframe tbody tr th:only-of-type {\n",
       "        vertical-align: middle;\n",
       "    }\n",
       "\n",
       "    .dataframe tbody tr th {\n",
       "        vertical-align: top;\n",
       "    }\n",
       "\n",
       "    .dataframe thead th {\n",
       "        text-align: right;\n",
       "    }\n",
       "</style>\n",
       "<table border=\"1\" class=\"dataframe\">\n",
       "  <thead>\n",
       "    <tr style=\"text-align: right;\">\n",
       "      <th></th>\n",
       "      <th>articleID</th>\n",
       "      <th>articleWordCount</th>\n",
       "      <th>byline</th>\n",
       "      <th>documentType</th>\n",
       "      <th>headline</th>\n",
       "      <th>keywords</th>\n",
       "      <th>multimedia</th>\n",
       "      <th>newDesk</th>\n",
       "      <th>printPage</th>\n",
       "      <th>pubDate</th>\n",
       "      <th>sectionName</th>\n",
       "      <th>snippet</th>\n",
       "      <th>source</th>\n",
       "      <th>typeOfMaterial</th>\n",
       "      <th>webURL</th>\n",
       "    </tr>\n",
       "  </thead>\n",
       "  <tbody>\n",
       "    <tr>\n",
       "      <th>0</th>\n",
       "      <td>5adf6684068401528a2aa69b</td>\n",
       "      <td>781</td>\n",
       "      <td>By JOHN BRANCH</td>\n",
       "      <td>article</td>\n",
       "      <td>Former N.F.L. Cheerleaders’ Settlement Offer: ...</td>\n",
       "      <td>['Workplace Hazards and Violations', 'Football...</td>\n",
       "      <td>68</td>\n",
       "      <td>Sports</td>\n",
       "      <td>0</td>\n",
       "      <td>2018-04-24 17:16:49</td>\n",
       "      <td>Pro Football</td>\n",
       "      <td>“I understand that they could meet with us, pa...</td>\n",
       "      <td>The New York Times</td>\n",
       "      <td>News</td>\n",
       "      <td>https://www.nytimes.com/2018/04/24/sports/foot...</td>\n",
       "    </tr>\n",
       "    <tr>\n",
       "      <th>1</th>\n",
       "      <td>5adf653f068401528a2aa697</td>\n",
       "      <td>656</td>\n",
       "      <td>By LISA FRIEDMAN</td>\n",
       "      <td>article</td>\n",
       "      <td>E.P.A. to Unveil a New Rule. Its Effect: Less ...</td>\n",
       "      <td>['Environmental Protection Agency', 'Pruitt, S...</td>\n",
       "      <td>68</td>\n",
       "      <td>Climate</td>\n",
       "      <td>0</td>\n",
       "      <td>2018-04-24 17:11:21</td>\n",
       "      <td>Unknown</td>\n",
       "      <td>The agency plans to publish a new regulation T...</td>\n",
       "      <td>The New York Times</td>\n",
       "      <td>News</td>\n",
       "      <td>https://www.nytimes.com/2018/04/24/climate/epa...</td>\n",
       "    </tr>\n",
       "    <tr>\n",
       "      <th>2</th>\n",
       "      <td>5adf4626068401528a2aa628</td>\n",
       "      <td>2427</td>\n",
       "      <td>By PETE WELLS</td>\n",
       "      <td>article</td>\n",
       "      <td>The New Noma, Explained</td>\n",
       "      <td>['Restaurants', 'Noma (Copenhagen, Restaurant)...</td>\n",
       "      <td>66</td>\n",
       "      <td>Dining</td>\n",
       "      <td>0</td>\n",
       "      <td>2018-04-24 14:58:44</td>\n",
       "      <td>Unknown</td>\n",
       "      <td>What’s it like to eat at the second incarnatio...</td>\n",
       "      <td>The New York Times</td>\n",
       "      <td>News</td>\n",
       "      <td>https://www.nytimes.com/2018/04/24/dining/noma...</td>\n",
       "    </tr>\n",
       "    <tr>\n",
       "      <th>3</th>\n",
       "      <td>5adf40d2068401528a2aa619</td>\n",
       "      <td>626</td>\n",
       "      <td>By JULIE HIRSCHFELD DAVIS and PETER BAKER</td>\n",
       "      <td>article</td>\n",
       "      <td>Unknown</td>\n",
       "      <td>['Macron, Emmanuel (1977- )', 'Trump, Donald J...</td>\n",
       "      <td>68</td>\n",
       "      <td>Washington</td>\n",
       "      <td>0</td>\n",
       "      <td>2018-04-24 14:35:57</td>\n",
       "      <td>Europe</td>\n",
       "      <td>President Trump welcomed President Emmanuel Ma...</td>\n",
       "      <td>The New York Times</td>\n",
       "      <td>News</td>\n",
       "      <td>https://www.nytimes.com/2018/04/24/world/europ...</td>\n",
       "    </tr>\n",
       "    <tr>\n",
       "      <th>4</th>\n",
       "      <td>5adf3d64068401528a2aa60f</td>\n",
       "      <td>815</td>\n",
       "      <td>By IAN AUSTEN and DAN BILEFSKY</td>\n",
       "      <td>article</td>\n",
       "      <td>Unknown</td>\n",
       "      <td>['Toronto, Ontario, Attack (April, 2018)', 'Mu...</td>\n",
       "      <td>68</td>\n",
       "      <td>Foreign</td>\n",
       "      <td>0</td>\n",
       "      <td>2018-04-24 14:21:21</td>\n",
       "      <td>Canada</td>\n",
       "      <td>Alek Minassian, 25, a resident of Toronto’s Ri...</td>\n",
       "      <td>The New York Times</td>\n",
       "      <td>News</td>\n",
       "      <td>https://www.nytimes.com/2018/04/24/world/canad...</td>\n",
       "    </tr>\n",
       "  </tbody>\n",
       "</table>\n",
       "</div>"
      ],
      "text/plain": [
       "                  articleID  articleWordCount  \\\n",
       "0  5adf6684068401528a2aa69b               781   \n",
       "1  5adf653f068401528a2aa697               656   \n",
       "2  5adf4626068401528a2aa628              2427   \n",
       "3  5adf40d2068401528a2aa619               626   \n",
       "4  5adf3d64068401528a2aa60f               815   \n",
       "\n",
       "                                      byline documentType  \\\n",
       "0                             By JOHN BRANCH      article   \n",
       "1                           By LISA FRIEDMAN      article   \n",
       "2                              By PETE WELLS      article   \n",
       "3  By JULIE HIRSCHFELD DAVIS and PETER BAKER      article   \n",
       "4             By IAN AUSTEN and DAN BILEFSKY      article   \n",
       "\n",
       "                                            headline  \\\n",
       "0  Former N.F.L. Cheerleaders’ Settlement Offer: ...   \n",
       "1  E.P.A. to Unveil a New Rule. Its Effect: Less ...   \n",
       "2                            The New Noma, Explained   \n",
       "3                                            Unknown   \n",
       "4                                            Unknown   \n",
       "\n",
       "                                            keywords  multimedia     newDesk  \\\n",
       "0  ['Workplace Hazards and Violations', 'Football...          68      Sports   \n",
       "1  ['Environmental Protection Agency', 'Pruitt, S...          68     Climate   \n",
       "2  ['Restaurants', 'Noma (Copenhagen, Restaurant)...          66      Dining   \n",
       "3  ['Macron, Emmanuel (1977- )', 'Trump, Donald J...          68  Washington   \n",
       "4  ['Toronto, Ontario, Attack (April, 2018)', 'Mu...          68     Foreign   \n",
       "\n",
       "   printPage              pubDate   sectionName  \\\n",
       "0          0  2018-04-24 17:16:49  Pro Football   \n",
       "1          0  2018-04-24 17:11:21       Unknown   \n",
       "2          0  2018-04-24 14:58:44       Unknown   \n",
       "3          0  2018-04-24 14:35:57        Europe   \n",
       "4          0  2018-04-24 14:21:21        Canada   \n",
       "\n",
       "                                             snippet              source  \\\n",
       "0  “I understand that they could meet with us, pa...  The New York Times   \n",
       "1  The agency plans to publish a new regulation T...  The New York Times   \n",
       "2  What’s it like to eat at the second incarnatio...  The New York Times   \n",
       "3  President Trump welcomed President Emmanuel Ma...  The New York Times   \n",
       "4  Alek Minassian, 25, a resident of Toronto’s Ri...  The New York Times   \n",
       "\n",
       "  typeOfMaterial                                             webURL  \n",
       "0           News  https://www.nytimes.com/2018/04/24/sports/foot...  \n",
       "1           News  https://www.nytimes.com/2018/04/24/climate/epa...  \n",
       "2           News  https://www.nytimes.com/2018/04/24/dining/noma...  \n",
       "3           News  https://www.nytimes.com/2018/04/24/world/europ...  \n",
       "4           News  https://www.nytimes.com/2018/04/24/world/canad...  "
      ]
     },
     "execution_count": 23,
     "metadata": {},
     "output_type": "execute_result"
    }
   ],
   "source": [
    "df = pd.read_csv('./ArticlesApril2018.csv')\n",
    "df.head()"
   ]
  },
  {
   "cell_type": "markdown",
   "metadata": {},
   "source": [
    "### 1. 데이터 이해 및 전처리"
   ]
  },
  {
   "cell_type": "code",
   "execution_count": 37,
   "metadata": {},
   "outputs": [
    {
     "name": "stdout",
     "output_type": "stream",
     "text": [
      "열의 개수 : 15\n",
      "Index(['articleID', 'articleWordCount', 'byline', 'documentType', 'headline',\n",
      "       'keywords', 'multimedia', 'newDesk', 'printPage', 'pubDate',\n",
      "       'sectionName', 'snippet', 'source', 'typeOfMaterial', 'webURL'],\n",
      "      dtype='object')\n"
     ]
    }
   ],
   "source": [
    "print(\"열의 개수 : {}\".format(len(df.columns)))\n",
    "print(df.columns)"
   ]
  },
  {
   "cell_type": "code",
   "execution_count": 38,
   "metadata": {},
   "outputs": [
    {
     "data": {
      "text/plain": [
       "False"
      ]
     },
     "execution_count": 38,
     "metadata": {},
     "output_type": "execute_result"
    }
   ],
   "source": [
    "df['headline'].isnull().values.any()"
   ]
  },
  {
   "cell_type": "code",
   "execution_count": 39,
   "metadata": {},
   "outputs": [
    {
     "data": {
      "text/plain": [
       "['Former N.F.L. Cheerleaders’ Settlement Offer: $1 and a Meeting With Goodell',\n",
       " 'E.P.A. to Unveil a New Rule. Its Effect: Less Science in Policymaking.',\n",
       " 'The New Noma, Explained',\n",
       " 'Unknown',\n",
       " 'Unknown']"
      ]
     },
     "execution_count": 39,
     "metadata": {},
     "output_type": "execute_result"
    }
   ],
   "source": [
    "headline = []\n",
    "headline.extend(list(df.headline.values))\n",
    "headline[:5]"
   ]
  },
  {
   "cell_type": "code",
   "execution_count": 40,
   "metadata": {},
   "outputs": [
    {
     "name": "stdout",
     "output_type": "stream",
     "text": [
      "총 샘플의 개수 : 1324\n"
     ]
    }
   ],
   "source": [
    "print('총 샘플의 개수 : {}'.format(len(headline)))"
   ]
  },
  {
   "cell_type": "code",
   "execution_count": 41,
   "metadata": {},
   "outputs": [
    {
     "name": "stdout",
     "output_type": "stream",
     "text": [
      "Noise 제거 후 샘플 의 개수 : 1214\n"
     ]
    }
   ],
   "source": [
    "headline = [n for n in headline if n != 'Unknown']\n",
    "print('Noise 제거 후 샘플 의 개수 : {}'.format(len(headline)))"
   ]
  },
  {
   "cell_type": "code",
   "execution_count": 42,
   "metadata": {},
   "outputs": [
    {
     "data": {
      "text/plain": [
       "['Former N.F.L. Cheerleaders’ Settlement Offer: $1 and a Meeting With Goodell',\n",
       " 'E.P.A. to Unveil a New Rule. Its Effect: Less Science in Policymaking.',\n",
       " 'The New Noma, Explained',\n",
       " 'How a Bag of Texas Dirt  Became a Times Tradition',\n",
       " 'Is School a Place for Self-Expression?']"
      ]
     },
     "execution_count": 42,
     "metadata": {},
     "output_type": "execute_result"
    }
   ],
   "source": [
    "headline[:5]"
   ]
  },
  {
   "cell_type": "code",
   "execution_count": 43,
   "metadata": {},
   "outputs": [
    {
     "data": {
      "text/plain": [
       "['former nfl cheerleaders settlement offer 1 and a meeting with goodell',\n",
       " 'epa to unveil a new rule its effect less science in policymaking',\n",
       " 'the new noma explained',\n",
       " 'how a bag of texas dirt  became a times tradition',\n",
       " 'is school a place for selfexpression']"
      ]
     },
     "execution_count": 43,
     "metadata": {},
     "output_type": "execute_result"
    }
   ],
   "source": [
    "def repreprocessing(s):\n",
    "    s = s.encode('utf8').decode('ascii', 'ignore')\n",
    "    return ''.join(c for c in s if c not in punctuation).lower()\n",
    "\n",
    "text = [repreprocessing(x)for x in headline]\n",
    "text[:5]"
   ]
  },
  {
   "cell_type": "code",
   "execution_count": 44,
   "metadata": {},
   "outputs": [
    {
     "name": "stdout",
     "output_type": "stream",
     "text": [
      "단어 집합의 크기 : 3494\n"
     ]
    }
   ],
   "source": [
    "t = Tokenizer()\n",
    "t.fit_on_texts(text)\n",
    "vocab_size = len(t.word_index) + 1\n",
    "print('단어 집합의 크기 : {:d}'.format(vocab_size))"
   ]
  },
  {
   "cell_type": "code",
   "execution_count": 46,
   "metadata": {
    "scrolled": true
   },
   "outputs": [
    {
     "data": {
      "text/plain": [
       "[[99, 269],\n",
       " [99, 269, 371],\n",
       " [99, 269, 371, 1115],\n",
       " [99, 269, 371, 1115, 582],\n",
       " [99, 269, 371, 1115, 582, 52],\n",
       " [99, 269, 371, 1115, 582, 52, 7],\n",
       " [99, 269, 371, 1115, 582, 52, 7, 2],\n",
       " [99, 269, 371, 1115, 582, 52, 7, 2, 372],\n",
       " [99, 269, 371, 1115, 582, 52, 7, 2, 372, 10],\n",
       " [99, 269, 371, 1115, 582, 52, 7, 2, 372, 10, 1116],\n",
       " [100, 3]]"
      ]
     },
     "execution_count": 46,
     "metadata": {},
     "output_type": "execute_result"
    }
   ],
   "source": [
    "sequences = list()\n",
    "\n",
    "for line in text:\n",
    "    encoded = t.texts_to_sequences([line])[0]\n",
    "    for i in range(1, len(encoded)):\n",
    "        sequence = encoded[:i+1]\n",
    "        sequences.append(sequence)\n",
    "        \n",
    "sequences[:11]"
   ]
  },
  {
   "cell_type": "code",
   "execution_count": 47,
   "metadata": {},
   "outputs": [
    {
     "name": "stdout",
     "output_type": "stream",
     "text": [
      "빈도수 상위 582번 단어 : offer\n"
     ]
    }
   ],
   "source": [
    "index_to_word = {}\n",
    "for key, value in t.word_index.items():\n",
    "    index_to_word[value] = key\n",
    "    \n",
    "print(\"빈도수 상위 582번 단어 : {}\".format(index_to_word[582]))"
   ]
  },
  {
   "cell_type": "code",
   "execution_count": 48,
   "metadata": {},
   "outputs": [
    {
     "name": "stdout",
     "output_type": "stream",
     "text": [
      "샘플의 최대 길이 : 24\n"
     ]
    }
   ],
   "source": [
    "max_len = max(len(l) for l in sequences)\n",
    "print(\"샘플의 최대 길이 : {}\".format(max_len))"
   ]
  },
  {
   "cell_type": "code",
   "execution_count": 49,
   "metadata": {},
   "outputs": [
    {
     "name": "stdout",
     "output_type": "stream",
     "text": [
      "[[   0    0    0    0    0    0    0    0    0    0    0    0    0    0\n",
      "     0    0    0    0    0    0    0    0   99  269]\n",
      " [   0    0    0    0    0    0    0    0    0    0    0    0    0    0\n",
      "     0    0    0    0    0    0    0   99  269  371]\n",
      " [   0    0    0    0    0    0    0    0    0    0    0    0    0    0\n",
      "     0    0    0    0    0    0   99  269  371 1115]]\n"
     ]
    }
   ],
   "source": [
    "sequences = pad_sequences(sequences, maxlen=max_len, padding='pre')\n",
    "print(sequences[:3])"
   ]
  },
  {
   "cell_type": "code",
   "execution_count": 50,
   "metadata": {},
   "outputs": [],
   "source": [
    "sequences = np.array(sequences)\n",
    "X = sequences[:, :-1]\n",
    "y = sequences[:, -1]"
   ]
  },
  {
   "cell_type": "code",
   "execution_count": 51,
   "metadata": {},
   "outputs": [
    {
     "name": "stdout",
     "output_type": "stream",
     "text": [
      "[[  0   0   0   0   0   0   0   0   0   0   0   0   0   0   0   0   0   0\n",
      "    0   0   0   0  99]\n",
      " [  0   0   0   0   0   0   0   0   0   0   0   0   0   0   0   0   0   0\n",
      "    0   0   0  99 269]\n",
      " [  0   0   0   0   0   0   0   0   0   0   0   0   0   0   0   0   0   0\n",
      "    0   0  99 269 371]]\n"
     ]
    }
   ],
   "source": [
    "print(X[:3])"
   ]
  },
  {
   "cell_type": "code",
   "execution_count": 52,
   "metadata": {},
   "outputs": [
    {
     "name": "stdout",
     "output_type": "stream",
     "text": [
      "[ 269  371 1115]\n"
     ]
    }
   ],
   "source": [
    "print(y[:3])"
   ]
  },
  {
   "cell_type": "code",
   "execution_count": 53,
   "metadata": {},
   "outputs": [],
   "source": [
    "y = to_categorical(y, num_classes=vocab_size)"
   ]
  },
  {
   "cell_type": "markdown",
   "metadata": {},
   "source": [
    "### 2. 모델 구성 및 훈련"
   ]
  },
  {
   "cell_type": "code",
   "execution_count": 54,
   "metadata": {},
   "outputs": [],
   "source": [
    "from tensorflow.keras.layers import LSTM"
   ]
  },
  {
   "cell_type": "code",
   "execution_count": 55,
   "metadata": {},
   "outputs": [
    {
     "name": "stdout",
     "output_type": "stream",
     "text": [
      "Train on 7803 samples\n",
      "Epoch 1/200\n",
      "7803/7803 - 8s - loss: 7.6491 - accuracy: 0.0272\n",
      "Epoch 2/200\n",
      "7803/7803 - 6s - loss: 7.1133 - accuracy: 0.0281\n",
      "Epoch 3/200\n",
      "7803/7803 - 6s - loss: 6.9754 - accuracy: 0.0358\n",
      "Epoch 4/200\n",
      "7803/7803 - 6s - loss: 6.8515 - accuracy: 0.0405\n",
      "Epoch 5/200\n",
      "7803/7803 - 6s - loss: 6.7009 - accuracy: 0.0456\n",
      "Epoch 6/200\n",
      "7803/7803 - 6s - loss: 6.5298 - accuracy: 0.0466\n",
      "Epoch 7/200\n",
      "7803/7803 - 6s - loss: 6.3429 - accuracy: 0.0525\n",
      "Epoch 8/200\n",
      "7803/7803 - 6s - loss: 6.1442 - accuracy: 0.0559\n",
      "Epoch 9/200\n",
      "7803/7803 - 6s - loss: 5.9512 - accuracy: 0.0614\n",
      "Epoch 10/200\n",
      "7803/7803 - 6s - loss: 5.7615 - accuracy: 0.0678\n",
      "Epoch 11/200\n",
      "7803/7803 - 6s - loss: 5.5879 - accuracy: 0.0707\n",
      "Epoch 12/200\n",
      "7803/7803 - 6s - loss: 5.4232 - accuracy: 0.0764\n",
      "Epoch 13/200\n",
      "7803/7803 - 6s - loss: 5.2659 - accuracy: 0.0819\n",
      "Epoch 14/200\n",
      "7803/7803 - 6s - loss: 5.1183 - accuracy: 0.0856\n",
      "Epoch 15/200\n",
      "7803/7803 - 7s - loss: 4.9766 - accuracy: 0.0962\n",
      "Epoch 16/200\n",
      "7803/7803 - 6s - loss: 4.8405 - accuracy: 0.1050\n",
      "Epoch 17/200\n",
      "7803/7803 - 6s - loss: 4.7118 - accuracy: 0.1184\n",
      "Epoch 18/200\n",
      "7803/7803 - 6s - loss: 4.5837 - accuracy: 0.1293\n",
      "Epoch 19/200\n",
      "7803/7803 - 6s - loss: 4.4643 - accuracy: 0.1460\n",
      "Epoch 20/200\n",
      "7803/7803 - 6s - loss: 4.3484 - accuracy: 0.1610\n",
      "Epoch 21/200\n",
      "7803/7803 - 7s - loss: 4.2362 - accuracy: 0.1758\n",
      "Epoch 22/200\n",
      "7803/7803 - 7s - loss: 4.1235 - accuracy: 0.1938\n",
      "Epoch 23/200\n",
      "7803/7803 - 7s - loss: 4.0166 - accuracy: 0.2090\n",
      "Epoch 24/200\n",
      "7803/7803 - 7s - loss: 3.9128 - accuracy: 0.2249\n",
      "Epoch 25/200\n",
      "7803/7803 - 6s - loss: 3.8138 - accuracy: 0.2426\n",
      "Epoch 26/200\n",
      "7803/7803 - 6s - loss: 3.7144 - accuracy: 0.2566\n",
      "Epoch 27/200\n",
      "7803/7803 - 6s - loss: 3.6232 - accuracy: 0.2678\n",
      "Epoch 28/200\n",
      "7803/7803 - 7s - loss: 3.5293 - accuracy: 0.2884\n",
      "Epoch 29/200\n",
      "7803/7803 - 7s - loss: 3.4430 - accuracy: 0.3081\n",
      "Epoch 30/200\n",
      "7803/7803 - 7s - loss: 3.3565 - accuracy: 0.3226\n",
      "Epoch 31/200\n",
      "7803/7803 - 7s - loss: 3.2732 - accuracy: 0.3409\n",
      "Epoch 32/200\n",
      "7803/7803 - 7s - loss: 3.1944 - accuracy: 0.3513\n",
      "Epoch 33/200\n",
      "7803/7803 - 7s - loss: 3.1170 - accuracy: 0.3672\n",
      "Epoch 34/200\n",
      "7803/7803 - 6s - loss: 3.0409 - accuracy: 0.3778\n",
      "Epoch 35/200\n",
      "7803/7803 - 6s - loss: 2.9706 - accuracy: 0.3946\n",
      "Epoch 36/200\n",
      "7803/7803 - 7s - loss: 2.8979 - accuracy: 0.4072\n",
      "Epoch 37/200\n",
      "7803/7803 - 7s - loss: 2.8677 - accuracy: 0.4115\n",
      "Epoch 38/200\n",
      "7803/7803 - 8s - loss: 2.7742 - accuracy: 0.4319\n",
      "Epoch 39/200\n",
      "7803/7803 - 8s - loss: 2.7093 - accuracy: 0.4447\n",
      "Epoch 40/200\n",
      "7803/7803 - 7s - loss: 2.6479 - accuracy: 0.4550\n",
      "Epoch 41/200\n",
      "7803/7803 - 7s - loss: 2.5903 - accuracy: 0.4680\n",
      "Epoch 42/200\n",
      "7803/7803 - 7s - loss: 2.5334 - accuracy: 0.4826\n",
      "Epoch 43/200\n",
      "7803/7803 - 6s - loss: 2.4788 - accuracy: 0.4867\n",
      "Epoch 44/200\n",
      "7803/7803 - 7s - loss: 2.4257 - accuracy: 0.4985\n",
      "Epoch 45/200\n",
      "7803/7803 - 7s - loss: 2.3710 - accuracy: 0.5122\n",
      "Epoch 46/200\n",
      "7803/7803 - 6s - loss: 2.3212 - accuracy: 0.5224\n",
      "Epoch 47/200\n",
      "7803/7803 - 6s - loss: 2.2687 - accuracy: 0.5325\n",
      "Epoch 48/200\n",
      "7803/7803 - 6s - loss: 2.2223 - accuracy: 0.5400\n",
      "Epoch 49/200\n",
      "7803/7803 - 7s - loss: 2.1736 - accuracy: 0.5509\n",
      "Epoch 50/200\n",
      "7803/7803 - 6s - loss: 2.1268 - accuracy: 0.5647\n",
      "Epoch 51/200\n",
      "7803/7803 - 7s - loss: 2.0798 - accuracy: 0.5716\n",
      "Epoch 52/200\n",
      "7803/7803 - 6s - loss: 2.0356 - accuracy: 0.5843\n",
      "Epoch 53/200\n",
      "7803/7803 - 6s - loss: 1.9934 - accuracy: 0.5898\n",
      "Epoch 54/200\n",
      "7803/7803 - 6s - loss: 1.9488 - accuracy: 0.6034\n",
      "Epoch 55/200\n",
      "7803/7803 - 6s - loss: 1.9058 - accuracy: 0.6100\n",
      "Epoch 56/200\n",
      "7803/7803 - 6s - loss: 1.8639 - accuracy: 0.6214\n",
      "Epoch 57/200\n",
      "7803/7803 - 6s - loss: 1.8241 - accuracy: 0.6271\n",
      "Epoch 58/200\n",
      "7803/7803 - 6s - loss: 1.7859 - accuracy: 0.6380\n",
      "Epoch 59/200\n",
      "7803/7803 - 6s - loss: 1.7459 - accuracy: 0.6478\n",
      "Epoch 60/200\n",
      "7803/7803 - 6s - loss: 1.7065 - accuracy: 0.6556\n",
      "Epoch 61/200\n",
      "7803/7803 - 6s - loss: 1.6681 - accuracy: 0.6623\n",
      "Epoch 62/200\n",
      "7803/7803 - 6s - loss: 1.6327 - accuracy: 0.6714\n",
      "Epoch 63/200\n",
      "7803/7803 - 6s - loss: 1.5960 - accuracy: 0.6767\n",
      "Epoch 64/200\n",
      "7803/7803 - 6s - loss: 1.5606 - accuracy: 0.6858\n",
      "Epoch 65/200\n",
      "7803/7803 - 6s - loss: 1.5260 - accuracy: 0.6952\n",
      "Epoch 66/200\n",
      "7803/7803 - 6s - loss: 1.4932 - accuracy: 0.7010\n",
      "Epoch 67/200\n",
      "7803/7803 - 6s - loss: 1.4596 - accuracy: 0.7047\n",
      "Epoch 68/200\n",
      "7803/7803 - 6s - loss: 1.4272 - accuracy: 0.7141\n",
      "Epoch 69/200\n",
      "7803/7803 - 6s - loss: 1.3937 - accuracy: 0.7220\n",
      "Epoch 70/200\n",
      "7803/7803 - 6s - loss: 1.3649 - accuracy: 0.7261\n",
      "Epoch 71/200\n",
      "7803/7803 - 6s - loss: 1.3305 - accuracy: 0.7323\n",
      "Epoch 72/200\n",
      "7803/7803 - 6s - loss: 1.3014 - accuracy: 0.7379\n",
      "Epoch 73/200\n",
      "7803/7803 - 6s - loss: 1.2737 - accuracy: 0.7507\n",
      "Epoch 74/200\n",
      "7803/7803 - 6s - loss: 1.2421 - accuracy: 0.7539\n",
      "Epoch 75/200\n",
      "7803/7803 - 6s - loss: 1.2142 - accuracy: 0.7582\n",
      "Epoch 76/200\n",
      "7803/7803 - 6s - loss: 1.1871 - accuracy: 0.7659\n",
      "Epoch 77/200\n",
      "7803/7803 - 6s - loss: 1.1590 - accuracy: 0.7724\n",
      "Epoch 78/200\n",
      "7803/7803 - 6s - loss: 1.1353 - accuracy: 0.7764\n",
      "Epoch 79/200\n",
      "7803/7803 - 6s - loss: 1.1060 - accuracy: 0.7867\n",
      "Epoch 80/200\n",
      "7803/7803 - 6s - loss: 1.0802 - accuracy: 0.7883\n",
      "Epoch 81/200\n",
      "7803/7803 - 6s - loss: 1.0557 - accuracy: 0.7953\n",
      "Epoch 82/200\n",
      "7803/7803 - 6s - loss: 1.0304 - accuracy: 0.7974\n",
      "Epoch 83/200\n",
      "7803/7803 - 6s - loss: 1.0086 - accuracy: 0.8025\n",
      "Epoch 84/200\n",
      "7803/7803 - 6s - loss: 0.9856 - accuracy: 0.8093\n",
      "Epoch 85/200\n",
      "7803/7803 - 6s - loss: 0.9629 - accuracy: 0.8120\n",
      "Epoch 86/200\n",
      "7803/7803 - 6s - loss: 0.9390 - accuracy: 0.8170\n",
      "Epoch 87/200\n",
      "7803/7803 - 6s - loss: 0.9177 - accuracy: 0.8208\n",
      "Epoch 88/200\n",
      "7803/7803 - 6s - loss: 0.8968 - accuracy: 0.8246\n",
      "Epoch 89/200\n",
      "7803/7803 - 6s - loss: 0.8871 - accuracy: 0.8279\n",
      "Epoch 90/200\n",
      "7803/7803 - 6s - loss: 0.8560 - accuracy: 0.8328\n",
      "Epoch 91/200\n",
      "7803/7803 - 6s - loss: 0.8395 - accuracy: 0.8362\n",
      "Epoch 92/200\n",
      "7803/7803 - 6s - loss: 0.8178 - accuracy: 0.8397\n",
      "Epoch 93/200\n",
      "7803/7803 - 6s - loss: 0.8020 - accuracy: 0.8438\n",
      "Epoch 94/200\n",
      "7803/7803 - 6s - loss: 0.7812 - accuracy: 0.8474\n",
      "Epoch 95/200\n",
      "7803/7803 - 6s - loss: 0.7656 - accuracy: 0.8520\n",
      "Epoch 96/200\n",
      "7803/7803 - 6s - loss: 0.7494 - accuracy: 0.8554\n",
      "Epoch 97/200\n",
      "7803/7803 - 6s - loss: 0.7388 - accuracy: 0.8577\n",
      "Epoch 98/200\n",
      "7803/7803 - 6s - loss: 0.7157 - accuracy: 0.8616\n",
      "Epoch 99/200\n",
      "7803/7803 - 6s - loss: 0.6987 - accuracy: 0.8621\n",
      "Epoch 100/200\n",
      "7803/7803 - 6s - loss: 0.6847 - accuracy: 0.8667\n",
      "Epoch 101/200\n",
      "7803/7803 - 6s - loss: 0.6700 - accuracy: 0.8680\n",
      "Epoch 102/200\n",
      "7803/7803 - 6s - loss: 0.6541 - accuracy: 0.8727\n",
      "Epoch 103/200\n",
      "7803/7803 - 6s - loss: 0.6428 - accuracy: 0.8718\n",
      "Epoch 104/200\n",
      "7803/7803 - 6s - loss: 0.6283 - accuracy: 0.8770\n",
      "Epoch 105/200\n",
      "7803/7803 - 6s - loss: 0.6161 - accuracy: 0.8779\n",
      "Epoch 106/200\n",
      "7803/7803 - 6s - loss: 0.6036 - accuracy: 0.8794\n",
      "Epoch 107/200\n",
      "7803/7803 - 6s - loss: 0.5913 - accuracy: 0.8821\n",
      "Epoch 108/200\n",
      "7803/7803 - 6s - loss: 0.5766 - accuracy: 0.8853\n",
      "Epoch 109/200\n",
      "7803/7803 - 6s - loss: 0.5656 - accuracy: 0.8862\n",
      "Epoch 110/200\n",
      "7803/7803 - 6s - loss: 0.5556 - accuracy: 0.8882\n",
      "Epoch 111/200\n",
      "7803/7803 - 6s - loss: 0.5461 - accuracy: 0.8903\n",
      "Epoch 112/200\n",
      "7803/7803 - 7s - loss: 0.5335 - accuracy: 0.8932\n",
      "Epoch 113/200\n",
      "7803/7803 - 8s - loss: 0.5249 - accuracy: 0.8934\n",
      "Epoch 114/200\n",
      "7803/7803 - 7s - loss: 0.5129 - accuracy: 0.8939\n",
      "Epoch 115/200\n",
      "7803/7803 - 6s - loss: 0.5033 - accuracy: 0.8977\n",
      "Epoch 116/200\n",
      "7803/7803 - 6s - loss: 0.4937 - accuracy: 0.8994\n",
      "Epoch 117/200\n",
      "7803/7803 - 6s - loss: 0.4839 - accuracy: 0.9000\n",
      "Epoch 118/200\n",
      "7803/7803 - 6s - loss: 0.4764 - accuracy: 0.9025\n",
      "Epoch 119/200\n",
      "7803/7803 - 6s - loss: 0.4714 - accuracy: 0.9025\n",
      "Epoch 120/200\n",
      "7803/7803 - 6s - loss: 0.4686 - accuracy: 0.9012\n",
      "Epoch 121/200\n",
      "7803/7803 - 6s - loss: 0.4563 - accuracy: 0.9049\n",
      "Epoch 122/200\n",
      "7803/7803 - 6s - loss: 0.4439 - accuracy: 0.9053\n",
      "Epoch 123/200\n",
      "7803/7803 - 6s - loss: 0.4340 - accuracy: 0.9080\n",
      "Epoch 124/200\n",
      "7803/7803 - 6s - loss: 0.4275 - accuracy: 0.9072\n",
      "Epoch 125/200\n",
      "7803/7803 - 6s - loss: 0.4200 - accuracy: 0.9099\n",
      "Epoch 126/200\n",
      "7803/7803 - 6s - loss: 0.4155 - accuracy: 0.9102\n",
      "Epoch 127/200\n",
      "7803/7803 - 6s - loss: 0.4166 - accuracy: 0.9107\n",
      "Epoch 128/200\n",
      "7803/7803 - 6s - loss: 0.4085 - accuracy: 0.9103\n",
      "Epoch 129/200\n",
      "7803/7803 - 6s - loss: 0.3968 - accuracy: 0.9122\n",
      "Epoch 130/200\n",
      "7803/7803 - 6s - loss: 0.3893 - accuracy: 0.9121\n",
      "Epoch 131/200\n",
      "7803/7803 - 6s - loss: 0.3885 - accuracy: 0.9122\n",
      "Epoch 132/200\n",
      "7803/7803 - 6s - loss: 0.3792 - accuracy: 0.9136\n"
     ]
    },
    {
     "name": "stdout",
     "output_type": "stream",
     "text": [
      "Epoch 133/200\n",
      "7803/7803 - 6s - loss: 0.3755 - accuracy: 0.9113\n",
      "Epoch 134/200\n",
      "7803/7803 - 6s - loss: 0.3689 - accuracy: 0.9146\n",
      "Epoch 135/200\n",
      "7803/7803 - 6s - loss: 0.3653 - accuracy: 0.9136\n",
      "Epoch 136/200\n",
      "7803/7803 - 6s - loss: 0.3605 - accuracy: 0.9134\n",
      "Epoch 137/200\n",
      "7803/7803 - 6s - loss: 0.3562 - accuracy: 0.9134\n",
      "Epoch 138/200\n",
      "7803/7803 - 6s - loss: 0.3547 - accuracy: 0.9138\n",
      "Epoch 139/200\n",
      "7803/7803 - 6s - loss: 0.3650 - accuracy: 0.9116\n",
      "Epoch 140/200\n",
      "7803/7803 - 6s - loss: 0.3575 - accuracy: 0.9136\n",
      "Epoch 141/200\n",
      "7803/7803 - 6s - loss: 0.3414 - accuracy: 0.9154\n",
      "Epoch 142/200\n",
      "7803/7803 - 6s - loss: 0.3355 - accuracy: 0.9152\n",
      "Epoch 143/200\n",
      "7803/7803 - 6s - loss: 0.3329 - accuracy: 0.9164\n",
      "Epoch 144/200\n",
      "7803/7803 - 6s - loss: 0.3308 - accuracy: 0.9161\n",
      "Epoch 145/200\n",
      "7803/7803 - 6s - loss: 0.3275 - accuracy: 0.9141\n",
      "Epoch 146/200\n",
      "7803/7803 - 6s - loss: 0.3262 - accuracy: 0.9146\n",
      "Epoch 147/200\n",
      "7803/7803 - 6s - loss: 0.3250 - accuracy: 0.9152\n",
      "Epoch 148/200\n",
      "7803/7803 - 6s - loss: 0.3201 - accuracy: 0.9157\n",
      "Epoch 149/200\n",
      "7803/7803 - 6s - loss: 0.3159 - accuracy: 0.9161\n",
      "Epoch 150/200\n",
      "7803/7803 - 6s - loss: 0.3136 - accuracy: 0.9158\n",
      "Epoch 151/200\n",
      "7803/7803 - 6s - loss: 0.3110 - accuracy: 0.9149\n",
      "Epoch 152/200\n",
      "7803/7803 - 6s - loss: 0.3090 - accuracy: 0.9158\n",
      "Epoch 153/200\n",
      "7803/7803 - 6s - loss: 0.3068 - accuracy: 0.9154\n",
      "Epoch 154/200\n",
      "7803/7803 - 6s - loss: 0.3107 - accuracy: 0.9153\n",
      "Epoch 155/200\n",
      "7803/7803 - 6s - loss: 0.3573 - accuracy: 0.9068\n",
      "Epoch 156/200\n",
      "7803/7803 - 7s - loss: 0.3281 - accuracy: 0.9138\n",
      "Epoch 157/200\n",
      "7803/7803 - 6s - loss: 0.3056 - accuracy: 0.9170\n",
      "Epoch 158/200\n",
      "7803/7803 - 6s - loss: 0.2975 - accuracy: 0.9161\n",
      "Epoch 159/200\n",
      "7803/7803 - 6s - loss: 0.2963 - accuracy: 0.9166\n",
      "Epoch 160/200\n",
      "7803/7803 - 6s - loss: 0.2948 - accuracy: 0.9159\n",
      "Epoch 161/200\n",
      "7803/7803 - 6s - loss: 0.2931 - accuracy: 0.9152\n",
      "Epoch 162/200\n",
      "7803/7803 - 6s - loss: 0.2917 - accuracy: 0.9167\n",
      "Epoch 163/200\n",
      "7803/7803 - 6s - loss: 0.2908 - accuracy: 0.9162\n",
      "Epoch 164/200\n",
      "7803/7803 - 6s - loss: 0.2888 - accuracy: 0.9172\n",
      "Epoch 165/200\n",
      "7803/7803 - 6s - loss: 0.2882 - accuracy: 0.9187\n",
      "Epoch 166/200\n",
      "7803/7803 - 6s - loss: 0.2882 - accuracy: 0.9166\n",
      "Epoch 167/200\n",
      "7803/7803 - 6s - loss: 0.2890 - accuracy: 0.9155\n",
      "Epoch 168/200\n",
      "7803/7803 - 6s - loss: 0.2867 - accuracy: 0.9161\n",
      "Epoch 169/200\n",
      "7803/7803 - 6s - loss: 0.2843 - accuracy: 0.9171\n",
      "Epoch 170/200\n",
      "7803/7803 - 6s - loss: 0.2866 - accuracy: 0.9166\n",
      "Epoch 171/200\n",
      "7803/7803 - 6s - loss: 0.2834 - accuracy: 0.9168\n",
      "Epoch 172/200\n",
      "7803/7803 - 6s - loss: 0.2815 - accuracy: 0.9170\n",
      "Epoch 173/200\n",
      "7803/7803 - 6s - loss: 0.2826 - accuracy: 0.9154\n",
      "Epoch 174/200\n",
      "7803/7803 - 6s - loss: 0.2800 - accuracy: 0.9179\n",
      "Epoch 175/200\n",
      "7803/7803 - 6s - loss: 0.2786 - accuracy: 0.9170\n",
      "Epoch 176/200\n",
      "7803/7803 - 6s - loss: 0.2774 - accuracy: 0.9161\n",
      "Epoch 177/200\n",
      "7803/7803 - 6s - loss: 0.2769 - accuracy: 0.9170\n",
      "Epoch 178/200\n",
      "7803/7803 - 6s - loss: 0.2761 - accuracy: 0.9155\n",
      "Epoch 179/200\n",
      "7803/7803 - 6s - loss: 0.2953 - accuracy: 0.9161\n",
      "Epoch 180/200\n",
      "7803/7803 - 6s - loss: 0.3278 - accuracy: 0.9070\n",
      "Epoch 181/200\n",
      "7803/7803 - 6s - loss: 0.2857 - accuracy: 0.9144\n",
      "Epoch 182/200\n",
      "7803/7803 - 6s - loss: 0.2754 - accuracy: 0.9153\n",
      "Epoch 183/200\n",
      "7803/7803 - 6s - loss: 0.2713 - accuracy: 0.9187\n",
      "Epoch 184/200\n",
      "7803/7803 - 6s - loss: 0.2708 - accuracy: 0.9164\n",
      "Epoch 185/200\n",
      "7803/7803 - 6s - loss: 0.2707 - accuracy: 0.9167\n",
      "Epoch 186/200\n",
      "7803/7803 - 6s - loss: 0.2702 - accuracy: 0.9155\n",
      "Epoch 187/200\n",
      "7803/7803 - 6s - loss: 0.2693 - accuracy: 0.9158\n",
      "Epoch 188/200\n",
      "7803/7803 - 6s - loss: 0.2696 - accuracy: 0.9164\n",
      "Epoch 189/200\n",
      "7803/7803 - 6s - loss: 0.2690 - accuracy: 0.9162\n",
      "Epoch 190/200\n",
      "7803/7803 - 6s - loss: 0.2679 - accuracy: 0.9173\n",
      "Epoch 191/200\n",
      "7803/7803 - 6s - loss: 0.2692 - accuracy: 0.9154\n",
      "Epoch 192/200\n",
      "7803/7803 - 6s - loss: 0.2684 - accuracy: 0.9158\n",
      "Epoch 193/200\n",
      "7803/7803 - 6s - loss: 0.2679 - accuracy: 0.9154\n",
      "Epoch 194/200\n",
      "7803/7803 - 6s - loss: 0.2720 - accuracy: 0.9159\n",
      "Epoch 195/200\n",
      "7803/7803 - 6s - loss: 0.2692 - accuracy: 0.9158\n",
      "Epoch 196/200\n",
      "7803/7803 - 6s - loss: 0.2673 - accuracy: 0.9161\n",
      "Epoch 197/200\n",
      "7803/7803 - 6s - loss: 0.2669 - accuracy: 0.9172\n",
      "Epoch 198/200\n",
      "7803/7803 - 6s - loss: 0.2658 - accuracy: 0.9182\n",
      "Epoch 199/200\n",
      "7803/7803 - 6s - loss: 0.2661 - accuracy: 0.9144\n",
      "Epoch 200/200\n",
      "7803/7803 - 6s - loss: 0.2653 - accuracy: 0.9175\n"
     ]
    },
    {
     "data": {
      "text/plain": [
       "<tensorflow.python.keras.callbacks.History at 0x1537138f788>"
      ]
     },
     "execution_count": 55,
     "metadata": {},
     "output_type": "execute_result"
    }
   ],
   "source": [
    "model = Sequential()\n",
    "\n",
    "model.add(Embedding(vocab_size, 10, input_length=max_len - 1))\n",
    "model.add(LSTM(128))\n",
    "model.add(Dense(vocab_size, activation='softmax'))\n",
    "\n",
    "model.compile(loss='categorical_crossentropy', optimizer='adam', metrics=['accuracy'])\n",
    "model.fit(X, y, epochs=200, verbose=2)"
   ]
  },
  {
   "cell_type": "code",
   "execution_count": 56,
   "metadata": {},
   "outputs": [],
   "source": [
    "def sentence_generation(model, t, current_word, n):\n",
    "    init_word = current_word\n",
    "    sentence = ''\n",
    "    for _ in range(n):\n",
    "        encoded = t.texts_to_sequences([current_word])[0]\n",
    "        encoded = pad_sequences([encoded], maxlen=23, padding='pre')\n",
    "        result = model.predict_classes(encoded, verbose=0)\n",
    "        for word, index in t.word_index.items():\n",
    "            if index == result:\n",
    "                break\n",
    "        current_word = current_word + ' ' + word\n",
    "        sentence = sentence + ' ' + word\n",
    "    sentence = init_word + sentence\n",
    "    \n",
    "    return sentence"
   ]
  },
  {
   "cell_type": "code",
   "execution_count": 57,
   "metadata": {},
   "outputs": [
    {
     "name": "stdout",
     "output_type": "stream",
     "text": [
      "is it wrong to focus on\n"
     ]
    }
   ],
   "source": [
    "print(sentence_generation(model, t, 'is', 5))"
   ]
  },
  {
   "cell_type": "code",
   "execution_count": 58,
   "metadata": {},
   "outputs": [
    {
     "name": "stdout",
     "output_type": "stream",
     "text": [
      "how our journalism is like a car crash wait that didnt\n"
     ]
    }
   ],
   "source": [
    "print(sentence_generation(model, t, 'how', 10))"
   ]
  },
  {
   "cell_type": "markdown",
   "metadata": {},
   "source": [
    "## 글자 단위 RNN(Char RNN)\n",
    "\n",
    "- 입출력 단위를 단어 레벨(word-level)에서 글자 레벨(character-level)로 변경하여 RNN을 구현할 수 있다.\n",
    "- 입출력 단위를 글자로 변경한 것"
   ]
  },
  {
   "cell_type": "code",
   "execution_count": 59,
   "metadata": {},
   "outputs": [],
   "source": [
    "import urllib.request"
   ]
  },
  {
   "cell_type": "code",
   "execution_count": 60,
   "metadata": {},
   "outputs": [
    {
     "data": {
      "text/plain": [
       "<function BufferedReader.close>"
      ]
     },
     "execution_count": 60,
     "metadata": {},
     "output_type": "execute_result"
    }
   ],
   "source": [
    "urllib.request.urlretrieve(\"http://www.gutenberg.org/files/11/11-0.txt\", filename=\"11-0.txt\")\n",
    "f = open('11-0.txt', 'rb')\n",
    "lines = []\n",
    "for line in f:\n",
    "    line = line.strip()\n",
    "    line = line.lower()\n",
    "    line = line.decode('ascii', 'ignore')\n",
    "    if len(line) > 0:\n",
    "        lines.append(line)\n",
    "f.close"
   ]
  },
  {
   "cell_type": "code",
   "execution_count": 61,
   "metadata": {
    "scrolled": true
   },
   "outputs": [
    {
     "data": {
      "text/plain": [
       "['the project gutenberg ebook of alices adventures in wonderland, by lewis carroll',\n",
       " 'this ebook is for the use of anyone anywhere at no cost and with',\n",
       " 'almost no restrictions whatsoever.  you may copy it, give it away or',\n",
       " 're-use it under the terms of the project gutenberg license included',\n",
       " 'with this ebook or online at www.gutenberg.org']"
      ]
     },
     "execution_count": 61,
     "metadata": {},
     "output_type": "execute_result"
    }
   ],
   "source": [
    "lines[:5]"
   ]
  },
  {
   "cell_type": "code",
   "execution_count": 62,
   "metadata": {},
   "outputs": [
    {
     "name": "stdout",
     "output_type": "stream",
     "text": [
      "문자열의 길이 또는 총 글자의 개수 : 159612\n"
     ]
    }
   ],
   "source": [
    "text = ' '.join(lines)\n",
    "print('문자열의 길이 또는 총 글자의 개수 : {}'.format(len(text)))"
   ]
  },
  {
   "cell_type": "code",
   "execution_count": 63,
   "metadata": {},
   "outputs": [
    {
     "name": "stdout",
     "output_type": "stream",
     "text": [
      "the project gutenberg ebook of alices adventures in wonderland, by lewis carroll this ebook is for the use of anyone anywhere at no cost and with almost no restrictions whatsoever.  you may copy it, g\n"
     ]
    }
   ],
   "source": [
    "print(text[:200])"
   ]
  },
  {
   "cell_type": "code",
   "execution_count": 64,
   "metadata": {},
   "outputs": [
    {
     "name": "stdout",
     "output_type": "stream",
     "text": [
      "글자 집합의 크기 : 57\n"
     ]
    }
   ],
   "source": [
    "char_vocab = sorted(list(set(text)))\n",
    "vocab_size = len(char_vocab)\n",
    "print(\"글자 집합의 크기 : {}\".format(vocab_size))"
   ]
  },
  {
   "cell_type": "code",
   "execution_count": 65,
   "metadata": {},
   "outputs": [
    {
     "name": "stdout",
     "output_type": "stream",
     "text": [
      "{' ': 0, '!': 1, '\"': 2, '#': 3, '$': 4, '%': 5, \"'\": 6, '(': 7, ')': 8, '*': 9, ',': 10, '-': 11, '.': 12, '/': 13, '0': 14, '1': 15, '2': 16, '3': 17, '4': 18, '5': 19, '6': 20, '7': 21, '8': 22, '9': 23, ':': 24, ';': 25, '?': 26, '@': 27, '[': 28, ']': 29, '_': 30, 'a': 31, 'b': 32, 'c': 33, 'd': 34, 'e': 35, 'f': 36, 'g': 37, 'h': 38, 'i': 39, 'j': 40, 'k': 41, 'l': 42, 'm': 43, 'n': 44, 'o': 45, 'p': 46, 'q': 47, 'r': 48, 's': 49, 't': 50, 'u': 51, 'v': 52, 'w': 53, 'x': 54, 'y': 55, 'z': 56}\n"
     ]
    }
   ],
   "source": [
    "char_to_index = dict((c, i) for i, c in enumerate(char_vocab))\n",
    "print(char_to_index)"
   ]
  },
  {
   "cell_type": "code",
   "execution_count": 66,
   "metadata": {},
   "outputs": [],
   "source": [
    "index_to_char = {}\n",
    "for key, value in char_to_index.items():\n",
    "    index_to_char[value] = key"
   ]
  },
  {
   "cell_type": "code",
   "execution_count": 67,
   "metadata": {},
   "outputs": [
    {
     "name": "stdout",
     "output_type": "stream",
     "text": [
      "문장 샘플의 수 : 2660\n"
     ]
    }
   ],
   "source": [
    "seq_length = 60\n",
    "n_samples = int(np.floor((len(text) - 1) / seq_length))\n",
    "print(\"문장 샘플의 수 : {}\".format(n_samples))"
   ]
  },
  {
   "cell_type": "code",
   "execution_count": 82,
   "metadata": {},
   "outputs": [],
   "source": [
    "train_X = []\n",
    "train_y = []\n",
    "\n",
    "for i in range(n_samples):\n",
    "    X_sample = text[i * seq_length : (i + 1) * seq_length]\n",
    "    X_encoded = [char_to_index[c] for c in X_sample]\n",
    "    train_X.append(X_encoded)\n",
    "    \n",
    "    y_sample = text[i * seq_length : (i + 1) * seq_length]\n",
    "    y_encoded = [char_to_index[c] for c in y_sample]\n",
    "    train_y.append(y_encoded)"
   ]
  },
  {
   "cell_type": "code",
   "execution_count": 83,
   "metadata": {},
   "outputs": [
    {
     "name": "stdout",
     "output_type": "stream",
     "text": [
      "[50, 38, 35, 0, 46, 48, 45, 40, 35, 33, 50, 0, 37, 51, 50, 35, 44, 32, 35, 48, 37, 0, 35, 32, 45, 45, 41, 0, 45, 36, 0, 31, 42, 39, 33, 35, 49, 0, 31, 34, 52, 35, 44, 50, 51, 48, 35, 49, 0, 39, 44, 0, 53, 45, 44, 34, 35, 48, 42, 31]\n"
     ]
    }
   ],
   "source": [
    "print(train_X[0])"
   ]
  },
  {
   "cell_type": "code",
   "execution_count": 84,
   "metadata": {},
   "outputs": [
    {
     "name": "stdout",
     "output_type": "stream",
     "text": [
      "[50, 38, 35, 0, 46, 48, 45, 40, 35, 33, 50, 0, 37, 51, 50, 35, 44, 32, 35, 48, 37, 0, 35, 32, 45, 45, 41, 0, 45, 36, 0, 31, 42, 39, 33, 35, 49, 0, 31, 34, 52, 35, 44, 50, 51, 48, 35, 49, 0, 39, 44, 0, 53, 45, 44, 34, 35, 48, 42, 31]\n"
     ]
    }
   ],
   "source": [
    "print(train_y[0])"
   ]
  },
  {
   "cell_type": "code",
   "execution_count": 85,
   "metadata": {},
   "outputs": [
    {
     "name": "stdout",
     "output_type": "stream",
     "text": [
      "[44, 34, 10, 0, 32, 55, 0, 42, 35, 53, 39, 49, 0, 33, 31, 48, 48, 45, 42, 42, 0, 50, 38, 39, 49, 0, 35, 32, 45, 45, 41, 0, 39, 49, 0, 36, 45, 48, 0, 50, 38, 35, 0, 51, 49, 35, 0, 45, 36, 0, 31, 44, 55, 45, 44, 35, 0, 31, 44, 55]\n"
     ]
    }
   ],
   "source": [
    "print(train_X[1])"
   ]
  },
  {
   "cell_type": "code",
   "execution_count": 86,
   "metadata": {},
   "outputs": [
    {
     "name": "stdout",
     "output_type": "stream",
     "text": [
      "[44, 34, 10, 0, 32, 55, 0, 42, 35, 53, 39, 49, 0, 33, 31, 48, 48, 45, 42, 42, 0, 50, 38, 39, 49, 0, 35, 32, 45, 45, 41, 0, 39, 49, 0, 36, 45, 48, 0, 50, 38, 35, 0, 51, 49, 35, 0, 45, 36, 0, 31, 44, 55, 45, 44, 35, 0, 31, 44, 55]\n"
     ]
    }
   ],
   "source": [
    "print(train_y[1])"
   ]
  },
  {
   "cell_type": "code",
   "execution_count": 87,
   "metadata": {},
   "outputs": [],
   "source": [
    "train_X = to_categorical(train_X)\n",
    "train_y = to_categorical(train_y)"
   ]
  },
  {
   "cell_type": "code",
   "execution_count": 88,
   "metadata": {},
   "outputs": [
    {
     "name": "stdout",
     "output_type": "stream",
     "text": [
      "train_X의 크기(shape) : (2660, 60, 57)\n",
      "train_y의 크기(shape) : (2660, 60, 57)\n"
     ]
    }
   ],
   "source": [
    "print('train_X의 크기(shape) : {}'.format(train_X.shape))\n",
    "print('train_y의 크기(shape) : {}'.format(train_y.shape))"
   ]
  },
  {
   "cell_type": "markdown",
   "metadata": {},
   "source": [
    "### 모델 설계 및 훈련"
   ]
  },
  {
   "cell_type": "code",
   "execution_count": 89,
   "metadata": {},
   "outputs": [],
   "source": [
    "from tensorflow.keras.layers import TimeDistributed"
   ]
  },
  {
   "cell_type": "code",
   "execution_count": null,
   "metadata": {},
   "outputs": [
    {
     "name": "stdout",
     "output_type": "stream",
     "text": [
      "Train on 2660 samples\n",
      "Epoch 1/80\n",
      "2660/2660 - 33s - loss: 2.9468 - accuracy: 0.2187\n",
      "Epoch 2/80\n",
      "2660/2660 - 32s - loss: 0.8925 - accuracy: 0.8592\n",
      "Epoch 3/80\n",
      "2660/2660 - 33s - loss: 0.1389 - accuracy: 0.9895\n",
      "Epoch 4/80\n",
      "2660/2660 - 34s - loss: 0.0620 - accuracy: 0.9971\n",
      "Epoch 5/80\n",
      "2660/2660 - 35s - loss: 0.0354 - accuracy: 0.9987\n",
      "Epoch 6/80\n",
      "2660/2660 - 36s - loss: 0.0222 - accuracy: 0.9988\n",
      "Epoch 7/80\n",
      "2660/2660 - 37s - loss: 0.0148 - accuracy: 0.9992\n",
      "Epoch 8/80\n",
      "2660/2660 - 38s - loss: 0.0103 - accuracy: 0.9994\n",
      "Epoch 9/80\n",
      "2660/2660 - 36s - loss: 0.0075 - accuracy: 0.9996\n",
      "Epoch 10/80\n",
      "2660/2660 - 36s - loss: 0.0056 - accuracy: 0.9998\n",
      "Epoch 11/80\n",
      "2660/2660 - 35s - loss: 0.0043 - accuracy: 0.9998\n",
      "Epoch 12/80\n",
      "2660/2660 - 36s - loss: 0.0034 - accuracy: 0.9999\n",
      "Epoch 13/80\n",
      "2660/2660 - 36s - loss: 0.0027 - accuracy: 0.9999\n",
      "Epoch 14/80\n",
      "2660/2660 - 35s - loss: 0.0022 - accuracy: 0.9999\n",
      "Epoch 15/80\n",
      "2660/2660 - 36s - loss: 0.0018 - accuracy: 0.9999\n",
      "Epoch 16/80\n",
      "2660/2660 - 37s - loss: 0.0015 - accuracy: 1.0000\n",
      "Epoch 17/80\n",
      "2660/2660 - 35s - loss: 0.0013 - accuracy: 1.0000\n",
      "Epoch 18/80\n",
      "2660/2660 - 35s - loss: 0.0011 - accuracy: 1.0000\n",
      "Epoch 19/80\n",
      "2660/2660 - 35s - loss: 9.5423e-04 - accuracy: 1.0000\n",
      "Epoch 20/80\n",
      "2660/2660 - 35s - loss: 8.3245e-04 - accuracy: 1.0000\n",
      "Epoch 21/80\n",
      "2660/2660 - 43s - loss: 7.2921e-04 - accuracy: 1.0000\n",
      "Epoch 22/80\n",
      "2660/2660 - 40s - loss: 6.4162e-04 - accuracy: 1.0000\n",
      "Epoch 23/80\n",
      "2660/2660 - 36s - loss: 5.6487e-04 - accuracy: 1.0000\n",
      "Epoch 24/80\n",
      "2660/2660 - 39s - loss: 4.9966e-04 - accuracy: 1.0000\n",
      "Epoch 25/80\n",
      "2660/2660 - 36s - loss: 4.4269e-04 - accuracy: 1.0000\n",
      "Epoch 26/80\n",
      "2660/2660 - 34s - loss: 3.9349e-04 - accuracy: 1.0000\n",
      "Epoch 27/80\n",
      "2660/2660 - 35s - loss: 3.5208e-04 - accuracy: 1.0000\n",
      "Epoch 28/80\n",
      "2660/2660 - 36s - loss: 3.1648e-04 - accuracy: 1.0000\n",
      "Epoch 29/80\n",
      "2660/2660 - 35s - loss: 2.8592e-04 - accuracy: 1.0000\n",
      "Epoch 30/80\n",
      "2660/2660 - 35s - loss: 2.5977e-04 - accuracy: 1.0000\n",
      "Epoch 31/80\n"
     ]
    }
   ],
   "source": [
    "model = Sequential()\n",
    "\n",
    "model.add(LSTM(256, input_shape=(None, train_X.shape[2]), return_sequences=True))\n",
    "model.add(LSTM(256, return_sequences=True))\n",
    "model.add(TimeDistributed(Dense(vocab_size, activation='softmax')))\n",
    "\n",
    "model.compile(loss='categorical_crossentropy', optimizer='adam', metrics=['accuracy'])\n",
    "model.fit(train_X, train_y, epochs=80, verbose=2)"
   ]
  },
  {
   "cell_type": "code",
   "execution_count": null,
   "metadata": {},
   "outputs": [],
   "source": [
    "def sentence_generation(model, length):\n",
    "    ix = [np.random.randint(vocab_size)]\n",
    "    y_char = [index_to_char[ix[-1]]]\n",
    "    print(ix[-1], '번 글자', y_char[-1], '로 예측을 시작!')\n",
    "    X = np.aeros((1, length, vocab_size))\n",
    "    for _ in range(length):\n",
    "        X[0][i][ix[-1]] = 1\n",
    "        print(index_to_char[ix[-1]], end=\"\")\n",
    "        ix = np.argmax(model.predict(X[:, :i+1, :])[0], 1)\n",
    "        y_char.append(index_to_char[ix[-1]])\n",
    "    return ('').join(y_char)"
   ]
  },
  {
   "cell_type": "code",
   "execution_count": null,
   "metadata": {},
   "outputs": [],
   "source": [
    "sentence_generation(model, 100)"
   ]
  }
 ],
 "metadata": {
  "kernelspec": {
   "display_name": "Python 3",
   "language": "python",
   "name": "python3"
  },
  "language_info": {
   "codemirror_mode": {
    "name": "ipython",
    "version": 3
   },
   "file_extension": ".py",
   "mimetype": "text/x-python",
   "name": "python",
   "nbconvert_exporter": "python",
   "pygments_lexer": "ipython3",
   "version": "3.7.6"
  }
 },
 "nbformat": 4,
 "nbformat_minor": 4
}
