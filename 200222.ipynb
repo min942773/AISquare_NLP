{
 "cells": [
  {
   "cell_type": "markdown",
   "metadata": {},
   "source": [
    "# Library import & version check"
   ]
  },
  {
   "cell_type": "code",
   "execution_count": 10,
   "metadata": {},
   "outputs": [],
   "source": [
    "from bs4 import BeautifulSoup\n",
    "from selenium import webdriver\n",
    "\n",
    "import requests"
   ]
  },
  {
   "cell_type": "code",
   "execution_count": 11,
   "metadata": {},
   "outputs": [
    {
     "data": {
      "text/plain": [
       "'2.22.0'"
      ]
     },
     "execution_count": 11,
     "metadata": {},
     "output_type": "execute_result"
    }
   ],
   "source": [
    "requests.__version__"
   ]
  },
  {
   "cell_type": "code",
   "execution_count": 12,
   "metadata": {},
   "outputs": [
    {
     "data": {
      "text/plain": [
       "'3.14.1'"
      ]
     },
     "execution_count": 12,
     "metadata": {},
     "output_type": "execute_result"
    }
   ],
   "source": [
    "webdriver.__version__"
   ]
  },
  {
   "cell_type": "code",
   "execution_count": 13,
   "metadata": {},
   "outputs": [],
   "source": [
    "import tensorflow as tf"
   ]
  },
  {
   "cell_type": "code",
   "execution_count": 14,
   "metadata": {},
   "outputs": [
    {
     "data": {
      "text/plain": [
       "'2.1.0'"
      ]
     },
     "execution_count": 14,
     "metadata": {},
     "output_type": "execute_result"
    }
   ],
   "source": [
    "tf.__version__"
   ]
  },
  {
   "cell_type": "code",
   "execution_count": 15,
   "metadata": {},
   "outputs": [],
   "source": [
    "import nltk"
   ]
  },
  {
   "cell_type": "code",
   "execution_count": 16,
   "metadata": {},
   "outputs": [
    {
     "data": {
      "text/plain": [
       "'3.4.5'"
      ]
     },
     "execution_count": 16,
     "metadata": {},
     "output_type": "execute_result"
    }
   ],
   "source": [
    "nltk.__version__"
   ]
  },
  {
   "cell_type": "code",
   "execution_count": 17,
   "metadata": {},
   "outputs": [
    {
     "name": "stdout",
     "output_type": "stream",
     "text": [
      "showing info https://raw.githubusercontent.com/nltk/nltk_data/gh-pages/index.xml\n"
     ]
    },
    {
     "data": {
      "text/plain": [
       "True"
      ]
     },
     "execution_count": 17,
     "metadata": {},
     "output_type": "execute_result"
    }
   ],
   "source": [
    "nltk.download()"
   ]
  },
  {
   "cell_type": "markdown",
   "metadata": {},
   "source": [
    "# Scraping / Crawling 실습"
   ]
  },
  {
   "cell_type": "markdown",
   "metadata": {},
   "source": [
    "## requests 패키지"
   ]
  },
  {
   "cell_type": "code",
   "execution_count": 50,
   "metadata": {},
   "outputs": [],
   "source": [
    "def getDownload(url, param = None, retries = 3):\n",
    "    resp = None\n",
    "    \n",
    "    try:\n",
    "        resp = requests.get(url, params = param) # resp에 html 들어감, GET 방식 요청\n",
    "        resp.raise_for_status()\n",
    "    except requests.exceptions.HTTPError as e: # 예외처리\n",
    "        if 500 <= resp.status_code < 600 and retries > 0:\n",
    "            print('Retries : {0}'.format(retries))\n",
    "            return getDownload(url, param, retries - 1)\n",
    "        else:\n",
    "            print(resp.status_code)\n",
    "            print(resp.reason)\n",
    "            print(resp.request.headers)\n",
    "    return resp"
   ]
  },
  {
   "cell_type": "code",
   "execution_count": 51,
   "metadata": {},
   "outputs": [
    {
     "name": "stdout",
     "output_type": "stream",
     "text": [
      "408\n",
      "REQUEST_TIMEOUT\n",
      "{'User-Agent': 'python-requests/2.22.0', 'Accept-Encoding': 'gzip, deflate', 'Accept': '*/*', 'Connection': 'keep-alive'}\n"
     ]
    },
    {
     "data": {
      "text/plain": [
       "<Response [408]>"
      ]
     },
     "execution_count": 51,
     "metadata": {},
     "output_type": "execute_result"
    }
   ],
   "source": [
    "url = 'http://www.crawler-test.com/status_codes/status_100'\n",
    "getDownload(url)"
   ]
  },
  {
   "cell_type": "code",
   "execution_count": 52,
   "metadata": {},
   "outputs": [
    {
     "data": {
      "text/plain": [
       "'https://search.naver.com/search.naver?sm=top_hty&fbm=1&ie=utf8&query=python'"
      ]
     },
     "execution_count": 52,
     "metadata": {},
     "output_type": "execute_result"
    }
   ],
   "source": [
    "'https://search.naver.com/search.naver?sm=top_hty&fbm=1&ie=utf8&query=python' # 내가 전달하는 값이 주소에 나타나면 GET 방식, 글자수제한 있음, 보안에 취약"
   ]
  },
  {
   "cell_type": "code",
   "execution_count": 53,
   "metadata": {},
   "outputs": [],
   "source": [
    "def postDownload(url, data = None, param = None, retries = 3):\n",
    "    resp = None\n",
    "    \n",
    "    try:\n",
    "        resp = requests.post(url, data, params = param) # resp에 html 들어감, POST 방식 요청\n",
    "        resp.raise_for_status()\n",
    "    except requests.exceptions.HTTPError as e: # 예외처리\n",
    "        if 500 <= resp.status_code < 600 and retries > 0:\n",
    "            print('Retries : {0}'.format(retries))\n",
    "            return postDownload(url, param, retries - 1)\n",
    "        else:\n",
    "            print(resp.status_code)\n",
    "            print(resp.reason)\n",
    "            print(resp.request.headers)\n",
    "    return resp"
   ]
  },
  {
   "cell_type": "code",
   "execution_count": 54,
   "metadata": {},
   "outputs": [],
   "source": [
    "url = 'http://pythonscraping.com/pages/files/processing.php'\n",
    "data = { 'firstname' : '테스트', 'lastname' : 1234 }"
   ]
  },
  {
   "cell_type": "code",
   "execution_count": 57,
   "metadata": {},
   "outputs": [
    {
     "name": "stdout",
     "output_type": "stream",
     "text": [
      "firstname=%ED%85%8C%EC%8A%A4%ED%8A%B8&lastname=1234\n",
      "-------------------------------\n",
      "{'User-Agent': 'python-requests/2.22.0', 'Accept-Encoding': 'gzip, deflate', 'Accept': '*/*', 'Connection': 'keep-alive', 'Content-Length': '51', 'Content-Type': 'application/x-www-form-urlencoded'}\n",
      "Hello there, 테스트 1234!\n"
     ]
    }
   ],
   "source": [
    "html = postDownload(url, data)\n",
    "print(html.request.body)\n",
    "print('-------------------------------')\n",
    "print(html.request.headers)\n",
    "print(html.text)"
   ]
  },
  {
   "cell_type": "code",
   "execution_count": 58,
   "metadata": {},
   "outputs": [],
   "source": [
    "# post 방식은 get 방식에 비해 보낼 수 있는 데이터의 크기가 큼"
   ]
  },
  {
   "cell_type": "markdown",
   "metadata": {},
   "source": [
    "## Cookie 활용"
   ]
  },
  {
   "cell_type": "code",
   "execution_count": 59,
   "metadata": {},
   "outputs": [],
   "source": [
    "def postDownloadCookie(url, data = None, param = None, cookie = None, retries = 3):\n",
    "    resp = None\n",
    "    try :\n",
    "        resp = requests.post(url, data=data, cookies=cookie, params=param)\n",
    "        resp.raise_for_status()\n",
    "    except requests.exceptions.HTTPError as e:\n",
    "        if 500 <= resp.status_code < 600 and retries > 0:\n",
    "            print('Retries : {0}'.format(retries))\n",
    "            return postDownloadCookie(url, data, param, cookie, retries - 1)\n",
    "        else:\n",
    "            print(resp.status_code)\n",
    "            print(resp.reason)\n",
    "            print(resp.request.headers)\n",
    "    return resp"
   ]
  },
  {
   "cell_type": "code",
   "execution_count": 60,
   "metadata": {},
   "outputs": [],
   "source": [
    "url = 'http://pythonscraping.com/pages/files/processing.php'\n",
    "data = { 'firstname' : 'test', 'lastname' : 1234 }"
   ]
  },
  {
   "cell_type": "code",
   "execution_count": 61,
   "metadata": {},
   "outputs": [],
   "source": [
    "html = postDownloadCookie(url, data)\n",
    "cookie = html.cookies.get_dict()"
   ]
  },
  {
   "cell_type": "code",
   "execution_count": 62,
   "metadata": {},
   "outputs": [
    {
     "data": {
      "text/plain": [
       "'Hello there, test 1234!'"
      ]
     },
     "execution_count": 62,
     "metadata": {},
     "output_type": "execute_result"
    }
   ],
   "source": [
    "html = postDownloadCookie(url, data, cookie)\n",
    "html.text"
   ]
  },
  {
   "cell_type": "markdown",
   "metadata": {},
   "source": [
    "## Session 활용"
   ]
  },
  {
   "cell_type": "code",
   "execution_count": 63,
   "metadata": {},
   "outputs": [],
   "source": [
    "session = requests.Session()"
   ]
  },
  {
   "cell_type": "code",
   "execution_count": 64,
   "metadata": {},
   "outputs": [],
   "source": [
    "data = { 'username' : 'test', 'password' : 'password'}"
   ]
  },
  {
   "cell_type": "code",
   "execution_count": 65,
   "metadata": {},
   "outputs": [],
   "source": [
    "html = session.post(url, data)"
   ]
  },
  {
   "cell_type": "code",
   "execution_count": 67,
   "metadata": {},
   "outputs": [
    {
     "data": {
      "text/plain": [
       "'Hello there,  !'"
      ]
     },
     "execution_count": 67,
     "metadata": {},
     "output_type": "execute_result"
    }
   ],
   "source": [
    "html.text"
   ]
  },
  {
   "cell_type": "code",
   "execution_count": 68,
   "metadata": {},
   "outputs": [],
   "source": [
    "html = session.post(url)"
   ]
  },
  {
   "cell_type": "code",
   "execution_count": 69,
   "metadata": {},
   "outputs": [
    {
     "data": {
      "text/plain": [
       "'Hello there,  !'"
      ]
     },
     "execution_count": 69,
     "metadata": {},
     "output_type": "execute_result"
    }
   ],
   "source": [
    "html.text"
   ]
  },
  {
   "cell_type": "markdown",
   "metadata": {},
   "source": [
    "# BeautifulSoup 이용한 HTML 분석"
   ]
  },
  {
   "cell_type": "code",
   "execution_count": 70,
   "metadata": {},
   "outputs": [],
   "source": [
    "html = '''\n",
    "<!DOCTYPE html>\n",
    "<head>\n",
    "    <head>\n",
    "        <meta charset=\"utf-8\">\n",
    "        <title>BeautifulSoup Training</title>\n",
    "    </head>\n",
    "    <body>\n",
    "        <div id=\"result\">\n",
    "            <p class=\"row\">\n",
    "                <a class=\"red\">Go to page1</a>\n",
    "                <a class=\"blue\">Go to page2</a>\n",
    "                <a class=\"green\">Go to page3</a>\n",
    "                <a class=\"black\">Go to page4</a>\n",
    "                <a class=\"yellow\">Go to page5</a>\n",
    "                <a class=\"gray\">Go to page6</a>\n",
    "                <a class=\"red\">Go to page7</a>\n",
    "            </p>\n",
    "        </div>\n",
    "    </body>\n",
    "</html>\n",
    "'''"
   ]
  },
  {
   "cell_type": "code",
   "execution_count": 71,
   "metadata": {},
   "outputs": [],
   "source": [
    "dom = BeautifulSoup(html, 'lxml') # lxml, html.parser 등등 넣을 수 있음"
   ]
  },
  {
   "cell_type": "code",
   "execution_count": 72,
   "metadata": {},
   "outputs": [
    {
     "data": {
      "text/plain": [
       "<!DOCTYPE html>\n",
       "<html><head>\n",
       "<meta charset=\"utf-8\"/>\n",
       "<title>BeautifulSoup Training</title>\n",
       "</head><body>\n",
       "<div id=\"result\">\n",
       "<p class=\"row\">\n",
       "<a class=\"red\">Go to page1</a>\n",
       "<a class=\"blue\">Go to page2</a>\n",
       "<a class=\"green\">Go to page3</a>\n",
       "<a class=\"black\">Go to page4</a>\n",
       "<a class=\"yellow\">Go to page5</a>\n",
       "<a class=\"gray\">Go to page6</a>\n",
       "<a class=\"red\">Go to page7</a>\n",
       "</p>\n",
       "</div>\n",
       "</body>\n",
       "</html>"
      ]
     },
     "execution_count": 72,
     "metadata": {},
     "output_type": "execute_result"
    }
   ],
   "source": [
    "dom"
   ]
  },
  {
   "cell_type": "markdown",
   "metadata": {},
   "source": [
    "## find() / find_all() 이용한 원하는 tag 내용 추출"
   ]
  },
  {
   "cell_type": "code",
   "execution_count": 74,
   "metadata": {},
   "outputs": [
    {
     "data": {
      "text/plain": [
       "<a class=\"red\">Go to page1</a>"
      ]
     },
     "execution_count": 74,
     "metadata": {},
     "output_type": "execute_result"
    }
   ],
   "source": [
    "dom.find('a') # 해당하는 태그의 첫번째"
   ]
  },
  {
   "cell_type": "code",
   "execution_count": 75,
   "metadata": {},
   "outputs": [
    {
     "data": {
      "text/plain": [
       "[<a class=\"red\">Go to page1</a>,\n",
       " <a class=\"blue\">Go to page2</a>,\n",
       " <a class=\"green\">Go to page3</a>,\n",
       " <a class=\"black\">Go to page4</a>,\n",
       " <a class=\"yellow\">Go to page5</a>,\n",
       " <a class=\"gray\">Go to page6</a>,\n",
       " <a class=\"red\">Go to page7</a>]"
      ]
     },
     "execution_count": 75,
     "metadata": {},
     "output_type": "execute_result"
    }
   ],
   "source": [
    "dom.find_all('a')"
   ]
  },
  {
   "cell_type": "code",
   "execution_count": 76,
   "metadata": {},
   "outputs": [],
   "source": [
    "html = '''\n",
    "<!DOCTYPE html>\n",
    "<head>\n",
    "    <head>\n",
    "        <meta charset=\"utf-8\">\n",
    "        <title>BeautifulSoup Training</title>\n",
    "    </head>\n",
    "    <body>\n",
    "        <div id=\"result\">\n",
    "            <p class=\"row\">\n",
    "                <a class=\"red\">Go to page1</a>\n",
    "                <a class=\"blue\">Go to page2</a>\n",
    "                <a class=\"green\">Go to page3</a>\n",
    "                <a class=\"black\">Go to page4</a>\n",
    "                <b class=\"yellow\">Go to page5</b>\n",
    "                <c class=\"gray\">Go to page6</c>\n",
    "                <d class=\"red\">Go to page7</d>\n",
    "            </p>\n",
    "        </div>\n",
    "    </body>\n",
    "</html>\n",
    "'''"
   ]
  },
  {
   "cell_type": "code",
   "execution_count": 78,
   "metadata": {},
   "outputs": [],
   "source": [
    "dom = BeautifulSoup(html, 'lxml')"
   ]
  },
  {
   "cell_type": "code",
   "execution_count": 79,
   "metadata": {},
   "outputs": [
    {
     "data": {
      "text/plain": [
       "[<a class=\"red\">Go to page1</a>,\n",
       " <a class=\"blue\">Go to page2</a>,\n",
       " <a class=\"green\">Go to page3</a>,\n",
       " <a class=\"black\">Go to page4</a>]"
      ]
     },
     "execution_count": 79,
     "metadata": {},
     "output_type": "execute_result"
    }
   ],
   "source": [
    "dom.find_all('a')"
   ]
  },
  {
   "cell_type": "code",
   "execution_count": 80,
   "metadata": {},
   "outputs": [
    {
     "data": {
      "text/plain": [
       "<div id=\"result\">\n",
       "<p class=\"row\">\n",
       "<a class=\"red\">Go to page1</a>\n",
       "<a class=\"blue\">Go to page2</a>\n",
       "<a class=\"green\">Go to page3</a>\n",
       "<a class=\"black\">Go to page4</a>\n",
       "<b class=\"yellow\">Go to page5</b>\n",
       "<c class=\"gray\">Go to page6</c>\n",
       "<d class=\"red\">Go to page7</d>\n",
       "</p>\n",
       "</div>"
      ]
     },
     "execution_count": 80,
     "metadata": {},
     "output_type": "execute_result"
    }
   ],
   "source": [
    "dom.find('', {\"id\" : \"result\"}) # 특정 attribute 지정"
   ]
  },
  {
   "cell_type": "code",
   "execution_count": 81,
   "metadata": {},
   "outputs": [
    {
     "data": {
      "text/plain": [
       "<a class=\"red\">Go to page1</a>"
      ]
     },
     "execution_count": 81,
     "metadata": {},
     "output_type": "execute_result"
    }
   ],
   "source": [
    "dom.find('', {'class' : 'red'})"
   ]
  },
  {
   "cell_type": "code",
   "execution_count": 82,
   "metadata": {},
   "outputs": [
    {
     "data": {
      "text/plain": [
       "[<a class=\"red\">Go to page1</a>, <d class=\"red\">Go to page7</d>]"
      ]
     },
     "execution_count": 82,
     "metadata": {},
     "output_type": "execute_result"
    }
   ],
   "source": [
    "dom.find_all('', {'class' : 'red'})"
   ]
  },
  {
   "cell_type": "code",
   "execution_count": 93,
   "metadata": {},
   "outputs": [
    {
     "data": {
      "text/plain": [
       "'<html>\\n<head>\\n<style>\\nimg{\\n\\twidth:75px;\\n}\\ntable{\\n\\twidth:50%;\\n}\\ntd{\\n\\tmargin:10px;\\n\\tpadding:10px;\\n}\\n.wrapper{\\n\\twidth:800px;\\n}\\n.excitingNote{\\n\\tfont-style:italic;\\n\\tfont-weight:bold;\\n}\\n</style>\\n</head>\\n<body>\\n<div id=\"wrapper\">\\n<img src=\"../img/gifts/logo.jpg\" style=\"float:left;\">\\n<h1>Totally Normal Gifts</h1>\\n<div id=\"content\">Here is a collection of totally normal, totally reasonable gifts that your friends are sure to love! Our collection is\\nhand-curated by well-paid, free-range Tibetan monks.<p>\\nWe haven\\'t figured out how to make online shopping carts yet, but you can send us a check to:<br>\\n123 Main St.<br>\\nAbuja, Nigeria\\n</br>We will then send your totally amazing gift, pronto! Please include an extra $5.00 for gift wrapping.</div>\\n<table id=\"giftList\">\\n<tr><th>\\nItem Title\\n</th><th>\\nDescription\\n</th><th>\\nCost\\n</th><th>\\nImage\\n</th></tr>\\n\\n<tr id=\"gift1\" class=\"gift\"><td>\\nVegetable Basket\\n</td><td>\\nThis vegetable basket is the perfect gift for your health conscious (or overweight) friends!\\n<span class=\"excitingNote\">Now with super-colorful bell peppers!</span>\\n</td><td>\\n$15.00\\n</td><td>\\n<img src=\"../img/gifts/img1.jpg\">\\n</td></tr>\\n\\n<tr id=\"gift2\" class=\"gift\"><td>\\nRussian Nesting Dolls\\n</td><td>\\nHand-painted by trained monkeys, these exquisite dolls are priceless! And by \"priceless,\" we mean \"extremely expensive\"! <span class=\"excitingNote\">8 entire dolls per set! Octuple the presents!</span>\\n</td><td>\\n$10,000.52\\n</td><td>\\n<img src=\"../img/gifts/img2.jpg\">\\n</td></tr>\\n\\n<tr id=\"gift3\" class=\"gift\"><td>\\nFish Painting\\n</td><td>\\nIf something seems fishy about this painting, it\\'s because it\\'s a fish! <span class=\"excitingNote\">Also hand-painted by trained monkeys!</span>\\n</td><td>\\n$10,005.00\\n</td><td>\\n<img src=\"../img/gifts/img3.jpg\">\\n</td></tr>\\n\\n<tr id=\"gift4\" class=\"gift\"><td>\\nDead Parrot\\n</td><td>\\nThis is an ex-parrot! <span class=\"excitingNote\">Or maybe he\\'s only resting?</span>\\n</td><td>\\n$0.50\\n</td><td>\\n<img src=\"../img/gifts/img4.jpg\">\\n</td></tr>\\n\\n<tr id=\"gift5\" class=\"gift\"><td>\\nMystery Box\\n</td><td>\\nIf you love suprises, this mystery box is for you! Do not place on light-colored surfaces. May cause oil staining. <span class=\"excitingNote\">Keep your friends guessing!</span>\\n</td><td>\\n$1.50\\n</td><td>\\n<img src=\"../img/gifts/img6.jpg\">\\n</td></tr>\\n</table>\\n</p>\\n<div id=\"footer\">\\n&copy; Totally Normal Gifts, Inc. <br>\\n+234 (617) 863-0736\\n</div>\\n\\n</div>\\n</body>\\n</html>\\n'"
      ]
     },
     "execution_count": 93,
     "metadata": {},
     "output_type": "execute_result"
    }
   ],
   "source": [
    "url = 'http://pythonscraping.com/pages/page3.html'\n",
    "html = getDownload(url)\n",
    "html.text"
   ]
  },
  {
   "cell_type": "code",
   "execution_count": 94,
   "metadata": {},
   "outputs": [],
   "source": [
    "dom = BeautifulSoup(html.text, 'lxml')"
   ]
  },
  {
   "cell_type": "code",
   "execution_count": 95,
   "metadata": {},
   "outputs": [
    {
     "data": {
      "text/plain": [
       "<html>\n",
       "<head>\n",
       "<style>\n",
       "img{\n",
       "\twidth:75px;\n",
       "}\n",
       "table{\n",
       "\twidth:50%;\n",
       "}\n",
       "td{\n",
       "\tmargin:10px;\n",
       "\tpadding:10px;\n",
       "}\n",
       ".wrapper{\n",
       "\twidth:800px;\n",
       "}\n",
       ".excitingNote{\n",
       "\tfont-style:italic;\n",
       "\tfont-weight:bold;\n",
       "}\n",
       "</style>\n",
       "</head>\n",
       "<body>\n",
       "<div id=\"wrapper\">\n",
       "<img src=\"../img/gifts/logo.jpg\" style=\"float:left;\"/>\n",
       "<h1>Totally Normal Gifts</h1>\n",
       "<div id=\"content\">Here is a collection of totally normal, totally reasonable gifts that your friends are sure to love! Our collection is\n",
       "hand-curated by well-paid, free-range Tibetan monks.<p>\n",
       "We haven't figured out how to make online shopping carts yet, but you can send us a check to:<br/>\n",
       "123 Main St.<br/>\n",
       "Abuja, Nigeria\n",
       "We will then send your totally amazing gift, pronto! Please include an extra $5.00 for gift wrapping.</p></div>\n",
       "<table id=\"giftList\">\n",
       "<tr><th>\n",
       "Item Title\n",
       "</th><th>\n",
       "Description\n",
       "</th><th>\n",
       "Cost\n",
       "</th><th>\n",
       "Image\n",
       "</th></tr>\n",
       "<tr class=\"gift\" id=\"gift1\"><td>\n",
       "Vegetable Basket\n",
       "</td><td>\n",
       "This vegetable basket is the perfect gift for your health conscious (or overweight) friends!\n",
       "<span class=\"excitingNote\">Now with super-colorful bell peppers!</span>\n",
       "</td><td>\n",
       "$15.00\n",
       "</td><td>\n",
       "<img src=\"../img/gifts/img1.jpg\"/>\n",
       "</td></tr>\n",
       "<tr class=\"gift\" id=\"gift2\"><td>\n",
       "Russian Nesting Dolls\n",
       "</td><td>\n",
       "Hand-painted by trained monkeys, these exquisite dolls are priceless! And by \"priceless,\" we mean \"extremely expensive\"! <span class=\"excitingNote\">8 entire dolls per set! Octuple the presents!</span>\n",
       "</td><td>\n",
       "$10,000.52\n",
       "</td><td>\n",
       "<img src=\"../img/gifts/img2.jpg\"/>\n",
       "</td></tr>\n",
       "<tr class=\"gift\" id=\"gift3\"><td>\n",
       "Fish Painting\n",
       "</td><td>\n",
       "If something seems fishy about this painting, it's because it's a fish! <span class=\"excitingNote\">Also hand-painted by trained monkeys!</span>\n",
       "</td><td>\n",
       "$10,005.00\n",
       "</td><td>\n",
       "<img src=\"../img/gifts/img3.jpg\"/>\n",
       "</td></tr>\n",
       "<tr class=\"gift\" id=\"gift4\"><td>\n",
       "Dead Parrot\n",
       "</td><td>\n",
       "This is an ex-parrot! <span class=\"excitingNote\">Or maybe he's only resting?</span>\n",
       "</td><td>\n",
       "$0.50\n",
       "</td><td>\n",
       "<img src=\"../img/gifts/img4.jpg\"/>\n",
       "</td></tr>\n",
       "<tr class=\"gift\" id=\"gift5\"><td>\n",
       "Mystery Box\n",
       "</td><td>\n",
       "If you love suprises, this mystery box is for you! Do not place on light-colored surfaces. May cause oil staining. <span class=\"excitingNote\">Keep your friends guessing!</span>\n",
       "</td><td>\n",
       "$1.50\n",
       "</td><td>\n",
       "<img src=\"../img/gifts/img6.jpg\"/>\n",
       "</td></tr>\n",
       "</table>\n",
       "<div id=\"footer\">\n",
       "© Totally Normal Gifts, Inc. <br/>\n",
       "+234 (617) 863-0736\n",
       "</div>\n",
       "</div>\n",
       "</body>\n",
       "</html>"
      ]
     },
     "execution_count": 95,
     "metadata": {},
     "output_type": "execute_result"
    }
   ],
   "source": [
    "dom"
   ]
  },
  {
   "cell_type": "code",
   "execution_count": 96,
   "metadata": {},
   "outputs": [
    {
     "data": {
      "text/plain": [
       "<div id=\"footer\">\n",
       "© Totally Normal Gifts, Inc. <br/>\n",
       "+234 (617) 863-0736\n",
       "</div>"
      ]
     },
     "execution_count": 96,
     "metadata": {},
     "output_type": "execute_result"
    }
   ],
   "source": [
    "footer = dom.find('div', {'id':'footer'}) # div 중에 id가 footer인거만 검색\n",
    "footer"
   ]
  },
  {
   "cell_type": "code",
   "execution_count": 97,
   "metadata": {},
   "outputs": [
    {
     "data": {
      "text/plain": [
       "('div', {'id': 'wrapper'})"
      ]
     },
     "execution_count": 97,
     "metadata": {},
     "output_type": "execute_result"
    }
   ],
   "source": [
    "parent = footer.find_parent()\n",
    "parent.name, parent.attrs"
   ]
  },
  {
   "cell_type": "code",
   "execution_count": 98,
   "metadata": {},
   "outputs": [
    {
     "name": "stdout",
     "output_type": "stream",
     "text": [
      "img {'src': '../img/gifts/logo.jpg', 'style': 'float:left;'}\n",
      "h1 {}\n",
      "div {'id': 'content'}\n",
      "table {'id': 'giftList'}\n",
      "div {'id': 'footer'}\n"
     ]
    }
   ],
   "source": [
    "children = parent.find_all(recursive = False)\n",
    "for row in children:\n",
    "    print(row.name, row.attrs)"
   ]
  },
  {
   "cell_type": "code",
   "execution_count": 99,
   "metadata": {},
   "outputs": [
    {
     "name": "stdout",
     "output_type": "stream",
     "text": [
      "Cost\n",
      "$15.00\n",
      "$10,000.52\n",
      "$10,005.00\n",
      "$0.50\n",
      "$1.50\n"
     ]
    }
   ],
   "source": [
    "aList = dom.find_all('tr')\n",
    "for row in aList:\n",
    "    print(row.find_all(recursive = False)[2].text.strip())"
   ]
  },
  {
   "cell_type": "code",
   "execution_count": 113,
   "metadata": {},
   "outputs": [],
   "source": [
    "html = '''\n",
    "<!DOCTYPE html>\n",
    "<head>\n",
    "    <head>\n",
    "        <meta charset=\"utf-8\">\n",
    "        <title>BeautifulSoup Training</title>\n",
    "    </head>\n",
    "    <body>\n",
    "        <div id=\"result\">\n",
    "            <p class=\"row\">\n",
    "                <a class=\"red\">Go to page1</a>\n",
    "                <a class=\"blue\">Go to page2</a>\n",
    "                <a class=\"green\">Go to page3</a>\n",
    "                <a class=\"black\">Go to page4</a>\n",
    "                <b class=\"yellow\">Go to page5</a>\n",
    "                <c class=\"gray\">Go to page6</a>\n",
    "                <d class=\"red\">Go to page7</a>\n",
    "            </p>\n",
    "        </div>\n",
    "    </body>\n",
    "</html>\n",
    "'''"
   ]
  },
  {
   "cell_type": "code",
   "execution_count": 114,
   "metadata": {},
   "outputs": [],
   "source": [
    "dom = BeautifulSoup(html, 'lxml')"
   ]
  },
  {
   "cell_type": "code",
   "execution_count": 115,
   "metadata": {},
   "outputs": [
    {
     "data": {
      "text/plain": [
       "<!DOCTYPE html>\n",
       "<html><head>\n",
       "<meta charset=\"utf-8\"/>\n",
       "<title>BeautifulSoup Training</title>\n",
       "</head><body>\n",
       "<div id=\"result\">\n",
       "<p class=\"row\">\n",
       "<a class=\"red\">Go to page1</a>\n",
       "<a class=\"blue\">Go to page2</a>\n",
       "<a class=\"green\">Go to page3</a>\n",
       "<a class=\"black\">Go to page4</a>\n",
       "<b class=\"yellow\">Go to page5\n",
       "                <c class=\"gray\">Go to page6\n",
       "                <d class=\"red\">Go to page7\n",
       "            </d></c></b></p>\n",
       "</div>\n",
       "</body>\n",
       "</html>"
      ]
     },
     "execution_count": 115,
     "metadata": {},
     "output_type": "execute_result"
    }
   ],
   "source": [
    "dom"
   ]
  },
  {
   "cell_type": "code",
   "execution_count": 116,
   "metadata": {},
   "outputs": [
    {
     "data": {
      "text/plain": [
       "<a class=\"red\">Go to page1</a>"
      ]
     },
     "execution_count": 116,
     "metadata": {},
     "output_type": "execute_result"
    }
   ],
   "source": [
    "dom.select_one('a')"
   ]
  },
  {
   "cell_type": "code",
   "execution_count": 120,
   "metadata": {},
   "outputs": [
    {
     "data": {
      "text/plain": [
       "<div id=\"result\">\n",
       "<p class=\"row\">\n",
       "<a class=\"red\">Go to page1</a>\n",
       "<a class=\"blue\">Go to page2</a>\n",
       "<a class=\"green\">Go to page3</a>\n",
       "<a class=\"black\">Go to page4</a>\n",
       "<b class=\"yellow\">Go to page5\n",
       "                <c class=\"gray\">Go to page6\n",
       "                <d class=\"red\">Go to page7\n",
       "            </d></c></b></p>\n",
       "</div>"
      ]
     },
     "execution_count": 120,
     "metadata": {},
     "output_type": "execute_result"
    }
   ],
   "source": [
    "dom.select_one('#result') # #은 id를 뜻함"
   ]
  },
  {
   "cell_type": "code",
   "execution_count": 121,
   "metadata": {},
   "outputs": [
    {
     "data": {
      "text/plain": [
       "<a class=\"red\">Go to page1</a>"
      ]
     },
     "execution_count": 121,
     "metadata": {},
     "output_type": "execute_result"
    }
   ],
   "source": [
    "dom.select_one('.red') # .은 class를 뜻함"
   ]
  },
  {
   "cell_type": "code",
   "execution_count": 122,
   "metadata": {},
   "outputs": [
    {
     "data": {
      "text/plain": [
       "[]"
      ]
     },
     "execution_count": 122,
     "metadata": {},
     "output_type": "execute_result"
    }
   ],
   "source": [
    "dom.select('#gray')"
   ]
  },
  {
   "cell_type": "code",
   "execution_count": 157,
   "metadata": {},
   "outputs": [],
   "source": [
    "url = 'https://media.daum.net/issue/5008621'\n",
    "html = requests.get(url)\n",
    "html_text = html.text"
   ]
  },
  {
   "cell_type": "code",
   "execution_count": 158,
   "metadata": {},
   "outputs": [],
   "source": [
    "dom = BeautifulSoup(html_text, 'lxml')"
   ]
  },
  {
   "cell_type": "code",
   "execution_count": 159,
   "metadata": {},
   "outputs": [],
   "source": [
    "news_list = dom.select('div.cont_thumb > strong.tit_thumb > a.link_txt')"
   ]
  },
  {
   "cell_type": "code",
   "execution_count": 160,
   "metadata": {},
   "outputs": [
    {
     "name": "stdout",
     "output_type": "stream",
     "text": [
      "<a class=\"link_txt\" href=\"http://v.media.daum.net/v/20200222154614379\">속초서 군간부 아내·상근예비역 코로나19 확진..부대 '발칵'</a>\n"
     ]
    }
   ],
   "source": [
    "print(news_list[0])"
   ]
  },
  {
   "cell_type": "code",
   "execution_count": 164,
   "metadata": {},
   "outputs": [
    {
     "name": "stdout",
     "output_type": "stream",
     "text": [
      "속초서 군간부 아내·상근예비역 코로나19 확진..부대 '발칵'\n",
      "청도대남병원 사망자 2명, 직접 사인은 코로나19\n",
      "서초구서 코로나19 확진자 추가..\"대구 출장 다녀온 30대\"\n",
      "코로나19 확진 청주여성 지역 식당·마트 들러..증평 긴장 고...\n",
      "이스라엘 성지순례단 9명도 코로나19 확진..감염경로 오리무중\n",
      "코로나19 덮친 대구 경제 직격탄..\"앞이 안 보인다\"\n",
      "강원 동부전선 육군 코로나19 비상..장병 1명 등 확진\n",
      "은평성모병원 확진자 1명 추가..접촉자 자가격리\n",
      "통합당 \"문대통령, 어느 나라 대통령?\"..'코로나19 대응'...\n",
      "전주 방화범 코로나 증세로 일선경찰서 '긴장'..음성' 결과에...\n"
     ]
    }
   ],
   "source": [
    "news_title = []\n",
    "for row in news_list:\n",
    "    print(row.text)\n",
    "    news_title.append(row.text)"
   ]
  },
  {
   "cell_type": "code",
   "execution_count": 165,
   "metadata": {},
   "outputs": [
    {
     "data": {
      "text/plain": [
       "[\"속초서 군간부 아내·상근예비역 코로나19 확진..부대 '발칵'\",\n",
       " '청도대남병원 사망자 2명, 직접 사인은 코로나19',\n",
       " '서초구서 코로나19 확진자 추가..\"대구 출장 다녀온 30대\"',\n",
       " '코로나19 확진 청주여성 지역 식당·마트 들러..증평 긴장 고...',\n",
       " '이스라엘 성지순례단 9명도 코로나19 확진..감염경로 오리무중',\n",
       " '코로나19 덮친 대구 경제 직격탄..\"앞이 안 보인다\"',\n",
       " '강원 동부전선 육군 코로나19 비상..장병 1명 등 확진',\n",
       " '은평성모병원 확진자 1명 추가..접촉자 자가격리',\n",
       " '통합당 \"문대통령, 어느 나라 대통령?\"..\\'코로나19 대응\\'...',\n",
       " \"전주 방화범 코로나 증세로 일선경찰서 '긴장'..음성' 결과에...\"]"
      ]
     },
     "execution_count": 165,
     "metadata": {},
     "output_type": "execute_result"
    }
   ],
   "source": [
    "news_title"
   ]
  },
  {
   "cell_type": "code",
   "execution_count": 167,
   "metadata": {},
   "outputs": [],
   "source": [
    "with open('/home/ai23/workspace/news_list.txt', 'w') as f:\n",
    "    for text in news_title:\n",
    "        f.write(text + '/n')"
   ]
  },
  {
   "cell_type": "markdown",
   "metadata": {},
   "source": [
    "## Selenium - Webdriver 사용"
   ]
  },
  {
   "cell_type": "code",
   "execution_count": 168,
   "metadata": {},
   "outputs": [],
   "source": [
    "path = '/home/ai23/anaconda3/chromedriver'"
   ]
  },
  {
   "cell_type": "code",
   "execution_count": 190,
   "metadata": {},
   "outputs": [],
   "source": [
    "driver = webdriver.Chrome(path)"
   ]
  },
  {
   "cell_type": "code",
   "execution_count": 191,
   "metadata": {},
   "outputs": [],
   "source": [
    "url = 'http://example.webscraping.com/places/default/search'\n",
    "driver.get(url)"
   ]
  },
  {
   "cell_type": "code",
   "execution_count": 192,
   "metadata": {},
   "outputs": [],
   "source": [
    "driver.find_element_by_id('search_term').clear()\n",
    "driver.find_element_by_id('search_term').send_keys('korea')\n",
    "driver.find_element_by_id('search').click()"
   ]
  },
  {
   "cell_type": "code",
   "execution_count": 193,
   "metadata": {},
   "outputs": [],
   "source": [
    "results = driver.find_element_by_id('results')\n",
    "for tag in results.find_elements_by_tag_name('a'):\n",
    "    print(tag.text)\n",
    "    print(tag.get_attribute('href'))"
   ]
  },
  {
   "cell_type": "code",
   "execution_count": 194,
   "metadata": {},
   "outputs": [],
   "source": [
    "driver.get('https://www.google.co.kr')\n",
    "search = driver.find_element_by_name(\"q\")\n",
    "search.send_keys(\"파이썬\") # 키보드로 입력하는 역할\n",
    "search.submit() # q에 해당하는 곳에 엔터치는 효과를 냄"
   ]
  },
  {
   "cell_type": "code",
   "execution_count": 195,
   "metadata": {},
   "outputs": [
    {
     "ename": "NameError",
     "evalue": "name 'Keys' is not defined",
     "output_type": "error",
     "traceback": [
      "\u001b[0;31m---------------------------------------------------------------------------\u001b[0m",
      "\u001b[0;31mNameError\u001b[0m                                 Traceback (most recent call last)",
      "\u001b[0;32m<ipython-input-195-34c8de4521f6>\u001b[0m in \u001b[0;36m<module>\u001b[0;34m\u001b[0m\n\u001b[1;32m      8\u001b[0m \u001b[0melement\u001b[0m \u001b[0;34m=\u001b[0m \u001b[0mdriver\u001b[0m\u001b[0;34m.\u001b[0m\u001b[0mfind_element_by_id\u001b[0m\u001b[0;34m(\u001b[0m\u001b[0;34m'pass'\u001b[0m\u001b[0;34m)\u001b[0m\u001b[0;34m\u001b[0m\u001b[0;34m\u001b[0m\u001b[0m\n\u001b[1;32m      9\u001b[0m \u001b[0melement\u001b[0m\u001b[0;34m.\u001b[0m\u001b[0msend_keys\u001b[0m\u001b[0;34m(\u001b[0m\u001b[0mpwd\u001b[0m\u001b[0;34m)\u001b[0m\u001b[0;34m\u001b[0m\u001b[0;34m\u001b[0m\u001b[0m\n\u001b[0;32m---> 10\u001b[0;31m \u001b[0melement\u001b[0m\u001b[0;34m.\u001b[0m\u001b[0msend_keys\u001b[0m\u001b[0;34m(\u001b[0m\u001b[0mKeys\u001b[0m\u001b[0;34m.\u001b[0m\u001b[0mRETURN\u001b[0m\u001b[0;34m)\u001b[0m\u001b[0;34m\u001b[0m\u001b[0;34m\u001b[0m\u001b[0m\n\u001b[0m",
      "\u001b[0;31mNameError\u001b[0m: name 'Keys' is not defined"
     ]
    }
   ],
   "source": [
    "user = \"facebook id\"\n",
    "pwd = \"facebook pw\"\n",
    "\n",
    "driver.get('https://www.facebook.com')\n",
    "\n",
    "element = driver.find_element_by_id('email')\n",
    "element.send_keys(user)\n",
    "element = driver.find_element_by_id('pass')\n",
    "element.send_keys(pwd)\n",
    "element.send_keys(Keys.RETURN)"
   ]
  },
  {
   "cell_type": "code",
   "execution_count": null,
   "metadata": {},
   "outputs": [],
   "source": []
  }
 ],
 "metadata": {
  "kernelspec": {
   "display_name": "Python 3",
   "language": "python",
   "name": "python3"
  },
  "language_info": {
   "codemirror_mode": {
    "name": "ipython",
    "version": 3
   },
   "file_extension": ".py",
   "mimetype": "text/x-python",
   "name": "python",
   "nbconvert_exporter": "python",
   "pygments_lexer": "ipython3",
   "version": "3.7.6"
  }
 },
 "nbformat": 4,
 "nbformat_minor": 4
}
