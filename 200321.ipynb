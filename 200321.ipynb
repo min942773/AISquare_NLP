{
 "cells": [
  {
   "cell_type": "markdown",
   "metadata": {},
   "source": [
    "1. Review\n",
    "2. topic\n",
    "\n",
    "    2.1 머신러닝\n",
    "    \n",
    "3. Q & A\n",
    "4. next\n",
    "5. close"
   ]
  },
  {
   "cell_type": "markdown",
   "metadata": {},
   "source": [
    "# 1. Review"
   ]
  },
  {
   "cell_type": "markdown",
   "metadata": {},
   "source": [
    "## 영화 Review 이용 카운트 기반 단어 표현 : BoW, DTM, TF-IDF"
   ]
  },
  {
   "cell_type": "code",
   "execution_count": 1,
   "metadata": {},
   "outputs": [],
   "source": [
    "import pandas as pd"
   ]
  },
  {
   "cell_type": "markdown",
   "metadata": {},
   "source": [
    "### 영화 Review data Load 및 review 내용 list로 변환"
   ]
  },
  {
   "cell_type": "code",
   "execution_count": 3,
   "metadata": {},
   "outputs": [],
   "source": [
    "movie_df = pd.read_csv('movie_reviews.csv')"
   ]
  },
  {
   "cell_type": "code",
   "execution_count": 4,
   "metadata": {},
   "outputs": [
    {
     "data": {
      "text/plain": [
       "(384, 4)"
      ]
     },
     "execution_count": 4,
     "metadata": {},
     "output_type": "execute_result"
    }
   ],
   "source": [
    "movie_df.shape"
   ]
  },
  {
   "cell_type": "code",
   "execution_count": 5,
   "metadata": {},
   "outputs": [
    {
     "data": {
      "text/html": [
       "<div>\n",
       "<style scoped>\n",
       "    .dataframe tbody tr th:only-of-type {\n",
       "        vertical-align: middle;\n",
       "    }\n",
       "\n",
       "    .dataframe tbody tr th {\n",
       "        vertical-align: top;\n",
       "    }\n",
       "\n",
       "    .dataframe thead th {\n",
       "        text-align: right;\n",
       "    }\n",
       "</style>\n",
       "<table border=\"1\" class=\"dataframe\">\n",
       "  <thead>\n",
       "    <tr style=\"text-align: right;\">\n",
       "      <th></th>\n",
       "      <th>Unnamed: 0</th>\n",
       "      <th>title</th>\n",
       "      <th>story</th>\n",
       "      <th>genre</th>\n",
       "    </tr>\n",
       "  </thead>\n",
       "  <tbody>\n",
       "    <tr>\n",
       "      <th>0</th>\n",
       "      <td>0</td>\n",
       "      <td>그린 북</td>\n",
       "      <td>1962년 미국 입담과 주먹만 믿고 살아가던 토니 발레롱가비고 모텐슨는 교양과 우아...</td>\n",
       "      <td>드라마</td>\n",
       "    </tr>\n",
       "    <tr>\n",
       "      <th>1</th>\n",
       "      <td>1</td>\n",
       "      <td>가버나움</td>\n",
       "      <td>나를 세상에 태어나게 한 부모님을 고소하고 싶어요출생기록조차 없이 살아온 어쩌면 1...</td>\n",
       "      <td>드라마</td>\n",
       "    </tr>\n",
       "    <tr>\n",
       "      <th>2</th>\n",
       "      <td>2</td>\n",
       "      <td>베일리 어게인</td>\n",
       "      <td>귀여운 소년 이든의 단짝 반려견 베일리는 행복한 생을 마감한다하지만 눈을 떠보니 다...</td>\n",
       "      <td>모험</td>\n",
       "    </tr>\n",
       "    <tr>\n",
       "      <th>3</th>\n",
       "      <td>3</td>\n",
       "      <td>주전장</td>\n",
       "      <td>일본의 인종차별 문제를 다룬 영상을 올린 후 우익들의 공격 대상이 된 일본계 미국인...</td>\n",
       "      <td>다큐멘터리</td>\n",
       "    </tr>\n",
       "    <tr>\n",
       "      <th>4</th>\n",
       "      <td>4</td>\n",
       "      <td>포드 V 페라리</td>\n",
       "      <td>1960년대 매출 감소에 빠진 포드는 판매 활로를 찾기 위해스포츠카 레이스를 장악한...</td>\n",
       "      <td>액션</td>\n",
       "    </tr>\n",
       "  </tbody>\n",
       "</table>\n",
       "</div>"
      ],
      "text/plain": [
       "   Unnamed: 0     title                                              story  \\\n",
       "0           0      그린 북  1962년 미국 입담과 주먹만 믿고 살아가던 토니 발레롱가비고 모텐슨는 교양과 우아...   \n",
       "1           1      가버나움  나를 세상에 태어나게 한 부모님을 고소하고 싶어요출생기록조차 없이 살아온 어쩌면 1...   \n",
       "2           2   베일리 어게인  귀여운 소년 이든의 단짝 반려견 베일리는 행복한 생을 마감한다하지만 눈을 떠보니 다...   \n",
       "3           3       주전장  일본의 인종차별 문제를 다룬 영상을 올린 후 우익들의 공격 대상이 된 일본계 미국인...   \n",
       "4           4  포드 V 페라리  1960년대 매출 감소에 빠진 포드는 판매 활로를 찾기 위해스포츠카 레이스를 장악한...   \n",
       "\n",
       "   genre  \n",
       "0    드라마  \n",
       "1    드라마  \n",
       "2     모험  \n",
       "3  다큐멘터리  \n",
       "4     액션  "
      ]
     },
     "execution_count": 5,
     "metadata": {},
     "output_type": "execute_result"
    }
   ],
   "source": [
    "movie_df.head()"
   ]
  },
  {
   "cell_type": "code",
   "execution_count": 6,
   "metadata": {},
   "outputs": [
    {
     "data": {
      "text/html": [
       "<div>\n",
       "<style scoped>\n",
       "    .dataframe tbody tr th:only-of-type {\n",
       "        vertical-align: middle;\n",
       "    }\n",
       "\n",
       "    .dataframe tbody tr th {\n",
       "        vertical-align: top;\n",
       "    }\n",
       "\n",
       "    .dataframe thead th {\n",
       "        text-align: right;\n",
       "    }\n",
       "</style>\n",
       "<table border=\"1\" class=\"dataframe\">\n",
       "  <thead>\n",
       "    <tr style=\"text-align: right;\">\n",
       "      <th></th>\n",
       "      <th>title</th>\n",
       "      <th>story</th>\n",
       "      <th>genre</th>\n",
       "    </tr>\n",
       "  </thead>\n",
       "  <tbody>\n",
       "    <tr>\n",
       "      <th>0</th>\n",
       "      <td>그린 북</td>\n",
       "      <td>1962년 미국 입담과 주먹만 믿고 살아가던 토니 발레롱가비고 모텐슨는 교양과 우아...</td>\n",
       "      <td>드라마</td>\n",
       "    </tr>\n",
       "    <tr>\n",
       "      <th>1</th>\n",
       "      <td>가버나움</td>\n",
       "      <td>나를 세상에 태어나게 한 부모님을 고소하고 싶어요출생기록조차 없이 살아온 어쩌면 1...</td>\n",
       "      <td>드라마</td>\n",
       "    </tr>\n",
       "    <tr>\n",
       "      <th>2</th>\n",
       "      <td>베일리 어게인</td>\n",
       "      <td>귀여운 소년 이든의 단짝 반려견 베일리는 행복한 생을 마감한다하지만 눈을 떠보니 다...</td>\n",
       "      <td>모험</td>\n",
       "    </tr>\n",
       "    <tr>\n",
       "      <th>3</th>\n",
       "      <td>주전장</td>\n",
       "      <td>일본의 인종차별 문제를 다룬 영상을 올린 후 우익들의 공격 대상이 된 일본계 미국인...</td>\n",
       "      <td>다큐멘터리</td>\n",
       "    </tr>\n",
       "    <tr>\n",
       "      <th>4</th>\n",
       "      <td>포드 V 페라리</td>\n",
       "      <td>1960년대 매출 감소에 빠진 포드는 판매 활로를 찾기 위해스포츠카 레이스를 장악한...</td>\n",
       "      <td>액션</td>\n",
       "    </tr>\n",
       "    <tr>\n",
       "      <th>...</th>\n",
       "      <td>...</td>\n",
       "      <td>...</td>\n",
       "      <td>...</td>\n",
       "    </tr>\n",
       "    <tr>\n",
       "      <th>379</th>\n",
       "      <td>바그다드 카페 : 디렉터스컷</td>\n",
       "      <td>황량한 사막 한가운데 자리 잡은 초라한 바그다드 카페 커피머신은 고장난지 오래고 먼...</td>\n",
       "      <td>코미디</td>\n",
       "    </tr>\n",
       "    <tr>\n",
       "      <th>380</th>\n",
       "      <td>론 서바이버</td>\n",
       "      <td>2005년 6월 28일 아프가니스탄에서 복무중인 네이비씰 대원 마커스 마이클 대니 ...</td>\n",
       "      <td>액션</td>\n",
       "    </tr>\n",
       "    <tr>\n",
       "      <th>381</th>\n",
       "      <td>국제시장</td>\n",
       "      <td>1950년대 한국전쟁 이후로부터 현재에 이르기까지 격변의 시대를 관통하며 살아온 우...</td>\n",
       "      <td>드라마</td>\n",
       "    </tr>\n",
       "    <tr>\n",
       "      <th>382</th>\n",
       "      <td>말레나</td>\n",
       "      <td>2차 대전이 한창인 햇빛 찬란한 지중해의 작은 마을 매혹적인 말레나 걸어갈 때면 어...</td>\n",
       "      <td>드라마</td>\n",
       "    </tr>\n",
       "    <tr>\n",
       "      <th>383</th>\n",
       "      <td>콜드 마운틴</td>\n",
       "      <td>남군 병사인 인만주드 로은 전투 중에 중상을 입고 병원에 입원해있던 도중에 탈영을 ...</td>\n",
       "      <td>드라마</td>\n",
       "    </tr>\n",
       "  </tbody>\n",
       "</table>\n",
       "<p>384 rows × 3 columns</p>\n",
       "</div>"
      ],
      "text/plain": [
       "               title                                              story  genre\n",
       "0               그린 북  1962년 미국 입담과 주먹만 믿고 살아가던 토니 발레롱가비고 모텐슨는 교양과 우아...    드라마\n",
       "1               가버나움  나를 세상에 태어나게 한 부모님을 고소하고 싶어요출생기록조차 없이 살아온 어쩌면 1...    드라마\n",
       "2            베일리 어게인  귀여운 소년 이든의 단짝 반려견 베일리는 행복한 생을 마감한다하지만 눈을 떠보니 다...     모험\n",
       "3                주전장  일본의 인종차별 문제를 다룬 영상을 올린 후 우익들의 공격 대상이 된 일본계 미국인...  다큐멘터리\n",
       "4           포드 V 페라리  1960년대 매출 감소에 빠진 포드는 판매 활로를 찾기 위해스포츠카 레이스를 장악한...     액션\n",
       "..               ...                                                ...    ...\n",
       "379  바그다드 카페 : 디렉터스컷  황량한 사막 한가운데 자리 잡은 초라한 바그다드 카페 커피머신은 고장난지 오래고 먼...    코미디\n",
       "380           론 서바이버  2005년 6월 28일 아프가니스탄에서 복무중인 네이비씰 대원 마커스 마이클 대니 ...     액션\n",
       "381             국제시장  1950년대 한국전쟁 이후로부터 현재에 이르기까지 격변의 시대를 관통하며 살아온 우...    드라마\n",
       "382              말레나  2차 대전이 한창인 햇빛 찬란한 지중해의 작은 마을 매혹적인 말레나 걸어갈 때면 어...    드라마\n",
       "383           콜드 마운틴  남군 병사인 인만주드 로은 전투 중에 중상을 입고 병원에 입원해있던 도중에 탈영을 ...    드라마\n",
       "\n",
       "[384 rows x 3 columns]"
      ]
     },
     "execution_count": 6,
     "metadata": {},
     "output_type": "execute_result"
    }
   ],
   "source": [
    "movie_df.drop(movie_df.columns[[0]], axis='columns')"
   ]
  },
  {
   "cell_type": "code",
   "execution_count": 7,
   "metadata": {},
   "outputs": [],
   "source": [
    "movie_storys = movie_df.story"
   ]
  },
  {
   "cell_type": "code",
   "execution_count": 8,
   "metadata": {},
   "outputs": [],
   "source": [
    "movie_reviews = movie_storys.values.tolist()"
   ]
  },
  {
   "cell_type": "code",
   "execution_count": 9,
   "metadata": {},
   "outputs": [
    {
     "data": {
      "text/plain": [
       "['1962년 미국 입담과 주먹만 믿고 살아가던 토니 발레롱가비고 모텐슨는 교양과 우아함 그 자체인천재 피아니스트 돈 셜리마허샬라 알리 박사의 운전기사 면접을 보게 된다백악관에도 초청되는 등 미국 전역에서 콘서트 요청을 받으며 명성을 떨치고 있는 돈 셜리는위험하기로 소문난 미국 남부 투어 공연을 떠나기로 결심하고투어 기간 동안 자신의 보디가드 겸 운전기사로 토니를 고용한다거친 인생을 살아온 토니 발레롱가와 교양과 기품을 지키며 살아온 돈 셜리 박사생각 행동 말투 취향까지 달라도 너무 다른 두 사람은그들을 위한 여행안내서 그린북에 의존해 특별한 남부 투어를 시작하는데',\n",
       " '나를 세상에 태어나게 한 부모님을 고소하고 싶어요출생기록조차 없이 살아온 어쩌면 12살 소년 자인으로부터',\n",
       " '귀여운 소년 이든의 단짝 반려견 베일리는 행복한 생을 마감한다하지만 눈을 떠보니 다시 시작된 견생 2회차 아니 3회차1등 경찰견 엘리에서 찰떡같이 마음을 알아주는 소울메이트 티노까지다시 태어날 때마다 성별과 생김새 직업에 이름도 바뀌지만여전히 영혼만은 사랑 충만 애교 충만 주인바라기 베일리어느덧 견생 4회차 방랑견이 되어 떠돌던 베일리는마침내 자신이 돌아온 진짜 이유를 깨닫고 어딘가로 달려가기 시작하는데',\n",
       " '일본의 인종차별 문제를 다룬 영상을 올린 후 우익들의 공격 대상이 된 일본계 미국인 유튜버 미키 데자키 그는 일본군위안부에 관한 기사를 쓴 기자가 우익들에게 인신공격 당하는 것을 보며 왜 그토록 이들이 이 문제를 감추려고 하는지 궁금해졌다호기심을 안고 찾아간 그들은 무시무시한 이야기를 전하고 그들의 주장을 반격하는 또 다른 인물들을 만나면서 숨겨진 비밀을 발견하게 되는데 숨 쉴 틈 없는 전쟁이 시작된다',\n",
       " '1960년대 매출 감소에 빠진 포드는 판매 활로를 찾기 위해스포츠카 레이스를 장악한 절대적 1위 페라리와의 인수 합병을 추진한다막대한 자금력에도 불구 계약에 실패하고 엔초 페라리로부터 모욕까지 당한 헨리 포드 2세는르망 24시간 레이스에서 페라리를 박살 낼 차를 만들 것을 지시한다 불가능을 즐기는 두 남자를 주목하라세계 3대 자동차 레이싱 대회이자 지옥의 레이스로 불리는 르망 24시간 레이스출전 경험조차 없는 포드는 대회 6연패를 차지한 페라리에 대항하기 위해르망 레이스 우승자 출신 자동차 디자이너 캐롤 셸비맷 데이먼를 고용하고 그는 누구와도 타협하지 않지만 열정과 실력만큼은 최고인 레이서 켄 마일스크리스찬 베일를 자신의 파트너로 영입한다포드의 경영진은 제 멋대로인 켄 마일스를 눈엣가시처럼 여기며자신들의 입맛에 맞춘 레이스를 펼치기를 강요하지만두 사람은 어떤 간섭에도 굴하지 않고 불가능을 뛰어넘기 위한 질주를 시작하는데그 어떤 각본보다 놀라운 실화가 펼쳐진다']"
      ]
     },
     "execution_count": 9,
     "metadata": {},
     "output_type": "execute_result"
    }
   ],
   "source": [
    "movie_reviews[:5]"
   ]
  },
  {
   "cell_type": "markdown",
   "metadata": {},
   "source": [
    "### 카운트 기반 단어 표현(Count based word representation)"
   ]
  },
  {
   "cell_type": "markdown",
   "metadata": {},
   "source": [
    "### BoW -> python 기본 문법으로 표현"
   ]
  },
  {
   "cell_type": "code",
   "execution_count": 10,
   "metadata": {},
   "outputs": [],
   "source": [
    "from konlpy.tag import Okt"
   ]
  },
  {
   "cell_type": "code",
   "execution_count": 11,
   "metadata": {},
   "outputs": [],
   "source": [
    "okt = Okt()"
   ]
  },
  {
   "cell_type": "code",
   "execution_count": 13,
   "metadata": {},
   "outputs": [
    {
     "data": {
      "text/plain": [
       "['나를',\n",
       " '세상',\n",
       " '에',\n",
       " '태어나게',\n",
       " '한',\n",
       " '부모님',\n",
       " '을',\n",
       " '고소하고',\n",
       " '싶어요',\n",
       " '출생',\n",
       " '기록',\n",
       " '조차',\n",
       " '없이',\n",
       " '살아온',\n",
       " '어쩌면',\n",
       " '12',\n",
       " '살',\n",
       " '소년',\n",
       " '자인',\n",
       " '으로부터']"
      ]
     },
     "execution_count": 13,
     "metadata": {},
     "output_type": "execute_result"
    }
   ],
   "source": [
    "movie_review_tokens = []\n",
    "\n",
    "for review in movie_reviews:\n",
    "    movie_review_tokens.append(okt.morphs(review))\n",
    "    \n",
    "movie_review_tokens[1]"
   ]
  },
  {
   "cell_type": "code",
   "execution_count": 14,
   "metadata": {},
   "outputs": [
    {
     "data": {
      "text/plain": [
       "['세상', '부모님', '출생', '기록', '어쩌면', '살', '소년', '자인']"
      ]
     },
     "execution_count": 14,
     "metadata": {},
     "output_type": "execute_result"
    }
   ],
   "source": [
    "movie_review_nouns = []\n",
    "\n",
    "for review in movie_reviews:\n",
    "    movie_review_nouns.append(okt.nouns(review))\n",
    "    \n",
    "movie_review_nouns[1]"
   ]
  },
  {
   "cell_type": "code",
   "execution_count": 17,
   "metadata": {},
   "outputs": [],
   "source": [
    "# 1) 각 단어에 대한 고유한 정수 인덱스 부여\n",
    "word2indexes = []\n",
    "bows = []\n",
    "\n",
    "for review_token in movie_review_tokens:\n",
    "    word2index = {}\n",
    "    bow = []\n",
    "    for voca in review_token:\n",
    "        if voca not in word2index.keys():\n",
    "            word2index[voca] = len(word2index)\n",
    "            bow.insert(len(word2index)-1, 1)\n",
    "        else:\n",
    "            index = word2index.get(voca)\n",
    "            bow[index] = bow[index] + 1\n",
    "            \n",
    "    word2indexes.append(word2index)\n",
    "    bows.append(bow)"
   ]
  },
  {
   "cell_type": "code",
   "execution_count": 18,
   "metadata": {},
   "outputs": [
    {
     "data": {
      "text/plain": [
       "{'나를': 0,\n",
       " '세상': 1,\n",
       " '에': 2,\n",
       " '태어나게': 3,\n",
       " '한': 4,\n",
       " '부모님': 5,\n",
       " '을': 6,\n",
       " '고소하고': 7,\n",
       " '싶어요': 8,\n",
       " '출생': 9,\n",
       " '기록': 10,\n",
       " '조차': 11,\n",
       " '없이': 12,\n",
       " '살아온': 13,\n",
       " '어쩌면': 14,\n",
       " '12': 15,\n",
       " '살': 16,\n",
       " '소년': 17,\n",
       " '자인': 18,\n",
       " '으로부터': 19}"
      ]
     },
     "execution_count": 18,
     "metadata": {},
     "output_type": "execute_result"
    }
   ],
   "source": [
    "word2indexes[1]"
   ]
  },
  {
   "cell_type": "code",
   "execution_count": 19,
   "metadata": {},
   "outputs": [
    {
     "data": {
      "text/plain": [
       "[1, 1, 1, 1, 1, 1, 1, 1, 1, 1, 1, 1, 1, 1, 1, 1, 1, 1, 1, 1]"
      ]
     },
     "execution_count": 19,
     "metadata": {},
     "output_type": "execute_result"
    }
   ],
   "source": [
    "bows[1]"
   ]
  },
  {
   "cell_type": "code",
   "execution_count": 20,
   "metadata": {},
   "outputs": [],
   "source": [
    "# 2) 각 단어(명사)에 대한 고유한 정수 인덱스 부여\n",
    "word2indexes_n = []\n",
    "bows_n = []\n",
    "\n",
    "for review_token in movie_review_nouns:\n",
    "    word2index = {}\n",
    "    bow = []\n",
    "    for voca in review_token:\n",
    "        if voca not in word2index.keys():\n",
    "            word2index[voca] = len(word2index)\n",
    "            bow.insert(len(word2index)-1, 1)\n",
    "        else:\n",
    "            index = word2index.get(voca)\n",
    "            bow[index] = bow[index] + 1\n",
    "            \n",
    "    word2indexes_n.append(word2index)\n",
    "    bows_n.append(bow)"
   ]
  },
  {
   "cell_type": "code",
   "execution_count": 23,
   "metadata": {},
   "outputs": [
    {
     "data": {
      "text/plain": [
       "{'미국': 0,\n",
       " '입담': 1,\n",
       " '주먹': 2,\n",
       " '토니': 3,\n",
       " '발레': 4,\n",
       " '롱': 5,\n",
       " '비고': 6,\n",
       " '모텐슨는': 7,\n",
       " '교양': 8,\n",
       " '그': 9,\n",
       " '자체': 10,\n",
       " '천재': 11,\n",
       " '피아니스트': 12,\n",
       " '돈': 13,\n",
       " '셜리마허샬': 14,\n",
       " '알리': 15,\n",
       " '박사': 16,\n",
       " '운전기사': 17,\n",
       " '면접': 18,\n",
       " '백악관': 19,\n",
       " '초청': 20,\n",
       " '등': 21,\n",
       " '전역': 22,\n",
       " '콘서트': 23,\n",
       " '요청': 24,\n",
       " '명성': 25,\n",
       " '셜리': 26,\n",
       " '남부': 27,\n",
       " '투어': 28,\n",
       " '공연': 29,\n",
       " '결심': 30,\n",
       " '기간': 31,\n",
       " '동안': 32,\n",
       " '자신': 33,\n",
       " '보디가드': 34,\n",
       " '겸': 35,\n",
       " '고용': 36,\n",
       " '인생': 37,\n",
       " '기품': 38,\n",
       " '생각': 39,\n",
       " '행동': 40,\n",
       " '말투': 41,\n",
       " '취향': 42,\n",
       " '달라': 43,\n",
       " '다른': 44,\n",
       " '두': 45,\n",
       " '사람': 46,\n",
       " '위': 47,\n",
       " '여행안내서': 48,\n",
       " '그린북': 49,\n",
       " '의존': 50,\n",
       " '시작': 51}"
      ]
     },
     "execution_count": 23,
     "metadata": {},
     "output_type": "execute_result"
    }
   ],
   "source": [
    "word2indexes_n[0]"
   ]
  },
  {
   "cell_type": "code",
   "execution_count": 24,
   "metadata": {},
   "outputs": [
    {
     "data": {
      "text/plain": [
       "[3,\n",
       " 1,\n",
       " 1,\n",
       " 3,\n",
       " 2,\n",
       " 2,\n",
       " 1,\n",
       " 1,\n",
       " 2,\n",
       " 2,\n",
       " 1,\n",
       " 1,\n",
       " 1,\n",
       " 3,\n",
       " 1,\n",
       " 1,\n",
       " 2,\n",
       " 2,\n",
       " 1,\n",
       " 1,\n",
       " 1,\n",
       " 1,\n",
       " 1,\n",
       " 1,\n",
       " 1,\n",
       " 1,\n",
       " 2,\n",
       " 2,\n",
       " 3,\n",
       " 1,\n",
       " 1,\n",
       " 1,\n",
       " 1,\n",
       " 1,\n",
       " 1,\n",
       " 1,\n",
       " 1,\n",
       " 1,\n",
       " 1,\n",
       " 1,\n",
       " 1,\n",
       " 1,\n",
       " 1,\n",
       " 1,\n",
       " 1,\n",
       " 1,\n",
       " 1,\n",
       " 1,\n",
       " 1,\n",
       " 1,\n",
       " 1,\n",
       " 1]"
      ]
     },
     "execution_count": 24,
     "metadata": {},
     "output_type": "execute_result"
    }
   ],
   "source": [
    "bows_n[0]"
   ]
  },
  {
   "cell_type": "markdown",
   "metadata": {},
   "source": [
    "### BoW -> Scikit learn에 CountVectorizer 표현"
   ]
  },
  {
   "cell_type": "code",
   "execution_count": 25,
   "metadata": {},
   "outputs": [],
   "source": [
    "from sklearn.feature_extraction.text import CountVectorizer"
   ]
  },
  {
   "cell_type": "code",
   "execution_count": 27,
   "metadata": {},
   "outputs": [],
   "source": [
    "vector = CountVectorizer()"
   ]
  },
  {
   "cell_type": "code",
   "execution_count": 28,
   "metadata": {},
   "outputs": [],
   "source": [
    "s_word2indexes = []\n",
    "s_bows = []\n",
    "\n",
    "for review_token in movie_review_tokens:\n",
    "    s_bows.append(vector.fit_transform(review_token))\n",
    "    s_word2indexes.append(vector.vocabulary_)"
   ]
  },
  {
   "cell_type": "code",
   "execution_count": 31,
   "metadata": {},
   "outputs": [
    {
     "data": {
      "text/plain": [
       "{'나를': 3,\n",
       " '세상': 6,\n",
       " '태어나게': 15,\n",
       " '부모님': 4,\n",
       " '고소하고': 1,\n",
       " '싶어요': 8,\n",
       " '출생': 14,\n",
       " '기록': 2,\n",
       " '조차': 13,\n",
       " '없이': 10,\n",
       " '살아온': 5,\n",
       " '어쩌면': 9,\n",
       " '12': 0,\n",
       " '소년': 7,\n",
       " '자인': 12,\n",
       " '으로부터': 11}"
      ]
     },
     "execution_count": 31,
     "metadata": {},
     "output_type": "execute_result"
    }
   ],
   "source": [
    "s_word2indexes[1]"
   ]
  },
  {
   "cell_type": "code",
   "execution_count": 32,
   "metadata": {},
   "outputs": [
    {
     "name": "stdout",
     "output_type": "stream",
     "text": [
      "  (0, 3)\t1\n",
      "  (1, 6)\t1\n",
      "  (3, 15)\t1\n",
      "  (5, 4)\t1\n",
      "  (7, 1)\t1\n",
      "  (8, 8)\t1\n",
      "  (9, 14)\t1\n",
      "  (10, 2)\t1\n",
      "  (11, 13)\t1\n",
      "  (12, 10)\t1\n",
      "  (13, 5)\t1\n",
      "  (14, 9)\t1\n",
      "  (15, 0)\t1\n",
      "  (17, 7)\t1\n",
      "  (18, 12)\t1\n",
      "  (19, 11)\t1\n"
     ]
    }
   ],
   "source": [
    "print(s_bows[1])"
   ]
  },
  {
   "cell_type": "markdown",
   "metadata": {},
   "source": [
    "### BoW -> 불용어 제거 후 Scikit learn에 CountVectorizer 표현"
   ]
  },
  {
   "cell_type": "code",
   "execution_count": 33,
   "metadata": {},
   "outputs": [],
   "source": [
    "stop_words = []\n",
    "\n",
    "with open('stopwords.txt', 'r', encoding='utf-8') as f:\n",
    "    lines = f.readlines()\n",
    "    for line in lines:\n",
    "        stop_words.append(line.rstrip('\\n'))"
   ]
  },
  {
   "cell_type": "code",
   "execution_count": 34,
   "metadata": {},
   "outputs": [],
   "source": [
    "movie_review_nouns_stop = []\n",
    "for review in movie_review_nouns:\n",
    "    results = []\n",
    "    for word in review:\n",
    "        if word not in stop_words:\n",
    "            results.append(word)\n",
    "    movie_review_nouns_stop.append(results)"
   ]
  },
  {
   "cell_type": "code",
   "execution_count": 35,
   "metadata": {},
   "outputs": [],
   "source": [
    "word2indexes = []\n",
    "bows = []\n",
    "\n",
    "for review_token in movie_review_nouns_stop:\n",
    "    bows.append(vector.fit_transform(review_token))\n",
    "    word2indexes.append(vector.vocabulary_)"
   ]
  },
  {
   "cell_type": "markdown",
   "metadata": {},
   "source": [
    "### 문서 단어 행렬 (Document-Trem Matrix, DTM)"
   ]
  },
  {
   "cell_type": "code",
   "execution_count": 36,
   "metadata": {},
   "outputs": [],
   "source": [
    "from math import log"
   ]
  },
  {
   "cell_type": "code",
   "execution_count": 38,
   "metadata": {},
   "outputs": [],
   "source": [
    "vocab = list(set(w for review in movie_reviews for w in review.split()))\n",
    "vocab.sort()"
   ]
  },
  {
   "cell_type": "code",
   "execution_count": 42,
   "metadata": {},
   "outputs": [],
   "source": [
    "N = len(movie_reviews)\n",
    "\n",
    "def tf(t, d):\n",
    "    return d.count(t)\n",
    "\n",
    "def idf(t):\n",
    "    df = 0\n",
    "    for review in movie_reviews:\n",
    "        df += t in review\n",
    "    return log(N/(df+1))\n",
    "\n",
    "def tfidf(t, d):\n",
    "    return tf(t, d) * idf(t)"
   ]
  },
  {
   "cell_type": "code",
   "execution_count": 40,
   "metadata": {},
   "outputs": [
    {
     "data": {
      "text/html": [
       "<div>\n",
       "<style scoped>\n",
       "    .dataframe tbody tr th:only-of-type {\n",
       "        vertical-align: middle;\n",
       "    }\n",
       "\n",
       "    .dataframe tbody tr th {\n",
       "        vertical-align: top;\n",
       "    }\n",
       "\n",
       "    .dataframe thead th {\n",
       "        text-align: right;\n",
       "    }\n",
       "</style>\n",
       "<table border=\"1\" class=\"dataframe\">\n",
       "  <thead>\n",
       "    <tr style=\"text-align: right;\">\n",
       "      <th></th>\n",
       "      <th>1</th>\n",
       "      <th>100</th>\n",
       "      <th>1000점을</th>\n",
       "      <th>100m도</th>\n",
       "      <th>100년전</th>\n",
       "      <th>100를</th>\n",
       "      <th>100만</th>\n",
       "      <th>100만이</th>\n",
       "      <th>100미터</th>\n",
       "      <th>100번째</th>\n",
       "      <th>...</th>\n",
       "      <th>힘없는</th>\n",
       "      <th>힘없이</th>\n",
       "      <th>힘에</th>\n",
       "      <th>힘으로</th>\n",
       "      <th>힘은</th>\n",
       "      <th>힘을</th>\n",
       "      <th>힘의</th>\n",
       "      <th>힘이</th>\n",
       "      <th>힘입어</th>\n",
       "      <th>힘차게</th>\n",
       "    </tr>\n",
       "  </thead>\n",
       "  <tbody>\n",
       "    <tr>\n",
       "      <th>0</th>\n",
       "      <td>1</td>\n",
       "      <td>0</td>\n",
       "      <td>0</td>\n",
       "      <td>0</td>\n",
       "      <td>0</td>\n",
       "      <td>0</td>\n",
       "      <td>0</td>\n",
       "      <td>0</td>\n",
       "      <td>0</td>\n",
       "      <td>0</td>\n",
       "      <td>...</td>\n",
       "      <td>0</td>\n",
       "      <td>0</td>\n",
       "      <td>0</td>\n",
       "      <td>0</td>\n",
       "      <td>0</td>\n",
       "      <td>0</td>\n",
       "      <td>0</td>\n",
       "      <td>0</td>\n",
       "      <td>0</td>\n",
       "      <td>0</td>\n",
       "    </tr>\n",
       "    <tr>\n",
       "      <th>1</th>\n",
       "      <td>1</td>\n",
       "      <td>0</td>\n",
       "      <td>0</td>\n",
       "      <td>0</td>\n",
       "      <td>0</td>\n",
       "      <td>0</td>\n",
       "      <td>0</td>\n",
       "      <td>0</td>\n",
       "      <td>0</td>\n",
       "      <td>0</td>\n",
       "      <td>...</td>\n",
       "      <td>0</td>\n",
       "      <td>0</td>\n",
       "      <td>0</td>\n",
       "      <td>0</td>\n",
       "      <td>0</td>\n",
       "      <td>0</td>\n",
       "      <td>0</td>\n",
       "      <td>0</td>\n",
       "      <td>0</td>\n",
       "      <td>0</td>\n",
       "    </tr>\n",
       "    <tr>\n",
       "      <th>2</th>\n",
       "      <td>1</td>\n",
       "      <td>0</td>\n",
       "      <td>0</td>\n",
       "      <td>0</td>\n",
       "      <td>0</td>\n",
       "      <td>0</td>\n",
       "      <td>0</td>\n",
       "      <td>0</td>\n",
       "      <td>0</td>\n",
       "      <td>0</td>\n",
       "      <td>...</td>\n",
       "      <td>0</td>\n",
       "      <td>0</td>\n",
       "      <td>0</td>\n",
       "      <td>0</td>\n",
       "      <td>0</td>\n",
       "      <td>0</td>\n",
       "      <td>0</td>\n",
       "      <td>0</td>\n",
       "      <td>0</td>\n",
       "      <td>0</td>\n",
       "    </tr>\n",
       "    <tr>\n",
       "      <th>3</th>\n",
       "      <td>0</td>\n",
       "      <td>0</td>\n",
       "      <td>0</td>\n",
       "      <td>0</td>\n",
       "      <td>0</td>\n",
       "      <td>0</td>\n",
       "      <td>0</td>\n",
       "      <td>0</td>\n",
       "      <td>0</td>\n",
       "      <td>0</td>\n",
       "      <td>...</td>\n",
       "      <td>0</td>\n",
       "      <td>0</td>\n",
       "      <td>0</td>\n",
       "      <td>0</td>\n",
       "      <td>0</td>\n",
       "      <td>0</td>\n",
       "      <td>0</td>\n",
       "      <td>0</td>\n",
       "      <td>0</td>\n",
       "      <td>0</td>\n",
       "    </tr>\n",
       "    <tr>\n",
       "      <th>4</th>\n",
       "      <td>2</td>\n",
       "      <td>0</td>\n",
       "      <td>0</td>\n",
       "      <td>0</td>\n",
       "      <td>0</td>\n",
       "      <td>0</td>\n",
       "      <td>0</td>\n",
       "      <td>0</td>\n",
       "      <td>0</td>\n",
       "      <td>0</td>\n",
       "      <td>...</td>\n",
       "      <td>0</td>\n",
       "      <td>0</td>\n",
       "      <td>0</td>\n",
       "      <td>0</td>\n",
       "      <td>0</td>\n",
       "      <td>0</td>\n",
       "      <td>0</td>\n",
       "      <td>0</td>\n",
       "      <td>0</td>\n",
       "      <td>0</td>\n",
       "    </tr>\n",
       "    <tr>\n",
       "      <th>...</th>\n",
       "      <td>...</td>\n",
       "      <td>...</td>\n",
       "      <td>...</td>\n",
       "      <td>...</td>\n",
       "      <td>...</td>\n",
       "      <td>...</td>\n",
       "      <td>...</td>\n",
       "      <td>...</td>\n",
       "      <td>...</td>\n",
       "      <td>...</td>\n",
       "      <td>...</td>\n",
       "      <td>...</td>\n",
       "      <td>...</td>\n",
       "      <td>...</td>\n",
       "      <td>...</td>\n",
       "      <td>...</td>\n",
       "      <td>...</td>\n",
       "      <td>...</td>\n",
       "      <td>...</td>\n",
       "      <td>...</td>\n",
       "      <td>...</td>\n",
       "    </tr>\n",
       "    <tr>\n",
       "      <th>379</th>\n",
       "      <td>0</td>\n",
       "      <td>0</td>\n",
       "      <td>0</td>\n",
       "      <td>0</td>\n",
       "      <td>0</td>\n",
       "      <td>0</td>\n",
       "      <td>0</td>\n",
       "      <td>0</td>\n",
       "      <td>0</td>\n",
       "      <td>0</td>\n",
       "      <td>...</td>\n",
       "      <td>0</td>\n",
       "      <td>0</td>\n",
       "      <td>0</td>\n",
       "      <td>0</td>\n",
       "      <td>0</td>\n",
       "      <td>0</td>\n",
       "      <td>0</td>\n",
       "      <td>0</td>\n",
       "      <td>0</td>\n",
       "      <td>0</td>\n",
       "    </tr>\n",
       "    <tr>\n",
       "      <th>380</th>\n",
       "      <td>0</td>\n",
       "      <td>0</td>\n",
       "      <td>0</td>\n",
       "      <td>0</td>\n",
       "      <td>0</td>\n",
       "      <td>0</td>\n",
       "      <td>0</td>\n",
       "      <td>0</td>\n",
       "      <td>0</td>\n",
       "      <td>0</td>\n",
       "      <td>...</td>\n",
       "      <td>0</td>\n",
       "      <td>0</td>\n",
       "      <td>0</td>\n",
       "      <td>0</td>\n",
       "      <td>0</td>\n",
       "      <td>0</td>\n",
       "      <td>0</td>\n",
       "      <td>0</td>\n",
       "      <td>0</td>\n",
       "      <td>0</td>\n",
       "    </tr>\n",
       "    <tr>\n",
       "      <th>381</th>\n",
       "      <td>1</td>\n",
       "      <td>0</td>\n",
       "      <td>0</td>\n",
       "      <td>0</td>\n",
       "      <td>0</td>\n",
       "      <td>0</td>\n",
       "      <td>0</td>\n",
       "      <td>0</td>\n",
       "      <td>0</td>\n",
       "      <td>0</td>\n",
       "      <td>...</td>\n",
       "      <td>0</td>\n",
       "      <td>0</td>\n",
       "      <td>0</td>\n",
       "      <td>0</td>\n",
       "      <td>0</td>\n",
       "      <td>0</td>\n",
       "      <td>0</td>\n",
       "      <td>0</td>\n",
       "      <td>0</td>\n",
       "      <td>0</td>\n",
       "    </tr>\n",
       "    <tr>\n",
       "      <th>382</th>\n",
       "      <td>1</td>\n",
       "      <td>0</td>\n",
       "      <td>0</td>\n",
       "      <td>0</td>\n",
       "      <td>0</td>\n",
       "      <td>0</td>\n",
       "      <td>0</td>\n",
       "      <td>0</td>\n",
       "      <td>0</td>\n",
       "      <td>0</td>\n",
       "      <td>...</td>\n",
       "      <td>0</td>\n",
       "      <td>0</td>\n",
       "      <td>0</td>\n",
       "      <td>0</td>\n",
       "      <td>0</td>\n",
       "      <td>0</td>\n",
       "      <td>0</td>\n",
       "      <td>0</td>\n",
       "      <td>0</td>\n",
       "      <td>0</td>\n",
       "    </tr>\n",
       "    <tr>\n",
       "      <th>383</th>\n",
       "      <td>0</td>\n",
       "      <td>0</td>\n",
       "      <td>0</td>\n",
       "      <td>0</td>\n",
       "      <td>0</td>\n",
       "      <td>0</td>\n",
       "      <td>0</td>\n",
       "      <td>0</td>\n",
       "      <td>0</td>\n",
       "      <td>0</td>\n",
       "      <td>...</td>\n",
       "      <td>0</td>\n",
       "      <td>0</td>\n",
       "      <td>0</td>\n",
       "      <td>0</td>\n",
       "      <td>0</td>\n",
       "      <td>0</td>\n",
       "      <td>0</td>\n",
       "      <td>0</td>\n",
       "      <td>0</td>\n",
       "      <td>0</td>\n",
       "    </tr>\n",
       "  </tbody>\n",
       "</table>\n",
       "<p>384 rows × 22441 columns</p>\n",
       "</div>"
      ],
      "text/plain": [
       "     1  100  1000점을  100m도  100년전  100를  100만  100만이  100미터  100번째  ...  힘없는  \\\n",
       "0    1    0       0      0      0     0     0      0      0      0  ...    0   \n",
       "1    1    0       0      0      0     0     0      0      0      0  ...    0   \n",
       "2    1    0       0      0      0     0     0      0      0      0  ...    0   \n",
       "3    0    0       0      0      0     0     0      0      0      0  ...    0   \n",
       "4    2    0       0      0      0     0     0      0      0      0  ...    0   \n",
       "..  ..  ...     ...    ...    ...   ...   ...    ...    ...    ...  ...  ...   \n",
       "379  0    0       0      0      0     0     0      0      0      0  ...    0   \n",
       "380  0    0       0      0      0     0     0      0      0      0  ...    0   \n",
       "381  1    0       0      0      0     0     0      0      0      0  ...    0   \n",
       "382  1    0       0      0      0     0     0      0      0      0  ...    0   \n",
       "383  0    0       0      0      0     0     0      0      0      0  ...    0   \n",
       "\n",
       "     힘없이  힘에  힘으로  힘은  힘을  힘의  힘이  힘입어  힘차게  \n",
       "0      0   0    0   0   0   0   0    0    0  \n",
       "1      0   0    0   0   0   0   0    0    0  \n",
       "2      0   0    0   0   0   0   0    0    0  \n",
       "3      0   0    0   0   0   0   0    0    0  \n",
       "4      0   0    0   0   0   0   0    0    0  \n",
       "..   ...  ..  ...  ..  ..  ..  ..  ...  ...  \n",
       "379    0   0    0   0   0   0   0    0    0  \n",
       "380    0   0    0   0   0   0   0    0    0  \n",
       "381    0   0    0   0   0   0   0    0    0  \n",
       "382    0   0    0   0   0   0   0    0    0  \n",
       "383    0   0    0   0   0   0   0    0    0  \n",
       "\n",
       "[384 rows x 22441 columns]"
      ]
     },
     "execution_count": 40,
     "metadata": {},
     "output_type": "execute_result"
    }
   ],
   "source": [
    "# DTM\n",
    "result = []\n",
    "\n",
    "for i in range(N):\n",
    "    result.append([])\n",
    "    d = movie_reviews[i]\n",
    "    for j in range(len(vocab)):\n",
    "        t = vocab[j]\n",
    "        result[-1].append(tf(t, d))\n",
    "        \n",
    "tf_ = pd.DataFrame(result, columns=vocab)\n",
    "tf_"
   ]
  },
  {
   "cell_type": "markdown",
   "metadata": {},
   "source": [
    "### 단어 빈도 - 역 문서 빈도 (Term Frequency - Inverse Document Frequency, TF-IDF) "
   ]
  },
  {
   "cell_type": "code",
   "execution_count": 41,
   "metadata": {},
   "outputs": [
    {
     "data": {
      "text/html": [
       "<div>\n",
       "<style scoped>\n",
       "    .dataframe tbody tr th:only-of-type {\n",
       "        vertical-align: middle;\n",
       "    }\n",
       "\n",
       "    .dataframe tbody tr th {\n",
       "        vertical-align: top;\n",
       "    }\n",
       "\n",
       "    .dataframe thead th {\n",
       "        text-align: right;\n",
       "    }\n",
       "</style>\n",
       "<table border=\"1\" class=\"dataframe\">\n",
       "  <thead>\n",
       "    <tr style=\"text-align: right;\">\n",
       "      <th></th>\n",
       "      <th>IDF</th>\n",
       "    </tr>\n",
       "  </thead>\n",
       "  <tbody>\n",
       "    <tr>\n",
       "      <th>1</th>\n",
       "      <td>0.875469</td>\n",
       "    </tr>\n",
       "    <tr>\n",
       "      <th>100</th>\n",
       "      <td>3.465736</td>\n",
       "    </tr>\n",
       "    <tr>\n",
       "      <th>1000점을</th>\n",
       "      <td>5.257495</td>\n",
       "    </tr>\n",
       "    <tr>\n",
       "      <th>100m도</th>\n",
       "      <td>5.257495</td>\n",
       "    </tr>\n",
       "    <tr>\n",
       "      <th>100년전</th>\n",
       "      <td>5.257495</td>\n",
       "    </tr>\n",
       "    <tr>\n",
       "      <th>...</th>\n",
       "      <td>...</td>\n",
       "    </tr>\n",
       "    <tr>\n",
       "      <th>힘을</th>\n",
       "      <td>2.906120</td>\n",
       "    </tr>\n",
       "    <tr>\n",
       "      <th>힘의</th>\n",
       "      <td>4.158883</td>\n",
       "    </tr>\n",
       "    <tr>\n",
       "      <th>힘이</th>\n",
       "      <td>4.158883</td>\n",
       "    </tr>\n",
       "    <tr>\n",
       "      <th>힘입어</th>\n",
       "      <td>5.257495</td>\n",
       "    </tr>\n",
       "    <tr>\n",
       "      <th>힘차게</th>\n",
       "      <td>5.257495</td>\n",
       "    </tr>\n",
       "  </tbody>\n",
       "</table>\n",
       "<p>22441 rows × 1 columns</p>\n",
       "</div>"
      ],
      "text/plain": [
       "             IDF\n",
       "1       0.875469\n",
       "100     3.465736\n",
       "1000점을  5.257495\n",
       "100m도   5.257495\n",
       "100년전   5.257495\n",
       "...          ...\n",
       "힘을      2.906120\n",
       "힘의      4.158883\n",
       "힘이      4.158883\n",
       "힘입어     5.257495\n",
       "힘차게     5.257495\n",
       "\n",
       "[22441 rows x 1 columns]"
      ]
     },
     "execution_count": 41,
     "metadata": {},
     "output_type": "execute_result"
    }
   ],
   "source": [
    "# IDF 값\n",
    "results = []\n",
    "\n",
    "for j in range(len(vocab)):\n",
    "    t = vocab[j]\n",
    "    results.append(idf(t))\n",
    "    \n",
    "idf_ = pd.DataFrame(results, index=vocab, columns=['IDF'])\n",
    "idf_"
   ]
  },
  {
   "cell_type": "code",
   "execution_count": 44,
   "metadata": {},
   "outputs": [
    {
     "data": {
      "text/html": [
       "<div>\n",
       "<style scoped>\n",
       "    .dataframe tbody tr th:only-of-type {\n",
       "        vertical-align: middle;\n",
       "    }\n",
       "\n",
       "    .dataframe tbody tr th {\n",
       "        vertical-align: top;\n",
       "    }\n",
       "\n",
       "    .dataframe thead th {\n",
       "        text-align: right;\n",
       "    }\n",
       "</style>\n",
       "<table border=\"1\" class=\"dataframe\">\n",
       "  <thead>\n",
       "    <tr style=\"text-align: right;\">\n",
       "      <th></th>\n",
       "      <th>1</th>\n",
       "      <th>100</th>\n",
       "      <th>1000점을</th>\n",
       "      <th>100m도</th>\n",
       "      <th>100년전</th>\n",
       "      <th>100를</th>\n",
       "      <th>100만</th>\n",
       "      <th>100만이</th>\n",
       "      <th>100미터</th>\n",
       "      <th>100번째</th>\n",
       "      <th>...</th>\n",
       "      <th>힘없는</th>\n",
       "      <th>힘없이</th>\n",
       "      <th>힘에</th>\n",
       "      <th>힘으로</th>\n",
       "      <th>힘은</th>\n",
       "      <th>힘을</th>\n",
       "      <th>힘의</th>\n",
       "      <th>힘이</th>\n",
       "      <th>힘입어</th>\n",
       "      <th>힘차게</th>\n",
       "    </tr>\n",
       "  </thead>\n",
       "  <tbody>\n",
       "    <tr>\n",
       "      <th>0</th>\n",
       "      <td>0.875469</td>\n",
       "      <td>0.0</td>\n",
       "      <td>0.0</td>\n",
       "      <td>0.0</td>\n",
       "      <td>0.0</td>\n",
       "      <td>0.0</td>\n",
       "      <td>0.0</td>\n",
       "      <td>0.0</td>\n",
       "      <td>0.0</td>\n",
       "      <td>0.0</td>\n",
       "      <td>...</td>\n",
       "      <td>0.0</td>\n",
       "      <td>0.0</td>\n",
       "      <td>0.0</td>\n",
       "      <td>0.0</td>\n",
       "      <td>0.0</td>\n",
       "      <td>0.0</td>\n",
       "      <td>0.0</td>\n",
       "      <td>0.0</td>\n",
       "      <td>0.0</td>\n",
       "      <td>0.0</td>\n",
       "    </tr>\n",
       "    <tr>\n",
       "      <th>1</th>\n",
       "      <td>0.875469</td>\n",
       "      <td>0.0</td>\n",
       "      <td>0.0</td>\n",
       "      <td>0.0</td>\n",
       "      <td>0.0</td>\n",
       "      <td>0.0</td>\n",
       "      <td>0.0</td>\n",
       "      <td>0.0</td>\n",
       "      <td>0.0</td>\n",
       "      <td>0.0</td>\n",
       "      <td>...</td>\n",
       "      <td>0.0</td>\n",
       "      <td>0.0</td>\n",
       "      <td>0.0</td>\n",
       "      <td>0.0</td>\n",
       "      <td>0.0</td>\n",
       "      <td>0.0</td>\n",
       "      <td>0.0</td>\n",
       "      <td>0.0</td>\n",
       "      <td>0.0</td>\n",
       "      <td>0.0</td>\n",
       "    </tr>\n",
       "    <tr>\n",
       "      <th>2</th>\n",
       "      <td>0.875469</td>\n",
       "      <td>0.0</td>\n",
       "      <td>0.0</td>\n",
       "      <td>0.0</td>\n",
       "      <td>0.0</td>\n",
       "      <td>0.0</td>\n",
       "      <td>0.0</td>\n",
       "      <td>0.0</td>\n",
       "      <td>0.0</td>\n",
       "      <td>0.0</td>\n",
       "      <td>...</td>\n",
       "      <td>0.0</td>\n",
       "      <td>0.0</td>\n",
       "      <td>0.0</td>\n",
       "      <td>0.0</td>\n",
       "      <td>0.0</td>\n",
       "      <td>0.0</td>\n",
       "      <td>0.0</td>\n",
       "      <td>0.0</td>\n",
       "      <td>0.0</td>\n",
       "      <td>0.0</td>\n",
       "    </tr>\n",
       "    <tr>\n",
       "      <th>3</th>\n",
       "      <td>0.000000</td>\n",
       "      <td>0.0</td>\n",
       "      <td>0.0</td>\n",
       "      <td>0.0</td>\n",
       "      <td>0.0</td>\n",
       "      <td>0.0</td>\n",
       "      <td>0.0</td>\n",
       "      <td>0.0</td>\n",
       "      <td>0.0</td>\n",
       "      <td>0.0</td>\n",
       "      <td>...</td>\n",
       "      <td>0.0</td>\n",
       "      <td>0.0</td>\n",
       "      <td>0.0</td>\n",
       "      <td>0.0</td>\n",
       "      <td>0.0</td>\n",
       "      <td>0.0</td>\n",
       "      <td>0.0</td>\n",
       "      <td>0.0</td>\n",
       "      <td>0.0</td>\n",
       "      <td>0.0</td>\n",
       "    </tr>\n",
       "    <tr>\n",
       "      <th>4</th>\n",
       "      <td>1.750937</td>\n",
       "      <td>0.0</td>\n",
       "      <td>0.0</td>\n",
       "      <td>0.0</td>\n",
       "      <td>0.0</td>\n",
       "      <td>0.0</td>\n",
       "      <td>0.0</td>\n",
       "      <td>0.0</td>\n",
       "      <td>0.0</td>\n",
       "      <td>0.0</td>\n",
       "      <td>...</td>\n",
       "      <td>0.0</td>\n",
       "      <td>0.0</td>\n",
       "      <td>0.0</td>\n",
       "      <td>0.0</td>\n",
       "      <td>0.0</td>\n",
       "      <td>0.0</td>\n",
       "      <td>0.0</td>\n",
       "      <td>0.0</td>\n",
       "      <td>0.0</td>\n",
       "      <td>0.0</td>\n",
       "    </tr>\n",
       "    <tr>\n",
       "      <th>...</th>\n",
       "      <td>...</td>\n",
       "      <td>...</td>\n",
       "      <td>...</td>\n",
       "      <td>...</td>\n",
       "      <td>...</td>\n",
       "      <td>...</td>\n",
       "      <td>...</td>\n",
       "      <td>...</td>\n",
       "      <td>...</td>\n",
       "      <td>...</td>\n",
       "      <td>...</td>\n",
       "      <td>...</td>\n",
       "      <td>...</td>\n",
       "      <td>...</td>\n",
       "      <td>...</td>\n",
       "      <td>...</td>\n",
       "      <td>...</td>\n",
       "      <td>...</td>\n",
       "      <td>...</td>\n",
       "      <td>...</td>\n",
       "      <td>...</td>\n",
       "    </tr>\n",
       "    <tr>\n",
       "      <th>379</th>\n",
       "      <td>0.000000</td>\n",
       "      <td>0.0</td>\n",
       "      <td>0.0</td>\n",
       "      <td>0.0</td>\n",
       "      <td>0.0</td>\n",
       "      <td>0.0</td>\n",
       "      <td>0.0</td>\n",
       "      <td>0.0</td>\n",
       "      <td>0.0</td>\n",
       "      <td>0.0</td>\n",
       "      <td>...</td>\n",
       "      <td>0.0</td>\n",
       "      <td>0.0</td>\n",
       "      <td>0.0</td>\n",
       "      <td>0.0</td>\n",
       "      <td>0.0</td>\n",
       "      <td>0.0</td>\n",
       "      <td>0.0</td>\n",
       "      <td>0.0</td>\n",
       "      <td>0.0</td>\n",
       "      <td>0.0</td>\n",
       "    </tr>\n",
       "    <tr>\n",
       "      <th>380</th>\n",
       "      <td>0.000000</td>\n",
       "      <td>0.0</td>\n",
       "      <td>0.0</td>\n",
       "      <td>0.0</td>\n",
       "      <td>0.0</td>\n",
       "      <td>0.0</td>\n",
       "      <td>0.0</td>\n",
       "      <td>0.0</td>\n",
       "      <td>0.0</td>\n",
       "      <td>0.0</td>\n",
       "      <td>...</td>\n",
       "      <td>0.0</td>\n",
       "      <td>0.0</td>\n",
       "      <td>0.0</td>\n",
       "      <td>0.0</td>\n",
       "      <td>0.0</td>\n",
       "      <td>0.0</td>\n",
       "      <td>0.0</td>\n",
       "      <td>0.0</td>\n",
       "      <td>0.0</td>\n",
       "      <td>0.0</td>\n",
       "    </tr>\n",
       "    <tr>\n",
       "      <th>381</th>\n",
       "      <td>0.875469</td>\n",
       "      <td>0.0</td>\n",
       "      <td>0.0</td>\n",
       "      <td>0.0</td>\n",
       "      <td>0.0</td>\n",
       "      <td>0.0</td>\n",
       "      <td>0.0</td>\n",
       "      <td>0.0</td>\n",
       "      <td>0.0</td>\n",
       "      <td>0.0</td>\n",
       "      <td>...</td>\n",
       "      <td>0.0</td>\n",
       "      <td>0.0</td>\n",
       "      <td>0.0</td>\n",
       "      <td>0.0</td>\n",
       "      <td>0.0</td>\n",
       "      <td>0.0</td>\n",
       "      <td>0.0</td>\n",
       "      <td>0.0</td>\n",
       "      <td>0.0</td>\n",
       "      <td>0.0</td>\n",
       "    </tr>\n",
       "    <tr>\n",
       "      <th>382</th>\n",
       "      <td>0.875469</td>\n",
       "      <td>0.0</td>\n",
       "      <td>0.0</td>\n",
       "      <td>0.0</td>\n",
       "      <td>0.0</td>\n",
       "      <td>0.0</td>\n",
       "      <td>0.0</td>\n",
       "      <td>0.0</td>\n",
       "      <td>0.0</td>\n",
       "      <td>0.0</td>\n",
       "      <td>...</td>\n",
       "      <td>0.0</td>\n",
       "      <td>0.0</td>\n",
       "      <td>0.0</td>\n",
       "      <td>0.0</td>\n",
       "      <td>0.0</td>\n",
       "      <td>0.0</td>\n",
       "      <td>0.0</td>\n",
       "      <td>0.0</td>\n",
       "      <td>0.0</td>\n",
       "      <td>0.0</td>\n",
       "    </tr>\n",
       "    <tr>\n",
       "      <th>383</th>\n",
       "      <td>0.000000</td>\n",
       "      <td>0.0</td>\n",
       "      <td>0.0</td>\n",
       "      <td>0.0</td>\n",
       "      <td>0.0</td>\n",
       "      <td>0.0</td>\n",
       "      <td>0.0</td>\n",
       "      <td>0.0</td>\n",
       "      <td>0.0</td>\n",
       "      <td>0.0</td>\n",
       "      <td>...</td>\n",
       "      <td>0.0</td>\n",
       "      <td>0.0</td>\n",
       "      <td>0.0</td>\n",
       "      <td>0.0</td>\n",
       "      <td>0.0</td>\n",
       "      <td>0.0</td>\n",
       "      <td>0.0</td>\n",
       "      <td>0.0</td>\n",
       "      <td>0.0</td>\n",
       "      <td>0.0</td>\n",
       "    </tr>\n",
       "  </tbody>\n",
       "</table>\n",
       "<p>384 rows × 22441 columns</p>\n",
       "</div>"
      ],
      "text/plain": [
       "            1  100  1000점을  100m도  100년전  100를  100만  100만이  100미터  100번째  \\\n",
       "0    0.875469  0.0     0.0    0.0    0.0   0.0   0.0    0.0    0.0    0.0   \n",
       "1    0.875469  0.0     0.0    0.0    0.0   0.0   0.0    0.0    0.0    0.0   \n",
       "2    0.875469  0.0     0.0    0.0    0.0   0.0   0.0    0.0    0.0    0.0   \n",
       "3    0.000000  0.0     0.0    0.0    0.0   0.0   0.0    0.0    0.0    0.0   \n",
       "4    1.750937  0.0     0.0    0.0    0.0   0.0   0.0    0.0    0.0    0.0   \n",
       "..        ...  ...     ...    ...    ...   ...   ...    ...    ...    ...   \n",
       "379  0.000000  0.0     0.0    0.0    0.0   0.0   0.0    0.0    0.0    0.0   \n",
       "380  0.000000  0.0     0.0    0.0    0.0   0.0   0.0    0.0    0.0    0.0   \n",
       "381  0.875469  0.0     0.0    0.0    0.0   0.0   0.0    0.0    0.0    0.0   \n",
       "382  0.875469  0.0     0.0    0.0    0.0   0.0   0.0    0.0    0.0    0.0   \n",
       "383  0.000000  0.0     0.0    0.0    0.0   0.0   0.0    0.0    0.0    0.0   \n",
       "\n",
       "     ...  힘없는  힘없이   힘에  힘으로   힘은   힘을   힘의   힘이  힘입어  힘차게  \n",
       "0    ...  0.0  0.0  0.0  0.0  0.0  0.0  0.0  0.0  0.0  0.0  \n",
       "1    ...  0.0  0.0  0.0  0.0  0.0  0.0  0.0  0.0  0.0  0.0  \n",
       "2    ...  0.0  0.0  0.0  0.0  0.0  0.0  0.0  0.0  0.0  0.0  \n",
       "3    ...  0.0  0.0  0.0  0.0  0.0  0.0  0.0  0.0  0.0  0.0  \n",
       "4    ...  0.0  0.0  0.0  0.0  0.0  0.0  0.0  0.0  0.0  0.0  \n",
       "..   ...  ...  ...  ...  ...  ...  ...  ...  ...  ...  ...  \n",
       "379  ...  0.0  0.0  0.0  0.0  0.0  0.0  0.0  0.0  0.0  0.0  \n",
       "380  ...  0.0  0.0  0.0  0.0  0.0  0.0  0.0  0.0  0.0  0.0  \n",
       "381  ...  0.0  0.0  0.0  0.0  0.0  0.0  0.0  0.0  0.0  0.0  \n",
       "382  ...  0.0  0.0  0.0  0.0  0.0  0.0  0.0  0.0  0.0  0.0  \n",
       "383  ...  0.0  0.0  0.0  0.0  0.0  0.0  0.0  0.0  0.0  0.0  \n",
       "\n",
       "[384 rows x 22441 columns]"
      ]
     },
     "execution_count": 44,
     "metadata": {},
     "output_type": "execute_result"
    }
   ],
   "source": [
    "# TF-IDF 행렬\n",
    "results = []\n",
    "\n",
    "for i in range(N):\n",
    "    results.append([])\n",
    "    review = movie_reviews[i]\n",
    "    for j in range(len(vocab)):\n",
    "        t = vocab[j]\n",
    "        \n",
    "        results[-1].append(tfidf(t, review))\n",
    "        \n",
    "tfidf_ = pd.DataFrame(results, columns=vocab)\n",
    "tfidf_"
   ]
  },
  {
   "cell_type": "markdown",
   "metadata": {},
   "source": [
    "### 문서 유사도(Document Similarity)\n",
    "\n",
    "#### 코사인 유사도(Cosine Similarity)"
   ]
  },
  {
   "cell_type": "code",
   "execution_count": 45,
   "metadata": {},
   "outputs": [
    {
     "data": {
      "text/html": [
       "<div>\n",
       "<style scoped>\n",
       "    .dataframe tbody tr th:only-of-type {\n",
       "        vertical-align: middle;\n",
       "    }\n",
       "\n",
       "    .dataframe tbody tr th {\n",
       "        vertical-align: top;\n",
       "    }\n",
       "\n",
       "    .dataframe thead th {\n",
       "        text-align: right;\n",
       "    }\n",
       "</style>\n",
       "<table border=\"1\" class=\"dataframe\">\n",
       "  <thead>\n",
       "    <tr style=\"text-align: right;\">\n",
       "      <th></th>\n",
       "      <th>Unnamed: 0</th>\n",
       "      <th>title</th>\n",
       "      <th>story</th>\n",
       "      <th>genre</th>\n",
       "    </tr>\n",
       "  </thead>\n",
       "  <tbody>\n",
       "    <tr>\n",
       "      <th>0</th>\n",
       "      <td>0</td>\n",
       "      <td>그린 북</td>\n",
       "      <td>1962년 미국 입담과 주먹만 믿고 살아가던 토니 발레롱가비고 모텐슨는 교양과 우아...</td>\n",
       "      <td>드라마</td>\n",
       "    </tr>\n",
       "    <tr>\n",
       "      <th>1</th>\n",
       "      <td>1</td>\n",
       "      <td>가버나움</td>\n",
       "      <td>나를 세상에 태어나게 한 부모님을 고소하고 싶어요출생기록조차 없이 살아온 어쩌면 1...</td>\n",
       "      <td>드라마</td>\n",
       "    </tr>\n",
       "    <tr>\n",
       "      <th>2</th>\n",
       "      <td>2</td>\n",
       "      <td>베일리 어게인</td>\n",
       "      <td>귀여운 소년 이든의 단짝 반려견 베일리는 행복한 생을 마감한다하지만 눈을 떠보니 다...</td>\n",
       "      <td>모험</td>\n",
       "    </tr>\n",
       "    <tr>\n",
       "      <th>3</th>\n",
       "      <td>3</td>\n",
       "      <td>주전장</td>\n",
       "      <td>일본의 인종차별 문제를 다룬 영상을 올린 후 우익들의 공격 대상이 된 일본계 미국인...</td>\n",
       "      <td>다큐멘터리</td>\n",
       "    </tr>\n",
       "    <tr>\n",
       "      <th>4</th>\n",
       "      <td>4</td>\n",
       "      <td>포드 V 페라리</td>\n",
       "      <td>1960년대 매출 감소에 빠진 포드는 판매 활로를 찾기 위해스포츠카 레이스를 장악한...</td>\n",
       "      <td>액션</td>\n",
       "    </tr>\n",
       "  </tbody>\n",
       "</table>\n",
       "</div>"
      ],
      "text/plain": [
       "   Unnamed: 0     title                                              story  \\\n",
       "0           0      그린 북  1962년 미국 입담과 주먹만 믿고 살아가던 토니 발레롱가비고 모텐슨는 교양과 우아...   \n",
       "1           1      가버나움  나를 세상에 태어나게 한 부모님을 고소하고 싶어요출생기록조차 없이 살아온 어쩌면 1...   \n",
       "2           2   베일리 어게인  귀여운 소년 이든의 단짝 반려견 베일리는 행복한 생을 마감한다하지만 눈을 떠보니 다...   \n",
       "3           3       주전장  일본의 인종차별 문제를 다룬 영상을 올린 후 우익들의 공격 대상이 된 일본계 미국인...   \n",
       "4           4  포드 V 페라리  1960년대 매출 감소에 빠진 포드는 판매 활로를 찾기 위해스포츠카 레이스를 장악한...   \n",
       "\n",
       "   genre  \n",
       "0    드라마  \n",
       "1    드라마  \n",
       "2     모험  \n",
       "3  다큐멘터리  \n",
       "4     액션  "
      ]
     },
     "execution_count": 45,
     "metadata": {},
     "output_type": "execute_result"
    }
   ],
   "source": [
    "movie_df.head()"
   ]
  },
  {
   "cell_type": "code",
   "execution_count": 46,
   "metadata": {},
   "outputs": [
    {
     "data": {
      "text/plain": [
       "(384, 4)"
      ]
     },
     "execution_count": 46,
     "metadata": {},
     "output_type": "execute_result"
    }
   ],
   "source": [
    "movie_df.shape"
   ]
  },
  {
   "cell_type": "code",
   "execution_count": 47,
   "metadata": {},
   "outputs": [
    {
     "data": {
      "text/plain": [
       "0"
      ]
     },
     "execution_count": 47,
     "metadata": {},
     "output_type": "execute_result"
    }
   ],
   "source": [
    "# 결측치 확인\n",
    "movie_df['story'].isnull().sum()"
   ]
  },
  {
   "cell_type": "code",
   "execution_count": 49,
   "metadata": {},
   "outputs": [],
   "source": [
    "from sklearn.feature_extraction.text import TfidfVectorizer"
   ]
  },
  {
   "cell_type": "code",
   "execution_count": 52,
   "metadata": {},
   "outputs": [
    {
     "name": "stdout",
     "output_type": "stream",
     "text": [
      "(384, 22078)\n"
     ]
    }
   ],
   "source": [
    "tfidf = TfidfVectorizer()\n",
    "tfidf_matrix = tfidf.fit_transform(movie_df['story'])\n",
    "print(tfidf_matrix.shape)"
   ]
  },
  {
   "cell_type": "code",
   "execution_count": 53,
   "metadata": {},
   "outputs": [],
   "source": [
    "from sklearn.metrics.pairwise import linear_kernel"
   ]
  },
  {
   "cell_type": "code",
   "execution_count": 54,
   "metadata": {},
   "outputs": [],
   "source": [
    "cosine_sim = linear_kernel(tfidf_matrix, tfidf_matrix)"
   ]
  },
  {
   "cell_type": "code",
   "execution_count": 55,
   "metadata": {},
   "outputs": [
    {
     "name": "stdout",
     "output_type": "stream",
     "text": [
      "title\n",
      "그린 북        0\n",
      "가버나움        1\n",
      "베일리 어게인     2\n",
      "주전장         3\n",
      "포드 V 페라리    4\n",
      "dtype: int64\n"
     ]
    }
   ],
   "source": [
    "indices = pd.Series(movie_df.index, index=movie_df['title']).drop_duplicates()\n",
    "print(indices.head())"
   ]
  },
  {
   "cell_type": "code",
   "execution_count": 56,
   "metadata": {},
   "outputs": [
    {
     "name": "stdout",
     "output_type": "stream",
     "text": [
      "0\n"
     ]
    }
   ],
   "source": [
    "idx = indices['그린 북']\n",
    "print(idx)"
   ]
  },
  {
   "cell_type": "code",
   "execution_count": 57,
   "metadata": {},
   "outputs": [],
   "source": [
    "def get_recommendations(title, cosine_sim=cosine_sim):\n",
    "    idx = indices[title]\n",
    "    sim_scores = list(enumerate(cosine_sim[idx]))\n",
    "    sim_scores = sorted(sim_scores, key=lambda x:x[1], reverse=True)\n",
    "    sim_scores = sim_scores[1:11]\n",
    "    movie_indices=[i[0] for i in sim_scores]\n",
    "    return movie_df['title'].iloc[movie_indices]"
   ]
  },
  {
   "cell_type": "code",
   "execution_count": 58,
   "metadata": {},
   "outputs": [
    {
     "data": {
      "text/plain": [
       "381            국제시장\n",
       "1              가버나움\n",
       "20               헬프\n",
       "355          인사이드 잡\n",
       "148       피아니스트의 전설\n",
       "69     러브 유어셀프 인 서울\n",
       "140       온리 더 브레이브\n",
       "231             칼리토\n",
       "158          트와이스랜드\n",
       "45            클레멘타인\n",
       "Name: title, dtype: object"
      ]
     },
     "execution_count": 58,
     "metadata": {},
     "output_type": "execute_result"
    }
   ],
   "source": [
    "get_recommendations('그린 북')"
   ]
  },
  {
   "cell_type": "code",
   "execution_count": 59,
   "metadata": {},
   "outputs": [
    {
     "data": {
      "text/plain": [
       "296             웨딩 드레스\n",
       "1                 가버나움\n",
       "218              나비 효과\n",
       "166               해바라기\n",
       "375             싱 스트리트\n",
       "116    빌리 엘리어트 뮤지컬 라이브\n",
       "0                 그린 북\n",
       "160      해리 포터와 마법사의 돌\n",
       "354                크로싱\n",
       "50          다시 태어나도 우리\n",
       "Name: title, dtype: object"
      ]
     },
     "execution_count": 59,
     "metadata": {},
     "output_type": "execute_result"
    }
   ],
   "source": [
    "get_recommendations('국제시장')"
   ]
  },
  {
   "cell_type": "markdown",
   "metadata": {},
   "source": [
    "## Topic Modeling\n",
    "### 잠재 의미 분석(Latent Semantic Analysis, LSA)\n",
    "#### TF-IDF 행렬"
   ]
  },
  {
   "cell_type": "code",
   "execution_count": 60,
   "metadata": {},
   "outputs": [
    {
     "data": {
      "text/plain": [
       "(384, 1000)"
      ]
     },
     "execution_count": 60,
     "metadata": {},
     "output_type": "execute_result"
    }
   ],
   "source": [
    "vectorizer = TfidfVectorizer(max_features=1000, max_df=0.5, smooth_idf=True)\n",
    "X = vectorizer.fit_transform(movie_reviews)\n",
    "X.shape"
   ]
  },
  {
   "cell_type": "markdown",
   "metadata": {},
   "source": [
    "#### Topic Modeling"
   ]
  },
  {
   "cell_type": "code",
   "execution_count": 61,
   "metadata": {},
   "outputs": [],
   "source": [
    "from sklearn.decomposition import TruncatedSVD"
   ]
  },
  {
   "cell_type": "code",
   "execution_count": 62,
   "metadata": {},
   "outputs": [
    {
     "data": {
      "text/plain": [
       "20"
      ]
     },
     "execution_count": 62,
     "metadata": {},
     "output_type": "execute_result"
    }
   ],
   "source": [
    "svd_model = TruncatedSVD(n_components=20, algorithm='randomized', n_iter=100, random_state=122)\n",
    "svd_model.fit(X)\n",
    "len(svd_model.components_)"
   ]
  },
  {
   "cell_type": "code",
   "execution_count": 63,
   "metadata": {},
   "outputs": [
    {
     "data": {
      "text/plain": [
       "(20, 1000)"
      ]
     },
     "execution_count": 63,
     "metadata": {},
     "output_type": "execute_result"
    }
   ],
   "source": [
    "import numpy as np\n",
    "np.shape(svd_model.components_)"
   ]
  },
  {
   "cell_type": "code",
   "execution_count": 68,
   "metadata": {},
   "outputs": [],
   "source": [
    "terms = vectorizer.get_feature_names()\n",
    "\n",
    "def get_topics(components, feature_names, n=5):\n",
    "    for idx, topic in enumerate(components):\n",
    "        print(\"Topic %d: \"%(idx+1), \n",
    "              [(feature_names[i], topic[i].round(5)) for i in topic.argsort()[:-n-1:-1]])"
   ]
  },
  {
   "cell_type": "code",
   "execution_count": 69,
   "metadata": {},
   "outputs": [
    {
     "name": "stdout",
     "output_type": "stream",
     "text": [
      "Topic 1:  [('된다', 0.21939), ('위해', 0.20719), ('있는', 0.16388), ('함께', 0.1546), ('없는', 0.14288)]\n",
      "Topic 2:  [('반지원정대는', 0.28616), ('악의', 0.27503), ('전쟁을', 0.25209), ('위해', 0.22172), ('최후의', 0.16811)]\n",
      "Topic 3:  [('있을까', 0.20423), ('이야기가', 0.15772), ('가장', 0.15716), ('시작된다', 0.14525), ('로봇', 0.13999)]\n",
      "Topic 4:  [('위해', 0.27143), ('되는데', 0.23134), ('세계', 0.20337), ('미국', 0.18014), ('꿈을', 0.13367)]\n",
      "Topic 5:  [('로봇', 0.3401), ('있을까', 0.25133), ('위기에', 0.15261), ('과연', 0.1443), ('된다', 0.12299)]\n",
      "Topic 6:  [('되는데', 0.22245), ('된다', 0.17027), ('만나게', 0.15441), ('사랑을', 0.14427), ('만나', 0.12239)]\n",
      "Topic 7:  [('위해', 0.29946), ('함께', 0.20103), ('이야기가', 0.14873), ('시작된다', 0.14207), ('일본', 0.11632)]\n",
      "Topic 8:  [('되는데', 0.27512), ('있는', 0.24949), ('마을', 0.16557), ('살고', 0.13096), ('그의', 0.12934)]\n",
      "Topic 9:  [('가장', 0.21772), ('찾아', 0.17107), ('못했던', 0.16412), ('사랑을', 0.1207), ('이야기가', 0.11854)]\n",
      "Topic 10:  [('꿈을', 0.2372), ('함께', 0.18092), ('되는데', 0.14282), ('되고', 0.14207), ('점점', 0.14193)]\n",
      "Topic 11:  [('미국', 0.20862), ('위해', 0.15739), ('사랑을', 0.15573), ('다시', 0.14814), ('세계', 0.12262)]\n",
      "Topic 12:  [('사건', 0.36539), ('새로운', 0.17422), ('어느', 0.13426), ('않는', 0.12061), ('그러던', 0.11034)]\n",
      "Topic 13:  [('그의', 0.26044), ('로봇', 0.20498), ('미국', 0.17665), ('새로운', 0.17429), ('어느', 0.13028)]\n",
      "Topic 14:  [('자신의', 0.20917), ('사건', 0.169), ('이야기가', 0.15566), ('살고', 0.13572), ('사랑에', 0.13382)]\n",
      "Topic 15:  [('로봇', 0.22443), ('사건', 0.22422), ('사랑을', 0.205), ('눈을', 0.14371), ('없는', 0.14271)]\n",
      "Topic 16:  [('꿈을', 0.18892), ('하지만', 0.18095), ('못한', 0.17324), ('다른', 0.13236), ('있다', 0.12845)]\n",
      "Topic 17:  [('사건', 0.20611), ('다시', 0.1831), ('마지막', 0.12641), ('소년', 0.11277), ('그는', 0.10815)]\n",
      "Topic 18:  [('살아온', 0.16891), ('없이', 0.14095), ('꿈을', 0.13115), ('못했던', 0.12474), ('우리', 0.11935)]\n",
      "Topic 19:  [('자신의', 0.23539), ('미국', 0.18484), ('시작하는데', 0.1556), ('다른', 0.10452), ('세계로', 0.10143)]\n",
      "Topic 20:  [('찾아', 0.17483), ('가진', 0.13086), ('못한', 0.12268), ('사랑에', 0.12017), ('특별한', 0.11393)]\n"
     ]
    }
   ],
   "source": [
    "get_topics(svd_model.components_, terms)"
   ]
  },
  {
   "cell_type": "markdown",
   "metadata": {},
   "source": [
    "## 잠재 디리클레 할당(Latent Dirichlet Allocation, LDA)"
   ]
  },
  {
   "cell_type": "code",
   "execution_count": 70,
   "metadata": {},
   "outputs": [],
   "source": [
    "import pandas as pd\n",
    "from sklearn.datasets import fetch_20newsgroups"
   ]
  },
  {
   "cell_type": "code",
   "execution_count": 71,
   "metadata": {},
   "outputs": [
    {
     "data": {
      "text/plain": [
       "11314"
      ]
     },
     "execution_count": 71,
     "metadata": {},
     "output_type": "execute_result"
    }
   ],
   "source": [
    "dataset = fetch_20newsgroups(shuffle=True, random_state=1, remove=('headers', 'footers', 'quotes'))\n",
    "documents = dataset.data\n",
    "len(documents)"
   ]
  },
  {
   "cell_type": "code",
   "execution_count": 72,
   "metadata": {},
   "outputs": [],
   "source": [
    "news_df = pd.DataFrame({'document':documents})\n",
    "news_df['clean_doc'] = news_df['document'].str.replace(\"[^a-zA-Z]\", \" \")\n",
    "news_df['clean_doc'] = news_df['clean_doc'].apply(lambda x : ' '.join([w for w in x.split() if len(w) > 3]))\n",
    "\n",
    "news_df['clean_doc'] = news_df['clean_doc'].apply(lambda x: x.lower())"
   ]
  },
  {
   "cell_type": "code",
   "execution_count": 73,
   "metadata": {},
   "outputs": [],
   "source": [
    "from nltk.corpus import stopwords"
   ]
  },
  {
   "cell_type": "code",
   "execution_count": 74,
   "metadata": {},
   "outputs": [],
   "source": [
    "stop_words = stopwords.words('english')\n",
    "tokenize_doc = news_df['clean_doc'].apply(lambda x: x.split())\n",
    "tokenize_doc = tokenize_doc.apply(lambda x: [item for item in x if item not in stop_words])"
   ]
  },
  {
   "cell_type": "code",
   "execution_count": 75,
   "metadata": {},
   "outputs": [
    {
     "name": "stdout",
     "output_type": "stream",
     "text": [
      "[(52, 1), (55, 1), (56, 1), (57, 1), (58, 1), (59, 1), (60, 1), (61, 1), (62, 1), (63, 1), (64, 1), (65, 1), (66, 2), (67, 1), (68, 1), (69, 1), (70, 1), (71, 2), (72, 1), (73, 1), (74, 1), (75, 1), (76, 1), (77, 1), (78, 2), (79, 1), (80, 1), (81, 1), (82, 1), (83, 1), (84, 1), (85, 2), (86, 1), (87, 1), (88, 1), (89, 1)]\n"
     ]
    }
   ],
   "source": [
    "from gensim import corpora\n",
    "dictionary = corpora.Dictionary(tokenize_doc)\n",
    "corpus = [dictionary.doc2bow(text) for text in tokenize_doc]\n",
    "print(corpus[1])"
   ]
  },
  {
   "cell_type": "code",
   "execution_count": 76,
   "metadata": {},
   "outputs": [
    {
     "name": "stdout",
     "output_type": "stream",
     "text": [
      "well\n"
     ]
    }
   ],
   "source": [
    "print(dictionary[52])"
   ]
  },
  {
   "cell_type": "code",
   "execution_count": 77,
   "metadata": {},
   "outputs": [
    {
     "data": {
      "text/plain": [
       "64281"
      ]
     },
     "execution_count": 77,
     "metadata": {},
     "output_type": "execute_result"
    }
   ],
   "source": [
    "len(dictionary)"
   ]
  },
  {
   "cell_type": "code",
   "execution_count": 78,
   "metadata": {},
   "outputs": [],
   "source": [
    "import gensim"
   ]
  },
  {
   "cell_type": "code",
   "execution_count": 79,
   "metadata": {},
   "outputs": [
    {
     "name": "stdout",
     "output_type": "stream",
     "text": [
      "(0, '0.013*\"available\" + 0.009*\"software\" + 0.009*\"version\" + 0.009*\"also\"')\n",
      "(1, '0.014*\"government\" + 0.008*\"would\" + 0.008*\"public\" + 0.007*\"encryption\"')\n",
      "(2, '0.025*\"drive\" + 0.019*\"card\" + 0.018*\"disk\" + 0.016*\"scsi\"')\n",
      "(3, '0.012*\"president\" + 0.011*\"university\" + 0.008*\"april\" + 0.008*\"health\"')\n",
      "(4, '0.014*\"would\" + 0.013*\"people\" + 0.010*\"think\" + 0.007*\"know\"')\n",
      "(5, '0.018*\"period\" + 0.012*\"power\" + 0.011*\"play\" + 0.007*\"puck\"')\n",
      "(6, '0.016*\"like\" + 0.012*\"would\" + 0.011*\"good\" + 0.009*\"much\"')\n",
      "(7, '0.046*\"space\" + 0.017*\"nasa\" + 0.010*\"launch\" + 0.009*\"earth\"')\n",
      "(8, '0.007*\"much\" + 0.006*\"pain\" + 0.006*\"cause\" + 0.006*\"many\"')\n",
      "(9, '0.022*\"sale\" + 0.019*\"offer\" + 0.018*\"shipping\" + 0.018*\"price\"')\n",
      "(10, '0.021*\"game\" + 0.019*\"team\" + 0.016*\"year\" + 0.014*\"games\"')\n",
      "(11, '0.026*\"file\" + 0.017*\"output\" + 0.015*\"program\" + 0.014*\"entry\"')\n",
      "(12, '0.014*\"cover\" + 0.011*\"pope\" + 0.010*\"compass\" + 0.009*\"copies\"')\n",
      "(13, '0.011*\"bike\" + 0.007*\"road\" + 0.007*\"water\" + 0.006*\"miles\"')\n",
      "(14, '0.031*\"thanks\" + 0.028*\"anyone\" + 0.026*\"would\" + 0.026*\"please\"')\n",
      "(15, '0.013*\"people\" + 0.011*\"said\" + 0.010*\"armenian\" + 0.009*\"armenians\"')\n",
      "(16, '0.036*\"israel\" + 0.022*\"israeli\" + 0.014*\"arab\" + 0.014*\"jews\"')\n",
      "(17, '0.017*\"colorado\" + 0.011*\"sharks\" + 0.008*\"atlanta\" + 0.008*\"houston\"')\n",
      "(18, '0.015*\"wire\" + 0.011*\"ground\" + 0.009*\"neutral\" + 0.009*\"theory\"')\n",
      "(19, '0.012*\"would\" + 0.012*\"know\" + 0.010*\"time\" + 0.009*\"going\"')\n"
     ]
    }
   ],
   "source": [
    "NUM_TOPICS = 20\n",
    "ldamodel = gensim.models.LdaModel(corpus, num_topics=NUM_TOPICS, id2word=dictionary, passes=15)\n",
    "topics = ldamodel.print_topics(num_words=4)\n",
    "\n",
    "for topic in topics:\n",
    "    print(topic)"
   ]
  },
  {
   "cell_type": "markdown",
   "metadata": {},
   "source": [
    "### LDA 시각화"
   ]
  },
  {
   "cell_type": "code",
   "execution_count": 80,
   "metadata": {},
   "outputs": [],
   "source": [
    "import pyLDAvis.gensim"
   ]
  },
  {
   "cell_type": "code",
   "execution_count": 81,
   "metadata": {},
   "outputs": [
    {
     "data": {
      "text/html": [
       "\n",
       "<link rel=\"stylesheet\" type=\"text/css\" href=\"https://cdn.rawgit.com/bmabey/pyLDAvis/files/ldavis.v1.0.0.css\">\n",
       "\n",
       "\n",
       "<div id=\"ldavis_el972022528837936087507774927\"></div>\n",
       "<script type=\"text/javascript\">\n",
       "\n",
       "var ldavis_el972022528837936087507774927_data = {\"mdsDat\": {\"x\": [0.2392353654454608, 0.23489102024642544, 0.09721657916407275, 0.11580763426343521, 0.0744751103262447, 0.1700307785372922, 0.0038214957784483776, 0.08281867859606391, 0.05810865360342683, 0.12192171208123316, 0.025508989575868647, 0.1352160959153228, -0.046258763490017646, -0.09151866263577359, -0.2028539200078915, -0.19795700033348337, -0.1636786601176445, -0.14479864473085952, -0.241068688624882, -0.270917773592742], \"y\": [0.0644194785974551, 0.03114652010126745, -0.2607113945047865, -0.02164338836981645, 0.1663364439450633, 0.1707558571751051, -0.05829846014286525, -0.1697004161565854, 0.1567637552141492, 0.05452589844418933, -0.19855148507264123, -0.07353698050920153, 0.10570050669567578, -0.074140047685776, 0.08774359894798539, -0.023081733243348956, 0.07235693885606237, -0.06578430913776179, 0.018581750903604078, 0.01711746594222564], \"topics\": [1, 2, 3, 4, 5, 6, 7, 8, 9, 10, 11, 12, 13, 14, 15, 16, 17, 18, 19, 20], \"cluster\": [1, 1, 1, 1, 1, 1, 1, 1, 1, 1, 1, 1, 1, 1, 1, 1, 1, 1, 1, 1], \"Freq\": [19.206937789916992, 9.56580924987793, 9.077908515930176, 8.195172309875488, 6.869490623474121, 6.159424304962158, 5.239534854888916, 5.196160793304443, 4.253563404083252, 4.2325334548950195, 4.034601211547852, 3.8871779441833496, 3.230675220489502, 2.837425708770752, 1.8526334762573242, 1.840301752090454, 1.6192677021026611, 1.4238946437835693, 0.7627294659614563, 0.514765202999115]}, \"tinfo\": {\"Term\": [\"would\", \"know\", \"space\", \"file\", \"anyone\", \"thanks\", \"please\", \"drive\", \"like\", \"windows\", \"people\", \"game\", \"think\", \"government\", \"good\", \"program\", \"system\", \"output\", \"mail\", \"team\", \"card\", \"israel\", \"disk\", \"software\", \"help\", \"year\", \"said\", \"available\", \"scsi\", \"entry\", \"jesus\", \"bible\", \"faith\", \"christianity\", \"belief\", \"christ\", \"truth\", \"atheism\", \"evil\", \"atheists\", \"morality\", \"eternal\", \"religions\", \"scripture\", \"atheist\", \"biblical\", \"doctrine\", \"worship\", \"passages\", \"moral\", \"punishment\", \"revelation\", \"testament\", \"imply\", \"gospel\", \"reject\", \"easter\", \"gods\", \"believing\", \"prophet\", \"christian\", \"argument\", \"christians\", \"quote\", \"religion\", \"beliefs\", \"church\", \"claim\", \"objective\", \"meaning\", \"matthew\", \"believe\", \"religious\", \"existence\", \"evidence\", \"agree\", \"life\", \"people\", \"words\", \"love\", \"mean\", \"true\", \"think\", \"question\", \"hell\", \"would\", \"word\", \"point\", \"many\", \"things\", \"fact\", \"even\", \"must\", \"reason\", \"know\", \"well\", \"make\", \"world\", \"like\", \"good\", \"something\", \"also\", \"time\", \"much\", \"could\", \"read\", \"really\", \"right\", \"want\", \"wiring\", \"voltage\", \"adaptec\", \"skepticism\", \"ford\", \"intellect\", \"slots\", \"detector\", \"shameful\", \"cadre\", \"autos\", \"chastity\", \"circuits\", \"cables\", \"steering\", \"aluminum\", \"powerbook\", \"floppies\", \"deaf\", \"pitt\", \"detectors\", \"rated\", \"dram\", \"watts\", \"technician\", \"plugs\", \"amps\", \"yassin\", \"meter\", \"refresh\", \"circuit\", \"repair\", \"surrender\", \"cheap\", \"tobacco\", \"hook\", \"speeds\", \"cheaper\", \"gordon\", \"expensive\", \"electronics\", \"insurance\", \"gateway\", \"dealer\", \"battery\", \"auto\", \"bought\", \"company\", \"buying\", \"cost\", \"like\", \"good\", \"pretty\", \"money\", \"stuff\", \"engine\", \"much\", \"getting\", \"price\", \"work\", \"really\", \"back\", \"power\", \"probably\", \"thing\", \"time\", \"sure\", \"better\", \"little\", \"want\", \"would\", \"well\", \"problem\", \"make\", \"think\", \"need\", \"around\", \"used\", \"know\", \"also\", \"even\", \"still\", \"going\", \"could\", \"something\", \"since\", \"comp\", \"jpeg\", \"contrib\", \"entries\", \"formats\", \"servers\", \"server\", \"toolkit\", \"binaries\", \"shareware\", \"platforms\", \"compiled\", \"sunos\", \"demo\", \"sparc\", \"filename\", \"sleeve\", \"interactive\", \"vendor\", \"readme\", \"compiler\", \"tiff\", \"workstations\", \"anon\", \"functionality\", \"terminals\", \"libraries\", \"edit\", \"viewer\", \"handler\", \"anonymous\", \"image\", \"motif\", \"unix\", \"archive\", \"graphics\", \"export\", \"format\", \"images\", \"version\", \"available\", \"software\", \"routines\", \"widgets\", \"request\", \"versions\", \"user\", \"processing\", \"files\", \"directory\", \"usenet\", \"users\", \"library\", \"internet\", \"list\", \"send\", \"mail\", \"information\", \"based\", \"code\", \"data\", \"also\", \"file\", \"system\", \"subject\", \"program\", \"source\", \"email\", \"windows\", \"systems\", \"encryption\", \"privacy\", \"clipper\", \"secure\", \"enforcement\", \"firearms\", \"escrow\", \"amendment\", \"guns\", \"cryptography\", \"constitution\", \"militia\", \"agents\", \"wiretap\", \"phones\", \"smokeless\", \"crypt\", \"firearm\", \"attorney\", \"handgun\", \"weaver\", \"federal\", \"feds\", \"legislation\", \"handguns\", \"homicide\", \"outlets\", \"constitutional\", \"legally\", \"abiding\", \"crypto\", \"warrant\", \"court\", \"secret\", \"weapon\", \"legal\", \"government\", \"weapons\", \"security\", \"agencies\", \"criminals\", \"ripem\", \"crime\", \"private\", \"encrypted\", \"protect\", \"keys\", \"public\", \"police\", \"rights\", \"chip\", \"laws\", \"state\", \"control\", \"would\", \"people\", \"system\", \"right\", \"used\", \"could\", \"information\", \"states\", \"armenian\", \"armenians\", \"turkish\", \"turkey\", \"armenia\", \"turks\", \"genocide\", \"azerbaijan\", \"azerbaijani\", \"sumgait\", \"daughter\", \"karabakh\", \"nazis\", \"argic\", \"ottoman\", \"serdar\", \"azeri\", \"mamma\", \"baku\", \"azerbaijanis\", \"cyprus\", \"azeris\", \"sabbath\", \"jerusalem\", \"greeks\", \"married\", \"holocaust\", \"kurds\", \"istanbul\", \"verse\", \"greece\", \"hitler\", \"muslim\", \"greek\", \"father\", \"burned\", \"began\", \"killed\", \"women\", \"nazi\", \"soviet\", \"jews\", \"soldiers\", \"german\", \"dead\", \"children\", \"said\", \"jewish\", \"mother\", \"muslims\", \"people\", \"woman\", \"russian\", \"came\", \"history\", \"first\", \"told\", \"three\", \"world\", \"years\", \"went\", \"many\", \"also\", \"government\", \"henrik\", \"karina\", \"rockefeller\", \"quantum\", \"subjective\", \"financial\", \"homeland\", \"rows\", \"aunt\", \"mild\", \"sensor\", \"briefing\", \"potvin\", \"coat\", \"damaged\", \"stalin\", \"losses\", \"uncle\", \"nights\", \"spin\", \"summaries\", \"blast\", \"measurements\", \"democrats\", \"invading\", \"couples\", \"volvo\", \"muscles\", \"conception\", \"launchers\", \"bloody\", \"faces\", \"standing\", \"tanks\", \"afraid\", \"tear\", \"experiment\", \"floor\", \"sitting\", \"happening\", \"started\", \"door\", \"happened\", \"going\", \"went\", \"fire\", \"face\", \"back\", \"stop\", \"building\", \"happen\", \"know\", \"something\", \"left\", \"time\", \"black\", \"right\", \"around\", \"would\", \"remember\", \"night\", \"could\", \"like\", \"said\", \"think\", \"well\", \"take\", \"come\", \"side\", \"tell\", \"maybe\", \"look\", \"little\", \"someone\", \"long\", \"want\", \"never\", \"things\", \"even\", \"still\", \"really\", \"newsletter\", \"cancer\", \"aids\", \"ncsl\", \"avenue\", \"hicnet\", \"executive\", \"senator\", \"republicans\", \"illness\", \"cryptology\", \"researchers\", \"graduate\", \"courses\", \"presentation\", \"packaging\", \"stimulus\", \"massachusetts\", \"laughter\", \"infectious\", \"sword\", \"deputy\", \"conscience\", \"dole\", \"recovery\", \"associate\", \"cryptosystems\", \"arafat\", \"pennsylvania\", \"ghetto\", \"jobs\", \"president\", \"university\", \"health\", \"dept\", \"meeting\", \"washington\", \"nist\", \"education\", \"april\", \"centers\", \"students\", \"research\", \"russia\", \"national\", \"press\", \"department\", \"school\", \"college\", \"conference\", \"united\", \"institute\", \"secretary\", \"states\", \"june\", \"center\", \"association\", \"page\", \"american\", \"california\", \"groups\", \"medical\", \"among\", \"information\", \"program\", \"administration\", \"year\", \"package\", \"service\", \"state\", \"office\", \"number\", \"work\", \"also\", \"years\", \"output\", \"printf\", \"char\", \"null\", \"string\", \"bytes\", \"uuencode\", \"echo\", \"entry\", \"exit\", \"colormap\", \"cipher\", \"prog\", \"cursor\", \"eisa\", \"plaintext\", \"argv\", \"hash\", \"maine\", \"stream\", \"pointer\", \"temp\", \"void\", \"parity\", \"argc\", \"ingr\", \"upgrading\", \"processors\", \"dtmedin\", \"catbyte\", \"bits\", \"byte\", \"variable\", \"remark\", \"function\", \"mouse\", \"file\", \"window\", \"errors\", \"error\", \"input\", \"section\", \"xterm\", \"build\", \"application\", \"size\", \"title\", \"program\", \"define\", \"rules\", \"line\", \"check\", \"number\", \"return\", \"open\", \"serial\", \"display\", \"using\", \"read\", \"name\", \"info\", \"code\", \"games\", \"season\", \"players\", \"hockey\", \"teams\", \"detroit\", \"montreal\", \"calgary\", \"score\", \"pitching\", \"playoffs\", \"game\", \"cubs\", \"quebec\", \"braves\", \"morris\", \"pens\", \"espn\", \"playoff\", \"wins\", \"winnipeg\", \"jets\", \"stanley\", \"bruins\", \"hitter\", \"tampa\", \"mets\", \"edmonton\", \"defenseman\", \"finals\", \"league\", \"team\", \"leafs\", \"roger\", \"baseball\", \"fans\", \"toronto\", \"player\", \"played\", \"scored\", \"playing\", \"stats\", \"year\", \"play\", \"minnesota\", \"division\", \"chicago\", \"flames\", \"ball\", \"last\", \"boston\", \"runs\", \"good\", \"series\", \"first\", \"points\", \"lost\", \"better\", \"best\", \"think\", \"would\", \"well\", \"time\", \"patient\", \"diet\", \"symptoms\", \"homosexual\", \"yankees\", \"infection\", \"therapy\", \"chronic\", \"patients\", \"contracts\", \"cycles\", \"torque\", \"diagnosed\", \"micro\", \"immune\", \"corn\", \"toxic\", \"crashes\", \"genes\", \"homicides\", \"disease\", \"countersteering\", \"hong\", \"eaten\", \"tissue\", \"physician\", \"forged\", \"allergic\", \"bounced\", \"sugar\", \"pain\", \"diseases\", \"guidelines\", \"significantly\", \"obfuscate\", \"effects\", \"doctors\", \"drugs\", \"doctor\", \"skin\", \"rotation\", \"treatment\", \"food\", \"risk\", \"reaction\", \"brain\", \"cause\", \"chinese\", \"drug\", \"rate\", \"medicine\", \"study\", \"higher\", \"effect\", \"medical\", \"child\", \"likely\", \"less\", \"much\", \"cases\", \"problems\", \"many\", \"results\", \"years\", \"blood\", \"since\", \"would\", \"even\", \"times\", \"might\", \"found\", \"problem\", \"people\", \"also\", \"scsi\", \"disk\", \"drives\", \"controller\", \"bios\", \"simms\", \"cache\", \"quadra\", \"svga\", \"diamond\", \"vram\", \"jumper\", \"centris\", \"width\", \"adapter\", \"jumpers\", \"simm\", \"sync\", \"mydisplay\", \"floppy\", \"batteries\", \"controllers\", \"interrupt\", \"connectors\", \"upgraded\", \"init\", \"esdi\", \"vesa\", \"cincinnati\", \"iisi\", \"video\", \"card\", \"cryptanalysis\", \"monitor\", \"drive\", \"port\", \"cards\", \"memory\", \"settings\", \"macs\", \"monitors\", \"board\", \"mode\", \"apple\", \"modem\", \"printer\", \"external\", \"upgrade\", \"drivers\", \"hard\", \"internal\", \"system\", \"tape\", \"screen\", \"hardware\", \"driver\", \"speed\", \"color\", \"data\", \"software\", \"computer\", \"problem\", \"chip\", \"appreciated\", \"motherboard\", \"microsoft\", \"candida\", \"config\", \"thanx\", \"novell\", \"skip\", \"cluster\", \"cica\", \"chipset\", \"promo\", \"truetype\", \"toshiba\", \"wanna\", \"outline\", \"managing\", \"qemm\", \"pentium\", \"ninja\", \"grateful\", \"repost\", \"albicans\", \"carrier\", \"advance\", \"darken\", \"rickey\", \"mixer\", \"nail\", \"yeast\", \"contest\", \"thanks\", \"slip\", \"norton\", \"hello\", \"wondering\", \"appreciate\", \"greatly\", \"replies\", \"please\", \"anyone\", \"windows\", \"instruction\", \"anybody\", \"looking\", \"help\", \"thank\", \"mail\", \"reply\", \"know\", \"email\", \"post\", \"info\", \"suggestions\", \"would\", \"interested\", \"address\", \"need\", \"someone\", \"could\", \"like\", \"send\", \"information\", \"find\", \"want\", \"question\", \"also\", \"problem\", \"using\", \"good\", \"bike\", \"ride\", \"riding\", \"motorcycle\", \"bikes\", \"helmet\", \"kent\", \"aircraft\", \"snow\", \"highway\", \"liar\", \"ships\", \"motorcycles\", \"phillies\", \"tire\", \"outlet\", \"patents\", \"cylinder\", \"brake\", \"riders\", \"balloon\", \"cooling\", \"river\", \"shaft\", \"civic\", \"passenger\", \"twin\", \"throttle\", \"bedroom\", \"wheels\", \"miles\", \"honda\", \"payload\", \"road\", \"water\", \"seat\", \"south\", \"lock\", \"rear\", \"tires\", \"cars\", \"island\", \"driving\", \"front\", \"cheers\", \"rider\", \"area\", \"left\", \"engine\", \"north\", \"live\", \"early\", \"right\", \"great\", \"must\", \"first\", \"launch\", \"satellite\", \"shuttle\", \"orbit\", \"lunar\", \"solar\", \"satellites\", \"spacecraft\", \"mars\", \"saturn\", \"missions\", \"planetary\", \"telescope\", \"astronomy\", \"rockets\", \"propulsion\", \"orbital\", \"atmosphere\", \"venus\", \"ozone\", \"aerospace\", \"observatory\", \"launched\", \"launches\", \"exploration\", \"titan\", \"orbiter\", \"astronomical\", \"moon\", \"probes\", \"space\", \"nasa\", \"flight\", \"mission\", \"rocket\", \"earth\", \"station\", \"ames\", \"stage\", \"surface\", \"commercial\", \"data\", \"science\", \"center\", \"star\", \"research\", \"system\", \"first\", \"high\", \"also\", \"scorer\", \"lemieux\", \"pitcher\", \"ryan\", \"allocation\", \"murray\", \"lindros\", \"jagr\", \"blues\", \"arena\", \"reds\", \"recchi\", \"francis\", \"stevens\", \"sanderson\", \"inning\", \"soderstrom\", \"sockets\", \"nolan\", \"vpic\", \"tocchet\", \"harley\", \"amour\", \"fleury\", \"neely\", \"carson\", \"unassisted\", \"overtime\", \"twins\", \"brind\", \"coach\", \"puck\", \"flyers\", \"murphy\", \"kevin\", \"period\", \"hartford\", \"shots\", \"saves\", \"injury\", \"play\", \"goal\", \"smith\", \"power\", \"kings\", \"shot\", \"brian\", \"mark\", \"dave\", \"third\", \"mike\", \"second\", \"cross\", \"first\", \"brown\", \"pittsburgh\", \"went\", \"wire\", \"icon\", \"ciphertext\", \"conductor\", \"lopez\", \"trips\", \"atoms\", \"goaltender\", \"gifs\", \"tubes\", \"sphere\", \"catcher\", \"defining\", \"messenger\", \"marginal\", \"intersection\", \"straightforward\", \"joshua\", \"inference\", \"repairs\", \"nervous\", \"grasp\", \"incapable\", \"acids\", \"representing\", \"godhead\", \"sedan\", \"telepathy\", \"characteristic\", \"philosophical\", \"neutral\", \"cure\", \"namely\", \"superior\", \"outs\", \"ground\", \"genetic\", \"theory\", \"theories\", \"answering\", \"universe\", \"connected\", \"describes\", \"books\", \"plane\", \"hidden\", \"points\", \"part\", \"desired\", \"physical\", \"subject\", \"material\", \"book\", \"exist\", \"three\", \"point\", \"must\", \"current\", \"line\", \"reference\", \"israel\", \"israeli\", \"arab\", \"myers\", \"palestinian\", \"arabs\", \"lebanon\", \"palestinians\", \"israelis\", \"lebanese\", \"gaza\", \"arrest\", \"polygon\", \"decenso\", \"tyre\", \"libertarians\", \"wright\", \"rectangle\", \"strikes\", \"hussein\", \"bindings\", \"imprisonment\", \"cleansing\", \"archer\", \"potter\", \"semitic\", \"withdraw\", \"joining\", \"syrian\", \"servant\", \"zionist\", \"judas\", \"towns\", \"breaker\", \"syria\", \"land\", \"civilians\", \"occupied\", \"peace\", \"negotiations\", \"jews\", \"jewish\", \"anti\", \"attacks\", \"policy\", \"state\", \"solution\", \"rights\", \"country\", \"countries\", \"citizens\", \"true\", \"sale\", \"nubus\", \"forsale\", \"deck\", \"restaurant\", \"stereo\", \"fuse\", \"gerard\", \"powerpc\", \"wrist\", \"filters\", \"joystick\", \"cassette\", \"lyme\", \"shipping\", \"confidential\", \"sect\", \"lciii\", \"gangs\", \"cents\", \"smokers\", \"distributor\", \"semitism\", \"tuning\", \"journals\", \"tiger\", \"winmarks\", \"clubs\", \"verlag\", \"ether\", \"manuals\", \"backing\", \"offer\", \"condition\", \"tapes\", \"baud\", \"excellent\", \"asking\", \"slave\", \"selling\", \"scanner\", \"price\", \"sell\", \"inch\", \"disks\", \"brand\", \"channel\", \"picture\", \"speakers\", \"motorola\", \"items\", \"included\", \"interested\", \"catalog\", \"best\", \"paid\", \"original\", \"trade\", \"includes\", \"please\", \"manual\", \"used\", \"tape\", \"mail\", \"good\", \"model\", \"call\", \"email\", \"compass\", \"ghost\", \"hulk\", \"wolverine\", \"comics\", \"encyclopedia\", \"schism\", \"lefebvre\", \"comic\", \"multimedia\", \"mint\", \"drake\", \"dortmund\", \"toner\", \"udel\", \"batman\", \"stauber\", \"punisher\", \"charlie\", \"skrudland\", \"bagged\", \"archbishop\", \"spiderman\", \"adventures\", \"yawney\", \"armegedon\", \"schismatic\", \"spider\", \"pope\", \"marvel\", \"hawks\", \"bishop\", \"mini\", \"dragon\", \"canon\", \"titles\", \"cover\", \"copies\", \"appears\", \"annual\", \"andy\", \"rider\", \"print\", \"issue\", \"miller\", \"catholic\", \"missing\", \"green\", \"copy\", \"left\", \"sharks\", \"astros\", \"ctrl\", \"intake\", \"neck\", \"glutamate\", \"runner\", \"fleet\", \"rumor\", \"franchise\", \"headaches\", \"gainey\", \"brady\", \"seal\", \"voting\", \"doses\", \"unregistered\", \"beef\", \"stroke\", \"swear\", \"lssu\", \"cube\", \"fran\", \"foods\", \"mitch\", \"graeme\", \"diabetes\", \"speedometer\", \"mozumder\", \"zenith\", \"forwards\", \"atlanta\", \"exhaust\", \"allah\", \"colorado\", \"cleveland\", \"oakland\", \"houston\", \"syndrome\", \"acid\", \"oilers\", \"david\", \"netcom\", \"bradley\", \"vote\"], \"Freq\": [6409.0, 3627.0, 1356.0, 1872.0, 1618.0, 1240.0, 1485.0, 1102.0, 4184.0, 1288.0, 4370.0, 852.0, 3196.0, 1291.0, 2585.0, 1625.0, 2092.0, 829.0, 1203.0, 782.0, 789.0, 550.0, 708.0, 1100.0, 1226.0, 1561.0, 1905.0, 1523.0, 620.0, 685.0, 977.4934692382812, 562.3284301757812, 405.5339660644531, 256.4366149902344, 226.91539001464844, 403.64691162109375, 445.9108581542969, 185.0449676513672, 177.004150390625, 174.9952392578125, 167.31993103027344, 148.6474151611328, 143.24510192871094, 137.49996948242188, 125.43434143066406, 116.13676452636719, 109.63957977294922, 100.33484649658203, 96.84149932861328, 271.50018310546875, 88.7649917602539, 87.6623306274414, 85.14813995361328, 83.48416900634766, 80.7472915649414, 79.05754852294922, 77.05323028564453, 76.12984466552734, 73.31035614013672, 72.04187774658203, 608.68603515625, 408.2716369628906, 442.16522216796875, 184.44288635253906, 424.3941955566406, 189.35423278808594, 463.6694641113281, 410.888671875, 224.73263549804688, 244.51577758789062, 188.88735961914062, 1201.03515625, 287.6039123535156, 226.7843780517578, 458.77783203125, 410.1636657714844, 629.24609375, 2442.919921875, 375.5272521972656, 348.82208251953125, 602.8926391601562, 714.5364990234375, 1747.3155517578125, 743.1038208007812, 316.4993896484375, 2479.06787109375, 457.3196716308594, 767.1550903320312, 1027.7496337890625, 715.9893798828125, 606.6693725585938, 999.8250732421875, 720.0498046875, 490.0841979980469, 1208.0050048828125, 923.4471435546875, 822.7265625, 608.3942260742188, 1051.359375, 830.05126953125, 656.7836303710938, 841.3370361328125, 778.5433349609375, 664.7619018554688, 682.3637084960938, 560.0172119140625, 570.608642578125, 571.6312255859375, 563.8870239257812, 130.24195861816406, 109.9239273071289, 93.74871826171875, 92.23582458496094, 89.95503234863281, 84.3402099609375, 81.0433578491211, 80.95694732666016, 80.9128189086914, 80.13601684570312, 79.49561309814453, 78.57929229736328, 77.64071655273438, 63.122802734375, 56.312870025634766, 56.14925003051758, 55.96455764770508, 55.754695892333984, 50.13639831542969, 121.3001480102539, 46.77706527709961, 45.56747055053711, 43.90351867675781, 40.942935943603516, 40.710205078125, 40.423606872558594, 37.54701232910156, 37.186031341552734, 37.18877410888672, 37.165771484375, 146.64784240722656, 50.82160186767578, 102.7290267944336, 179.1729736328125, 144.77969360351562, 69.3372802734375, 87.86060333251953, 118.71739959716797, 115.11844635009766, 161.8379364013672, 104.22001647949219, 153.54649353027344, 93.74632263183594, 117.60692596435547, 92.75090026855469, 137.2919464111328, 203.490234375, 243.31871032714844, 139.0235137939453, 300.9366149902344, 1440.5853271484375, 968.3418579101562, 303.93206787109375, 327.96380615234375, 317.82818603515625, 183.92286682128906, 782.4823608398438, 342.65313720703125, 303.1760559082031, 577.4485473632812, 529.19970703125, 517.6962280273438, 427.7156982421875, 408.6193542480469, 397.7108459472656, 754.0296020507812, 439.5437316894531, 433.1373291015625, 394.0933532714844, 544.4271850585938, 1085.0872802734375, 647.5046997070312, 490.4052429199219, 552.9874267578125, 663.0499877929688, 478.71478271484375, 385.70489501953125, 502.5535583496094, 643.1024169921875, 639.266357421875, 464.5519104003906, 397.0263366699219, 388.17620849609375, 423.983642578125, 378.7406921386719, 353.6328125, 383.7322692871094, 292.6474914550781, 269.7354431152344, 264.4815368652344, 144.47052001953125, 133.8116455078125, 676.8040161132812, 120.04519653320312, 115.01306915283203, 110.13166046142578, 108.35530853271484, 97.20479583740234, 94.38578033447266, 88.10733795166016, 87.90448760986328, 162.75474548339844, 84.09268188476562, 83.87104034423828, 83.22611236572266, 73.64568328857422, 68.94149017333984, 84.29270935058594, 68.32221984863281, 67.93255615234375, 67.0787353515625, 66.93730926513672, 128.0441131591797, 61.99235534667969, 58.85233688354492, 53.6930046081543, 427.2707824707031, 678.2919311523438, 455.68682861328125, 356.89300537109375, 269.479736328125, 578.05322265625, 307.9931335449219, 373.8215026855469, 290.69012451171875, 811.6470336914062, 1157.11669921875, 823.16357421875, 119.76505279541016, 136.79550170898438, 328.85711669921875, 173.01316833496094, 389.106201171875, 164.1746368408203, 624.2455444335938, 298.516357421875, 188.89247131347656, 293.11431884765625, 237.0893096923828, 315.03179931640625, 546.0567626953125, 479.5116271972656, 547.645751953125, 619.329345703125, 466.4993591308594, 379.3102111816406, 506.1847229003906, 753.54931640625, 559.0123291015625, 481.3768005371094, 362.9047546386719, 408.25347900390625, 336.42681884765625, 338.14117431640625, 359.4967346191406, 327.1474304199219, 557.8187866210938, 352.0617980957031, 417.8286437988281, 245.60069274902344, 224.73779296875, 214.3365936279297, 205.28271484375, 199.83013916015625, 389.1038818359375, 187.94354248046875, 180.21939086914062, 160.48768615722656, 123.95278930664062, 105.60873413085938, 102.75743865966797, 101.00830078125, 106.48931121826172, 90.96376037597656, 86.71870422363281, 85.44115447998047, 80.17640686035156, 318.38323974609375, 76.07245635986328, 73.89022827148438, 73.04634094238281, 72.08502960205078, 69.28837585449219, 67.68302154541016, 66.11264038085938, 64.33418273925781, 151.2436981201172, 101.07209777832031, 317.36865234375, 269.31573486328125, 156.0986328125, 296.7088317871094, 1094.0235595703125, 281.44830322265625, 454.43133544921875, 178.23036193847656, 192.07455444335938, 221.2554931640625, 283.2747802734375, 320.42791748046875, 145.82456970214844, 222.694091796875, 344.1676330566406, 606.4777221679688, 314.58148193359375, 346.9508056640625, 445.393798828125, 238.8099822998047, 379.37322998046875, 327.00390625, 616.4700317382812, 483.7433776855469, 341.6272277832031, 324.3699035644531, 294.5733337402344, 270.7500305175781, 232.7353515625, 224.7647247314453, 688.363037109375, 606.60595703125, 485.3160705566406, 305.6734313964844, 236.0994110107422, 227.18771362304688, 203.65455627441406, 180.7094268798828, 135.24862670898438, 128.5226593017578, 123.06477355957031, 105.4831771850586, 105.18629455566406, 100.3760986328125, 97.34182739257812, 96.18516540527344, 92.8828125, 92.7667007446289, 91.07115173339844, 84.17535400390625, 80.30001831054688, 80.2194595336914, 79.78148651123047, 76.71500396728516, 72.40209197998047, 71.60332489013672, 67.46858215332031, 64.329345703125, 63.05573654174805, 63.65302658081055, 111.55240631103516, 88.83146667480469, 204.16668701171875, 313.7388610839844, 288.61865234375, 97.23648834228516, 132.03785705566406, 313.1777038574219, 309.1253967285156, 148.52650451660156, 173.88534545898438, 379.5044250488281, 168.984619140625, 153.98936462402344, 252.37583923339844, 348.8514709472656, 729.2507934570312, 232.84072875976562, 153.02932739257812, 153.63162231445312, 838.229736328125, 154.44244384765625, 195.59652709960938, 233.85098266601562, 208.81707763671875, 332.8216247558594, 205.8428497314453, 223.0975799560547, 230.95399475097656, 239.46847534179688, 191.1356201171875, 207.7432098388672, 203.73599243164062, 191.02249145507812, 159.69900512695312, 128.32386779785156, 76.8404541015625, 62.939674377441406, 61.33940887451172, 60.571617126464844, 57.28778839111328, 46.33035659790039, 41.23726272583008, 39.08406066894531, 38.05881881713867, 38.00691223144531, 36.86502456665039, 36.64835739135742, 35.554988861083984, 34.261268615722656, 33.85408020019531, 33.7702751159668, 32.89347457885742, 36.70466613769531, 31.293733596801758, 31.013107299804688, 30.891630172729492, 29.10410499572754, 28.85904884338379, 28.74551010131836, 28.375167846679688, 28.204675674438477, 28.01690101623535, 27.80475425720215, 57.50521469116211, 52.61867141723633, 96.99586486816406, 89.14041137695312, 110.44950103759766, 56.98550033569336, 72.3924560546875, 107.20384216308594, 78.38998413085938, 85.915771484375, 259.7088317871094, 134.5335693359375, 192.77029418945312, 532.4081420898438, 284.4790344238281, 170.44952392578125, 179.22415161132812, 476.9089660644531, 171.4823760986328, 163.45361328125, 153.78515625, 718.3214111328125, 439.6711730957031, 254.4504852294922, 612.8062133789062, 156.69654846191406, 408.0589599609375, 294.9541015625, 722.0125732421875, 213.05520629882812, 145.4867706298828, 428.0790710449219, 531.2797241210938, 349.7939147949219, 434.8115539550781, 383.4285888671875, 282.18310546875, 250.39646911621094, 182.4132080078125, 223.650390625, 208.02938842773438, 242.85777282714844, 227.18801879882812, 224.13827514648438, 230.8702392578125, 253.77110290527344, 229.23822021484375, 229.694091796875, 251.70506286621094, 224.55198669433594, 220.3551483154297, 121.24008178710938, 120.37276458740234, 90.7138900756836, 81.08818817138672, 71.75224304199219, 69.30519104003906, 66.75230407714844, 65.86952209472656, 63.4351692199707, 60.2014274597168, 58.13581085205078, 51.69951629638672, 50.85602569580078, 49.29096221923828, 50.44488525390625, 46.651241302490234, 46.38581466674805, 45.521121978759766, 43.80588912963867, 42.199562072753906, 41.9500732421875, 41.6517333984375, 41.25883102416992, 39.02204895019531, 38.361873626708984, 37.760215759277344, 37.72726821899414, 35.93021774291992, 35.861934661865234, 35.393821716308594, 245.40614318847656, 602.78857421875, 551.9710083007812, 385.0142822265625, 94.43949127197266, 134.3818817138672, 310.3899841308594, 115.6952133178711, 188.8874969482422, 394.18798828125, 76.63737487792969, 80.39830017089844, 346.5965270996094, 150.78831481933594, 377.26678466796875, 258.8731384277344, 189.21588134765625, 245.72317504882812, 129.73876953125, 174.3158416748047, 243.0206756591797, 131.3380126953125, 120.04786682128906, 299.987060546875, 110.5191879272461, 246.626220703125, 105.02851867675781, 153.284423828125, 239.9212188720703, 144.65380859375, 188.8734130859375, 160.00924682617188, 190.80316162109375, 309.0443115234375, 290.3242492675781, 154.43710327148438, 211.6758270263672, 166.63438415527344, 160.4109649658203, 177.45387268066406, 154.255615234375, 180.798583984375, 168.13880920410156, 167.5417938232422, 159.50448608398438, 828.9189453125, 236.72625732421875, 232.95213317871094, 218.04397583007812, 170.19674682617188, 159.99652099609375, 142.97483825683594, 118.69094848632812, 678.7980346679688, 87.87421417236328, 82.61444854736328, 80.78373718261719, 80.2778091430664, 75.19304656982422, 71.40986633300781, 63.4912109375, 60.981666564941406, 59.380008697509766, 57.55970764160156, 245.66534423828125, 53.337257385253906, 50.658851623535156, 49.18608856201172, 44.31849670410156, 40.22163009643555, 37.313819885253906, 33.31626892089844, 33.31520080566406, 32.49888229370117, 32.49888229370117, 258.59246826171875, 125.99075317382812, 87.81505584716797, 146.23910522460938, 249.50863647460938, 259.02691650390625, 1288.7506103515625, 608.1126708984375, 179.9523162841797, 304.663818359375, 288.49249267578125, 335.8843994140625, 162.919189453125, 337.73883056640625, 307.084228515625, 337.41009521484375, 220.27537536621094, 738.087890625, 188.59527587890625, 247.99539184570312, 458.5916748046875, 296.59912109375, 430.50946044921875, 230.6775665283203, 272.3870544433594, 195.63966369628906, 238.42041015625, 306.9755859375, 276.6971740722656, 251.57278442382812, 231.15028381347656, 223.58949279785156, 586.8624267578125, 441.6014099121094, 379.3764953613281, 366.7869567871094, 271.02386474609375, 179.4895477294922, 147.64451599121094, 124.44853973388672, 112.60469818115234, 108.2665786743164, 107.8650894165039, 844.8067016601562, 99.0575942993164, 95.40984344482422, 95.25235748291016, 92.64633178710938, 84.87842559814453, 82.94140625, 82.7990951538086, 79.9801025390625, 79.67488861083984, 75.08021545410156, 67.96623229980469, 66.81948852539062, 61.30977249145508, 59.972042083740234, 59.11907196044922, 56.59248352050781, 55.616634368896484, 55.46360397338867, 366.53515625, 757.8739624023438, 92.61293029785156, 97.79158020019531, 194.88369750976562, 134.1726837158203, 181.90371704101562, 234.4879608154297, 168.03106689453125, 96.207275390625, 144.6009063720703, 108.7760238647461, 667.1592407226562, 344.63616943359375, 117.38103485107422, 178.9696044921875, 162.36502075195312, 136.89871215820312, 120.25469970703125, 359.3309020996094, 135.0814666748047, 171.59075927734375, 297.8460693359375, 154.607421875, 258.3926696777344, 155.19712829589844, 151.13311767578125, 199.85804748535156, 187.31053161621094, 224.23374938964844, 231.9143829345703, 163.8079833984375, 151.31089782714844, 82.42666625976562, 81.36204528808594, 78.21650695800781, 72.57936096191406, 60.185218811035156, 62.37612533569336, 51.84691619873047, 48.31196594238281, 169.6936492919922, 41.834251403808594, 39.278011322021484, 39.183197021484375, 38.998844146728516, 38.95038986206055, 38.615230560302734, 37.26697540283203, 36.37905502319336, 35.81208419799805, 35.591575622558594, 48.135467529296875, 206.6057586669922, 34.009307861328125, 33.94188690185547, 32.98518371582031, 32.71625900268555, 32.24259948730469, 32.12343978881836, 31.84321403503418, 31.7513370513916, 30.132783889770508, 246.8678741455078, 105.53648376464844, 98.48051452636719, 73.7508544921875, 50.06190490722656, 111.00042724609375, 83.05274963378906, 151.49842834472656, 160.5320281982422, 57.60200881958008, 44.68204879760742, 119.98220825195312, 204.2227783203125, 123.9856185913086, 81.44862365722656, 89.93331909179688, 231.5353546142578, 54.325496673583984, 134.7444305419922, 179.61453247070312, 91.70585632324219, 167.28187561035156, 145.4483184814453, 152.91705322265625, 156.97244262695312, 115.45291900634766, 155.29869079589844, 195.38937377929688, 269.2822570800781, 133.73773193359375, 177.09078979492188, 228.19398498535156, 112.78133392333984, 176.32760620117188, 107.61376190185547, 164.76380920410156, 209.9435272216797, 161.85816955566406, 126.59117889404297, 132.25929260253906, 125.8807373046875, 132.0139617919922, 137.40223693847656, 120.96266174316406, 619.0670166015625, 707.1845703125, 328.5530700683594, 308.7926330566406, 170.0074005126953, 145.78720092773438, 119.54240417480469, 86.38288879394531, 82.81465148925781, 81.0546646118164, 78.6022720336914, 73.53242492675781, 71.33454132080078, 69.81669616699219, 110.18029022216797, 57.76689529418945, 55.47781753540039, 52.69038772583008, 48.95210266113281, 241.55239868164062, 43.7667350769043, 43.55099105834961, 43.43703079223633, 42.8438720703125, 42.309505462646484, 41.84004211425781, 41.255584716796875, 95.10065460205078, 40.34746170043945, 37.021175384521484, 466.3807373046875, 741.7657470703125, 50.190589904785156, 349.4415588378906, 952.6090087890625, 251.70623779296875, 247.21998596191406, 477.71966552734375, 78.08435821533203, 76.5313949584961, 94.75914001464844, 272.7084655761719, 290.1512451171875, 301.9962463378906, 211.55691528320312, 175.3951416015625, 133.97885131835938, 116.59467315673828, 230.06207275390625, 395.66552734375, 163.15733337402344, 612.5140991210938, 193.00814819335938, 229.90870666503906, 244.18228149414062, 211.79798889160156, 240.04103088378906, 213.95376586914062, 290.0602722167969, 248.50296020507812, 219.5735321044922, 227.68861389160156, 201.21961975097656, 282.7835998535156, 161.3402557373047, 152.16383361816406, 82.319580078125, 61.46166229248047, 57.138545989990234, 52.21253204345703, 48.670814514160156, 47.02727127075195, 46.397308349609375, 45.037906646728516, 35.063987731933594, 33.46150207519531, 32.808902740478516, 31.67286491394043, 31.606861114501953, 30.191608428955078, 29.658203125, 25.594940185546875, 24.990131378173828, 24.692285537719727, 24.044591903686523, 22.638154983520508, 22.43076515197754, 328.454345703125, 19.942461013793945, 19.770118713378906, 19.489990234375, 19.189970016479492, 40.65346908569336, 176.33273315429688, 1147.109130859375, 36.87311553955078, 94.81624603271484, 157.85670471191406, 153.7325439453125, 170.40008544921875, 144.65725708007812, 93.22716522216797, 948.9230346679688, 1023.302978515625, 789.0075073242188, 47.56565475463867, 274.8271179199219, 392.0440368652344, 577.517333984375, 161.42678833007812, 482.6405029296875, 180.0811309814453, 928.8995971679688, 313.4171447753906, 314.9519348144531, 297.8127746582031, 107.01786041259766, 949.6554565429688, 197.88235473632812, 220.37741088867188, 387.1369934082031, 279.7177429199219, 417.886474609375, 476.926513671875, 228.89544677734375, 241.26844787597656, 230.65516662597656, 231.55079650878906, 206.9300537109375, 219.43820190429688, 203.37123107910156, 184.70875549316406, 184.26290893554688, 348.8913879394531, 146.7046661376953, 118.61953735351562, 112.38436889648438, 106.35186004638672, 92.84748840332031, 92.5660400390625, 73.57536315917969, 69.98597717285156, 67.87372589111328, 67.54801177978516, 66.76522064208984, 66.47311401367188, 64.0739517211914, 61.91512680053711, 61.04756546020508, 53.95663833618164, 50.87184143066406, 55.88328170776367, 46.82674789428711, 45.85234451293945, 44.43197250366211, 42.334136962890625, 40.20923614501953, 39.05326461791992, 38.920074462890625, 38.704345703125, 36.40721130371094, 36.28194046020508, 35.87358856201172, 197.69610595703125, 88.8194580078125, 57.123477935791016, 219.86610412597656, 207.82664489746094, 65.27169036865234, 165.2266845703125, 110.59085083007812, 79.94841003417969, 66.30321502685547, 158.36900329589844, 102.53230285644531, 118.5100326538086, 112.37890625, 72.32052612304688, 69.67524719238281, 99.45108795166016, 100.95276641845703, 82.1655044555664, 74.83262634277344, 80.05818176269531, 74.36260986328125, 80.16378021240234, 75.32512664794922, 74.16173553466797, 74.23680114746094, 271.1944580078125, 228.63330078125, 199.99073791503906, 191.95602416992188, 174.36485290527344, 134.47434997558594, 117.68719482421875, 113.57148742675781, 90.7400131225586, 86.65673065185547, 85.75178527832031, 82.56625366210938, 82.55720520019531, 78.26691436767578, 70.31350708007812, 68.84465789794922, 68.64634704589844, 67.53916931152344, 55.3052864074707, 54.197383880615234, 54.13880157470703, 51.57919692993164, 94.57595825195312, 49.27308654785156, 49.22547912597656, 47.131473541259766, 44.717918395996094, 43.748130798339844, 167.94158935546875, 42.880523681640625, 1257.52978515625, 451.0191345214844, 161.98318481445312, 166.30735778808594, 118.58905029296875, 255.99476623535156, 132.17816162109375, 63.80429458618164, 76.99992370605469, 90.44679260253906, 102.69135284423828, 186.98529052734375, 125.1553726196289, 112.118408203125, 80.18282318115234, 99.02865600585938, 117.5816421508789, 105.21453857421875, 91.64715576171875, 89.50322723388672, 116.316162109375, 73.58966064453125, 66.92965698242188, 65.75587463378906, 60.89767074584961, 59.10973358154297, 59.900333404541016, 53.713401794433594, 53.63779830932617, 51.00880813598633, 48.036346435546875, 47.8714485168457, 64.72600555419922, 44.567806243896484, 44.11756134033203, 41.86539840698242, 41.23902893066406, 38.449546813964844, 38.41346740722656, 36.868656158447266, 36.808353424072266, 36.761390686035156, 35.024322509765625, 33.65434265136719, 33.598541259765625, 33.4857292175293, 33.03413391113281, 32.948081970214844, 32.91810989379883, 32.85453796386719, 76.30757904052734, 121.2767562866211, 85.32889556884766, 67.49451446533203, 55.70866012573242, 325.4712219238281, 72.33876037597656, 94.80952453613281, 60.451534271240234, 62.226348876953125, 201.5938720703125, 102.47695922851562, 88.75099182128906, 204.93675231933594, 77.609619140625, 89.46835327148438, 70.24185180664062, 105.49877166748047, 83.78404235839844, 104.67169189453125, 83.87725067138672, 113.51421356201172, 73.2878646850586, 103.99707794189453, 65.73267364501953, 65.63777923583984, 61.93935775756836, 261.2395324707031, 93.07575225830078, 65.32061004638672, 61.431678771972656, 48.372169494628906, 44.01832962036133, 44.01572799682617, 43.990692138671875, 39.22325134277344, 38.86615753173828, 38.75570297241211, 37.49160385131836, 34.51575469970703, 32.36695861816406, 31.22352409362793, 30.208236694335938, 29.952573776245117, 29.71367073059082, 28.98590850830078, 28.39940643310547, 27.460063934326172, 27.4577693939209, 27.242416381835938, 26.244504928588867, 26.24308967590332, 25.540348052978516, 25.40904426574707, 25.250036239624023, 25.235807418823242, 25.17212677001953, 157.71755981445312, 59.28844451904297, 42.153717041015625, 75.5448989868164, 36.018917083740234, 196.3778839111328, 52.722679138183594, 152.50497436523438, 43.34424591064453, 41.60570526123047, 93.61653900146484, 74.83202362060547, 52.65389633178711, 111.1253433227539, 58.945220947265625, 50.726566314697266, 95.69660949707031, 146.36788940429688, 42.308250427246094, 67.6173095703125, 104.13430786132812, 62.06889724731445, 61.605743408203125, 53.9620475769043, 57.73830032348633, 59.6538200378418, 54.90790557861328, 51.11427688598633, 46.343841552734375, 45.596954345703125, 549.2926635742188, 336.8754577636719, 222.82217407226562, 149.40415954589844, 116.17815399169922, 105.40789031982422, 76.36872100830078, 70.88567352294922, 69.25426483154297, 64.1153793334961, 58.54768371582031, 53.85719680786133, 48.95303726196289, 47.27165222167969, 43.24257278442383, 40.609195709228516, 29.98664665222168, 28.81954574584961, 26.067323684692383, 25.783859252929688, 25.760879516601562, 25.029531478881836, 24.60468101501465, 23.66927719116211, 23.55034637451172, 23.1572322845459, 23.140766143798828, 22.33292579650879, 22.07688331604004, 21.65475082397461, 45.754600524902344, 115.37094116210938, 32.78907775878906, 31.71626091003418, 47.019615173339844, 144.97824096679688, 66.28965759277344, 58.17173385620117, 136.5210723876953, 35.89727783203125, 209.8781280517578, 123.77198791503906, 101.38943481445312, 61.55181121826172, 73.71637725830078, 111.84745025634766, 61.94666290283203, 73.79042053222656, 60.26423263549805, 52.95915222167969, 53.380592346191406, 49.75069808959961, 304.3184814453125, 73.50936126708984, 43.55973815917969, 43.12773132324219, 37.625343322753906, 77.98603057861328, 33.74723434448242, 33.61283874511719, 33.38239288330078, 31.190587997436523, 31.088842391967773, 29.601137161254883, 28.704391479492188, 28.465177536010742, 250.40269470214844, 24.922260284423828, 24.520971298217773, 23.371177673339844, 22.593095779418945, 21.554302215576172, 21.020376205444336, 20.35906982421875, 20.264034271240234, 19.44172477722168, 19.193675994873047, 18.89337158203125, 18.55731201171875, 18.057899475097656, 17.986425399780273, 17.633323669433594, 79.81204986572266, 28.627639770507812, 251.71902465820312, 211.4118194580078, 58.868927001953125, 45.08599090576172, 155.44921875, 183.9801483154297, 58.6380615234375, 87.68946075439453, 44.82760238647461, 245.23593139648438, 162.2559356689453, 51.748287200927734, 101.24882507324219, 68.41378784179688, 70.39035034179688, 98.55669403076172, 42.7491340637207, 51.463504791259766, 63.13562774658203, 97.09127807617188, 116.23353576660156, 45.67226791381836, 143.03237915039062, 70.28775787353516, 105.87715911865234, 64.47966003417969, 73.00370025634766, 96.38771057128906, 62.30558776855469, 93.91493225097656, 65.05455017089844, 78.25692749023438, 79.7486801147461, 64.45696258544922, 67.05427551269531, 65.001220703125, 74.25971221923828, 38.773765563964844, 35.34373474121094, 31.923288345336914, 31.712913513183594, 27.839658737182617, 27.063018798828125, 26.168441772460938, 25.553010940551758, 25.37162208557129, 24.601573944091797, 24.192485809326172, 21.294496536254883, 20.966371536254883, 20.80544662475586, 20.607421875, 20.575458526611328, 19.80904197692871, 19.13861083984375, 17.78213119506836, 17.61472511291504, 17.593435287475586, 16.939655303955078, 16.505325317382812, 16.3667049407959, 15.382474899291992, 15.174665451049805, 15.074419975280762, 79.35604858398438, 14.959317207336426, 52.669498443603516, 29.973543167114258, 35.0703010559082, 31.822690963745117, 43.585060119628906, 25.60862922668457, 99.85247802734375, 64.32444763183594, 57.02443313598633, 38.85687255859375, 26.183422088623047, 30.3226261138916, 34.15432357788086, 42.37738800048828, 24.815954208374023, 27.53191375732422, 28.033037185668945, 26.827560424804688, 27.842618942260742, 27.354707717895508, 56.305355072021484, 31.653209686279297, 30.730913162231445, 29.90691375732422, 29.242271423339844, 28.17180633544922, 26.733642578125, 25.306917190551758, 24.93413543701172, 24.88479995727539, 23.191978454589844, 22.9953556060791, 21.918912887573242, 21.33751678466797, 21.07047462463379, 18.562776565551758, 17.92877769470215, 17.617549896240234, 17.119564056396484, 16.79001235961914, 15.674793243408203, 13.266731262207031, 12.938316345214844, 34.53309631347656, 12.172955513000488, 12.088358879089355, 12.028694152832031, 11.301460266113281, 11.004983901977539, 10.761582374572754, 26.883005142211914, 40.88202667236328, 34.43067169189453, 35.06147003173828, 82.06000518798828, 35.39945602416992, 22.800949096679688, 38.224708557128906, 34.40269470214844, 29.694143295288086, 24.50951385498047, 34.974098205566406, 23.747570037841797, 20.266048431396484, 21.470691680908203], \"Total\": [6409.0, 3627.0, 1356.0, 1872.0, 1618.0, 1240.0, 1485.0, 1102.0, 4184.0, 1288.0, 4370.0, 852.0, 3196.0, 1291.0, 2585.0, 1625.0, 2092.0, 829.0, 1203.0, 782.0, 789.0, 550.0, 708.0, 1100.0, 1226.0, 1561.0, 1905.0, 1523.0, 620.0, 685.0, 978.4600219726562, 563.288818359375, 406.4944152832031, 257.3970642089844, 227.875732421875, 405.4892578125, 448.18701171875, 186.00531005859375, 177.96487426757812, 175.95558166503906, 168.2802734375, 149.60775756835938, 144.2054443359375, 138.4603271484375, 126.39471435546875, 117.09713745117188, 110.5999526977539, 101.29521942138672, 97.80187225341797, 274.2537841796875, 89.72550964355469, 88.6227035522461, 86.1142349243164, 84.47526550292969, 81.70767974853516, 80.0179214477539, 78.01361083984375, 77.09021759033203, 74.2707290649414, 73.00225067138672, 620.727294921875, 414.76220703125, 451.3078308105469, 188.36293029785156, 441.0305480957031, 194.74514770507812, 487.1083679199219, 434.98260498046875, 238.20660400390625, 261.13946533203125, 198.79586791992188, 1422.7042236328125, 322.0839538574219, 249.80650329589844, 557.2903442382812, 492.1544494628906, 842.7507934570312, 4370.9716796875, 458.2211608886719, 419.4462585449219, 819.5430908203125, 1025.3773193359375, 3196.381103515625, 1131.6434326171875, 379.82598876953125, 6409.361328125, 655.2987060546875, 1377.3336181640625, 2270.9970703125, 1315.42822265625, 1058.8466796875, 2420.66064453125, 1425.466552734375, 751.9134521484375, 3627.04345703125, 2643.768798828125, 2143.55322265625, 1184.2845458984375, 4184.07958984375, 2585.889404296875, 1684.47705078125, 3603.631591796875, 3149.346435546875, 2192.73974609375, 2641.219970703125, 1193.4234619140625, 1536.2000732421875, 1936.3267822265625, 1869.5283203125, 131.20208740234375, 110.88410186767578, 94.7088851928711, 93.19599151611328, 90.91519927978516, 85.30037689208984, 82.00352478027344, 81.9171142578125, 81.87298583984375, 81.09618377685547, 80.45597839355469, 79.53945922851562, 78.60088348388672, 64.08299255371094, 57.27303695678711, 57.10943603515625, 56.92479705810547, 56.71486282348633, 51.09656524658203, 123.75093078613281, 47.73723220825195, 46.52763748168945, 44.863685607910156, 41.90310287475586, 41.670372009277344, 41.38377380371094, 38.507179260253906, 38.14619827270508, 38.1495361328125, 38.12596130371094, 151.34996032714844, 52.62767791748047, 110.00460815429688, 198.08914184570312, 160.41212463378906, 73.95938873291016, 95.72628784179688, 133.06939697265625, 129.2041778564453, 188.61900329589844, 116.19535827636719, 183.11131286621094, 105.6839828491211, 138.51467895507812, 104.58876037597656, 168.03590393066406, 274.84326171875, 347.05230712890625, 174.37591552734375, 492.2837829589844, 4184.07958984375, 2585.889404296875, 532.1085815429688, 597.059814453125, 578.3966674804688, 267.16107177734375, 2192.73974609375, 670.0614013671875, 589.4998168945312, 1757.937255859375, 1536.2000732421875, 1554.7530517578125, 1143.717041015625, 1083.847900390625, 1050.4586181640625, 3149.346435546875, 1255.1292724609375, 1237.8978271484375, 1056.5169677734375, 1869.5283203125, 6409.361328125, 2643.768798828125, 1660.7752685546875, 2143.55322265625, 3196.381103515625, 1731.3553466796875, 1115.429443359375, 2015.34619140625, 3627.04345703125, 3603.631591796875, 2420.66064453125, 1485.096923828125, 1460.894775390625, 2641.219970703125, 1684.47705078125, 1589.7427978515625, 384.70001220703125, 293.6077575683594, 270.6957092285156, 265.4418029785156, 145.4308624267578, 134.77178955078125, 681.80859375, 121.00537872314453, 115.97325134277344, 111.09184265136719, 109.31549072265625, 98.16539764404297, 95.34596252441406, 89.06752014160156, 88.86466979980469, 164.55490112304688, 85.05286407470703, 84.83122253417969, 84.1865005493164, 74.60586547851562, 69.90167236328125, 85.47636413574219, 69.28240203857422, 68.89273834228516, 68.0389175415039, 67.89749145507812, 129.95803833007812, 62.95254135131836, 59.812522888183594, 54.65319061279297, 438.5870666503906, 730.6123657226562, 484.8519287109375, 384.6822509765625, 290.15960693359375, 660.6561279296875, 338.8309631347656, 424.1051330566406, 326.7630615234375, 1001.0817260742188, 1523.3592529296875, 1100.363525390625, 126.26021575927734, 146.8602752685547, 414.6318359375, 195.95506286621094, 515.139892578125, 184.42396545410156, 943.231201171875, 382.5130920410156, 221.90792846679688, 405.1889953613281, 306.9637756347656, 458.468505859375, 1011.345703125, 873.68798828125, 1203.638427734375, 1582.364013671875, 1011.6011352539062, 733.8079223632812, 1326.6790771484375, 3603.631591796875, 1872.135986328125, 2092.117431640625, 863.8525390625, 1625.6727294921875, 750.9771728515625, 774.630126953125, 1288.9287109375, 688.4673461914062, 558.777587890625, 353.02081298828125, 419.13970947265625, 246.55947875976562, 225.6965789794922, 215.29537963867188, 206.2415008544922, 200.78892517089844, 391.0337829589844, 188.93087768554688, 181.1781768798828, 161.4464874267578, 124.91160583496094, 106.56755065917969, 103.71625518798828, 101.96711730957031, 107.52967834472656, 91.92257690429688, 87.67752075195312, 86.39997100830078, 81.13522338867188, 322.1908264160156, 77.0312728881836, 74.84908294677734, 74.00515747070312, 73.0438461303711, 70.2471923828125, 68.64183807373047, 67.0728988647461, 65.29299926757812, 155.999755859375, 103.41372680664062, 336.9887390136719, 284.5779724121094, 163.0885772705078, 323.2712097167969, 1291.7159423828125, 306.59478759765625, 520.9352416992188, 190.42237854003906, 206.53775024414062, 246.7299041748047, 328.1915283203125, 381.8368225097656, 155.94436645507812, 258.3329772949219, 452.7604675292969, 934.2320556640625, 410.31939697265625, 474.654541015625, 702.926025390625, 343.0597839355469, 952.8317260742188, 768.7338256835938, 6409.361328125, 4370.9716796875, 2092.117431640625, 1936.3267822265625, 2015.34619140625, 2641.219970703125, 1582.364013671875, 628.8934936523438, 689.3243408203125, 607.5672607421875, 486.2774353027344, 306.6347961425781, 237.06065368652344, 228.14895629882812, 204.6157989501953, 181.67066955566406, 136.20986938476562, 129.48391723632812, 124.02604675292969, 106.44445037841797, 106.14756774902344, 101.33737182617188, 98.3031005859375, 97.14643859863281, 93.84408569335938, 93.72797393798828, 92.03242492675781, 85.13662719726562, 81.26129150390625, 81.18073272705078, 80.74275970458984, 77.67627716064453, 73.36336517333984, 72.5645980834961, 68.42985534667969, 65.29061889648438, 64.01700592041016, 64.62669372558594, 113.54957580566406, 90.5445785522461, 212.96812438964844, 337.3782958984375, 322.3768615722656, 101.3410415649414, 142.00421142578125, 393.1505126953125, 393.4067687988281, 173.00289916992188, 212.61328125, 590.2982788085938, 210.62120056152344, 190.3133544921875, 395.21246337890625, 631.8336181640625, 1905.0487060546875, 366.6658935546875, 195.9644317626953, 201.0428924560547, 4370.9716796875, 219.25238037109375, 355.388427734375, 618.026611328125, 481.34796142578125, 2284.760986328125, 635.571044921875, 873.5721435546875, 1184.2845458984375, 1471.0618896484375, 621.2593994140625, 2270.9970703125, 3603.631591796875, 1291.7159423828125, 160.66012573242188, 129.2849884033203, 77.80159759521484, 63.90081787109375, 62.30055236816406, 61.53276062011719, 58.248931884765625, 47.291500091552734, 42.19840621948242, 40.045204162597656, 39.019962310791016, 38.96811294555664, 37.826171875, 37.60950469970703, 36.51613235473633, 35.222412109375, 34.815223693847656, 34.73141860961914, 33.854618072509766, 37.82759094238281, 32.254878997802734, 31.97428321838379, 31.852773666381836, 30.071887969970703, 29.820192337036133, 29.706653594970703, 29.33631134033203, 29.16585350036621, 28.978044509887695, 28.765897750854492, 60.10258102416992, 55.43761444091797, 107.31543731689453, 106.07701110839844, 135.04464721679688, 64.32160949707031, 86.08158111572266, 140.09161376953125, 100.63880920410156, 115.80026245117188, 496.9301452636719, 216.9504852294922, 355.90167236328125, 1460.894775390625, 621.2593994140625, 326.748291015625, 369.7209167480469, 1554.7530517578125, 361.9117736816406, 345.9293518066406, 318.912353515625, 3627.04345703125, 1684.47705078125, 734.93359375, 3149.346435546875, 349.9850158691406, 1936.3267822265625, 1115.429443359375, 6409.361328125, 649.0491943359375, 321.2397155761719, 2641.219970703125, 4184.07958984375, 1905.0487060546875, 3196.381103515625, 2643.768798828125, 1412.4132080078125, 1072.5858154296875, 516.3768310546875, 908.828369140625, 749.988525390625, 1173.868408203125, 1056.5169677734375, 1044.9227294921875, 1208.7392578125, 1869.5283203125, 1226.653076171875, 1315.42822265625, 2420.66064453125, 1485.096923828125, 1536.2000732421875, 122.20013427734375, 121.33281707763672, 91.67395782470703, 82.0482406616211, 72.71229553222656, 70.26524353027344, 67.71236419677734, 66.82975006103516, 64.3954849243164, 61.16148376464844, 59.09586715698242, 52.659576416015625, 51.81608200073242, 50.25101852416992, 51.427940368652344, 47.611297607421875, 47.34587097167969, 46.48167037963867, 44.765960693359375, 43.15961837768555, 42.91012954711914, 42.61180114746094, 42.21888732910156, 39.98210525512695, 39.321937561035156, 38.72028350830078, 38.68732452392578, 36.89027404785156, 36.821990966796875, 36.353878021240234, 259.26953125, 665.8590087890625, 630.985595703125, 467.1885681152344, 105.86112976074219, 156.22239685058594, 410.0329895019531, 135.5287628173828, 239.96499633789062, 579.9547729492188, 86.89098358154297, 93.06216430664062, 560.7028198242188, 201.43472290039062, 644.4061889648438, 408.117431640625, 274.6366271972656, 384.8457336425781, 171.04449462890625, 250.44813537597656, 392.0291442871094, 174.9651641845703, 162.14810180664062, 628.8934936523438, 146.81646728515625, 515.3693237304688, 138.87973022460938, 259.7903747558594, 608.6546020507812, 250.83287048339844, 430.63226318359375, 332.5979309082031, 499.77569580078125, 1582.364013671875, 1625.6727294921875, 354.2759704589844, 1561.194091796875, 545.86279296875, 466.2759704589844, 952.8317260742188, 398.4730224609375, 1398.708984375, 1757.937255859375, 3603.631591796875, 1471.0618896484375, 829.8843383789062, 237.69155883789062, 233.9174346923828, 219.00927734375, 171.16204833984375, 160.96182250976562, 143.9401397705078, 119.6562728881836, 685.64111328125, 88.83953857421875, 83.57977294921875, 81.74907684326172, 81.24313354492188, 76.15837097167969, 72.37519073486328, 64.45654296875, 61.94699478149414, 60.3453369140625, 58.5250358581543, 249.83828735351562, 54.30258560180664, 51.62417984008789, 50.15141677856445, 45.2838249206543, 41.18695831298828, 38.27914810180664, 34.28159713745117, 34.2805290222168, 33.464210510253906, 33.464210510253906, 272.85980224609375, 132.35055541992188, 91.87323760986328, 163.73394775390625, 300.9175720214844, 317.8409423828125, 1872.135986328125, 840.807373046875, 217.51182556152344, 402.0870361328125, 379.4383850097656, 474.2729187011719, 201.84669494628906, 500.1275329589844, 455.8498840332031, 529.1740112304688, 307.22027587890625, 1625.6727294921875, 262.0800476074219, 397.9797058105469, 1047.2984619140625, 631.709716796875, 1398.708984375, 423.3955383300781, 674.2627563476562, 315.32183837890625, 604.7821044921875, 1556.5972900390625, 1193.4234619140625, 1153.3062744140625, 841.1192626953125, 733.8079223632812, 587.82666015625, 442.5655822753906, 380.34063720703125, 367.7510986328125, 271.9880065917969, 180.45359802246094, 148.6085662841797, 125.4126205444336, 113.56888580322266, 109.23065948486328, 108.82917022705078, 852.7713012695312, 100.02167510986328, 96.3739242553711, 96.21643829345703, 93.61041259765625, 85.8425064086914, 83.90548706054688, 83.76317596435547, 80.94517517089844, 80.63896942138672, 76.04429626464844, 68.93031311035156, 67.7835693359375, 62.27384948730469, 60.936119079589844, 60.08314895629883, 57.55656051635742, 56.58071517944336, 56.42768096923828, 374.5728454589844, 782.989013671875, 94.32037353515625, 99.7095718383789, 200.8787384033203, 138.85018920898438, 201.93377685546875, 272.8077392578125, 198.85910034179688, 102.24288940429688, 172.30982971191406, 121.8211441040039, 1561.194091796875, 615.9270629882812, 136.67678833007812, 265.42279052734375, 232.71780395507812, 179.23538208007812, 149.0414581298828, 1399.8760986328125, 192.71112060546875, 410.3827209472656, 2585.889404296875, 360.36334228515625, 2284.760986328125, 372.456298828125, 353.17266845703125, 1237.8978271484375, 989.11572265625, 3196.381103515625, 6409.361328125, 2643.768798828125, 3149.346435546875, 83.38966369628906, 82.32504272460938, 79.17950439453125, 73.5423583984375, 61.148216247558594, 63.43049240112305, 52.809913635253906, 49.27496337890625, 173.44338989257812, 42.79724884033203, 40.24100875854492, 40.14619445800781, 39.96184158325195, 39.913387298583984, 39.57822799682617, 38.22997283935547, 37.3420524597168, 36.775081634521484, 36.55457305908203, 49.441017150878906, 212.3708038330078, 34.97230529785156, 34.904884338378906, 33.94818115234375, 33.67926025390625, 33.205596923828125, 33.0864372253418, 32.806209564208984, 32.714332580566406, 31.095781326293945, 257.00335693359375, 110.82752990722656, 104.3453140258789, 79.32563018798828, 52.856483459472656, 130.5736846923828, 94.7989501953125, 186.39688110351562, 210.0948486328125, 65.0531234741211, 47.969303131103516, 157.74954223632812, 303.25799560546875, 175.14486694335938, 103.39629364013672, 121.00181579589844, 482.3396301269531, 63.47480773925781, 231.94894409179688, 359.40325927734375, 137.44137573242188, 344.2317199707031, 290.0540466308594, 315.805419921875, 332.5979309082031, 246.13818359375, 446.0440979003906, 760.7404174804688, 2192.73974609375, 370.5398864746094, 796.6995239257812, 2270.9970703125, 277.7035217285156, 1471.0618896484375, 245.71353149414062, 1589.7427978515625, 6409.361328125, 2420.66064453125, 700.3063354492188, 1288.4249267578125, 855.0426635742188, 1660.7752685546875, 4370.9716796875, 3603.631591796875, 620.0287475585938, 708.7852783203125, 329.5205993652344, 309.7543640136719, 170.96905517578125, 146.74913024902344, 120.50407409667969, 87.3445816040039, 83.777099609375, 82.0163345336914, 79.5639419555664, 74.49409484863281, 72.29621124267578, 70.77836608886719, 111.81903076171875, 58.72856140136719, 56.439483642578125, 53.65205383300781, 49.91376876831055, 246.7426300048828, 44.72840118408203, 44.512657165527344, 44.39869689941406, 43.805538177490234, 43.27117156982422, 42.80170822143555, 42.21725082397461, 97.3441390991211, 41.30912780761719, 37.98284149169922, 483.4820861816406, 789.8837890625, 51.51080322265625, 375.343505859375, 1102.3267822265625, 278.29180908203125, 278.25189208984375, 573.3533935546875, 82.90377044677734, 83.74604797363281, 107.56165313720703, 379.0954895019531, 409.7578125, 438.932373046875, 288.48126220703125, 231.26156616210938, 165.23699951171875, 141.72271728515625, 372.02044677734375, 844.103515625, 238.40185546875, 2092.117431640625, 330.8214416503906, 441.5216979980469, 527.6719970703125, 418.959228515625, 537.0427856445312, 569.3345336914062, 1326.6790771484375, 1100.363525390625, 809.9254760742188, 1660.7752685546875, 702.926025390625, 283.7481689453125, 162.3214569091797, 153.12835693359375, 83.28411865234375, 62.42619705200195, 58.10308074951172, 53.17707061767578, 49.63534927368164, 47.99180603027344, 47.36184310913086, 46.00244140625, 36.02852249145508, 34.4260368347168, 33.7734375, 32.63739776611328, 32.57139587402344, 31.159181594848633, 30.622739791870117, 26.559476852416992, 25.954668045043945, 25.65682601928711, 25.00912857055664, 23.602691650390625, 23.395301818847656, 343.7445373535156, 20.906997680664062, 20.734655380249023, 20.454526901245117, 20.15450668334961, 42.71147918701172, 185.84463500976562, 1240.1707763671875, 39.08409881591797, 102.5225830078125, 173.43263244628906, 177.11181640625, 204.3538818359375, 177.67222595214844, 109.70792388916016, 1485.8428955078125, 1618.346923828125, 1288.9287109375, 52.89726638793945, 428.7668762207031, 697.9785766601562, 1226.432373046875, 257.18438720703125, 1203.638427734375, 327.9592590332031, 3627.04345703125, 774.630126953125, 818.4235229492188, 841.1192626953125, 174.69192504882812, 6409.361328125, 519.9732055664062, 631.4290161132812, 1731.3553466796875, 1044.9227294921875, 2641.219970703125, 4184.07958984375, 873.68798828125, 1582.364013671875, 1417.984375, 1869.5283203125, 1131.6434326171875, 3603.631591796875, 1660.7752685546875, 1556.5972900390625, 2585.889404296875, 349.85321044921875, 147.66644287109375, 119.58132934570312, 113.34616088867188, 107.31365203857422, 93.80928039550781, 93.52783203125, 74.53715515136719, 70.94776916503906, 68.83551788330078, 68.50980377197266, 67.72732543945312, 67.43495178222656, 65.0403823852539, 62.876983642578125, 62.01026916503906, 54.91842269897461, 51.833717346191406, 56.95863342285156, 47.78853225708008, 46.81412887573242, 45.393768310546875, 43.295921325683594, 41.17176818847656, 40.01504898071289, 39.881858825683594, 39.674198150634766, 37.37218475341797, 37.24372482299805, 36.83537673950195, 212.22463989257812, 96.96592712402344, 60.9935302734375, 302.2244873046875, 285.4281921386719, 75.86369323730469, 245.42843627929688, 152.23387145996094, 99.56523895263672, 78.5408706665039, 288.04290771484375, 152.4840545654297, 195.02162170410156, 316.7589416503906, 108.23478698730469, 100.91580200195312, 484.9042053222656, 734.93359375, 267.16107177734375, 204.51708984375, 490.8544006347656, 358.0218811035156, 1936.3267822265625, 892.420166015625, 1425.466552734375, 2284.760986328125, 272.152099609375, 229.5908966064453, 200.94833374023438, 192.9136199951172, 175.32244873046875, 135.43194580078125, 118.64480590820312, 114.52909851074219, 91.69762420654297, 87.61437225341797, 86.70939636230469, 83.52386474609375, 83.51481628417969, 79.22452545166016, 71.2711181640625, 69.8022689819336, 69.60395812988281, 68.49678039550781, 56.26289749145508, 55.15499496459961, 55.096412658691406, 52.536808013916016, 96.40254974365234, 50.23069763183594, 50.18309020996094, 48.08908462524414, 45.67552947998047, 44.70574188232422, 171.6737518310547, 43.838134765625, 1356.917236328125, 490.466064453125, 174.49143981933594, 192.69876098632812, 136.7230224609375, 405.8638610839844, 250.74722290039062, 75.58688354492188, 118.93663024902344, 181.71084594726562, 260.2434997558594, 1326.6790771484375, 505.12060546875, 515.3693237304688, 139.3596649169922, 560.7028198242188, 2092.117431640625, 2284.760986328125, 888.0354614257812, 3603.631591796875, 117.28126525878906, 74.55476379394531, 67.89476013183594, 66.72097778320312, 61.862770080566406, 60.074832916259766, 60.91584014892578, 54.67850112915039, 54.60294723510742, 51.973907470703125, 49.00144577026367, 48.8365478515625, 66.12378692626953, 45.53290557861328, 45.08266067504883, 42.83049774169922, 42.20412826538086, 39.41464614868164, 39.37856674194336, 37.83375549316406, 37.77345275878906, 37.72649002075195, 35.98942184448242, 34.619441986083984, 34.56364059448242, 34.450828552246094, 33.99923324584961, 33.91318130493164, 33.883209228515625, 33.819637298583984, 78.97932434082031, 132.8063201904297, 94.44377899169922, 73.68315887451172, 61.6213264465332, 511.5508728027344, 87.21918487548828, 125.20104217529297, 73.46895599365234, 85.62321472167969, 615.9270629882812, 261.36376953125, 202.9381103515625, 1143.717041015625, 166.23565673828125, 245.72613525390625, 138.58718872070312, 386.6840515136719, 222.72515869140625, 464.0925598144531, 242.09127807617188, 1010.4810791015625, 214.88522338867188, 2284.760986328125, 133.22796630859375, 225.48312377929688, 621.2593994140625, 262.1915283203125, 94.0279312133789, 66.2725601196289, 62.383628845214844, 49.324119567871094, 44.97029113769531, 44.967681884765625, 44.94264221191406, 40.175201416015625, 39.81810760498047, 39.70765686035156, 38.44355773925781, 35.467708587646484, 33.31890869140625, 32.17547607421875, 31.160186767578125, 30.904523849487305, 30.665620803833008, 29.93785858154297, 29.351356506347656, 28.41201400756836, 28.409719467163086, 28.194366455078125, 27.196455001831055, 27.195039749145508, 26.492298126220703, 26.360994338989258, 26.20198631286621, 26.18775749206543, 26.12407684326172, 167.3577423095703, 66.43009185791016, 47.262088775634766, 97.075927734375, 40.578121185302734, 387.2039794921875, 68.25138854980469, 302.96087646484375, 54.58478927612305, 52.89189147949219, 184.58221435546875, 161.2202911376953, 88.37493133544922, 359.58966064453125, 118.3397445678711, 87.98381805419922, 372.456298828125, 1218.5126953125, 61.59213638305664, 229.86087036132812, 863.8525390625, 215.4359893798828, 681.318603515625, 413.96087646484375, 873.5721435546875, 1377.3336181640625, 1425.466552734375, 731.017578125, 1047.2984619140625, 328.6904602050781, 550.2598876953125, 337.8426818847656, 223.78939819335938, 150.3713836669922, 117.14537048339844, 106.37510681152344, 77.3359375, 71.85289001464844, 70.22148132324219, 65.08259582519531, 59.51490783691406, 54.82442092895508, 49.920257568359375, 48.23887252807617, 44.20979309082031, 41.576416015625, 30.953866958618164, 29.786766052246094, 27.034543991088867, 26.751079559326172, 26.728099822998047, 25.99675178527832, 25.571901321411133, 24.636497497558594, 24.517566680908203, 24.124452590942383, 24.107986450195312, 23.300146102905273, 23.044103622436523, 22.621971130371094, 49.402713775634766, 133.004638671875, 35.40562057495117, 34.421287536621094, 58.29841232299805, 253.4976043701172, 92.40476989746094, 79.87818145751953, 259.3712463378906, 43.14727020263672, 590.2982788085938, 366.6658935546875, 354.0593566894531, 151.21124267578125, 267.2112121582031, 952.8317260742188, 262.82086181640625, 474.654541015625, 437.5667419433594, 215.4386444091797, 243.51820373535156, 1025.3773193359375, 305.2879333496094, 74.47881317138672, 44.52919006347656, 44.09718322753906, 38.59479522705078, 80.18169403076172, 34.7166862487793, 34.58229064941406, 34.351844787597656, 32.160037994384766, 32.058292388916016, 30.570587158203125, 29.673839569091797, 29.43462562561035, 259.4945373535156, 25.891708374023438, 25.491376876831055, 24.340625762939453, 23.562543869018555, 22.52375030517578, 21.990053176879883, 21.32851791381836, 21.233482360839844, 20.41117286682129, 20.163124084472656, 19.86281967163086, 19.52676010131836, 19.027347564697266, 18.955873489379883, 18.602771759033203, 91.82141876220703, 31.046125411987305, 348.3328857421875, 306.3829345703125, 74.76480102539062, 55.17637252807617, 244.61508178710938, 305.1895446777344, 81.27320861816406, 143.12701416015625, 59.365623474121094, 589.4998168945312, 349.95977783203125, 73.99866485595703, 202.5537567138672, 117.86705017089844, 125.30720520019531, 244.67324829101562, 58.40888977050781, 81.35627746582031, 130.85983276367188, 332.2719421386719, 519.9732055664062, 68.7773666381836, 989.11572265625, 190.45477294921875, 570.055908203125, 206.12294006347656, 433.3210754394531, 1485.8428955078125, 229.03939819335938, 2015.34619140625, 330.8214416503906, 1203.638427734375, 2585.889404296875, 369.44622802734375, 835.6975708007812, 774.630126953125, 75.22956848144531, 39.743629455566406, 36.3135986328125, 32.893150329589844, 32.682777404785156, 28.825000762939453, 28.032878875732422, 27.138301849365234, 26.522871017456055, 26.341482162475586, 25.571434020996094, 25.162805557250977, 22.26435661315918, 21.93623161315918, 21.775306701660156, 21.577281951904297, 21.545318603515625, 20.778902053833008, 20.108470916748047, 18.751991271972656, 18.584585189819336, 18.563295364379883, 17.909515380859375, 17.47518539428711, 17.337112426757812, 16.35233497619629, 16.1445255279541, 16.044281005859375, 84.48519897460938, 15.929177284240723, 56.331756591796875, 32.105709075927734, 38.80463790893555, 37.426334381103516, 57.1064567565918, 32.5957145690918, 280.20123291015625, 180.65260314941406, 236.3224639892578, 109.19001007080078, 49.6863899230957, 100.91580200195312, 179.7353057861328, 568.66015625, 56.2933235168457, 138.1502685546875, 158.0150146484375, 120.41836547851562, 414.1375427246094, 734.93359375, 57.28239822387695, 32.630252838134766, 31.70795440673828, 30.883955001831055, 30.21931266784668, 29.148847579956055, 27.710683822631836, 26.283958435058594, 25.911182403564453, 25.861841201782227, 24.169023513793945, 23.972396850585938, 22.89595603942871, 22.314558029174805, 22.047515869140625, 19.539817810058594, 18.905818939208984, 18.59459114074707, 18.09660530090332, 17.767053604125977, 16.65183448791504, 14.243772506713867, 13.91535758972168, 37.25792694091797, 13.14999771118164, 13.065401077270508, 13.005735397338867, 12.278501510620117, 11.982025146484375, 11.738624572753906, 31.18653106689453, 56.00642013549805, 46.045074462890625, 47.721343994140625, 147.01776123046875, 52.156158447265625, 30.27117347717285, 62.42320251464844, 55.5697135925293, 46.85935974121094, 35.03821563720703, 466.185546875, 73.86639404296875, 38.81655502319336, 114.78062438964844], \"Category\": [\"Default\", \"Default\", \"Default\", \"Default\", \"Default\", \"Default\", \"Default\", \"Default\", \"Default\", \"Default\", \"Default\", \"Default\", \"Default\", \"Default\", \"Default\", \"Default\", \"Default\", \"Default\", \"Default\", \"Default\", \"Default\", \"Default\", \"Default\", \"Default\", \"Default\", \"Default\", \"Default\", \"Default\", \"Default\", \"Default\", \"Topic1\", \"Topic1\", \"Topic1\", \"Topic1\", \"Topic1\", \"Topic1\", \"Topic1\", \"Topic1\", \"Topic1\", \"Topic1\", \"Topic1\", \"Topic1\", \"Topic1\", \"Topic1\", \"Topic1\", \"Topic1\", \"Topic1\", \"Topic1\", \"Topic1\", \"Topic1\", \"Topic1\", \"Topic1\", \"Topic1\", \"Topic1\", \"Topic1\", \"Topic1\", \"Topic1\", \"Topic1\", \"Topic1\", \"Topic1\", \"Topic1\", \"Topic1\", \"Topic1\", \"Topic1\", \"Topic1\", \"Topic1\", \"Topic1\", \"Topic1\", \"Topic1\", \"Topic1\", \"Topic1\", \"Topic1\", \"Topic1\", \"Topic1\", \"Topic1\", \"Topic1\", \"Topic1\", \"Topic1\", \"Topic1\", \"Topic1\", \"Topic1\", \"Topic1\", \"Topic1\", \"Topic1\", \"Topic1\", \"Topic1\", \"Topic1\", \"Topic1\", \"Topic1\", \"Topic1\", \"Topic1\", \"Topic1\", \"Topic1\", \"Topic1\", \"Topic1\", \"Topic1\", \"Topic1\", \"Topic1\", \"Topic1\", \"Topic1\", \"Topic1\", \"Topic1\", \"Topic1\", \"Topic1\", \"Topic1\", \"Topic1\", \"Topic1\", \"Topic1\", \"Topic1\", \"Topic2\", \"Topic2\", \"Topic2\", \"Topic2\", \"Topic2\", \"Topic2\", \"Topic2\", \"Topic2\", \"Topic2\", \"Topic2\", \"Topic2\", \"Topic2\", \"Topic2\", \"Topic2\", \"Topic2\", \"Topic2\", \"Topic2\", \"Topic2\", \"Topic2\", \"Topic2\", \"Topic2\", \"Topic2\", \"Topic2\", \"Topic2\", \"Topic2\", \"Topic2\", \"Topic2\", \"Topic2\", \"Topic2\", \"Topic2\", \"Topic2\", \"Topic2\", \"Topic2\", \"Topic2\", \"Topic2\", \"Topic2\", \"Topic2\", \"Topic2\", \"Topic2\", \"Topic2\", \"Topic2\", \"Topic2\", \"Topic2\", \"Topic2\", \"Topic2\", \"Topic2\", \"Topic2\", \"Topic2\", \"Topic2\", \"Topic2\", \"Topic2\", \"Topic2\", \"Topic2\", \"Topic2\", \"Topic2\", \"Topic2\", \"Topic2\", \"Topic2\", \"Topic2\", \"Topic2\", \"Topic2\", \"Topic2\", \"Topic2\", \"Topic2\", \"Topic2\", \"Topic2\", \"Topic2\", \"Topic2\", \"Topic2\", \"Topic2\", \"Topic2\", \"Topic2\", \"Topic2\", \"Topic2\", \"Topic2\", \"Topic2\", \"Topic2\", \"Topic2\", \"Topic2\", \"Topic2\", \"Topic2\", \"Topic2\", \"Topic2\", \"Topic2\", \"Topic2\", \"Topic2\", \"Topic3\", \"Topic3\", \"Topic3\", \"Topic3\", \"Topic3\", \"Topic3\", \"Topic3\", \"Topic3\", \"Topic3\", \"Topic3\", \"Topic3\", \"Topic3\", \"Topic3\", \"Topic3\", \"Topic3\", \"Topic3\", \"Topic3\", \"Topic3\", \"Topic3\", \"Topic3\", \"Topic3\", \"Topic3\", \"Topic3\", \"Topic3\", \"Topic3\", \"Topic3\", \"Topic3\", \"Topic3\", \"Topic3\", \"Topic3\", \"Topic3\", \"Topic3\", \"Topic3\", \"Topic3\", \"Topic3\", \"Topic3\", \"Topic3\", \"Topic3\", \"Topic3\", \"Topic3\", \"Topic3\", \"Topic3\", \"Topic3\", \"Topic3\", \"Topic3\", \"Topic3\", \"Topic3\", \"Topic3\", \"Topic3\", \"Topic3\", \"Topic3\", \"Topic3\", \"Topic3\", \"Topic3\", \"Topic3\", \"Topic3\", \"Topic3\", \"Topic3\", \"Topic3\", \"Topic3\", \"Topic3\", \"Topic3\", \"Topic3\", \"Topic3\", \"Topic3\", \"Topic3\", \"Topic3\", \"Topic3\", \"Topic3\", \"Topic3\", \"Topic4\", \"Topic4\", \"Topic4\", \"Topic4\", \"Topic4\", \"Topic4\", \"Topic4\", \"Topic4\", \"Topic4\", \"Topic4\", \"Topic4\", \"Topic4\", \"Topic4\", \"Topic4\", \"Topic4\", \"Topic4\", \"Topic4\", \"Topic4\", \"Topic4\", \"Topic4\", \"Topic4\", \"Topic4\", \"Topic4\", \"Topic4\", \"Topic4\", \"Topic4\", \"Topic4\", \"Topic4\", \"Topic4\", \"Topic4\", \"Topic4\", \"Topic4\", \"Topic4\", \"Topic4\", \"Topic4\", \"Topic4\", \"Topic4\", \"Topic4\", \"Topic4\", \"Topic4\", \"Topic4\", \"Topic4\", \"Topic4\", \"Topic4\", \"Topic4\", \"Topic4\", \"Topic4\", \"Topic4\", \"Topic4\", \"Topic4\", \"Topic4\", \"Topic4\", \"Topic4\", \"Topic4\", \"Topic4\", \"Topic4\", \"Topic4\", \"Topic4\", \"Topic4\", \"Topic4\", \"Topic4\", \"Topic4\", \"Topic5\", \"Topic5\", \"Topic5\", \"Topic5\", \"Topic5\", \"Topic5\", \"Topic5\", \"Topic5\", \"Topic5\", \"Topic5\", \"Topic5\", \"Topic5\", \"Topic5\", \"Topic5\", \"Topic5\", \"Topic5\", \"Topic5\", \"Topic5\", \"Topic5\", \"Topic5\", \"Topic5\", \"Topic5\", \"Topic5\", \"Topic5\", \"Topic5\", \"Topic5\", \"Topic5\", \"Topic5\", \"Topic5\", \"Topic5\", \"Topic5\", \"Topic5\", \"Topic5\", \"Topic5\", \"Topic5\", \"Topic5\", \"Topic5\", \"Topic5\", \"Topic5\", \"Topic5\", \"Topic5\", \"Topic5\", \"Topic5\", \"Topic5\", \"Topic5\", \"Topic5\", \"Topic5\", \"Topic5\", \"Topic5\", \"Topic5\", \"Topic5\", \"Topic5\", \"Topic5\", \"Topic5\", \"Topic5\", \"Topic5\", \"Topic5\", \"Topic5\", \"Topic5\", \"Topic5\", \"Topic5\", \"Topic5\", \"Topic5\", \"Topic5\", \"Topic6\", \"Topic6\", \"Topic6\", \"Topic6\", \"Topic6\", \"Topic6\", \"Topic6\", \"Topic6\", \"Topic6\", \"Topic6\", \"Topic6\", \"Topic6\", \"Topic6\", \"Topic6\", \"Topic6\", \"Topic6\", \"Topic6\", \"Topic6\", \"Topic6\", \"Topic6\", \"Topic6\", \"Topic6\", \"Topic6\", \"Topic6\", \"Topic6\", \"Topic6\", \"Topic6\", \"Topic6\", \"Topic6\", \"Topic6\", \"Topic6\", \"Topic6\", \"Topic6\", \"Topic6\", \"Topic6\", \"Topic6\", \"Topic6\", \"Topic6\", \"Topic6\", \"Topic6\", \"Topic6\", \"Topic6\", \"Topic6\", \"Topic6\", \"Topic6\", \"Topic6\", \"Topic6\", \"Topic6\", \"Topic6\", \"Topic6\", \"Topic6\", \"Topic6\", \"Topic6\", \"Topic6\", \"Topic6\", \"Topic6\", \"Topic6\", \"Topic6\", \"Topic6\", \"Topic6\", \"Topic6\", \"Topic6\", \"Topic6\", \"Topic6\", \"Topic6\", \"Topic6\", \"Topic6\", \"Topic6\", \"Topic6\", \"Topic6\", \"Topic6\", \"Topic6\", \"Topic6\", \"Topic6\", \"Topic6\", \"Topic6\", \"Topic6\", \"Topic6\", \"Topic6\", \"Topic6\", \"Topic6\", \"Topic7\", \"Topic7\", \"Topic7\", \"Topic7\", \"Topic7\", \"Topic7\", \"Topic7\", \"Topic7\", \"Topic7\", \"Topic7\", \"Topic7\", \"Topic7\", \"Topic7\", \"Topic7\", \"Topic7\", \"Topic7\", \"Topic7\", \"Topic7\", \"Topic7\", \"Topic7\", \"Topic7\", \"Topic7\", \"Topic7\", \"Topic7\", \"Topic7\", \"Topic7\", \"Topic7\", \"Topic7\", \"Topic7\", \"Topic7\", \"Topic7\", \"Topic7\", \"Topic7\", \"Topic7\", \"Topic7\", \"Topic7\", \"Topic7\", \"Topic7\", \"Topic7\", \"Topic7\", \"Topic7\", \"Topic7\", \"Topic7\", \"Topic7\", \"Topic7\", \"Topic7\", \"Topic7\", \"Topic7\", \"Topic7\", \"Topic7\", \"Topic7\", \"Topic7\", \"Topic7\", \"Topic7\", \"Topic7\", \"Topic7\", \"Topic7\", \"Topic7\", \"Topic7\", \"Topic7\", \"Topic7\", \"Topic7\", \"Topic7\", \"Topic7\", \"Topic7\", \"Topic7\", \"Topic7\", \"Topic7\", \"Topic7\", \"Topic7\", \"Topic7\", \"Topic7\", \"Topic7\", \"Topic7\", \"Topic7\", \"Topic8\", \"Topic8\", \"Topic8\", \"Topic8\", \"Topic8\", \"Topic8\", \"Topic8\", \"Topic8\", \"Topic8\", \"Topic8\", \"Topic8\", \"Topic8\", \"Topic8\", \"Topic8\", \"Topic8\", \"Topic8\", \"Topic8\", \"Topic8\", \"Topic8\", \"Topic8\", \"Topic8\", \"Topic8\", \"Topic8\", \"Topic8\", \"Topic8\", \"Topic8\", \"Topic8\", \"Topic8\", \"Topic8\", \"Topic8\", \"Topic8\", \"Topic8\", \"Topic8\", \"Topic8\", \"Topic8\", \"Topic8\", \"Topic8\", \"Topic8\", \"Topic8\", \"Topic8\", \"Topic8\", \"Topic8\", \"Topic8\", \"Topic8\", \"Topic8\", \"Topic8\", \"Topic8\", \"Topic8\", \"Topic8\", \"Topic8\", \"Topic8\", \"Topic8\", \"Topic8\", \"Topic8\", \"Topic8\", \"Topic8\", \"Topic8\", \"Topic8\", \"Topic8\", \"Topic8\", \"Topic8\", \"Topic8\", \"Topic9\", \"Topic9\", \"Topic9\", \"Topic9\", \"Topic9\", \"Topic9\", \"Topic9\", \"Topic9\", \"Topic9\", \"Topic9\", \"Topic9\", \"Topic9\", \"Topic9\", \"Topic9\", \"Topic9\", \"Topic9\", \"Topic9\", \"Topic9\", \"Topic9\", \"Topic9\", \"Topic9\", \"Topic9\", \"Topic9\", \"Topic9\", \"Topic9\", \"Topic9\", \"Topic9\", \"Topic9\", \"Topic9\", \"Topic9\", \"Topic9\", \"Topic9\", \"Topic9\", \"Topic9\", \"Topic9\", \"Topic9\", \"Topic9\", \"Topic9\", \"Topic9\", \"Topic9\", \"Topic9\", \"Topic9\", \"Topic9\", \"Topic9\", \"Topic9\", \"Topic9\", \"Topic9\", \"Topic9\", \"Topic9\", \"Topic9\", \"Topic9\", \"Topic9\", \"Topic9\", \"Topic9\", \"Topic9\", \"Topic9\", \"Topic9\", \"Topic9\", \"Topic9\", \"Topic9\", \"Topic9\", \"Topic9\", \"Topic9\", \"Topic10\", \"Topic10\", \"Topic10\", \"Topic10\", \"Topic10\", \"Topic10\", \"Topic10\", \"Topic10\", \"Topic10\", \"Topic10\", \"Topic10\", \"Topic10\", \"Topic10\", \"Topic10\", \"Topic10\", \"Topic10\", \"Topic10\", \"Topic10\", \"Topic10\", \"Topic10\", \"Topic10\", \"Topic10\", \"Topic10\", \"Topic10\", \"Topic10\", \"Topic10\", \"Topic10\", \"Topic10\", \"Topic10\", \"Topic10\", \"Topic10\", \"Topic10\", \"Topic10\", \"Topic10\", \"Topic10\", \"Topic10\", \"Topic10\", \"Topic10\", \"Topic10\", \"Topic10\", \"Topic10\", \"Topic10\", \"Topic10\", \"Topic10\", \"Topic10\", \"Topic10\", \"Topic10\", \"Topic10\", \"Topic10\", \"Topic10\", \"Topic10\", \"Topic10\", \"Topic10\", \"Topic10\", \"Topic10\", \"Topic10\", \"Topic10\", \"Topic10\", \"Topic10\", \"Topic10\", \"Topic10\", \"Topic10\", \"Topic10\", \"Topic10\", \"Topic10\", \"Topic10\", \"Topic10\", \"Topic10\", \"Topic10\", \"Topic10\", \"Topic10\", \"Topic10\", \"Topic10\", \"Topic10\", \"Topic11\", \"Topic11\", \"Topic11\", \"Topic11\", \"Topic11\", \"Topic11\", \"Topic11\", \"Topic11\", \"Topic11\", \"Topic11\", \"Topic11\", \"Topic11\", \"Topic11\", \"Topic11\", \"Topic11\", \"Topic11\", \"Topic11\", \"Topic11\", \"Topic11\", \"Topic11\", \"Topic11\", \"Topic11\", \"Topic11\", \"Topic11\", \"Topic11\", \"Topic11\", \"Topic11\", \"Topic11\", \"Topic11\", \"Topic11\", \"Topic11\", \"Topic11\", \"Topic11\", \"Topic11\", \"Topic11\", \"Topic11\", \"Topic11\", \"Topic11\", \"Topic11\", \"Topic11\", \"Topic11\", \"Topic11\", \"Topic11\", \"Topic11\", \"Topic11\", \"Topic11\", \"Topic11\", \"Topic11\", \"Topic11\", \"Topic11\", \"Topic11\", \"Topic11\", \"Topic11\", \"Topic11\", \"Topic11\", \"Topic11\", \"Topic11\", \"Topic11\", \"Topic11\", \"Topic11\", \"Topic11\", \"Topic11\", \"Topic11\", \"Topic12\", \"Topic12\", \"Topic12\", \"Topic12\", \"Topic12\", \"Topic12\", \"Topic12\", \"Topic12\", \"Topic12\", \"Topic12\", \"Topic12\", \"Topic12\", \"Topic12\", \"Topic12\", \"Topic12\", \"Topic12\", \"Topic12\", \"Topic12\", \"Topic12\", \"Topic12\", \"Topic12\", \"Topic12\", \"Topic12\", \"Topic12\", \"Topic12\", \"Topic12\", \"Topic12\", \"Topic12\", \"Topic12\", \"Topic12\", \"Topic12\", \"Topic12\", \"Topic12\", \"Topic12\", \"Topic12\", \"Topic12\", \"Topic12\", \"Topic12\", \"Topic12\", \"Topic12\", \"Topic12\", \"Topic12\", \"Topic12\", \"Topic12\", \"Topic12\", \"Topic12\", \"Topic12\", \"Topic12\", \"Topic12\", \"Topic12\", \"Topic12\", \"Topic12\", \"Topic12\", \"Topic12\", \"Topic12\", \"Topic12\", \"Topic12\", \"Topic12\", \"Topic12\", \"Topic12\", \"Topic12\", \"Topic12\", \"Topic12\", \"Topic12\", \"Topic12\", \"Topic12\", \"Topic12\", \"Topic12\", \"Topic12\", \"Topic12\", \"Topic13\", \"Topic13\", \"Topic13\", \"Topic13\", \"Topic13\", \"Topic13\", \"Topic13\", \"Topic13\", \"Topic13\", \"Topic13\", \"Topic13\", \"Topic13\", \"Topic13\", \"Topic13\", \"Topic13\", \"Topic13\", \"Topic13\", \"Topic13\", \"Topic13\", \"Topic13\", \"Topic13\", \"Topic13\", \"Topic13\", \"Topic13\", \"Topic13\", \"Topic13\", \"Topic13\", \"Topic13\", \"Topic13\", \"Topic13\", \"Topic13\", \"Topic13\", \"Topic13\", \"Topic13\", \"Topic13\", \"Topic13\", \"Topic13\", \"Topic13\", \"Topic13\", \"Topic13\", \"Topic13\", \"Topic13\", \"Topic13\", \"Topic13\", \"Topic13\", \"Topic13\", \"Topic13\", \"Topic13\", \"Topic13\", \"Topic13\", \"Topic13\", \"Topic13\", \"Topic13\", \"Topic13\", \"Topic13\", \"Topic13\", \"Topic14\", \"Topic14\", \"Topic14\", \"Topic14\", \"Topic14\", \"Topic14\", \"Topic14\", \"Topic14\", \"Topic14\", \"Topic14\", \"Topic14\", \"Topic14\", \"Topic14\", \"Topic14\", \"Topic14\", \"Topic14\", \"Topic14\", \"Topic14\", \"Topic14\", \"Topic14\", \"Topic14\", \"Topic14\", \"Topic14\", \"Topic14\", \"Topic14\", \"Topic14\", \"Topic14\", \"Topic14\", \"Topic14\", \"Topic14\", \"Topic14\", \"Topic14\", \"Topic14\", \"Topic14\", \"Topic14\", \"Topic14\", \"Topic14\", \"Topic14\", \"Topic14\", \"Topic14\", \"Topic14\", \"Topic14\", \"Topic14\", \"Topic14\", \"Topic14\", \"Topic14\", \"Topic14\", \"Topic14\", \"Topic14\", \"Topic14\", \"Topic15\", \"Topic15\", \"Topic15\", \"Topic15\", \"Topic15\", \"Topic15\", \"Topic15\", \"Topic15\", \"Topic15\", \"Topic15\", \"Topic15\", \"Topic15\", \"Topic15\", \"Topic15\", \"Topic15\", \"Topic15\", \"Topic15\", \"Topic15\", \"Topic15\", \"Topic15\", \"Topic15\", \"Topic15\", \"Topic15\", \"Topic15\", \"Topic15\", \"Topic15\", \"Topic15\", \"Topic15\", \"Topic15\", \"Topic15\", \"Topic15\", \"Topic15\", \"Topic15\", \"Topic15\", \"Topic15\", \"Topic15\", \"Topic15\", \"Topic15\", \"Topic15\", \"Topic15\", \"Topic15\", \"Topic15\", \"Topic15\", \"Topic15\", \"Topic15\", \"Topic15\", \"Topic15\", \"Topic15\", \"Topic15\", \"Topic15\", \"Topic15\", \"Topic15\", \"Topic15\", \"Topic15\", \"Topic15\", \"Topic15\", \"Topic15\", \"Topic16\", \"Topic16\", \"Topic16\", \"Topic16\", \"Topic16\", \"Topic16\", \"Topic16\", \"Topic16\", \"Topic16\", \"Topic16\", \"Topic16\", \"Topic16\", \"Topic16\", \"Topic16\", \"Topic16\", \"Topic16\", \"Topic16\", \"Topic16\", \"Topic16\", \"Topic16\", \"Topic16\", \"Topic16\", \"Topic16\", \"Topic16\", \"Topic16\", \"Topic16\", \"Topic16\", \"Topic16\", \"Topic16\", \"Topic16\", \"Topic16\", \"Topic16\", \"Topic16\", \"Topic16\", \"Topic16\", \"Topic16\", \"Topic16\", \"Topic16\", \"Topic16\", \"Topic16\", \"Topic16\", \"Topic16\", \"Topic16\", \"Topic16\", \"Topic16\", \"Topic16\", \"Topic16\", \"Topic16\", \"Topic16\", \"Topic16\", \"Topic16\", \"Topic16\", \"Topic16\", \"Topic16\", \"Topic16\", \"Topic16\", \"Topic16\", \"Topic16\", \"Topic16\", \"Topic16\", \"Topic17\", \"Topic17\", \"Topic17\", \"Topic17\", \"Topic17\", \"Topic17\", \"Topic17\", \"Topic17\", \"Topic17\", \"Topic17\", \"Topic17\", \"Topic17\", \"Topic17\", \"Topic17\", \"Topic17\", \"Topic17\", \"Topic17\", \"Topic17\", \"Topic17\", \"Topic17\", \"Topic17\", \"Topic17\", \"Topic17\", \"Topic17\", \"Topic17\", \"Topic17\", \"Topic17\", \"Topic17\", \"Topic17\", \"Topic17\", \"Topic17\", \"Topic17\", \"Topic17\", \"Topic17\", \"Topic17\", \"Topic17\", \"Topic17\", \"Topic17\", \"Topic17\", \"Topic17\", \"Topic17\", \"Topic17\", \"Topic17\", \"Topic17\", \"Topic17\", \"Topic17\", \"Topic17\", \"Topic17\", \"Topic17\", \"Topic17\", \"Topic17\", \"Topic17\", \"Topic18\", \"Topic18\", \"Topic18\", \"Topic18\", \"Topic18\", \"Topic18\", \"Topic18\", \"Topic18\", \"Topic18\", \"Topic18\", \"Topic18\", \"Topic18\", \"Topic18\", \"Topic18\", \"Topic18\", \"Topic18\", \"Topic18\", \"Topic18\", \"Topic18\", \"Topic18\", \"Topic18\", \"Topic18\", \"Topic18\", \"Topic18\", \"Topic18\", \"Topic18\", \"Topic18\", \"Topic18\", \"Topic18\", \"Topic18\", \"Topic18\", \"Topic18\", \"Topic18\", \"Topic18\", \"Topic18\", \"Topic18\", \"Topic18\", \"Topic18\", \"Topic18\", \"Topic18\", \"Topic18\", \"Topic18\", \"Topic18\", \"Topic18\", \"Topic18\", \"Topic18\", \"Topic18\", \"Topic18\", \"Topic18\", \"Topic18\", \"Topic18\", \"Topic18\", \"Topic18\", \"Topic18\", \"Topic18\", \"Topic18\", \"Topic18\", \"Topic18\", \"Topic18\", \"Topic18\", \"Topic18\", \"Topic18\", \"Topic18\", \"Topic18\", \"Topic18\", \"Topic18\", \"Topic18\", \"Topic18\", \"Topic19\", \"Topic19\", \"Topic19\", \"Topic19\", \"Topic19\", \"Topic19\", \"Topic19\", \"Topic19\", \"Topic19\", \"Topic19\", \"Topic19\", \"Topic19\", \"Topic19\", \"Topic19\", \"Topic19\", \"Topic19\", \"Topic19\", \"Topic19\", \"Topic19\", \"Topic19\", \"Topic19\", \"Topic19\", \"Topic19\", \"Topic19\", \"Topic19\", \"Topic19\", \"Topic19\", \"Topic19\", \"Topic19\", \"Topic19\", \"Topic19\", \"Topic19\", \"Topic19\", \"Topic19\", \"Topic19\", \"Topic19\", \"Topic19\", \"Topic19\", \"Topic19\", \"Topic19\", \"Topic19\", \"Topic19\", \"Topic19\", \"Topic19\", \"Topic19\", \"Topic19\", \"Topic19\", \"Topic19\", \"Topic19\", \"Topic19\", \"Topic20\", \"Topic20\", \"Topic20\", \"Topic20\", \"Topic20\", \"Topic20\", \"Topic20\", \"Topic20\", \"Topic20\", \"Topic20\", \"Topic20\", \"Topic20\", \"Topic20\", \"Topic20\", \"Topic20\", \"Topic20\", \"Topic20\", \"Topic20\", \"Topic20\", \"Topic20\", \"Topic20\", \"Topic20\", \"Topic20\", \"Topic20\", \"Topic20\", \"Topic20\", \"Topic20\", \"Topic20\", \"Topic20\", \"Topic20\", \"Topic20\", \"Topic20\", \"Topic20\", \"Topic20\", \"Topic20\", \"Topic20\", \"Topic20\", \"Topic20\", \"Topic20\", \"Topic20\", \"Topic20\", \"Topic20\", \"Topic20\", \"Topic20\", \"Topic20\"], \"logprob\": [30.0, 29.0, 28.0, 27.0, 26.0, 25.0, 24.0, 23.0, 22.0, 21.0, 20.0, 19.0, 18.0, 17.0, 16.0, 15.0, 14.0, 13.0, 12.0, 11.0, 10.0, 9.0, 8.0, 7.0, 6.0, 5.0, 4.0, 3.0, 2.0, 1.0, -5.234600067138672, -5.787499904632568, -6.1143999099731445, -6.572700023651123, -6.695000171661377, -6.11899995803833, -6.019499778747559, -6.89900016784668, -6.943399906158447, -6.954800128936768, -6.99970006942749, -7.118000030517578, -7.15500020980835, -7.195899963378906, -7.287799835205078, -7.364799976348877, -7.422399997711182, -7.511099815368652, -7.546500205993652, -6.515600204467773, -7.633600234985352, -7.646100044250488, -7.67519998550415, -7.694900035858154, -7.7281999588012695, -7.7494001388549805, -7.775100231170654, -7.787099838256836, -7.824900150299072, -7.842299938201904, -5.7083001136779785, -6.107600212097168, -6.027900218963623, -6.902200222015381, -6.068900108337402, -6.875999927520752, -5.980400085449219, -6.10129976272583, -6.704699993133545, -6.620299816131592, -6.878399848937988, -5.028600215911865, -6.458000183105469, -6.6956000328063965, -5.991000175476074, -6.103000164031982, -5.675099849700928, -4.318600177764893, -6.191199779510498, -6.264999866485596, -5.717800140380859, -5.547900199890137, -4.65369987487793, -5.508699893951416, -6.362299919128418, -4.303899765014648, -5.994200229644775, -5.476900100708008, -5.1844000816345215, -5.545899868011475, -5.711599826812744, -5.211999893188477, -5.540299892425537, -5.925000190734863, -5.022799968719482, -5.291500091552734, -5.406899929046631, -5.708700180053711, -5.1616997718811035, -5.398099899291992, -5.632199764251709, -5.3846001625061035, -5.462100028991699, -5.620100021362305, -5.593999862670898, -5.791600227355957, -5.772900104522705, -5.771100044250488, -5.7846999168396, -6.553100109100342, -6.722700119018555, -6.881899833679199, -6.898099899291992, -6.9232001304626465, -6.987599849700928, -7.027500152587891, -7.028600215911865, -7.029099941253662, -7.03879976272583, -7.046800136566162, -7.0584001541137695, -7.070400238037109, -7.277400016784668, -7.391600131988525, -7.394499778747559, -7.397799968719482, -7.401500225067139, -7.507699966430664, -6.624199867248535, -7.577099800109863, -7.603300094604492, -7.640500068664551, -7.710299968719482, -7.716000080108643, -7.723100185394287, -7.796899795532227, -7.806600093841553, -7.80649995803833, -7.80709981918335, -6.434500217437744, -7.494200229644775, -6.79040002822876, -6.234099864959717, -6.447299957275391, -7.183499813079834, -6.946700096130371, -6.6458001136779785, -6.676499843597412, -6.335899829864502, -6.776000022888184, -6.388500213623047, -6.881899833679199, -6.655099868774414, -6.892600059509277, -6.500400066375732, -6.106900215148926, -5.928100109100342, -6.4878997802734375, -5.71560001373291, -4.149700164794922, -4.546899795532227, -5.705699920654297, -5.6296000480651855, -5.660999774932861, -6.208000183105469, -4.760000228881836, -5.5858001708984375, -5.708199977874756, -5.063899993896484, -5.151100158691406, -5.173099994659424, -5.363999843597412, -5.4096999168396, -5.436800003051758, -4.797100067138672, -5.3368000984191895, -5.351399898529053, -5.445899963378906, -5.122799873352051, -4.43310022354126, -4.949399948120117, -5.22730016708374, -5.1072001457214355, -4.925600051879883, -5.251399993896484, -5.467400074005127, -5.2027997970581055, -4.956200122833252, -4.962200164794922, -5.281400203704834, -5.438499927520752, -5.460999965667725, -5.372799873352051, -5.485599994659424, -5.554200172424316, -5.420199871063232, -5.691199779510498, -5.77269983291626, -5.792399883270264, -6.39709997177124, -6.473700046539307, -4.852799892425537, -6.582300186157227, -6.625100135803223, -6.668499946594238, -6.684700012207031, -6.793300151824951, -6.822800159454346, -6.891600131988525, -6.893899917602539, -6.277900218963623, -6.938199996948242, -6.940899848937988, -6.948599815368652, -7.070899963378906, -7.136899948120117, -6.935800075531006, -7.145899772644043, -7.151599884033203, -7.164299964904785, -7.166399955749512, -6.5177998542785645, -7.243100166320801, -7.295100212097168, -7.386899948120117, -5.312699794769287, -4.850599765777588, -5.248300075531006, -5.492700099945068, -5.77370023727417, -5.010499954223633, -5.640100002288818, -5.446400165557861, -5.69789981842041, -4.67110013961792, -4.316500186920166, -4.6570000648498535, -6.58459997177124, -6.451700210571289, -5.57450008392334, -6.216800212860107, -5.406300067901611, -6.269199848175049, -4.933599948883057, -5.671299934387207, -6.129000186920166, -5.689599990844727, -5.901700019836426, -5.617499828338623, -5.067399978637695, -5.197400093078613, -5.064499855041504, -4.941500186920166, -5.224899768829346, -5.43179988861084, -5.143199920654297, -4.7453999519348145, -5.044000148773193, -5.19350004196167, -5.47599983215332, -5.35830020904541, -5.551799774169922, -5.5467000007629395, -5.485400199890137, -5.579699993133545, -4.94379997253418, -5.4039998054504395, -5.232800006866455, -5.764100074768066, -5.85290002822876, -5.900300025939941, -5.94350004196167, -5.970399856567383, -5.303999900817871, -6.031700134277344, -6.073699951171875, -6.189599990844727, -6.44789981842041, -6.608099937438965, -6.635499954223633, -6.652599811553955, -6.599800109863281, -6.757400035858154, -6.805200099945068, -6.820000171661377, -6.883600234985352, -5.5046000480651855, -6.936200141906738, -6.9653000831604, -6.976799964904785, -6.989999771118164, -7.029600143432617, -7.052999973297119, -7.076499938964844, -7.103799819946289, -6.249000072479248, -6.6519999504089355, -5.507800102233887, -5.671999931335449, -6.217400074005127, -5.575099945068359, -4.270199775695801, -5.627900123596191, -5.148799896240234, -6.084799766540527, -6.010000228881836, -5.868500232696533, -5.621399879455566, -5.498199939727783, -6.285399913787842, -5.861999988555908, -5.426700115203857, -4.860199928283691, -5.516600131988525, -5.418700218200684, -5.168900012969971, -5.792200088500977, -5.3292999267578125, -5.47790002822876, -4.843800067901611, -5.086299896240234, -5.434100151062012, -5.486000061035156, -5.582300186157227, -5.6666998863220215, -5.81790018081665, -5.852799892425537, -4.55709981918335, -4.683499813079834, -4.906599998474121, -5.368899822235107, -5.627099990844727, -5.665599822998047, -5.775000095367432, -5.894499778747559, -6.184299945831299, -6.235300064086914, -6.27869987487793, -6.432799816131592, -6.435699939727783, -6.482500076293945, -6.513199806213379, -6.525100231170654, -6.560100078582764, -6.561299800872803, -6.579800128936768, -6.6585001945495605, -6.705599784851074, -6.706600189208984, -6.712100028991699, -6.751299858093262, -6.809199810028076, -6.820199966430664, -6.879700183868408, -6.9274001121521, -6.947400093078613, -6.937900066375732, -6.3769001960754395, -6.604599952697754, -5.772500038146973, -5.342800140380859, -5.426300048828125, -6.514200210571289, -6.2083001136779785, -5.344600200653076, -5.357600212097168, -6.09060001373291, -5.933000087738037, -5.152500152587891, -5.961599826812744, -6.054500102996826, -5.560500144958496, -5.236700057983398, -4.4994001388549805, -5.640999794006348, -6.060800075531006, -6.05679988861084, -4.360099792480469, -6.051599979400635, -5.815299987792969, -5.63670015335083, -5.749899864196777, -5.28380012512207, -5.7642998695373535, -5.683800220489502, -5.649199962615967, -5.61299991607666, -5.838399887084961, -5.755099773406982, -5.774600028991699, -5.839000225067139, -5.908999919891357, -6.127699851989746, -6.640600204467773, -6.840099811553955, -6.865900039672852, -6.878499984741211, -6.934199810028076, -7.146500110626221, -7.262899875640869, -7.3165998458862305, -7.343200206756592, -7.3445000648498535, -7.375, -7.380899906158447, -7.411200046539307, -7.448299884796143, -7.46019983291626, -7.462699890136719, -7.488999843597412, -7.37939977645874, -7.538899898529053, -7.547900199890137, -7.551799774169922, -7.611400127410889, -7.619900226593018, -7.623799800872803, -7.6367998123168945, -7.6427998542785645, -7.649499893188477, -7.657100200653076, -6.9303998947143555, -7.019199848175049, -6.407599925994873, -6.492099761962891, -6.277699947357178, -6.939499855041504, -6.700200080871582, -6.307600021362305, -6.62060022354126, -6.528900146484375, -5.422699928283691, -6.08050012588501, -5.720799922943115, -4.704899787902832, -5.331600189208984, -5.843800067901611, -5.793600082397461, -4.815000057220459, -5.837800025939941, -5.885799884796143, -5.946700096130371, -4.405399799346924, -4.896299839019775, -5.44320011138916, -4.564199924468994, -5.927999973297119, -4.970900058746338, -5.295499801635742, -4.400199890136719, -5.620699882507324, -6.002200126647949, -4.922999858856201, -4.706999778747559, -5.124899864196777, -4.907400131225586, -5.033100128173828, -5.339700222015381, -5.459199905395508, -5.776000022888184, -5.572199821472168, -5.644599914550781, -5.489799976348877, -5.55649995803833, -5.570000171661377, -5.54040002822876, -5.445899963378906, -5.547500133514404, -5.545499801635742, -5.453999996185303, -5.56820011138916, -5.586999893188477, -6.022799968719482, -6.029900074005127, -6.31279993057251, -6.425000190734863, -6.547299861907959, -6.581999778747559, -6.619500160217285, -6.632900238037109, -6.670499801635742, -6.722799777984619, -6.757800102233887, -6.875100135803223, -6.891499996185303, -6.922800064086914, -6.899700164794922, -6.977799892425537, -6.983500003814697, -7.002399921417236, -7.040800094604492, -7.078100204467773, -7.084099769592285, -7.09119987487793, -7.1006999015808105, -7.156400203704834, -7.173500061035156, -7.189300060272217, -7.190199851989746, -7.238999843597412, -7.240900039672852, -7.254000186920166, -5.317599773406982, -4.419000148773193, -4.506999969482422, -4.867300033569336, -6.272600173950195, -5.9197998046875, -5.082699775695801, -6.0696001052856445, -5.579400062561035, -4.843699932098389, -6.481400012969971, -6.433499813079834, -4.972400188446045, -5.804699897766113, -4.887599945068359, -5.264200210571289, -5.577600002288818, -5.316299915313721, -5.954999923706055, -5.6596999168396, -5.327400207519531, -5.942800045013428, -6.032599925994873, -5.116799831390381, -6.115300178527832, -5.312699794769287, -6.166299819946289, -5.7881999015808105, -5.340199947357178, -5.846199989318848, -5.579500198364258, -5.745299816131592, -5.569300174713135, -5.086999893188477, -5.149499893188477, -5.780700206756592, -5.4654998779296875, -5.704699993133545, -5.742800235748291, -5.6417999267578125, -5.781899929046631, -5.623199939727783, -5.695700168609619, -5.6992998123168945, -5.748499870300293, -4.092100143432617, -5.345300197601318, -5.361400127410889, -5.427499771118164, -5.675300121307373, -5.737100124359131, -5.849599838256836, -6.035699844360352, -4.291900157928467, -6.336299896240234, -6.3979997634887695, -6.420400142669678, -6.426700115203857, -6.492199897766113, -6.543799877166748, -6.661300182342529, -6.701600074768066, -6.728300094604492, -6.759399890899658, -5.308300018310547, -6.835599899291992, -6.8871002197265625, -6.916600227355957, -7.0208001136779785, -7.117800235748291, -7.19290018081665, -7.30620002746582, -7.30620002746582, -7.330999851226807, -7.330999851226807, -5.256999969482422, -5.97599983215332, -6.336999893188477, -5.827000141143799, -5.292699813842773, -5.255300045013428, -3.6507999897003174, -4.401899814605713, -5.619500160217285, -5.0929999351501465, -5.147600173950195, -4.995500087738037, -5.718999862670898, -4.9899001121521, -5.085100173950195, -4.990900039672852, -5.417300224304199, -4.208199977874756, -5.5725998878479, -5.298799991607666, -4.684100151062012, -5.119800090789795, -4.747300148010254, -5.371200084686279, -5.204999923706055, -5.535900115966797, -5.338200092315674, -5.0854997634887695, -5.189300060272217, -5.2845001220703125, -5.369200229644775, -5.402400016784668, -4.237299919128418, -4.521699905395508, -4.673500061035156, -4.707300186157227, -5.009900093078613, -5.421899795532227, -5.617300033569336, -5.7881999015808105, -5.888199806213379, -5.927499771118164, -5.93120002746582, -3.872999906539917, -6.01639986038208, -6.053899765014648, -6.055500030517578, -6.0833001136779785, -6.17080020904541, -6.193900108337402, -6.1956000328063965, -6.230299949645996, -6.234099864959717, -6.293499946594238, -6.39300012588501, -6.410099983215332, -6.496099948883057, -6.518199920654297, -6.53249979019165, -6.576200008392334, -6.593599796295166, -6.59630012512207, -4.708000183105469, -3.9814999103546143, -6.083600044250488, -6.029200077056885, -5.339700222015381, -5.712900161743164, -5.408599853515625, -5.154699802398682, -5.4878997802734375, -6.045599937438965, -5.6381001472473145, -5.922800064086914, -4.109000205993652, -4.769599914550781, -5.84660005569458, -5.424799919128418, -5.522200107574463, -5.692800045013428, -5.822400093078613, -4.727799892425537, -5.706200122833252, -5.466899871826172, -4.915500164031982, -5.571199893951416, -5.057600021362305, -5.567399978637695, -5.593900203704834, -5.314499855041504, -5.379300117492676, -5.199399948120117, -5.1656999588012695, -5.513400077819824, -5.592700004577637, -6.195199966430664, -6.208199977874756, -6.247600078582764, -6.322400093078613, -6.509699821472168, -6.473899841308594, -6.65880012512207, -6.729400157928467, -5.473100185394287, -6.8734002113342285, -6.936399936676025, -6.938899993896484, -6.943600177764893, -6.944799900054932, -6.953499794006348, -6.988999843597412, -7.0131001472473145, -7.028800010681152, -7.034999847412109, -6.733099937438965, -5.276299953460693, -7.08050012588501, -7.082499980926514, -7.111000061035156, -7.119200229644775, -7.133800029754639, -7.137499809265137, -7.146299839019775, -7.149199962615967, -7.201499938964844, -5.098199844360352, -5.947999954223633, -6.017199993133545, -6.306399822235107, -6.69379997253418, -5.897600173950195, -6.187600135803223, -5.58650016784668, -5.528600215911865, -6.553500175476074, -6.807499885559082, -5.819799900054932, -5.287899971008301, -5.786900043487549, -6.207099914550781, -6.107999801635742, -5.162399768829346, -6.612100124359131, -5.703700065612793, -5.416299819946289, -6.088500022888184, -5.487400054931641, -5.627299785614014, -5.577199935913086, -5.551000118255615, -5.8582000732421875, -5.561800003051758, -5.332099914550781, -5.011300086975098, -5.71120023727417, -5.4303998947143555, -5.1768999099731445, -5.881700038909912, -5.434800148010254, -5.928599834442139, -5.502600193023682, -5.260300159454346, -5.520400047302246, -5.76609992980957, -5.722300052642822, -5.7718000411987305, -5.7241997718811035, -5.684199810028076, -5.811600208282471, -4.13100004196167, -3.9979000091552734, -4.764500141143799, -4.826499938964844, -5.423399925231934, -5.577099800109863, -5.7754998207092285, -6.100399971008301, -6.142600059509277, -6.164100170135498, -6.194799900054932, -6.261499881744385, -6.291800022125244, -6.313300132751465, -5.857100009918213, -6.502799987792969, -6.5432000160217285, -6.594799995422363, -6.668399810791016, -5.0721001625061035, -6.780300140380859, -6.785299777984619, -6.787899971008301, -6.801599979400635, -6.814199924468994, -6.825399875640869, -6.839399814605713, -6.004300117492676, -6.861700057983398, -6.947700023651123, -4.4141998291015625, -3.950200080871582, -6.643400192260742, -4.702899932861328, -3.700000047683716, -5.030900001525879, -5.048900127410889, -4.390200138092041, -6.201399803161621, -6.221499919891357, -6.007900238037109, -4.950799942016602, -4.888800144195557, -4.848800182342529, -5.204699993133545, -5.392199993133545, -5.661499977111816, -5.80049991607666, -5.1209001541137695, -4.57859992980957, -5.4644999504089355, -4.141600131988525, -5.296500205993652, -5.121500015258789, -5.061299800872803, -5.20359992980957, -5.078400135040283, -5.193399906158447, -4.889100074768066, -5.043799877166748, -5.167500019073486, -5.131199836730957, -5.254799842834473, -4.877299785614014, -5.438499927520752, -5.497000217437744, -6.111400127410889, -6.403600215911865, -6.476500034332275, -6.566699981689453, -6.636899948120117, -6.671299934387207, -6.684700012207031, -6.7144999504089355, -6.964799880981445, -7.011600017547607, -7.031300067901611, -7.066500186920166, -7.068600177764893, -7.1143999099731445, -7.132199764251709, -7.279600143432617, -7.303500175476074, -7.315499782562256, -7.342100143432617, -7.402299880981445, -7.411600112915039, -4.72760009765625, -7.529099941253662, -7.537799835205078, -7.55210018157959, -7.567599773406982, -6.81689977645874, -5.349599838256836, -3.4769999980926514, -6.9145002365112305, -5.96999979019165, -5.460299968719482, -5.486800193786621, -5.383800029754639, -5.547599792480469, -5.9868998527526855, -3.6666998863220215, -3.591200113296509, -3.8512001037597656, -6.659900188446045, -4.905799865722656, -4.550600051879883, -4.1631999015808105, -5.437900066375732, -4.342700004577637, -5.32859992980957, -3.687999963760376, -4.774400234222412, -4.769599914550781, -4.825500011444092, -5.848999977111816, -3.6658999919891357, -5.234300136566162, -5.1265997886657715, -4.563199996948242, -4.888199806213379, -4.486800193786621, -4.354599952697754, -5.088699817657471, -5.036099910736084, -5.081099987030029, -5.077199935913086, -5.189599990844727, -5.130899906158447, -5.206999778747559, -5.303199768066406, -5.305600166320801, -4.4822001457214355, -5.348599910736084, -5.561100006103516, -5.615099906921387, -5.670199871063232, -5.806000232696533, -5.809100151062012, -6.038700103759766, -6.088699817657471, -6.11929988861084, -6.124199867248535, -6.135799884796143, -6.140200138092041, -6.177000045776367, -6.21120023727417, -6.225299835205078, -6.348800182342529, -6.407700061798096, -6.313700199127197, -6.490499973297119, -6.511600017547607, -6.543000221252441, -6.591400146484375, -6.642899990081787, -6.672100067138672, -6.67549991607666, -6.681000232696533, -6.742199897766113, -6.745699882507324, -6.756999969482422, -5.050300121307373, -5.850399971008301, -6.291800022125244, -4.943999767303467, -5.00029993057251, -6.158400058746338, -5.229700088500977, -5.631199836730957, -5.955599784851074, -6.1427998542785645, -5.27209997177124, -5.7067999839782715, -5.561999797821045, -5.615099906921387, -6.0559000968933105, -6.093100070953369, -5.737299919128418, -5.722300052642822, -5.928299903869629, -6.021699905395508, -5.95419979095459, -6.0279998779296875, -5.952899932861328, -6.015200138092041, -6.030700206756592, -6.029699802398682, -4.604400157928467, -4.775100231170654, -4.908899784088135, -4.949900150299072, -5.046000003814697, -5.305799961090088, -5.439199924468994, -5.474800109863281, -5.69920015335083, -5.745200157165527, -5.75570011138916, -5.793600082397461, -5.793700218200684, -5.847099781036377, -5.95419979095459, -5.975299835205078, -5.9781999588012695, -5.994500160217285, -6.194300174713135, -6.214600086212158, -6.21560001373291, -6.264100074768066, -5.657800197601318, -6.309800148010254, -6.310800075531006, -6.354300022125244, -6.406799793243408, -6.428699970245361, -5.083600044250488, -6.448800086975098, -3.0703001022338867, -4.095699787139893, -5.119699954986572, -5.093400001525879, -5.43149995803833, -4.6620001792907715, -5.322999954223633, -6.051400184631348, -5.863399982452393, -5.702400207519531, -5.575500011444092, -4.976200103759766, -5.377600193023682, -5.487599849700928, -5.82289981842041, -5.611800193786621, -5.440100193023682, -5.551199913024902, -5.689300060272217, -5.712900161743164, -5.024600028991699, -5.482399940490723, -5.577300071716309, -5.59499979019165, -5.6717000007629395, -5.701499938964844, -5.688199996948242, -5.7972002029418945, -5.798699855804443, -5.848899841308594, -5.908999919891357, -5.912399768829346, -5.6107001304626465, -5.98390007019043, -5.994100093841553, -6.04640007019043, -6.061500072479248, -6.1315999031066895, -6.132500171661377, -6.173500061035156, -6.17519998550415, -6.176499843597412, -6.224899768829346, -6.264800071716309, -6.26639986038208, -6.269800186157227, -6.283400058746338, -6.285999774932861, -6.286900043487549, -6.28879976272583, -5.446100234985352, -4.982800006866455, -5.334400177001953, -5.568900108337402, -5.760799884796143, -3.9955999851226807, -5.499499797821045, -5.229000091552734, -5.679100036621094, -5.650100231170654, -4.474699974060059, -5.151299953460693, -5.295100212097168, -4.458199977874756, -5.429200172424316, -5.2870001792907715, -5.5289998054504395, -5.122200012207031, -5.352700233459473, -5.130099773406982, -5.351600170135498, -5.048999786376953, -5.486499786376953, -5.136499881744385, -5.595300197601318, -5.596799850463867, -5.654799938201904, -4.208799839019775, -5.240799903869629, -5.594900131225586, -5.656300067901611, -5.895299911499023, -5.98960018157959, -5.989699840545654, -5.990300178527832, -6.105000019073486, -6.114099979400635, -6.117000102996826, -6.150100231170654, -6.232800006866455, -6.297100067138672, -6.333099842071533, -6.366099834442139, -6.374599933624268, -6.382599830627441, -6.407400131225586, -6.4278998374938965, -6.46150016784668, -6.461599826812744, -6.4695000648498535, -6.506800174713135, -6.506800174713135, -6.533999919891357, -6.539100170135498, -6.545400142669678, -6.546000003814697, -6.548500061035156, -4.713399887084961, -5.691800117492676, -6.032899856567383, -5.44950008392334, -6.190199851989746, -4.494200229644775, -5.809199810028076, -4.747000217437744, -6.005099773406982, -6.046000003814697, -5.235000133514404, -5.459000110626221, -5.810500144958496, -5.063600063323975, -5.6975998878479, -5.847799777984619, -5.2129998207092285, -4.788099765777588, -6.029200077056885, -5.560400009155273, -5.128499984741211, -5.645999908447266, -5.653500080108643, -5.785900115966797, -5.718299865722656, -5.685699939727783, -5.768599987030029, -5.840199947357178, -5.9380998611450195, -5.954400062561035, -3.337599992752075, -3.8266000747680664, -4.2399001121521, -4.639599800109863, -4.891200065612793, -4.988399982452393, -5.310699939727783, -5.385200023651123, -5.4085001945495605, -5.485599994659424, -5.576399803161621, -5.659900188446045, -5.75540018081665, -5.79040002822876, -5.87939977645874, -5.942299842834473, -6.245500087738037, -6.285200119018555, -6.3856000900268555, -6.396500110626221, -6.39739990234375, -6.426199913024902, -6.443299770355225, -6.482100009918213, -6.487100124359131, -6.504000186920166, -6.504700183868408, -6.540200233459473, -6.551700115203857, -6.571000099182129, -5.822999954223633, -4.898099899291992, -6.156199932098389, -6.1894001960754395, -5.7957000732421875, -4.6697001457214355, -5.452199935913086, -5.582900047302246, -4.729800224304199, -6.0655999183654785, -4.299699783325195, -4.8277997970581055, -5.027299880981445, -5.526400089263916, -5.346099853515625, -4.929100036621094, -5.519999980926514, -5.34499979019165, -5.547500133514404, -5.676799774169922, -5.668799877166748, -5.739299774169922, -3.7995998859405518, -5.220300197601318, -5.743599891662598, -5.753499984741211, -5.889999866485596, -5.161200046539307, -5.998799800872803, -6.002799987792969, -6.009699821472168, -6.077600002288818, -6.0808000564575195, -6.129899978637695, -6.160600185394287, -6.169000148773193, -3.9946000576019287, -6.3018999099731445, -6.31820011138916, -6.366199970245361, -6.400100231170654, -6.4471001625061035, -6.4721999168396, -6.504199981689453, -6.508800029754639, -6.550300121307373, -6.5630998611450195, -6.57889986038208, -6.596799850463867, -6.624100208282471, -6.6280999183654785, -6.647900104522705, -5.138000011444092, -6.163300037384033, -3.9893999099731445, -4.163899898529053, -5.442399978637695, -5.709099769592285, -4.471399784088135, -4.3028998374938965, -5.446300029754639, -5.043900012969971, -5.714900016784668, -4.015500068664551, -4.428500175476074, -5.571300029754639, -4.900100231170654, -5.292099952697754, -5.263599872589111, -4.92710018157959, -5.76230001449585, -5.5767998695373535, -5.372399806976318, -4.941999912261963, -4.7621002197265625, -5.696199893951416, -4.554599761962891, -5.265100002288818, -4.855400085449219, -5.35129976272583, -5.227200031280518, -4.9492998123168945, -5.3856000900268555, -4.975299835205078, -5.34250020980835, -5.157700061798096, -5.138800144195557, -5.3516998291015625, -5.31220006942749, -5.343299865722656, -4.585899829864502, -5.2357001304626465, -5.3282999992370605, -5.430099964141846, -5.436699867248535, -5.566999912261963, -5.595300197601318, -5.628900051116943, -5.652699947357178, -5.659800052642822, -5.6905999183654785, -5.707399845123291, -5.835000038146973, -5.850500106811523, -5.8582000732421875, -5.867800235748291, -5.8694000244140625, -5.907299995422363, -5.941699981689453, -6.0152997970581055, -6.024700164794922, -6.025899887084961, -6.063799858093262, -6.089799880981445, -6.098199844360352, -6.160200119018555, -6.173799991607666, -6.1803998947143555, -4.519499778747559, -6.1880998611450195, -4.9293999671936035, -5.493100166320801, -5.336100101470947, -5.433300018310547, -5.11870002746582, -5.6504998207092285, -4.28980016708374, -4.729499816894531, -4.849999904632568, -5.23360013961792, -5.628300189971924, -5.481599807739258, -5.362599849700928, -5.1468000411987305, -5.682000160217285, -5.578100204467773, -5.560100078582764, -5.604000091552734, -5.56689977645874, -5.58459997177124, -4.4695000648498535, -5.045400142669678, -5.074999809265137, -5.102200031280518, -5.124599933624268, -5.161900043487549, -5.214300155639648, -5.269199848175049, -5.283999919891357, -5.285999774932861, -5.356400012969971, -5.364999771118164, -5.412899971008301, -5.439799785614014, -5.452400207519531, -5.579100131988525, -5.613800048828125, -5.631400108337402, -5.659999847412109, -5.679500102996826, -5.748199939727783, -5.914999961853027, -5.940100193023682, -4.9583001136779785, -6.000999927520752, -6.007999897003174, -6.013000011444092, -6.075300216674805, -6.101900100708008, -6.124300003051758, -5.208799839019775, -4.789599895477295, -4.961299896240234, -4.94320011138916, -4.092800140380859, -4.933599948883057, -5.373499870300293, -4.856800079345703, -4.962100028991699, -5.109300136566162, -5.301199913024902, -4.9456000328063965, -5.332799911499023, -5.491300106048584, -5.433599948883057], \"loglift\": [30.0, 29.0, 28.0, 27.0, 26.0, 25.0, 24.0, 23.0, 22.0, 21.0, 20.0, 19.0, 18.0, 17.0, 16.0, 15.0, 14.0, 13.0, 12.0, 11.0, 10.0, 9.0, 8.0, 7.0, 6.0, 5.0, 4.0, 3.0, 2.0, 1.0, 1.648900032043457, 1.6482000350952148, 1.6475000381469727, 1.6461999416351318, 1.6456999778747559, 1.645300030708313, 1.6447999477386475, 1.644700050354004, 1.6445000171661377, 1.6444000005722046, 1.6441999673843384, 1.6434999704360962, 1.6432000398635864, 1.642899990081787, 1.642300009727478, 1.641700029373169, 1.6411999464035034, 1.6404000520706177, 1.6399999856948853, 1.639799952507019, 1.6390999555587769, 1.6390000581741333, 1.6385999917984009, 1.638100028038025, 1.638100028038025, 1.6377999782562256, 1.6375000476837158, 1.6374000310897827, 1.6368999481201172, 1.6367000341415405, 1.6303000450134277, 1.6340999603271484, 1.6294000148773193, 1.6289000511169434, 1.6114000082015991, 1.6217999458312988, 1.600600004196167, 1.592900037765503, 1.5916999578475952, 1.5841000080108643, 1.5987999439239502, 1.4804999828338623, 1.5367000102996826, 1.5532000064849854, 1.455399990081787, 1.4677000045776367, 1.357699990272522, 1.0680999755859375, 1.4508999586105347, 1.465499997138977, 1.342900037765503, 1.288699984550476, 1.0460000038146973, 1.2293000221252441, 1.4674999713897705, 0.699999988079071, 1.2901999950408936, 1.0647000074386597, 0.8571000099182129, 1.041599988937378, 1.092900037765503, 0.7656999826431274, 0.9670000076293945, 1.2218999862670898, 0.5504999756813049, 0.5981000065803528, 0.692300021648407, 0.9837999939918518, 0.2687000036239624, 0.5135999917984009, 0.7080000042915344, 0.19519999623298645, 0.2524000108242035, 0.4564000070095062, 0.29649999737739563, 0.8932999968528748, 0.659500002861023, 0.42980000376701355, 0.4512999951839447, 2.339600086212158, 2.3382999897003174, 2.3368000984191895, 2.3366000652313232, 2.336400032043457, 2.335700035095215, 2.335200071334839, 2.335200071334839, 2.335200071334839, 2.335099935531616, 2.3350000381469727, 2.3348000049591064, 2.334700107574463, 2.331899881362915, 2.3301000595092773, 2.3299999237060547, 2.3299999237060547, 2.329900026321411, 2.328000068664551, 2.3269999027252197, 2.32669997215271, 2.3261001110076904, 2.3252999782562256, 2.3238000869750977, 2.323699951171875, 2.323499917984009, 2.321700096130371, 2.321500062942505, 2.321500062942505, 2.321500062942505, 2.3153998851776123, 2.3120999336242676, 2.2785000801086426, 2.2465999126434326, 2.2444000244140625, 2.282399892807007, 2.261199951171875, 2.232800006866455, 2.2314999103546143, 2.1937999725341797, 2.2381999492645264, 2.1709001064300537, 2.227099895477295, 2.183300018310547, 2.226900100708008, 2.14490008354187, 2.0464000701904297, 1.9918999671936035, 2.1203999519348145, 1.8547999858856201, 1.2806999683380127, 1.3646999597549438, 1.7869000434875488, 1.7479000091552734, 1.7482000589370728, 1.9736000299453735, 1.316499948501587, 1.676300048828125, 1.6820000410079956, 1.2337000370025635, 1.2812999486923218, 1.2473000288009644, 1.3633999824523926, 1.371500015258789, 1.3756999969482422, 0.9175000190734863, 1.297700047492981, 1.2969000339508057, 1.36080002784729, 1.1132999658584595, 0.570900022983551, 0.9401000142097473, 1.1272000074386597, 0.9921000003814697, 0.7741000056266785, 1.061400055885315, 1.285099983215332, 0.9581000208854675, 0.6171000003814697, 0.6176000237464905, 0.6963000297546387, 1.0276999473571777, 1.0216000080108643, 0.5177000164985657, 0.8546000123023987, 0.8439000248908997, 2.3968000411987305, 2.3961000442504883, 2.3958001136779785, 2.395699977874756, 2.392699956893921, 2.392199993133545, 2.3919999599456787, 2.391400098800659, 2.3910000324249268, 2.3905999660491943, 2.390500068664551, 2.3894999027252197, 2.38919997215271, 2.3884999752044678, 2.3884999752044678, 2.3882999420166016, 2.388000011444092, 2.3879001140594482, 2.3879001140594482, 2.386399984359741, 2.385499954223633, 2.3854000568389893, 2.3854000568389893, 2.3852999210357666, 2.3850998878479004, 2.3850998878479004, 2.384500026702881, 2.384000062942505, 2.3831000328063965, 2.3815999031066895, 2.373199939727783, 2.325000047683716, 2.3373000621795654, 2.3243000507354736, 2.3254001140594482, 2.2657999992370605, 2.3039000034332275, 2.273099899291992, 2.2822999954223633, 2.1895999908447266, 2.124300003051758, 2.109100103378296, 2.3464999198913574, 2.3282999992370605, 2.16759991645813, 2.2748000621795654, 2.1187000274658203, 2.2829999923706055, 1.9866000413894653, 2.151400089263916, 2.2381999492645264, 2.075500011444092, 2.1410000324249268, 2.0241000652313232, 1.7829999923706055, 1.799399971961975, 1.611899971961975, 1.461300015449524, 1.6253000497817993, 1.739400029182434, 1.4357999563217163, 0.8343999981880188, 1.1907000541687012, 0.9300000071525574, 1.532099962234497, 1.0175000429153442, 1.5963000059127808, 1.5703999996185303, 1.122499942779541, 1.6553000211715698, 2.4999001026153564, 2.4988999366760254, 2.498500108718872, 2.4976999759674072, 2.4974000453948975, 2.4972000122070312, 2.496999979019165, 2.496799945831299, 2.4967000484466553, 2.4964001178741455, 2.496299982070923, 2.495699882507324, 2.4939000606536865, 2.4925999641418457, 2.492300033569336, 2.4921998977661133, 2.4918999671936035, 2.4911000728607178, 2.490600109100342, 2.490499973297119, 2.4897000789642334, 2.4897000789642334, 2.4890999794006348, 2.4886999130249023, 2.488600015640259, 2.4883999824523926, 2.4879000186920166, 2.487600088119507, 2.4872000217437744, 2.486799955368042, 2.4707000255584717, 2.4786999225616455, 2.4416000843048096, 2.446500062942505, 2.4577999114990234, 2.4158999919891357, 2.3355000019073486, 2.4159998893737793, 2.365000009536743, 2.435499906539917, 2.428999900817871, 2.3926000595092773, 2.3543999195098877, 2.3262999057769775, 2.434499979019165, 2.3531999588012695, 2.227400064468384, 2.0696001052856445, 2.2358999252319336, 2.188199996948242, 2.045300006866455, 2.139400005340576, 1.5807000398635864, 1.6469000577926636, 0.16009999811649323, 0.3003999888896942, 0.6894000172615051, 0.7149999737739563, 0.5785999894142151, 0.22380000352859497, 0.5849000215530396, 1.4726999998092651, 2.6767001152038574, 2.676500082015991, 2.676100015640259, 2.6749000549316406, 2.6740000247955322, 2.6738998889923096, 2.6733999252319336, 2.672800064086914, 2.6710000038146973, 2.670599937438965, 2.670300006866455, 2.6689999103546143, 2.6689999103546143, 2.6684999465942383, 2.668299913406372, 2.668100118637085, 2.667799949645996, 2.667799949645996, 2.66759991645813, 2.6666998863220215, 2.6661999225616455, 2.6661999225616455, 2.666100025177002, 2.665600061416626, 2.664900064468384, 2.6647000312805176, 2.6638998985290527, 2.6631999015808105, 2.6630001068115234, 2.662899971008301, 2.6603000164031982, 2.6589999198913574, 2.6359000205993652, 2.6054000854492188, 2.567500114440918, 2.636699914932251, 2.605299949645996, 2.450700044631958, 2.437000036239624, 2.5255000591278076, 2.4769999980926514, 2.236299991607666, 2.4577999114990234, 2.4663000106811523, 2.229599952697754, 2.0841000080108643, 1.7178000211715698, 2.2239999771118164, 2.430799961090088, 2.40910005569458, 1.0266000032424927, 2.327699899673462, 2.080899953842163, 1.7062000036239624, 1.842900037765503, 0.7516999840736389, 1.5506999492645264, 1.313099980354309, 1.0434000492095947, 0.8628000020980835, 1.4993000030517578, 0.2863999903202057, -0.19480000436306, 0.766700029373169, 2.7811999320983887, 2.7797000408172607, 2.7748000621795654, 2.7720000743865967, 2.7716000080108643, 2.771399974822998, 2.7704999446868896, 2.766700029373169, 2.7641000747680664, 2.7629001140594482, 2.762200117111206, 2.762200117111206, 2.761399984359741, 2.7613000869750977, 2.760499954223633, 2.759500026702881, 2.759200096130371, 2.7590999603271484, 2.7583999633789062, 2.7571001052856445, 2.7569000720977783, 2.756700038909912, 2.756500005722046, 2.754499912261963, 2.7544000148773193, 2.754300117492676, 2.7539000511169434, 2.753700017929077, 2.753499984741211, 2.753200054168701, 2.743000030517578, 2.734999895095825, 2.6861000061035156, 2.6131999492645264, 2.5861001014709473, 2.666100025177002, 2.614000082015991, 2.5195999145507812, 2.5373001098632812, 2.4886999130249023, 2.1382999420166016, 2.309299945831299, 2.1740000247955322, 1.7777999639511108, 2.0060999393463135, 2.136399984359741, 2.0631000995635986, 1.6053999662399292, 2.040299892425537, 2.0374999046325684, 2.057800054550171, 1.1678999662399292, 1.444000005722046, 1.7265000343322754, 1.1503000259399414, 1.9836000204086304, 1.2301000356674194, 1.4570000171661377, 0.6036999821662903, 1.673200011253357, 1.9951000213623047, 0.9674999713897705, 0.7233999967575073, 1.0923000574111938, 0.7922999858856201, 0.8564000129699707, 1.1766999959945679, 1.3323999643325806, 1.7466000318527222, 1.38510000705719, 1.5047999620437622, 1.2115999460220337, 1.2502000331878662, 1.2477999925613403, 1.131700038909912, 0.7901999950408936, 1.1098999977111816, 1.0420000553131104, 0.5235999822616577, 0.8981000185012817, 0.8453999757766724, 2.940999984741211, 2.940999984741211, 2.9384000301361084, 2.9372000694274902, 2.9356000423431396, 2.9351999759674072, 2.9347000122070312, 2.934499979019165, 2.9339001178741455, 2.9330999851226807, 2.9326000213623047, 2.930500030517578, 2.9302000999450684, 2.9296000003814697, 2.9296000003814697, 2.9286000728607178, 2.928499937057495, 2.928100109100342, 2.927299976348877, 2.9263999462127686, 2.926300048828125, 2.926100015640259, 2.9258999824523926, 2.9245998859405518, 2.9242000579833984, 2.923799991607666, 2.923799991607666, 2.922600030899048, 2.922499895095825, 2.9221999645233154, 2.8940000534057617, 2.849400043487549, 2.815200090408325, 2.755500078201294, 2.8348000049591064, 2.79830002784729, 2.6705000400543213, 2.7906999588012695, 2.7095999717712402, 2.5627999305725098, 2.8234000205993652, 2.8027000427246094, 2.467900037765503, 2.6593000888824463, 2.413599967956543, 2.4937000274658203, 2.5764000415802, 2.5002999305725098, 2.672499895095825, 2.5866000652313232, 2.4707000255584717, 2.662100076675415, 2.6482999324798584, 2.208699941635132, 2.664900064468384, 2.211899995803833, 2.669600009918213, 2.4214000701904297, 2.0179998874664307, 2.3984999656677246, 2.124799966812134, 2.2172000408172607, 1.9859999418258667, 1.3157000541687012, 1.2263000011444092, 2.1185998916625977, 0.9508000016212463, 1.7624000310897827, 1.8818999528884888, 1.2682000398635864, 1.999899983406067, 0.902999997138977, 0.6018000245094299, -0.11949999630451202, 0.7272999882698059, 2.9560999870300293, 2.953200101852417, 2.9530999660491943, 2.9528000354766846, 2.9516000747680664, 2.951200008392334, 2.950500011444092, 2.9491000175476074, 2.947200059890747, 2.9463000297546387, 2.9456000328063965, 2.9453999996185303, 2.9453001022338867, 2.944499969482422, 2.9437999725341797, 2.942199945449829, 2.941499948501587, 2.9410998821258545, 2.9405999183654785, 2.9403998851776123, 2.939300060272217, 2.9384000301361084, 2.9377999305725098, 2.935699939727783, 2.933500051498413, 2.9316999912261963, 2.9286999702453613, 2.9286999702453613, 2.927999973297119, 2.927999973297119, 2.9035000801086426, 2.9079999923706055, 2.912100076675415, 2.8443000316619873, 2.76990008354187, 2.7525999546051025, 2.5838000774383545, 2.63319993019104, 2.767699956893921, 2.679800033569336, 2.683199882507324, 2.6122000217437744, 2.743000030517578, 2.56469988822937, 2.5622000694274902, 2.507200002670288, 2.6245999336242676, 2.16759991645813, 2.628200054168701, 2.484299898147583, 2.1314001083374023, 2.201200008392334, 1.7789000272750854, 2.3499999046325684, 2.0508999824523926, 2.4798998832702637, 2.026400089263916, 1.333799958229065, 1.4955999851226807, 1.4345999956130981, 1.6655999422073364, 1.7688000202178955, 3.1558001041412354, 3.1552000045776367, 3.154900074005127, 3.1547999382019043, 3.153899908065796, 3.152100086212158, 3.150899887084961, 3.1496999263763428, 3.148900032043457, 3.1484999656677246, 3.1484999656677246, 3.1480000019073486, 3.147700071334839, 3.14739990234375, 3.1473000049591064, 3.1470999717712402, 3.1461000442504883, 3.145900011062622, 3.1458001136779785, 3.145400047302246, 3.145400047302246, 3.144700050354004, 3.1433000564575195, 3.1431000232696533, 3.1417999267578125, 3.1414999961853027, 3.141200065612793, 3.140500068664551, 3.140199899673462, 3.140199899673462, 3.135699987411499, 3.124799966812134, 3.1391000747680664, 3.138000011444092, 3.1270999908447266, 3.1231000423431396, 3.052999973297119, 3.0060999393463135, 2.989000082015991, 3.09660005569458, 2.982100009918213, 3.0441999435424805, 2.3071999549865723, 2.5768001079559326, 3.005199909210205, 2.7632999420166016, 2.7973999977111816, 2.888000011444092, 2.9428000450134277, 1.7975000143051147, 2.8020999431610107, 2.285399913787842, 0.9962000250816345, 2.311199903488159, 0.9779000282287598, 2.2820000648498535, 2.3085999488830566, 1.333899974822998, 1.493399977684021, 0.5002999901771545, -0.16169999539852142, 0.37610000371932983, 0.121799997985363, 3.1507999897003174, 3.150599956512451, 3.150099992752075, 3.149199962615967, 3.1465001106262207, 3.1456000804901123, 3.1440000534057617, 3.1426000595092773, 3.140500068664551, 3.1396000385284424, 3.1380999088287354, 3.1380999088287354, 3.138000011444092, 3.1379001140594482, 3.137700080871582, 3.136899948120117, 3.136199951171875, 3.1357998847961426, 3.135699987411499, 3.1356000900268555, 3.1347999572753906, 3.134399890899658, 3.134399890899658, 3.1335999965667725, 3.1333999633789062, 3.1328999996185303, 3.1328001022338867, 3.1326000690460205, 3.132499933242798, 3.1308999061584473, 3.1221001148223877, 3.1135001182556152, 3.1045000553131104, 3.0894999504089355, 3.1080000400543213, 3.0, 3.030100107192993, 2.9551000595092773, 2.8933000564575195, 3.0406999588012695, 3.091399908065796, 2.888700008392334, 2.7669999599456787, 2.8169000148773193, 2.923799991607666, 2.865600109100342, 2.428499937057495, 3.006700038909912, 2.6191999912261963, 2.4686999320983887, 2.7578001022338867, 2.440700054168701, 2.472100019454956, 2.4370999336242676, 2.4114999771118164, 2.4052999019622803, 2.107300043106079, 1.8030999898910522, 1.0651999711990356, 2.1433000564575195, 1.6585999727249146, 0.8646000027656555, 2.2613000869750977, 1.0410000085830688, 2.3368000984191895, 0.8956000208854675, -0.2563000023365021, 0.45730000734329224, 1.451799988746643, 0.8859999775886536, 1.2466000318527222, 0.6302000284194946, -0.29750001430511475, -0.23180000483989716, 3.208699941635132, 3.2079999446868896, 3.2072999477386475, 3.207200050354004, 3.2046000957489014, 3.203700065612793, 3.2023000717163086, 3.199199914932251, 3.198699951171875, 3.198499917984009, 3.1981000900268555, 3.1972999572753906, 3.196899890899658, 3.1965999603271484, 3.195499897003174, 3.1937999725341797, 3.1930999755859375, 3.192199945449829, 3.1907999515533447, 3.188999891281128, 3.188499927520752, 3.1884000301361084, 3.1884000301361084, 3.1881000995635986, 3.1877999305725098, 3.1875, 3.1872000694274902, 3.1868999004364014, 3.1867001056671143, 3.1846001148223877, 3.174299955368042, 3.14739990234375, 3.184299945831299, 3.1387999057769775, 3.064300060272217, 3.1098999977111816, 3.0920000076293945, 3.0278000831604004, 3.150399923324585, 3.1201999187469482, 3.0834999084472656, 2.8808999061584473, 2.8650999069213867, 2.8362998962402344, 2.900099992752075, 2.933799982070923, 3.0006000995635986, 3.0151000022888184, 2.7297000885009766, 2.4526000022888184, 2.8310000896453857, 1.9818999767303467, 2.6714000701904297, 2.5576999187469482, 2.43969988822937, 2.52810001373291, 2.4049999713897705, 2.231600046157837, 1.6899000406265259, 1.7223000526428223, 1.9049999713897705, 1.2231999635696411, 1.9594000577926636, 3.2441000938415527, 3.2414000034332275, 3.2411999702453613, 3.23580002784729, 3.2318999767303467, 3.2307000160217285, 3.2291998863220215, 3.2279000282287598, 3.2272000312805176, 3.226900100708008, 3.226300001144409, 3.220400094985962, 3.219099998474121, 3.2184998989105225, 3.2174999713897705, 3.217400074005127, 3.21589994430542, 3.2155001163482666, 3.2105000019073486, 3.2095999717712402, 3.209199905395508, 3.208199977874756, 3.2058000564575195, 3.205399990081787, 3.2019999027252197, 3.2002999782562256, 3.199899911880493, 3.199199914932251, 3.1984000205993652, 3.1981000900268555, 3.1949000358581543, 3.1695001125335693, 3.189300060272217, 3.169300079345703, 3.15339994430542, 3.1059000492095947, 3.0657999515533447, 3.0418999195098877, 3.084700107574463, 2.799099922180176, 2.789099931716919, 2.756700038909912, 3.141200065612793, 2.8027000427246094, 2.6707000732421875, 2.4944000244140625, 2.7816998958587646, 2.333699941635132, 2.6480000019073486, 1.8853000402450562, 2.342600107192993, 2.2925000190734863, 2.209199905395508, 2.757499933242798, 1.3380999565124512, 2.281399965286255, 2.1947999000549316, 1.7496000528335571, 1.9296000003814697, 1.4036999940872192, 1.0757999420166016, 1.9079999923706055, 1.3667000532150269, 1.431399941444397, 1.1588000059127808, 1.5484000444412231, 0.4489000141620636, 1.1475000381469727, 1.1160000562667847, 0.6060000061988831, 3.4296998977661133, 3.4258999824523926, 3.4244000911712646, 3.4240000247955322, 3.4235000610351562, 3.4221999645233154, 3.422100067138672, 3.4195001125335693, 3.418800115585327, 3.4184000492095947, 3.418299913406372, 3.4182000160217285, 3.418100118637085, 3.4175000190734863, 3.417099952697754, 3.416800022125244, 3.414799928665161, 3.4137001037597656, 3.4133999347686768, 3.412100076675415, 3.4117000102996826, 3.411099910736084, 3.4100000858306885, 3.408799886703491, 3.4082000255584717, 3.408099889755249, 3.4077000617980957, 3.4063000679016113, 3.4063000679016113, 3.4059998989105225, 3.361599922180176, 3.3447000980377197, 3.3668999671936035, 3.114300012588501, 3.1152000427246094, 3.282099962234497, 3.036799907684326, 3.1129000186920166, 3.2130000591278076, 3.2630999088287354, 2.8343000411987305, 3.035599946975708, 2.9344000816345215, 2.396199941635132, 3.0292999744415283, 3.062000036239624, 1.8481999635696411, 1.4473999738693237, 2.2534000873565674, 2.4270999431610107, 1.6190999746322632, 1.86080002784729, 0.24799999594688416, 0.9603999853134155, 0.476500004529953, 0.00570000009611249, 3.5587000846862793, 3.5580999851226807, 3.557499885559082, 3.557300090789795, 3.55679988861084, 3.5552000999450684, 3.5541999340057373, 3.5539000034332275, 3.551800012588501, 3.551300048828125, 3.5511999130249023, 3.5506999492645264, 3.5506999492645264, 3.550100088119507, 3.5487000942230225, 3.5485000610351562, 3.5483999252319336, 3.5481998920440674, 3.545099973678589, 3.544800043106079, 3.5446999073028564, 3.5439000129699707, 3.543100118637085, 3.5429999828338623, 3.5429999828338623, 3.5422000885009766, 3.541100025177002, 3.540600061416626, 3.540299892425537, 3.5401999950408936, 3.4862000942230225, 3.4783999919891357, 3.4879000186920166, 3.4149999618530273, 3.4200000762939453, 3.1013998985290527, 2.921999931335449, 3.3928000926971436, 3.127500057220459, 2.8645999431610107, 2.6324000358581543, 1.6029000282287598, 2.1670000553131104, 2.036900043487549, 3.009500026702881, 1.8285000324249268, 0.6834999918937683, 0.48429998755455017, 1.291200041770935, -0.1331000030040741, 3.980299949645996, 3.9755001068115234, 3.9742000102996826, 3.9739999771118164, 3.9728000164031982, 3.972399950027466, 3.9718000888824463, 3.9707999229431152, 3.9707000255584717, 3.9697999954223633, 3.9686999320983887, 3.968600034713745, 3.9672000408172607, 3.967099905014038, 3.966900110244751, 3.9658000469207764, 3.965399980545044, 3.9637999534606934, 3.96370005607605, 3.9626998901367188, 3.9626998901367188, 3.962599992752075, 3.961400032043457, 3.9602999687194824, 3.960200071334839, 3.960099935531616, 3.9598000049591064, 3.959700107574463, 3.959700107574463, 3.9595999717712402, 3.9540998935699463, 3.897700071334839, 3.8870999813079834, 3.9007999897003174, 3.887700080871582, 3.536400079727173, 3.801500082015991, 3.7105000019073486, 3.7934999465942383, 3.6693999767303467, 2.8717000484466553, 3.052299976348877, 3.1614999771118164, 2.269200086593628, 3.226799964904785, 2.9781999588012695, 3.309000015258789, 2.68969988822937, 3.0109000205993652, 2.499300003051758, 2.9286000728607178, 1.802299976348877, 2.912899971008301, 0.8988999724388123, 3.282099962234497, 2.754499912261963, 1.6829999685287476, 3.9916000366210938, 3.985100030899048, 3.980799913406372, 3.9798998832702637, 3.975800037384033, 3.97379994392395, 3.97379994392395, 3.97379994392395, 3.971299886703491, 3.9709999561309814, 3.9709999561309814, 3.9702000617980957, 3.9679999351501465, 3.9663000106811523, 3.9651999473571777, 3.964200019836426, 3.9639999866485596, 3.96370005607605, 3.962899923324585, 3.9623000621795654, 3.961199998855591, 3.961199998855591, 3.960900068283081, 3.9595999717712402, 3.9595999717712402, 3.9586000442504883, 3.9584999084472656, 3.958199977874756, 3.958199977874756, 3.9581000804901123, 3.9358999729156494, 3.881500005722046, 3.8808999061584473, 3.744499921798706, 3.8761000633239746, 3.3162999153137207, 3.7370998859405518, 3.308799982070923, 3.764699935913086, 3.755199909210205, 3.3164000511169434, 3.2276999950408936, 3.477400064468384, 2.8208999633789062, 3.29830002784729, 3.444499969482422, 2.6363000869750977, 1.8760000467300415, 3.6196999549865723, 2.7716000080108643, 1.8795000314712524, 2.7507998943328857, 1.5920000076293945, 1.957800030708313, 1.2785999774932861, 0.85589998960495, 0.7386000156402588, 1.3349000215530396, 0.8773999810218811, 2.0199999809265137, 4.121399879455566, 4.120299816131592, 4.118899822235107, 4.116700172424316, 4.1149001121521, 4.114099979400635, 4.110599994659424, 4.109600067138672, 4.109300136566162, 4.1082000732421875, 4.106800079345703, 4.105400085449219, 4.103600025177002, 4.10290002822876, 4.101099967956543, 4.099699974060059, 4.0914998054504395, 4.090199947357178, 4.0868000984191895, 4.086400032043457, 4.086299896240234, 4.085299968719482, 4.08459997177124, 4.083099842071533, 4.082900047302246, 4.082300186157227, 4.082200050354004, 4.0808000564575195, 4.0802998542785645, 4.079500198364258, 4.046500205993652, 3.9809999465942383, 4.04640007019043, 4.041399955749512, 3.9082000255584717, 3.5643999576568604, 3.791100025177002, 3.8060998916625977, 3.4814000129699707, 3.939199924468994, 3.089099884033203, 3.0371999740600586, 2.8726999759674072, 3.224400043487549, 2.835400104522705, 1.9809000492095947, 2.677999973297119, 2.2618000507354736, 2.140700101852417, 2.7200000286102295, 2.6054999828338623, 1.0973999500274658, 4.248600006103516, 4.238699913024902, 4.229800224304199, 4.229499816894531, 4.22629976272583, 4.223999977111816, 4.223499774932861, 4.223299980163574, 4.223100185394287, 4.221199989318848, 4.221099853515625, 4.2195000648498535, 4.218599796295166, 4.218299865722656, 4.216100215911865, 4.213600158691406, 4.2129998207092285, 4.211100101470947, 4.209799766540527, 4.207799911499023, 4.206699848175049, 4.2052998542785645, 4.204999923706055, 4.203100204467773, 4.202499866485596, 4.201700210571289, 4.200900077819824, 4.19950008392334, 4.1992998123168945, 4.198299884796143, 4.111599922180176, 4.1707000732421875, 3.9268999099731445, 3.88070011138916, 4.012700080871582, 4.049799919128418, 3.7983999252319336, 3.745699882507324, 3.925299882888794, 3.7618000507354736, 3.970900058746338, 3.3747000694274902, 3.483099937438965, 3.8940999507904053, 3.5583999156951904, 3.7077999114990234, 3.675100088119507, 3.3424999713897705, 3.93969988822937, 3.793800115585327, 3.522900104522705, 3.0215001106262207, 2.7535998821258545, 3.842400074005127, 2.318000078201294, 3.255000114440918, 2.5683000087738037, 3.0896999835968018, 2.4707999229431152, 1.5163999795913696, 2.949899911880493, 1.1856000423431396, 2.6254000663757324, 1.5187000036239624, 0.7728000283241272, 2.5058000087738037, 1.7289999723434448, 1.773800015449524, 4.86299991607666, 4.85129976272583, 4.848999977111816, 4.846099853515625, 4.845900058746338, 4.84119987487793, 4.840799808502197, 4.839600086212158, 4.838799953460693, 4.838500022888184, 4.837399959564209, 4.836699962615967, 4.831500053405762, 4.8308000564575195, 4.83050012588501, 4.829999923706055, 4.829999923706055, 4.828199863433838, 4.826600074768066, 4.82289981842041, 4.822400093078613, 4.822400093078613, 4.820300102233887, 4.818900108337402, 4.818399906158447, 4.814899921417236, 4.8140997886657715, 4.813700199127197, 4.813399791717529, 4.813199996948242, 4.808800220489502, 4.807300090789795, 4.774799823760986, 4.713799953460693, 4.605800151824951, 4.634799957275391, 3.8441998958587646, 3.843400001525879, 3.4542999267578125, 3.8427999019622803, 4.235400199890137, 3.6735999584198, 3.215399980545044, 2.279400110244751, 4.0569000244140625, 3.263000011444092, 3.146699905395508, 3.374500036239624, 2.1763999462127686, 1.5851000547409058, 5.251999855041504, 5.238800048828125, 5.2378997802734375, 5.237100124359131, 5.236299991607666, 5.235099792480469, 5.23330020904541, 5.231299877166748, 5.230800151824951, 5.2307000160217285, 5.22790002822876, 5.22760009765625, 5.225599765777588, 5.224400043487549, 5.223899841308594, 5.217899799346924, 5.21619987487793, 5.215199947357178, 5.213699817657471, 5.212699890136719, 5.208700180053711, 5.198200225830078, 5.196400165557861, 5.193299770355225, 5.191999912261963, 5.191500186920166, 5.191100120544434, 5.186299800872803, 5.184199810028076, 5.182300090789795, 5.120699882507324, 4.954400062561035, 4.978499889373779, 4.960899829864502, 4.686100006103516, 4.881700038909912, 4.985799789428711, 4.778800010681152, 4.789700031280518, 4.813000202178955, 4.911799907684326, 2.6791999340057373, 4.134399890899658, 4.61929988861084, 3.592900037765503]}, \"token.table\": {\"Topic\": [4, 14, 19, 20, 16, 2, 2, 11, 1, 3, 4, 7, 8, 11, 12, 4, 5, 7, 6, 12, 19, 14, 5, 6, 10, 4, 7, 4, 1, 2, 4, 9, 17, 7, 13, 12, 1, 20, 10, 15, 1, 2, 3, 4, 5, 6, 7, 8, 9, 10, 11, 12, 13, 14, 16, 18, 2, 4, 1, 2, 4, 5, 7, 9, 13, 17, 3, 14, 1, 3, 4, 5, 7, 9, 10, 17, 20, 15, 2, 10, 13, 16, 19, 3, 4, 13, 14, 19, 3, 3, 4, 3, 16, 1, 4, 5, 10, 17, 1, 2, 4, 9, 11, 12, 17, 1, 2, 4, 5, 6, 9, 10, 11, 12, 1, 3, 4, 8, 10, 11, 19, 2, 3, 8, 11, 3, 7, 8, 1, 12, 12, 3, 4, 5, 6, 7, 8, 9, 13, 14, 15, 20, 17, 17, 7, 19, 17, 3, 5, 14, 1, 2, 3, 4, 5, 6, 7, 8, 10, 11, 12, 13, 14, 17, 15, 8, 5, 1, 8, 8, 19, 5, 5, 5, 1, 2, 3, 4, 5, 6, 8, 9, 10, 11, 12, 13, 14, 17, 1, 3, 4, 6, 18, 7, 1, 4, 5, 7, 9, 13, 14, 14, 20, 1, 1, 1, 6, 7, 20, 14, 16, 4, 5, 17, 4, 6, 2, 3, 4, 2, 2, 3, 4, 7, 10, 11, 12, 14, 7, 5, 5, 5, 5, 5, 1, 2, 3, 4, 5, 6, 8, 9, 10, 12, 13, 15, 13, 18, 19, 5, 8, 9, 13, 9, 10, 1, 2, 3, 4, 5, 7, 10, 11, 13, 14, 17, 19, 11, 2, 18, 3, 18, 13, 20, 5, 9, 1, 1, 5, 1, 2, 9, 10, 12, 14, 1, 1, 2, 3, 8, 9, 10, 11, 12, 13, 18, 1, 2, 3, 4, 6, 8, 9, 10, 11, 12, 14, 1, 1, 13, 13, 3, 17, 11, 5, 19, 8, 11, 3, 4, 5, 6, 8, 9, 10, 11, 13, 15, 17, 18, 19, 6, 1, 5, 10, 16, 5, 6, 15, 2, 5, 7, 11, 12, 1, 3, 5, 10, 12, 13, 14, 16, 18, 19, 1, 3, 5, 7, 12, 13, 14, 16, 19, 5, 9, 15, 1, 2, 11, 13, 19, 10, 3, 15, 20, 20, 1, 10, 16, 13, 2, 12, 18, 9, 15, 17, 1, 3, 9, 12, 14, 15, 6, 15, 7, 8, 15, 9, 1, 2, 4, 6, 8, 12, 14, 2, 3, 5, 6, 7, 14, 5, 13, 2, 11, 13, 3, 8, 8, 2, 11, 2, 9, 2, 3, 4, 7, 9, 13, 1, 2, 3, 4, 5, 6, 7, 8, 9, 12, 13, 17, 18, 1, 2, 5, 6, 9, 11, 12, 15, 18, 7, 12, 1, 19, 11, 12, 19, 11, 12, 17, 12, 2, 13, 15, 1, 2, 3, 4, 8, 10, 17, 18, 14, 18, 8, 16, 1, 19, 1, 2, 4, 5, 8, 10, 3, 5, 6, 7, 9, 13, 14, 16, 17, 7, 14, 11, 18, 8, 11, 18, 8, 16, 19, 2, 2, 6, 9, 12, 2, 10, 14, 1, 2, 3, 8, 9, 10, 12, 13, 16, 3, 12, 13, 18, 4, 7, 9, 13, 15, 1, 5, 7, 10, 1, 5, 6, 7, 10, 10, 18, 2, 4, 8, 11, 12, 12, 1, 5, 1, 5, 15, 1, 1, 5, 10, 1, 5, 19, 12, 11, 8, 16, 2, 16, 2, 4, 7, 17, 13, 5, 17, 1, 10, 16, 17, 7, 20, 4, 18, 12, 15, 20, 6, 3, 4, 8, 11, 16, 18, 7, 9, 12, 3, 8, 11, 18, 3, 4, 7, 10, 11, 14, 20, 8, 1, 2, 3, 4, 5, 6, 9, 11, 12, 13, 19, 19, 3, 4, 5, 14, 3, 1, 2, 3, 4, 5, 7, 8, 19, 3, 3, 2, 3, 4, 7, 11, 12, 18, 6, 4, 5, 6, 10, 18, 16, 3, 7, 9, 18, 12, 2, 7, 8, 16, 11, 7, 4, 4, 9, 12, 10, 3, 1, 2, 3, 4, 6, 7, 8, 10, 11, 12, 14, 17, 18, 11, 11, 13, 3, 4, 10, 16, 19, 1, 2, 3, 4, 7, 8, 11, 12, 16, 19, 10, 2, 3, 4, 7, 9, 11, 12, 13, 14, 1, 2, 4, 5, 6, 8, 9, 10, 11, 12, 13, 10, 1, 4, 5, 7, 17, 1, 4, 5, 7, 8, 13, 17, 6, 7, 1, 4, 5, 1, 2, 4, 5, 7, 13, 14, 17, 19, 10, 1, 4, 5, 4, 6, 1, 2, 3, 5, 6, 8, 10, 12, 13, 15, 16, 4, 11, 4, 7, 4, 7, 7, 20, 20, 9, 4, 16, 1, 2, 3, 4, 6, 7, 8, 10, 11, 12, 14, 16, 19, 8, 10, 13, 5, 6, 12, 3, 4, 7, 8, 10, 11, 14, 5, 1, 2, 3, 8, 9, 15, 16, 17, 1, 3, 4, 7, 9, 15, 18, 20, 1, 2, 5, 6, 10, 11, 2, 2, 4, 17, 18, 9, 1, 8, 16, 16, 3, 6, 3, 4, 5, 6, 7, 11, 7, 13, 7, 3, 4, 8, 16, 13, 16, 17, 18, 2, 2, 9, 20, 10, 11, 10, 3, 4, 8, 7, 10, 7, 10, 8, 11, 2, 3, 8, 12, 18, 3, 8, 10, 11, 18, 4, 7, 9, 14, 18, 5, 10, 5, 10, 1, 7, 2, 4, 5, 6, 13, 19, 20, 10, 19, 19, 2, 2, 11, 2, 4, 11, 12, 13, 15, 2, 3, 4, 11, 12, 13, 11, 1, 2, 10, 13, 4, 7, 10, 4, 10, 8, 1, 4, 5, 7, 8, 9, 10, 13, 1, 14, 16, 1, 10, 8, 3, 9, 1, 5, 7, 12, 1, 4, 6, 8, 10, 11, 3, 10, 14, 18, 8, 2, 11, 3, 7, 8, 12, 18, 4, 8, 4, 19, 4, 2, 13, 3, 8, 9, 1, 8, 12, 15, 16, 1, 8, 4, 11, 9, 1, 18, 1, 2, 3, 4, 5, 6, 8, 9, 10, 11, 12, 13, 1, 4, 5, 10, 16, 1, 1, 3, 9, 11, 14, 18, 7, 2, 20, 1, 8, 11, 16, 19, 1, 5, 16, 8, 2, 4, 10, 11, 6, 10, 14, 3, 4, 2, 11, 14, 16, 1, 2, 5, 6, 9, 10, 13, 15, 5, 6, 1, 2, 4, 5, 6, 9, 10, 14, 16, 17, 1, 3, 9, 1, 5, 4, 7, 4, 3, 4, 8, 3, 12, 3, 4, 8, 12, 18, 9, 6, 1, 2, 3, 4, 5, 6, 8, 10, 12, 16, 1, 2, 4, 5, 6, 13, 4, 4, 1, 2, 3, 4, 5, 6, 7, 8, 9, 10, 11, 12, 13, 14, 15, 19, 1, 9, 13, 20, 15, 5, 14, 19, 2, 5, 6, 7, 2, 11, 14, 9, 15, 5, 7, 10, 18, 1, 20, 2, 10, 3, 8, 11, 3, 18, 6, 20, 1, 2, 3, 4, 5, 6, 7, 8, 10, 12, 13, 14, 15, 20, 20, 15, 2, 4, 5, 6, 9, 13, 15, 1, 3, 4, 8, 10, 3, 18, 20, 8, 9, 9, 18, 2, 8, 17, 10, 7, 16, 5, 18, 3, 5, 13, 14, 17, 19, 1, 2, 3, 4, 6, 9, 10, 11, 12, 7, 19, 16, 20, 1, 4, 7, 8, 9, 14, 15, 16, 16, 1, 1, 2, 4, 5, 6, 7, 9, 10, 12, 13, 1, 2, 3, 4, 6, 9, 10, 12, 13, 14, 18, 2, 7, 10, 1, 4, 5, 17, 7, 20, 3, 11, 12, 18, 16, 12, 1, 2, 3, 4, 5, 6, 9, 10, 11, 12, 13, 14, 18, 10, 12, 13, 5, 13, 5, 17, 5, 2, 8, 11, 13, 14, 16, 19, 20, 2, 5, 6, 13, 14, 16, 1, 3, 4, 5, 7, 8, 12, 14, 17, 4, 10, 4, 5, 4, 4, 3, 1, 2, 4, 5, 6, 8, 9, 10, 13, 1, 2, 4, 5, 6, 9, 1, 5, 6, 8, 16, 1, 2, 5, 6, 9, 11, 12, 2, 3, 4, 8, 11, 14, 15, 9, 15, 8, 13, 19, 20, 4, 7, 10, 1, 2, 6, 9, 1, 11, 12, 13, 1, 2, 3, 4, 5, 6, 8, 10, 11, 12, 6, 7, 1, 4, 5, 16, 1, 2, 3, 4, 6, 7, 8, 9, 10, 11, 13, 14, 15, 19, 2, 3, 9, 10, 11, 13, 13, 1, 4, 5, 7, 9, 13, 14, 1, 5, 9, 9, 5, 6, 4, 10, 10, 2, 13, 10, 2, 12, 7, 14, 20, 19, 17, 16, 11, 7, 1, 3, 6, 11, 14, 3, 4, 14, 10, 1, 17, 16, 3, 12, 18, 1, 3, 4, 5, 7, 8, 11, 14, 18, 1, 3, 4, 7, 11, 14, 18, 10, 7, 16, 3, 8, 12, 1, 3, 4, 5, 7, 8, 10, 12, 14, 8, 11, 4, 13, 15, 15, 3, 8, 11, 3, 4, 6, 7, 14, 12, 13, 2, 10, 13, 20, 2, 3, 1, 2, 3, 4, 7, 12, 13, 18, 1, 2, 4, 5, 8, 11, 12, 13, 3, 4, 7, 8, 11, 12, 13, 15, 18, 11, 16, 6, 4, 5, 13, 17, 17, 17, 1, 2, 3, 4, 5, 7, 8, 10, 19, 5, 1, 2, 3, 4, 7, 11, 18, 15, 5, 1, 9, 1, 5, 17, 5, 17, 6, 7, 17, 16, 18, 18, 3, 1, 17, 11, 11, 3, 5, 7, 9, 14, 5, 6, 13, 8, 15, 18, 4, 8, 4, 5, 13, 17, 9, 15, 16, 1, 2, 3, 4, 5, 6, 9, 10, 11, 12, 5, 2, 4, 5, 6, 13, 14, 17, 1, 2, 3, 4, 5, 6, 7, 8, 9, 10, 11, 12, 13, 14, 19, 7, 14, 13, 14, 6, 14, 1, 4, 18, 9, 15, 4, 9, 19, 17, 17, 19, 1, 2, 5, 6, 8, 9, 10, 11, 13, 15, 19, 2, 4, 7, 4, 4, 15, 1, 2, 3, 4, 5, 6, 8, 9, 10, 11, 13, 14, 18, 13, 17, 3, 7, 3, 5, 7, 8, 10, 1, 2, 4, 5, 6, 10, 13, 14, 1, 2, 3, 4, 5, 6, 8, 9, 10, 11, 12, 13, 18, 1, 2, 3, 4, 8, 9, 10, 15, 1, 2, 3, 4, 5, 6, 8, 9, 11, 12, 13, 15, 16, 1, 2, 3, 4, 5, 7, 8, 9, 12, 13, 14, 15, 17, 18, 19, 1, 2, 3, 4, 5, 6, 9, 10, 11, 12, 13, 1, 2, 5, 6, 10, 13, 2, 6, 8, 13, 1, 2, 4, 5, 6, 7, 8, 9, 10, 11, 13, 14, 1, 2, 3, 4, 5, 6, 8, 9, 10, 11, 12, 13, 19, 1, 2, 5, 6, 7, 9, 10, 12, 13, 16, 6, 1, 2, 4, 5, 6, 8, 9, 10, 12, 14, 18, 1, 2, 10, 11, 12, 20, 14, 18, 11, 18, 3, 4, 7, 9, 12, 18, 8, 1, 2, 3, 4, 5, 6, 8, 9, 10, 11, 12, 13, 18, 5, 12, 2, 3, 11, 12, 18, 12, 18, 1, 2, 3, 4, 5, 6, 7, 9, 10, 11, 12, 13, 14, 17, 16, 1, 2, 3, 4, 5, 7, 9, 12, 14, 15, 16, 5, 14, 19, 7, 1, 3, 4, 7, 10, 14, 16, 1, 17, 1, 2, 4, 5, 6, 9, 10, 11, 12, 1, 2, 4, 6, 9, 10, 11, 12, 1, 8, 11, 6, 5, 7, 10, 12, 7, 10, 1, 4, 5, 7, 2, 3, 5, 8, 11, 12, 16, 2, 9, 10, 12, 1, 2, 3, 4, 5, 6, 8, 9, 10, 11, 12, 14, 1, 2, 3, 4, 9, 12, 15, 18, 6, 5, 13, 18, 4, 7, 15, 19, 15, 19, 9, 15, 19, 1, 2, 3, 5, 8, 12, 13, 15, 19, 1, 7, 14, 14, 20, 12, 8, 11, 1, 2, 3, 11, 12, 14, 18, 2, 3, 11, 12, 18, 1, 2, 4, 6, 7, 9, 13, 14, 2, 11, 12, 18, 2, 11, 9, 14, 19, 1, 17, 1, 9, 1, 2, 5, 6, 12, 13, 12, 3, 8, 13, 13, 11, 18, 2, 8, 11, 20, 1, 2, 3, 4, 5, 6, 8, 9, 10, 11, 12, 13, 14, 19, 12, 15, 15, 6, 1, 5, 17, 1, 5, 1, 2, 3, 4, 5, 6, 7, 8, 10, 11, 13, 16, 18, 11, 17, 12, 1, 2, 3, 5, 6, 8, 9, 12, 13, 14, 16, 18, 3, 14, 4, 5, 7, 9, 13, 14, 5, 17, 5, 7, 20, 1, 2, 3, 4, 5, 6, 8, 9, 10, 11, 12, 18, 15, 13, 17, 16, 3, 4, 20, 13, 15, 16, 1, 2, 4, 5, 6, 9, 10, 12, 13, 18, 7, 1, 5, 6, 9, 10, 13, 19, 6, 12, 4, 7, 15, 3, 5, 7, 9, 13, 14, 12, 15, 12, 18, 8, 1, 2, 3, 4, 5, 7, 8, 9, 10, 11, 12, 17, 15, 20, 10, 15, 1, 6, 14, 5, 17, 1, 2, 3, 18, 2, 3, 4, 5, 7, 8, 9, 14, 13, 20, 1, 2, 3, 4, 5, 6, 7, 8, 9, 11, 13, 14, 14, 14, 1, 2, 3, 6, 8, 11, 12, 16, 18, 19, 5, 13, 4, 12, 8, 8, 16, 15, 14, 3, 7, 12, 18, 7, 3, 5, 7, 8, 11, 2, 4, 5, 9, 13, 14, 18, 5, 10, 17, 17, 8, 1, 2, 3, 4, 5, 6, 7, 8, 9, 10, 11, 14, 16, 17, 1, 13, 13, 10, 7, 10, 2, 13, 1, 5, 17, 7, 9, 12, 1, 2, 3, 4, 5, 6, 7, 10, 12, 13, 17, 1, 2, 4, 5, 7, 8, 10, 14, 15, 17, 13, 16, 4, 1, 4, 6, 10, 11, 14, 16, 10, 1, 2, 3, 5, 9, 10, 12, 18, 15, 9, 2, 7, 7, 9, 15, 8, 6, 8, 16, 14, 3, 1, 4, 9, 11, 15, 5, 9, 15, 9, 15, 18, 9, 6, 9, 11, 17, 9, 9, 1, 3, 4, 7, 8, 11, 12, 18, 2, 1, 2, 3, 4, 5, 6, 8, 9, 10, 11, 12, 15, 16, 8, 1, 3, 8, 9, 11, 13, 15, 16, 17, 4, 5, 6, 1, 4, 5, 7, 17, 17, 5, 19, 3, 11, 1, 3, 4, 5, 9, 10, 12, 14, 15, 17, 17, 6, 1, 2, 4, 5, 6, 11, 14, 15, 19, 2, 18, 7, 4, 7, 4, 5, 7, 8, 14, 1, 2, 3, 9, 10, 12, 1, 2, 4, 5, 13, 15, 18, 19, 3, 4, 11, 12, 19, 3, 11, 12, 8, 4, 1, 2, 4, 7, 13, 1, 2, 3, 4, 6, 8, 9, 10, 12, 13, 14, 1, 2, 3, 4, 5, 6, 8, 10, 11, 12, 13, 1, 2, 3, 5, 6, 8, 9, 10, 11, 12, 13, 2, 3, 11, 14, 8, 8, 3, 7, 8, 12, 14, 12, 1, 14, 4, 6, 13, 17, 1, 3, 4, 5, 7, 9, 15, 19, 1, 12, 11, 6, 9, 1, 2, 4, 5, 6, 10, 11, 12, 16, 17, 1, 16, 4, 7, 10, 11, 2, 6, 10, 1, 2, 3, 4, 5, 6, 8, 10, 11, 12, 3, 1, 2, 4, 5, 6, 9, 10, 12, 2, 13, 1, 2, 4, 6, 8, 9, 10, 15, 7, 17, 15, 1, 3, 5, 8, 10, 11, 12, 14, 16, 2, 1, 1, 5, 1, 1, 5, 1, 8, 1, 2, 5, 6, 9, 10, 12, 2, 6, 16, 1, 3, 12, 1, 3, 12, 16, 18, 12, 16, 7, 1, 3, 4, 7, 8, 18, 3, 7, 10, 14, 17, 7, 18, 1, 3, 7, 8, 9, 10, 11, 12, 14, 1, 3, 5, 7, 8, 9, 13, 14, 17, 19, 1, 12, 13, 13, 19, 13, 13, 1, 2, 4, 5, 6, 8, 9, 10, 11, 12, 13, 15, 17, 18, 4, 5, 8, 17, 3, 4, 1, 2, 4, 7, 10, 11, 17, 13, 2, 3, 5, 7, 9, 10, 13, 6, 6, 14, 14, 3, 9, 3, 10, 3, 11, 6, 1, 4, 8, 9, 20, 20, 2, 3, 8, 9, 10, 11, 5, 7, 9, 5, 7, 9, 14, 15, 5, 1, 2, 5, 6, 7, 9, 10, 11, 13, 18, 15, 14, 14, 14, 8, 15, 3, 8, 18, 19, 19, 2, 5, 6, 7, 8, 10, 13, 1, 7, 14, 16, 9, 9, 15, 15, 3, 8, 11, 12, 1, 11, 20, 9, 2, 13, 1, 2, 4, 5, 6, 8, 9, 10, 11, 12, 14, 15, 17, 4, 6, 13, 4, 5, 6, 7, 18, 3, 4, 5, 7, 8, 9, 14, 4, 4, 7, 17, 16, 2, 4, 15, 18, 2, 4, 10, 18, 17, 18, 7, 1, 3, 4, 5, 7, 8, 9, 12, 13, 18, 6, 5, 2, 8, 11, 2, 3, 7, 8, 9, 11, 12, 13, 14, 19, 17, 3, 8, 3, 2, 3, 4, 5, 7, 2, 3, 11, 13, 2, 3, 20, 8, 18, 19, 13, 4, 5, 6, 9, 10, 15, 5, 9, 15, 14, 1, 2, 5, 6, 8, 9, 10, 13, 15, 17, 7, 10, 11, 11, 11, 1, 2, 3, 4, 5, 6, 7, 8, 9, 10, 11, 12, 13, 14, 17, 2, 6, 8, 2, 3, 6, 8, 10, 11, 13, 19, 2, 2, 5, 10, 12, 19, 5, 18, 3, 12, 15, 2, 1, 3, 4, 7, 9, 15, 19, 4, 18, 13, 15, 15, 3, 11, 12, 14, 5, 17, 2, 3, 4, 5, 8, 10, 11, 12, 16, 17, 1, 2, 4, 6, 10, 12, 1, 2, 3, 5, 6, 8, 10, 12, 1, 2, 3, 5, 7, 8, 10, 12, 14, 16, 5, 6, 7, 13, 14, 17, 5, 14, 3, 8, 14, 14, 3, 7, 18, 2, 4, 10, 11, 13, 20, 2, 8, 10, 16, 19, 19, 6, 1, 5, 6, 14, 6, 4, 5, 6, 9, 4, 9, 14, 19, 2, 3, 5, 6, 9, 10, 12, 13, 15, 1, 2, 3, 4, 5, 7, 8, 13, 17, 1, 4, 5, 7, 13, 17, 2, 4, 5, 6, 7, 9, 14, 18, 3, 9, 10, 19, 2, 11, 18, 15, 1, 2, 3, 4, 5, 6, 8, 9, 10, 11, 12, 13, 14, 17, 18, 7, 1, 2, 4, 6, 8, 10, 13, 14, 17, 16, 5, 8, 17, 8, 20, 5, 7, 14, 1, 7, 10, 14, 1, 2, 3, 6, 8, 10, 11, 12, 18, 19, 1, 3, 4, 5, 8, 10, 12, 13, 16, 17, 6, 10, 1, 3, 8, 12, 5, 6, 3, 6, 10, 16, 18, 1, 2, 3, 4, 5, 6, 8, 9, 10, 12, 3, 7, 11, 13, 14, 16, 2, 13, 11, 20, 7, 10, 11, 12, 20, 5, 17, 17, 1, 2, 3, 4, 7, 8, 10, 11, 12, 14, 18, 1, 2, 3, 4, 7, 11, 14, 16, 1, 2, 3, 4, 5, 6, 8, 9, 10, 11, 12, 13, 9, 5, 6, 14, 2, 3, 11, 18, 4, 18, 9, 14, 15, 9, 2, 6, 2, 16, 14, 1, 2, 4, 5, 6, 8, 10, 12, 8, 3, 1, 1, 7, 12, 3, 11, 12, 12, 5, 16, 1, 3, 6, 7, 10, 14, 16, 10, 1, 2, 4, 6, 9, 10, 11, 12, 19, 1, 2, 3, 5, 6, 8, 10, 11, 12, 1, 2, 4, 5, 6, 9, 10, 11, 12, 1, 2, 3, 4, 5, 6, 8, 9, 11, 15, 1, 2, 3, 4, 5, 6, 7, 8, 9, 10, 11, 13, 14, 16, 18, 13, 3, 18, 1, 2, 3, 4, 5, 6, 7, 8, 9, 10, 11, 12, 13, 14, 1, 2, 3, 4, 5, 6, 7, 8, 9, 10, 11, 12, 13, 14, 17, 13, 2, 13, 10, 14, 1, 3, 5, 7, 8, 9, 12, 19, 13, 19, 2, 5, 15, 1, 2, 4, 5, 6, 10, 12, 19, 3, 3, 9, 10, 12, 13, 17, 10, 1, 2, 4, 9, 17, 18, 5, 7, 10, 16, 1, 2, 4, 6, 8, 9, 10, 11, 12, 17, 12, 1, 5, 16, 18, 5, 5, 5, 13, 15, 17, 19, 15, 6, 4, 5, 7, 17, 1, 14, 16, 3, 7, 11, 14, 20, 3, 8, 11, 20, 2, 11, 12, 11, 8, 1, 2, 3, 4, 6, 8, 10, 11, 12, 13, 14, 16, 17, 18, 1, 3, 17, 3, 4, 8, 11, 2, 3, 4, 7, 1, 2, 3, 4, 8, 10, 11, 12, 14, 17, 8, 8, 14, 3, 14, 18, 5, 1, 2, 3, 4, 11, 12, 1, 3, 4, 11, 11, 15, 3, 4, 11, 3, 8, 2, 6, 1, 4, 9, 20, 20, 15, 11, 12, 1, 2, 3, 4, 5, 6, 8, 10, 11, 12, 1, 4, 3, 4, 7, 9, 15, 1, 6, 10, 13, 2, 4, 19, 4, 5, 6, 4, 1, 2, 3, 4, 5, 6, 7, 8, 9, 10, 11, 12, 13, 2, 5, 6, 9, 13, 15, 13, 3, 8, 11, 3, 5, 6, 8, 12, 13, 3, 8, 11, 12, 18, 9, 9, 16, 4, 2, 17, 19, 1, 5, 6, 19, 5, 6, 7, 10, 13, 17, 1, 6, 12, 1, 2, 3, 5, 6, 9, 11, 12, 14, 18, 1, 5, 6, 7, 8, 14, 1, 2, 3, 4, 5, 6, 7, 8, 10, 11, 12, 3, 1, 3, 4, 5, 6, 7, 9, 11, 12, 13, 14, 17, 1, 1, 2, 4, 5, 6, 8, 9, 10, 12, 13, 14, 17, 17, 18, 3, 8, 10, 2, 19, 2, 4, 5, 6, 7, 8, 9, 10, 13, 14, 18, 1, 2, 4, 5, 6, 7, 9, 10, 13, 14, 17, 18, 12, 14, 20, 5, 17], \"Freq\": [0.9801969528198242, 0.25608545541763306, 0.10670226812362671, 0.6402136087417603, 0.9560069441795349, 0.9925150871276855, 0.008943021297454834, 0.9837323427200317, 0.05384611710906029, 0.3278278112411499, 0.03959273174405098, 0.12352932244539261, 0.06968320906162262, 0.03484160453081131, 0.3484160304069519, 0.5419504046440125, 0.01975860819220543, 0.43468937277793884, 0.040727920830249786, 0.9541969895362854, 0.9728080034255981, 0.9801000952720642, 0.14069421589374542, 0.8145454525947571, 0.029619833454489708, 0.9347640872001648, 0.05776631832122803, 0.9927020072937012, 0.8330718278884888, 0.060956474393606186, 0.052828945219516754, 0.018286941573023796, 0.032510120421648026, 0.9926483035087585, 0.9927934408187866, 0.9744651317596436, 0.2514598071575165, 0.7334244251251221, 0.9754250645637512, 0.986053466796875, 0.233375683426857, 0.17732112109661102, 0.2092333734035492, 0.05411208048462868, 0.056609559804201126, 0.013319896534085274, 0.04661963880062103, 0.0055499570444226265, 0.028027283027768135, 0.033577241003513336, 0.045232146978378296, 0.06077202782034874, 0.009712424129247665, 0.024974806234240532, 0.00027749783475883305, 0.0011099913390353322, 0.9805735349655151, 0.9960708618164062, 0.09200620651245117, 0.008214839734137058, 0.2924482822418213, 0.05750387907028198, 0.3943122923374176, 0.09693510830402374, 0.031216390430927277, 0.027930455282330513, 0.1455278992652893, 0.8467077612876892, 0.17607899010181427, 0.07003141939640045, 0.018008079379796982, 0.2140960395336151, 0.3821714520454407, 0.0040017953142523766, 0.12805745005607605, 0.0020008976571261883, 0.0040017953142523766, 0.9725079536437988, 0.9868289828300476, 0.3220197856426239, 0.08050494641065598, 0.06037870794534683, 0.5232821106910706, 0.15569189190864563, 0.21980032324790955, 0.1465335488319397, 0.1190585121512413, 0.3571755290031433, 0.9870415925979614, 0.9735808968544006, 0.022800490260124207, 0.1890648901462555, 0.7940725684165955, 0.146868035197258, 0.19205819070339203, 0.23724836111068726, 0.1355704814195633, 0.28526291251182556, 0.14693298935890198, 0.06063901260495186, 0.05130993202328682, 0.05364220216870308, 0.02565496601164341, 0.6413741707801819, 0.01632588729262352, 0.19773262739181519, 0.06364519149065018, 0.030895724892616272, 0.0018537434516474605, 0.046961501240730286, 0.014212032780051231, 0.011122460477054119, 0.0012358289677649736, 0.63212651014328, 0.26235339045524597, 0.07193560898303986, 0.12694518268108368, 0.1438712179660797, 0.093093141913414, 0.05924108996987343, 0.24119585752487183, 0.1708691418170929, 0.10479974001646042, 0.03417382761836052, 0.6880331039428711, 0.29834383726119995, 0.026324454694986343, 0.6734673380851746, 0.16148456931114197, 0.8318902254104614, 0.997363269329071, 0.010345634073019028, 0.015518451109528542, 0.037933994084596634, 0.012069907039403915, 0.6793633103370667, 0.008621362037956715, 0.15173597633838654, 0.01724272407591343, 0.04827962815761566, 0.008621362037956715, 0.008621362037956715, 0.9964725971221924, 0.9870730638504028, 0.975866973400116, 0.9696553945541382, 0.9741644263267517, 0.927075982093811, 0.0344637893140316, 0.0344637893140316, 0.018560366705060005, 0.12167351692914963, 0.09486410021781921, 0.061867889016866684, 0.11961125582456589, 0.055681101977825165, 0.0989886224269867, 0.020622629672288895, 0.04949431121349335, 0.026809418573975563, 0.06599241495132446, 0.2041640430688858, 0.020622629672288895, 0.03505847230553627, 0.9812616109848022, 0.9711812138557434, 0.9868027567863464, 0.9836961627006531, 0.014466119930148125, 0.9847128391265869, 0.9173001646995544, 0.9955258369445801, 0.9980787634849548, 0.9990663528442383, 0.13985644280910492, 0.3460550606250763, 0.04572230204939842, 0.0017930313479155302, 0.04482578486204147, 0.2644721269607544, 0.03406759724020958, 0.05468745902180672, 0.005379094276577234, 0.0008965156739577651, 0.015240767039358616, 0.043929267674684525, 0.0017930313479155302, 0.984962522983551, 0.1769392192363739, 0.039319828152656555, 0.0425964780151844, 0.13761939108371735, 0.6029040217399597, 0.9813977479934692, 0.12960854172706604, 0.007200474850833416, 0.028801899403333664, 0.7560498714447021, 0.028801899403333664, 0.05040332302451134, 0.9842135906219482, 0.9845436215400696, 0.9806849956512451, 0.9945952892303467, 0.9889653921127319, 0.9945691823959351, 0.08927547931671143, 0.17855095863342285, 0.7320589423179626, 0.9927473664283752, 0.9784805178642273, 0.42324894666671753, 0.1653316169977188, 0.41002240777015686, 0.9922725558280945, 0.9716006517410278, 0.8153019547462463, 0.03570665419101715, 0.1428266167640686, 0.9819034337997437, 0.060392845422029495, 0.7595056891441345, 0.06564439833164215, 0.047263965010643005, 0.009190215729176998, 0.016411099582910538, 0.022319095209240913, 0.017723986878991127, 0.9902039170265198, 0.9963083267211914, 0.9911175966262817, 0.9866493940353394, 0.9910054206848145, 0.9854555130004883, 0.08940326422452927, 0.33317187428474426, 0.0045023225247859955, 0.018652480095624924, 0.039234526455402374, 0.3068011403083801, 0.021225236356258392, 0.08747369796037674, 0.024441180750727654, 0.03280263766646385, 0.04052090272307396, 0.0025727557949721813, 0.06442027539014816, 0.9340940117835999, 0.968544602394104, 0.9887819290161133, 0.1878671944141388, 0.8051450848579407, 0.9826093316078186, 0.9707348942756653, 0.024890638887882233, 0.27777746319770813, 0.05634631961584091, 0.4606558680534363, 0.06524310261011124, 0.008896786719560623, 0.013839446939527988, 0.021747702732682228, 0.0425068736076355, 0.009885319508612156, 0.04151834174990654, 0.0009885318577289581, 0.9732458591461182, 0.9837149977684021, 0.8891968727111816, 0.10517382621765137, 0.1631132960319519, 0.8155664801597595, 0.9666057825088501, 0.968023419380188, 0.9295498728752136, 0.06337840110063553, 0.9961569905281067, 0.9704991579055786, 0.02053966373205185, 0.8441670536994934, 0.08996950834989548, 0.019680829718708992, 0.023195264860987663, 0.018977943807840347, 0.004217320587486029, 0.9828906059265137, 0.23960795998573303, 0.20826683938503265, 0.0657152608036995, 0.058638233691453934, 0.18905775249004364, 0.036396145820617676, 0.002022008178755641, 0.043473172932863235, 0.011121044866740704, 0.14457358419895172, 0.24719326198101044, 0.34978654980659485, 0.018579885363578796, 0.002423463389277458, 0.07674300670623779, 0.02585027553141117, 0.16156421601772308, 0.08886032551527023, 0.017772063612937927, 0.010501674376428127, 0.0008078211103565991, 0.9977119565010071, 0.9906305074691772, 0.9975612163543701, 0.9877587556838989, 0.9916079640388489, 0.9727590084075928, 0.994331955909729, 0.031147107481956482, 0.9344132542610168, 0.9492053985595703, 0.0476435162127018, 0.04000171273946762, 0.07143162935972214, 0.00571453059092164, 0.44859063625335693, 0.06285983324050903, 0.03428718075156212, 0.014286326244473457, 0.00285726529546082, 0.05428803712129593, 0.025715386494994164, 0.05714530497789383, 0.14572052657604218, 0.03714444860816002, 0.9695291519165039, 0.17500053346157074, 0.3703499734401703, 0.4395362436771393, 0.012209339998662472, 0.03327644243836403, 0.965016782283783, 0.9889575839042664, 0.052757155150175095, 0.015827147290110588, 0.16882289946079254, 0.7201352119445801, 0.042205724865198135, 0.3874839246273041, 0.11741936951875687, 0.13943549990653992, 0.010274195112287998, 0.11595162749290466, 0.0029354842845350504, 0.06311290711164474, 0.0910000130534172, 0.051370974630117416, 0.020548390224575996, 0.2669709622859955, 0.11679980158805847, 0.0500570572912693, 0.027809476479887962, 0.1251426488161087, 0.0027809476014226675, 0.0723046362400055, 0.30868518352508545, 0.027809476479887962, 0.05189114063978195, 0.7005304098129272, 0.24388836324214935, 0.036384373903274536, 0.7386028170585632, 0.19647562503814697, 0.007276874966919422, 0.014553749933838844, 0.978164553642273, 0.18033543229103088, 0.28338423371315, 0.5152440667152405, 0.9608683586120605, 0.22313714027404785, 0.7437905073165894, 0.02479301579296589, 0.983169674873352, 0.11877789348363876, 0.2884606122970581, 0.5769212245941162, 0.9873572587966919, 0.05810358002781868, 0.9296572804450989, 0.11545078456401825, 0.2309015691280365, 0.028862696141004562, 0.07937241345643997, 0.03607837110757828, 0.5050972104072571, 0.975156307220459, 0.9757644534111023, 0.34527283906936646, 0.15762455761432648, 0.49539148807525635, 0.9884401559829712, 0.029992349445819855, 0.13596531748771667, 0.023993879556655884, 0.055985718965530396, 0.6758276224136353, 0.011996939778327942, 0.06398367881774902, 0.08961367607116699, 0.1965719312429428, 0.14164741337299347, 0.47119447588920593, 0.09539519995450974, 0.005781527142971754, 0.9571640491485596, 0.029603011906147003, 0.797128438949585, 0.03440842032432556, 0.16057263314723969, 0.03777845948934555, 0.9520171880722046, 0.9940245151519775, 0.983100175857544, 0.9958169460296631, 0.9864829182624817, 0.9887362122535706, 0.03588046506047249, 0.05581405758857727, 0.11561483144760132, 0.5780741572380066, 0.09568124264478683, 0.11162811517715454, 0.156755268573761, 0.10171143710613251, 0.10171143710613251, 0.05624043941497803, 0.040684573352336884, 0.12205372005701065, 0.04188118129968643, 0.147182434797287, 0.029915127903223038, 0.05025741457939148, 0.05624043941497803, 0.01316265668720007, 0.08017254620790482, 0.11811789125204086, 0.09870125353336334, 0.37862446904182434, 0.2653607428073883, 0.05824992060661316, 0.006472213193774223, 0.03883327916264534, 0.016180533915758133, 0.01941663958132267, 0.9890152215957642, 0.984581470489502, 0.22764500975608826, 0.770490825176239, 0.9393786787986755, 0.043044306337833405, 0.016458116471767426, 0.8876848816871643, 0.05390799045562744, 0.05390799045562744, 0.9403597712516785, 0.44784992933273315, 0.5485293865203857, 0.9578869938850403, 0.1781184822320938, 0.10255306214094162, 0.010795059613883495, 0.2401900738477707, 0.07286664843559265, 0.3616344928741455, 0.03238517791032791, 0.9772918224334717, 0.3198726773262024, 0.6688246726989746, 0.956245481967926, 0.9624499678611755, 0.7962344288825989, 0.2026778608560562, 0.27988576889038086, 0.11610076576471329, 0.04561101645231247, 0.03524487465620041, 0.041464559733867645, 0.48098888993263245, 0.04462818801403046, 0.0019403561018407345, 0.034926410764455795, 0.479267954826355, 0.11254065483808517, 0.017463205382227898, 0.21731987595558167, 0.03686676546931267, 0.05627032741904259, 0.8861678838729858, 0.10357806831598282, 0.982070803642273, 0.9767467379570007, 0.0478823222219944, 0.3830585777759552, 0.5586270689964294, 0.9960779547691345, 0.9546445608139038, 0.9448754191398621, 0.9932177066802979, 0.9036335945129395, 0.04543409124016762, 0.040385857224464417, 0.005048232153058052, 0.8942702412605286, 0.01502975169569254, 0.09017851203680038, 0.07281825691461563, 0.23903384804725647, 0.1044783666729927, 0.4701526463031769, 0.022162077948451042, 0.014247050508856773, 0.045907162129879, 0.026911094784736633, 0.00633202213793993, 0.12934842705726624, 0.10163091123104095, 0.6652204990386963, 0.092391736805439, 0.02148524858057499, 0.06015869602560997, 0.6961220502853394, 0.05586164817214012, 0.16328789293766022, 0.3534599840641022, 0.1543848216533661, 0.020313791930675507, 0.46721723675727844, 0.20100228488445282, 0.5523605942726135, 0.026905817911028862, 0.17567916214466095, 0.04273276776075363, 0.8507311940193176, 0.12603425979614258, 0.0455239936709404, 0.6330680251121521, 0.018494121730327606, 0.2859475910663605, 0.014226248487830162, 0.9782089591026306, 0.99632728099823, 0.0024661566130816936, 0.9811071753501892, 0.01449912041425705, 0.004833040293306112, 0.9945723414421082, 0.9793758988380432, 0.01772625930607319, 0.9741255044937134, 0.9525601267814636, 0.010264656506478786, 0.03695276379585266, 0.9712460041046143, 0.9683089852333069, 0.9908368587493896, 0.980798065662384, 0.9712589383125305, 0.026428814977407455, 0.9923552870750427, 0.763803243637085, 0.012319407425820827, 0.2176428735256195, 0.9746333360671997, 0.2705487906932831, 0.7142488360404968, 0.944865345954895, 0.03678308054804802, 0.01609259843826294, 0.9776355624198914, 0.30677106976509094, 0.6710616946220398, 0.9972808361053467, 0.9460067749023438, 0.9793338179588318, 0.9622771739959717, 0.025323083624243736, 0.9837938547134399, 0.5164839029312134, 0.11992239207029343, 0.30525699257850647, 0.001362754381261766, 0.04905916005373001, 0.005451017525047064, 0.7600361704826355, 0.16954652965068817, 0.07015718519687653, 0.42154479026794434, 0.16861790418624878, 0.3758774399757385, 0.033372294157743454, 0.027207596227526665, 0.15644368529319763, 0.15644368529319763, 0.027207596227526665, 0.04081139713525772, 0.03400949761271477, 0.5577557682991028, 0.99306321144104, 0.45031362771987915, 0.13984894752502441, 0.004661631770431995, 0.019578853622078896, 0.06805982440710068, 0.23308157920837402, 0.04102236032485962, 0.006526284385472536, 0.03356374800205231, 0.0018646526150405407, 0.9802860617637634, 0.9791089296340942, 0.42268106341362, 0.14985965192317963, 0.030740441754460335, 0.3957831859588623, 0.9981803894042969, 0.00576282013207674, 0.7001826167106628, 0.10084935277700424, 0.06339102238416672, 0.037458330392837524, 0.08067948371171951, 0.008644229732453823, 0.9836558103561401, 0.9881282448768616, 0.9871008396148682, 0.12840688228607178, 0.35064953565597534, 0.07655025273561478, 0.09260111302137375, 0.2716299295425415, 0.05556066706776619, 0.023458948358893394, 0.9662487506866455, 0.04569445177912712, 0.019583337008953094, 0.11097224056720734, 0.13381946086883545, 0.6886806488037109, 0.977820634841919, 0.07985685020685196, 0.6947546005249023, 0.21960633993148804, 0.9655600786209106, 0.9771538972854614, 0.427985817193985, 0.05582423880696297, 0.043418850749731064, 0.4652019739151001, 0.9816110134124756, 0.9711293578147888, 0.9934971332550049, 0.9906494617462158, 0.04842754825949669, 0.9470276236534119, 0.9813715219497681, 0.9974299073219299, 0.0013008404057472944, 0.11447395384311676, 0.05983865633606911, 0.4253748059272766, 0.026016807183623314, 0.03252100944519043, 0.042927730828523636, 0.12227899581193924, 0.07544874399900436, 0.0013008404057472944, 0.039025209844112396, 0.01691092550754547, 0.04422857239842415, 0.9975646138191223, 0.9884828925132751, 0.9692960381507874, 0.4428389072418213, 0.033212918788194656, 0.08303229510784149, 0.08303229510784149, 0.3542711138725281, 0.043463822454214096, 0.11590351909399033, 0.35736918449401855, 0.05312244966626167, 0.01448793988674879, 0.07002504169940948, 0.01690259762108326, 0.25353896617889404, 0.007243969943374395, 0.06761039048433304, 0.9678270220756531, 0.6114359498023987, 0.01828213781118393, 0.07922259718179703, 0.046721018850803375, 0.010156743228435516, 0.028438881039619446, 0.0040626972913742065, 0.028438881039619446, 0.17266464233398438, 0.25821399688720703, 0.1605318784713745, 0.10260409861803055, 0.05376303568482399, 0.16204632818698883, 0.00605780677869916, 0.033317938446998596, 0.042783260345458984, 0.020823709666728973, 0.15826019644737244, 0.0011358388001099229, 0.9721978306770325, 0.06962539255619049, 0.3063517212867737, 0.2738598883152008, 0.0974755510687828, 0.2460097223520279, 0.2331072986125946, 0.3930828869342804, 0.15540486574172974, 0.04113658145070076, 0.013712193816900253, 0.022853655740618706, 0.13712194561958313, 0.9762122631072998, 0.9751046299934387, 0.011869832873344421, 0.9406842589378357, 0.04451187327504158, 0.09635931998491287, 0.09279045462608337, 0.08565273135900497, 0.05710181966423988, 0.06423954665660858, 0.19271863996982574, 0.007137727458029985, 0.049964092671871185, 0.3568863570690155, 0.9789237380027771, 0.015235005877912045, 0.8623013496398926, 0.11883305013179779, 0.9296121597290039, 0.06778421998023987, 0.15357035398483276, 0.08841929584741592, 0.00465364707633853, 0.11634118109941483, 0.027921883389353752, 0.023268235847353935, 0.08376564830541611, 0.055843766778707504, 0.08841929584741592, 0.33971622586250305, 0.01861458830535412, 0.9857743382453918, 0.9706701636314392, 0.9679502248764038, 0.0256410650908947, 0.9950729012489319, 0.9814561009407043, 0.9822338819503784, 0.9776726365089417, 0.9126795530319214, 0.9897854924201965, 0.09032051265239716, 0.8881517052650452, 0.038302771747112274, 0.3214696943759918, 0.18193817138671875, 0.05608620122075081, 0.019151385873556137, 0.102596715092659, 0.18193817138671875, 0.006839780602604151, 0.006839780602604151, 0.004103868268430233, 0.006839780602604151, 0.06976576149463654, 0.0027359123341739178, 0.9847899675369263, 0.9691606163978577, 0.9839155673980713, 0.9844785928726196, 0.9858656525611877, 0.956617534160614, 0.38140347599983215, 0.13869217038154602, 0.017336521297693253, 0.09572774916887283, 0.006783856078982353, 0.21859091520309448, 0.1409534513950348, 0.9917271733283997, 0.13020531833171844, 0.10326628386974335, 0.1167358011007309, 0.06734757870435715, 0.14816467463970184, 0.3771464228630066, 0.004489838611334562, 0.05836790055036545, 0.41399824619293213, 0.19949138164520264, 0.09652809053659439, 0.1351393312215805, 0.038611236959695816, 0.015015480108559132, 0.027885891497135162, 0.07507739961147308, 0.16699878871440887, 0.1265142261981964, 0.6376317143440247, 0.04807540774345398, 0.015181707218289375, 0.002530284458771348, 0.9785393476486206, 0.851895272731781, 0.14438903331756592, 0.9743179678916931, 0.9751189947128296, 0.9897364974021912, 0.244200199842453, 0.721153736114502, 0.03434065356850624, 0.9868131279945374, 0.9880144596099854, 0.9643558263778687, 0.06554114818572998, 0.185699924826622, 0.025488223880529404, 0.007282349746674299, 0.6881820559501648, 0.025488223880529404, 0.8879557847976685, 0.10390971601009369, 0.9856424331665039, 0.15841595828533173, 0.16973139345645905, 0.06789255887269974, 0.5997175574302673, 0.11365087330341339, 0.681905210018158, 0.11365087330341339, 0.0649433583021164, 0.9888043403625488, 0.9845564365386963, 0.9919447302818298, 0.9226698279380798, 0.9759309887886047, 0.9876081347465515, 0.9839047193527222, 0.7816725969314575, 0.013071447610855103, 0.2039145827293396, 0.02354372665286064, 0.97471022605896, 0.036092113703489304, 0.9564410448074341, 0.0014108645264059305, 0.9974812269210815, 0.15304578840732574, 0.10861314088106155, 0.09380225837230682, 0.13329795002937317, 0.4986330568790436, 0.4381743371486664, 0.3935301601886749, 0.006613952107727528, 0.16038835048675537, 0.9377116560935974, 0.09418935328722, 0.21098414063453674, 0.674395740032196, 0.0037675739731639624, 0.01507029589265585, 0.23322799801826477, 0.766320526599884, 0.11603503674268723, 0.875537097454071, 0.9945754408836365, 0.9754363894462585, 0.1290617138147354, 0.07835889607667923, 0.050702814012765884, 0.6222618222236633, 0.11523366719484329, 0.9432116150856018, 0.9723734259605408, 0.1335957646369934, 0.8550129532814026, 0.953788697719574, 0.9807486534118652, 0.1351686269044876, 0.8645349144935608, 0.15514636039733887, 0.02148180454969406, 0.5060158371925354, 0.23152610659599304, 0.04535047337412834, 0.03818987309932709, 0.17203354835510254, 0.043008387088775635, 0.029568267986178398, 0.6182456016540527, 0.12096109241247177, 0.01344012189656496, 0.9984201192855835, 0.0871698185801506, 0.24099892377853394, 0.06153164058923721, 0.6101887226104736, 0.4138841927051544, 0.004311293829232454, 0.5820246338844299, 0.182406485080719, 0.8100993633270264, 0.956245481967926, 0.2541744112968445, 0.04748313128948212, 0.03910375386476517, 0.1843462735414505, 0.06982813775539398, 0.19272564351558685, 0.002793125342577696, 0.20669128000736237, 0.35726264119148254, 0.6307533979415894, 0.009855521842837334, 0.9870072603225708, 0.9720697402954102, 0.9945153594017029, 0.9848688840866089, 0.9903302192687988, 0.10834913700819016, 0.03333819657564163, 0.7876148819923401, 0.06667639315128326, 0.24065451323986053, 0.09499520063400269, 0.08866219222545624, 0.0696631520986557, 0.4844755232334137, 0.018999040126800537, 0.03829255327582359, 0.850094735622406, 0.05360957607626915, 0.05360957607626915, 0.9809991121292114, 0.8950443863868713, 0.09466814994812012, 0.43633726239204407, 0.021945957094430923, 0.051637548953294754, 0.4040638208389282, 0.08391101658344269, 0.9362313151359558, 0.05771289020776749, 0.998608410358429, 0.9713789820671082, 0.9969136714935303, 0.688723087310791, 0.30693092942237854, 0.9945682883262634, 0.9903140068054199, 0.008750934153795242, 0.19896189868450165, 0.7585422396659851, 0.024870237335562706, 0.004974047653377056, 0.012435118667781353, 0.1701056957244873, 0.8275412321090698, 0.993980348110199, 0.9711669683456421, 0.9892082214355469, 0.9959376454353333, 0.9675977230072021, 0.4131103754043579, 0.19209632277488708, 0.004131103865802288, 0.07766474783420563, 0.06444521993398666, 0.10410381108522415, 0.004957324359565973, 0.046268362551927567, 0.06692387908697128, 0.014871973544359207, 0.010740869678556919, 0.0016524414531886578, 0.8236281275749207, 0.014355174265801907, 0.039476729929447174, 0.12022458761930466, 0.0035887935664504766, 0.9945783019065857, 0.14716999232769012, 0.06132083013653755, 0.11855360865592957, 0.004088055342435837, 0.028616387397050858, 0.6336485743522644, 0.9894795417785645, 0.23889634013175964, 0.7384068965911865, 0.7367845773696899, 0.08696474134922028, 0.04106668382883072, 0.13044710457324982, 0.0048313746228814125, 0.9087033271789551, 0.04403408244252205, 0.04803717881441116, 0.9905499219894409, 0.8588742017745972, 0.05301692709326744, 0.010603385046124458, 0.07952538877725601, 0.8364158868789673, 0.15101952850818634, 0.976424515247345, 0.9090078473091125, 0.0885397270321846, 0.018155740574002266, 0.8109563589096069, 0.05446721985936165, 0.114986352622509, 0.2217889130115509, 0.05950434133410454, 0.1271229088306427, 0.4841489791870117, 0.027047429233789444, 0.05409485846757889, 0.010818971320986748, 0.013523714616894722, 0.036076586693525314, 0.9560295939445496, 0.5732652544975281, 0.07838717848062515, 0.11616412550210953, 0.11616412550210953, 0.008499814197421074, 0.003777695121243596, 0.07838717848062515, 0.007555390242487192, 0.000944423780310899, 0.016999628394842148, 0.9987837076187134, 0.028808027505874634, 0.9650688767433167, 0.1023646667599678, 0.8964663147926331, 0.9869927167892456, 0.009311252273619175, 0.9866122603416443, 0.29858940839767456, 0.012819581665098667, 0.6885183453559875, 0.9905508756637573, 0.006076999008655548, 0.6615557074546814, 0.029685191810131073, 0.18553245067596436, 0.12192133069038391, 0.9669885039329529, 0.9746989011764526, 0.9913418292999268, 0.357549786567688, 0.18053795397281647, 0.13540346920490265, 0.04654494300484657, 0.0472501665353775, 0.027503829449415207, 0.0014104527654126287, 0.024682924151420593, 0.16290730237960815, 0.015514981001615524, 0.05508827418088913, 0.08263241499662399, 0.16220436990261078, 0.1713857501745224, 0.5202781558036804, 0.0030604598578065634, 0.9899635314941406, 0.993983268737793, 0.19433104991912842, 0.10898295044898987, 0.017944984138011932, 0.05208422243595123, 0.1457482874393463, 0.03807838261127472, 0.06390164792537689, 0.0923510193824768, 0.11292209476232529, 0.020133396610617638, 0.012255110777914524, 0.012255110777914524, 0.032388508319854736, 0.04595666751265526, 0.04551898315548897, 0.005689872894436121, 0.1617984175682068, 0.7643579840660095, 0.07253032177686691, 0.9511504769325256, 0.9821071028709412, 0.03438564017415047, 0.9284123182296753, 0.03438564017415047, 0.03569092974066734, 0.04996730387210846, 0.7637858986854553, 0.14276371896266937, 0.9873954653739929, 0.9807790517807007, 0.01621122471988201, 0.08470647782087326, 0.9000063538551331, 0.1351984143257141, 0.18466125428676605, 0.6726945638656616, 0.003297522198408842, 0.053679853677749634, 0.939397394657135, 0.9899334907531738, 0.9671636819839478, 0.8818567991256714, 0.033010683953762054, 0.08488461375236511, 0.9901612401008606, 0.9881159067153931, 0.09619536995887756, 0.8657583594322205, 0.1590563952922821, 0.1333266794681549, 0.12747901678085327, 0.0011695323046296835, 0.21285487711429596, 0.014034387655556202, 0.0011695323046296835, 0.07134146988391876, 0.14736106991767883, 0.09941024333238602, 0.007017193827778101, 0.023390645161271095, 0.0035085969138890505, 0.9342195987701416, 0.9666751623153687, 0.9830048084259033, 0.3472672402858734, 0.01578487455844879, 0.11680807173252106, 0.09155227243900299, 0.06629647314548492, 0.35358119010925293, 0.0031569749116897583, 0.036554861813783646, 0.043201200664043427, 0.013292676769196987, 0.8307923078536987, 0.07643289119005203, 0.9847305417060852, 0.9793561697006226, 0.95943683385849, 0.008208530955016613, 0.9908869862556458, 0.9985936880111694, 0.9761254787445068, 0.8894441723823547, 0.10408388823270798, 0.9913482666015625, 0.9848288893699646, 0.2197757512331009, 0.776540994644165, 0.996990442276001, 0.9831621646881104, 0.06830839812755585, 0.8091917634010315, 0.03152695298194885, 0.02627246081829071, 0.036781445145606995, 0.02627246081829071, 0.17759566009044647, 0.5118933916091919, 0.0014924005372449756, 0.0014924005372449756, 0.12237684428691864, 0.06118842214345932, 0.026863209903240204, 0.005969602148979902, 0.09103643149137497, 0.9627583622932434, 0.9812893271446228, 0.9707480669021606, 0.9605868458747864, 0.15304340422153473, 0.08799995481967926, 0.06886953115463257, 0.011478254571557045, 0.2372172772884369, 0.04591301828622818, 0.3902606666088104, 0.979025661945343, 0.9814172983169556, 0.9858579039573669, 0.20603811740875244, 0.2655906677246094, 0.03148755058646202, 0.013690239749848843, 0.3641603887081146, 0.04860035330057144, 0.04038620740175247, 0.0006845120224170387, 0.02464243210852146, 0.0027380480896681547, 0.320972740650177, 0.3743392825126648, 0.029390275478363037, 0.002320284955203533, 0.016628708690404892, 0.11524081230163574, 0.02861684560775757, 0.07115539908409119, 0.006960854399949312, 0.002706998959183693, 0.030937131494283676, 0.8900641202926636, 0.046438127756118774, 0.05417781323194504, 0.9913389086723328, 0.8469354510307312, 0.14786532521247864, 0.004644983913749456, 0.9842504262924194, 0.9184563159942627, 0.8748878240585327, 0.10292797535657883, 0.013622820377349854, 0.007568233646452427, 0.950378954410553, 0.9743995666503906, 0.3036686182022095, 0.1411890983581543, 0.02801370993256569, 0.020169870927929878, 0.03585755079984665, 0.07731784135103226, 0.16360007226467133, 0.012326032854616642, 0.006723290309309959, 0.04482193663716316, 0.08404113352298737, 0.012326032854616642, 0.06835345178842545, 0.12945185601711273, 0.8161095380783081, 0.050655074417591095, 0.98635333776474, 0.008806725963950157, 0.9307059645652771, 0.06817273050546646, 0.9814162850379944, 0.04982628673315048, 0.14947885274887085, 0.19930514693260193, 0.22421829402446747, 0.02491314336657524, 0.08304381370544434, 0.22421829402446747, 0.04152190685272217, 0.1652875542640686, 0.01291309017688036, 0.11621781438589096, 0.13429613411426544, 0.061982832849025726, 0.5061931610107422, 0.23221668601036072, 0.13933001458644867, 0.0673428401350975, 0.06502067297697067, 0.4388895630836487, 0.00928866770118475, 0.02322166971862316, 0.0023221669252961874, 0.02089950256049633, 0.047917820513248444, 0.9391892552375793, 0.9947989583015442, 0.002557323779910803, 0.9837966561317444, 0.9864177107810974, 0.9880484342575073, 0.32297274470329285, 0.09093407541513443, 0.018813947215676308, 0.018813947215676308, 0.4828912913799286, 0.018813947215676308, 0.01567828841507435, 0.028220919892191887, 0.0031356578692793846, 0.08710271120071411, 0.09834177047014236, 0.0028097648173570633, 0.23883001506328583, 0.5422846078872681, 0.028097648173570633, 0.10362670570611954, 0.03454223647713661, 0.7426580786705017, 0.06908447295427322, 0.05181335285305977, 0.21442867815494537, 0.1587482988834381, 0.0011846887646242976, 0.11136075109243393, 0.033171288669109344, 0.4691367745399475, 0.01303157676011324, 0.12128746509552002, 0.2975333034992218, 0.05874861776828766, 0.043587684631347656, 0.46240848302841187, 0.013265816494822502, 0.9807432293891907, 0.16051514446735382, 0.8255064487457275, 0.9777060151100159, 0.05325592681765556, 0.9408547282218933, 0.9516313076019287, 0.0021404633298516273, 0.824078381061554, 0.1712370663881302, 0.8319599032402039, 0.10267859697341919, 0.03685898333787918, 0.026327844709157944, 0.02882963791489601, 0.05765927582979202, 0.911016583442688, 0.9913731217384338, 0.11659836024045944, 0.08806029707193375, 0.13535194098949432, 0.04647626727819443, 0.07501433044672012, 0.026907313615083694, 0.013045970350503922, 0.015492089092731476, 0.012230596505105495, 0.4712856709957123, 0.9958911538124084, 0.9819933176040649, 0.034097179770469666, 0.204583078622818, 0.17048589885234833, 0.5796520709991455, 0.02815202809870243, 0.26012474298477173, 0.021395541727542877, 0.11148203164339066, 0.04616932570934296, 0.04729541018605232, 0.0045043244026601315, 0.050673652440309525, 0.13287757337093353, 0.11598636209964752, 0.06643878668546677, 0.10359946638345718, 0.006756486836820841, 0.0045043244026601315, 0.2585724890232086, 0.04137159883975983, 0.05171449854969978, 0.49990683794021606, 0.08963846415281296, 0.055162131786346436, 0.9878621101379395, 0.38641485571861267, 0.012464995495975018, 0.434197336435318, 0.14334744215011597, 0.002077499171718955, 0.00415499834343791, 0.01661999337375164, 0.011044283397495747, 0.982941210269928, 0.9795444011688232, 0.9979575872421265, 0.9791048169136047, 0.9785587191581726, 0.9857093095779419, 0.9708538055419922, 0.9926252365112305, 0.0721903070807457, 0.9178481698036194, 0.9740757346153259, 0.9329444169998169, 0.05408373475074768, 0.16019684076309204, 0.20825590193271637, 0.6087480187416077, 0.9638262391090393, 0.9719234108924866, 0.989067792892456, 0.9741240739822388, 0.9810095429420471, 0.034217871725559235, 0.9279886484146118, 0.0191620085388422, 0.016424577683210373, 0.00273742969147861, 0.8905535340309143, 0.012241285294294357, 0.09486996382474899, 0.9853902459144592, 0.9825361371040344, 0.9616585969924927, 0.957638144493103, 0.20270636677742004, 0.0810825452208519, 0.7027153968811035, 0.09931623935699463, 0.29192954301834106, 0.054172493517398834, 0.04213416203856468, 0.07824915647506714, 0.07824915647506714, 0.03912457823753357, 0.027086246758699417, 0.29192954301834106, 0.08077151328325272, 0.5746316313743591, 0.05077066645026207, 0.025385333225131035, 0.0830792710185051, 0.016154302284121513, 0.16846629977226257, 0.9774478673934937, 0.9731318950653076, 0.9686731696128845, 0.3697454333305359, 0.27463406324386597, 0.35428982973098755, 0.018327008932828903, 0.3911868631839752, 0.1472480446100235, 0.0006319658132269979, 0.19527743756771088, 0.08025965839624405, 0.0012639316264539957, 0.1523037701845169, 0.01327128242701292, 0.9665836691856384, 0.9812692403793335, 0.14014890789985657, 0.1284698247909546, 0.7241026759147644, 0.980609655380249, 0.03426116332411766, 0.7590165138244629, 0.2029314935207367, 0.10287762433290482, 0.06858508288860321, 0.017146270722150803, 0.7487204670906067, 0.05715423449873924, 0.9074192643165588, 0.07561827450990677, 0.8410184979438782, 0.04368927329778671, 0.1146843433380127, 0.9713782072067261, 0.9847553372383118, 0.990201473236084, 0.09231244772672653, 0.07692704349756241, 0.09808197617530823, 0.013462232425808907, 0.09615880250930786, 0.3807888627052307, 0.017308583483099937, 0.22308841347694397, 0.03775138407945633, 0.0964757576584816, 0.06711357086896896, 0.05033518001437187, 0.029362186789512634, 0.6837195158004761, 0.01677839271724224, 0.00838919635862112, 0.6870700716972351, 0.041442323476076126, 0.17231281101703644, 0.02399292401969433, 0.01526822429150343, 0.026174098253250122, 0.0043623498640954494, 0.017449399456381798, 0.0065435245633125305, 0.9684969186782837, 0.9627670049667358, 0.9724953770637512, 0.03934837505221367, 0.28855475783348083, 0.6754804849624634, 0.9977104067802429, 0.9975057244300842, 0.9826052784919739, 0.4308373034000397, 0.03517039120197296, 0.07737486064434052, 0.2338830977678299, 0.012309636920690536, 0.06858225911855698, 0.012309636920690536, 0.05275558680295944, 0.07385782152414322, 0.9841135144233704, 0.06113411486148834, 0.04585058614611626, 0.22925293445587158, 0.05349234864115715, 0.08405940979719162, 0.038208819925785065, 0.48143115639686584, 0.9875910878181458, 0.9912936687469482, 0.9985078573226929, 0.9862672686576843, 0.02454550564289093, 0.6354559063911438, 0.3381825387477875, 0.6437423229217529, 0.3557523488998413, 0.0501408688724041, 0.9449625611305237, 0.9442000985145569, 0.9782942533493042, 0.9423142671585083, 0.9813354015350342, 0.9979300498962402, 0.1278150975704193, 0.8646314740180969, 0.9933673143386841, 0.9875944256782532, 0.11579082906246185, 0.06130102649331093, 0.7560459971427917, 0.04767857491970062, 0.02043367549777031, 0.9864299893379211, 0.9900608062744141, 0.9943563938140869, 0.016228148713707924, 0.9087762832641602, 0.0649125948548317, 0.7597836256027222, 0.23853673040866852, 0.10937286913394928, 0.7961327433586121, 0.02543555200099945, 0.06613243371248245, 0.42710450291633606, 0.46921342611312866, 0.10226446390151978, 0.3330536186695099, 0.17727938294410706, 0.0013785331975668669, 0.0005514132790267467, 0.007719786372035742, 0.197957381606102, 0.007168373093008995, 0.01488815899938345, 0.0035841865465044975, 0.25613147020339966, 0.9802327156066895, 0.03550329431891441, 0.05522734671831131, 0.2485230565071106, 0.011834431439638138, 0.019724052399396896, 0.05128253623843193, 0.5719975233078003, 0.09215101599693298, 0.14286978542804718, 0.054290518164634705, 0.03786049410700798, 0.10572364181280136, 0.13429759442806244, 0.0657201036810875, 0.014286979101598263, 0.256451278924942, 0.020716119557619095, 0.006429140456020832, 0.0035717447753995657, 0.04857572913169861, 0.010000885464251041, 0.006429140456020832, 0.9828896522521973, 0.9957666993141174, 0.010373169556260109, 0.9854511022567749, 0.9733747839927673, 0.9754990935325623, 0.3002392053604126, 0.6966715455055237, 0.9449222683906555, 0.986001193523407, 0.010602163150906563, 0.010678830556571484, 0.9797827005386353, 0.010678830556571484, 0.9833658337593079, 0.9827255010604858, 0.9580554962158203, 0.03673801198601723, 0.07211536169052124, 0.1809687316417694, 0.3456094563007355, 0.027213342487812042, 0.12654204666614532, 0.016328005120158195, 0.013606671243906021, 0.13742738962173462, 0.004082001280039549, 0.03673801198601723, 0.06805431097745895, 0.9187332391738892, 0.012373511679470539, 0.9840039610862732, 0.9886560440063477, 0.9925589561462402, 0.23266805708408356, 0.2970789968967438, 0.019717631861567497, 0.07887052744626999, 0.0026290176901966333, 0.022346649318933487, 0.009201562032103539, 0.022346649318933487, 0.256329208612442, 0.024975668638944626, 0.009201562032103539, 0.0013145088450983167, 0.021032141521573067, 0.9925586581230164, 0.9861359596252441, 0.9849333167076111, 0.007694791536778212, 0.7720780968666077, 0.019546279683709145, 0.1889473795890808, 0.013030853122472763, 0.0065154265612363815, 0.7463653683662415, 0.05458315834403038, 0.005932951811701059, 0.04627702385187149, 0.11865904182195663, 0.003559771226719022, 0.00830613262951374, 0.015425675548613071, 0.2511902451515198, 0.34440070390701294, 0.054492272436618805, 0.02198810875415802, 0.021271105855703354, 0.12690962851047516, 0.0026290130335837603, 0.03417716920375824, 0.020076099783182144, 0.0047800238244235516, 0.11400356888771057, 0.00047800238826312125, 0.003585017751902342, 0.251096248626709, 0.08519337326288223, 0.02017737738788128, 0.21074149012565613, 0.01569351553916931, 0.0650159940123558, 0.347499281167984, 0.9849655032157898, 0.0725676640868187, 0.14322564005851746, 0.15372885763645172, 0.008593538776040077, 0.016232240945100784, 0.03437415510416031, 0.4382704794406891, 0.03723866865038872, 0.0019096753094345331, 0.01432256493717432, 0.0019096753094345331, 0.03341931849718094, 0.043922532349824905, 0.052405424416065216, 0.02570832148194313, 0.5398747324943542, 0.004943907726556063, 0.07119227200746536, 0.079102523624897, 0.028674665838479996, 0.04548395425081253, 0.1166762262582779, 0.003955126274377108, 0.000988781568594277, 0.0029663448221981525, 0.0029663448221981525, 0.01582050509750843, 0.00889903400093317, 0.2574497163295746, 0.37292349338531494, 0.0009465063340030611, 0.024609165266156197, 0.03312772139906883, 0.21485693752765656, 0.031234709545969963, 0.031234709545969963, 0.0009465063340030611, 0.02082313969731331, 0.011358075775206089, 0.5052414536476135, 0.030558960512280464, 0.11816131323575974, 0.17520470917224884, 0.0061117918230593204, 0.16298112273216248, 0.0919637680053711, 0.12480796873569489, 0.052550721913576126, 0.7291412949562073, 0.2002086043357849, 0.2242005467414856, 0.09017660468816757, 0.022337323054671288, 0.19110821187496185, 0.035574257373809814, 0.09265852719545364, 0.028128482401371002, 0.0736304372549057, 0.0008273082785308361, 0.012409624643623829, 0.02730117365717888, 0.23341628909111023, 0.2274530977010727, 0.16185800731182098, 0.000851884251460433, 0.022148991003632545, 0.20700787007808685, 0.053668707609176636, 0.03492725268006325, 0.030667832121253014, 0.005963189527392387, 0.007666958030313253, 0.00937072653323412, 0.005111305508762598, 0.0759335607290268, 0.1962810903787613, 0.002865417394787073, 0.09885690361261368, 0.02722146548330784, 0.014327087439596653, 0.002865417394787073, 0.5616218447685242, 0.01862521283328533, 0.9731547236442566, 0.976584255695343, 0.1387423276901245, 0.045303620398044586, 0.025483286008238792, 0.09060724079608917, 0.12458495050668716, 0.016988856717944145, 0.4275529086589813, 0.011325905099511147, 0.09060724079608917, 0.022651810199022293, 0.005662952549755573, 0.8320493698120117, 0.09297972917556763, 0.011920478194952011, 0.004768191371113062, 0.05483419820666313, 0.9608550667762756, 0.9924570322036743, 0.9512606263160706, 0.9194463491439819, 0.07164517045021057, 0.4552862346172333, 0.02077035792171955, 0.029909314587712288, 0.02741687186062336, 0.40128329396247864, 0.06480351090431213, 0.9910288453102112, 0.3839419484138489, 0.25798285007476807, 0.0527162104845047, 0.09283650666475296, 0.005598181392997503, 0.024725301191210747, 0.04385242238640785, 0.04291938990354538, 0.039187271147966385, 0.007930757477879524, 0.019593635573983192, 0.0009330302709713578, 0.027990907430648804, 0.9922330975532532, 0.9627980589866638, 0.20083880424499512, 0.25323155522346497, 0.12661577761173248, 0.1440800130367279, 0.2706957757472992, 0.11979775875806808, 0.871256411075592, 0.4526646137237549, 0.10171743482351303, 0.12417453527450562, 0.06913263350725174, 0.09158972650766373, 0.0022016761358827353, 0.00528402253985405, 0.018053743988275528, 0.10039643198251724, 0.009247039444744587, 0.015411732718348503, 0.009687375277280807, 0.00044033522135578096, 0.00044033522135578096, 0.9634667038917542, 0.21464551985263824, 0.005172181408852339, 0.155165433883667, 0.015516543760895729, 0.062066175043582916, 0.0077582718804478645, 0.08792708069086075, 0.12154626101255417, 0.028446996584534645, 0.27153950929641724, 0.025860905647277832, 0.9922193884849548, 0.9923921227455139, 0.9416682124137878, 0.9896374344825745, 0.18102824687957764, 0.208878755569458, 0.06034275144338608, 0.06034275144338608, 0.027850499376654625, 0.17174474895000458, 0.2877885103225708, 0.9507240056991577, 0.045272570103406906, 0.2826710045337677, 0.2946711778640747, 0.0040000611916184425, 0.006666768807917833, 0.27733758091926575, 0.058667562901973724, 0.002666707383468747, 0.002666707383468747, 0.07066775113344193, 0.7357758283615112, 0.07931248843669891, 0.008541344664990902, 0.11957882344722748, 0.0036605761852115393, 0.013422112911939621, 0.004880768246948719, 0.03416537865996361, 0.9381960034370422, 0.019146857783198357, 0.042123086750507355, 0.9732276201248169, 0.021046433597803116, 0.48106130957603455, 0.47204142808914185, 0.024053066968917847, 0.32741233706474304, 0.6693763136863708, 0.03840678557753563, 0.025604523718357086, 0.07041244208812714, 0.8577515482902527, 0.019185375422239304, 0.01395300030708313, 0.01569712534546852, 0.02965012565255165, 0.8336917757987976, 0.08546212315559387, 0.9604156017303467, 0.9698676466941833, 0.9819725155830383, 0.9771157503128052, 0.9926313161849976, 0.37953317165374756, 0.2584550976753235, 0.026388809084892273, 0.054329901933670044, 0.011642121709883213, 0.05898674950003624, 0.01940353587269783, 0.0457923449575901, 0.1024506688117981, 0.0038807073142379522, 0.03803092986345291, 0.0015522829489782453, 0.13631221652030945, 0.033045388758182526, 0.07435212284326553, 0.028914714232087135, 0.29740849137306213, 0.04543740674853325, 0.3469765782356262, 0.03717606142163277, 0.9738993644714355, 0.028271928429603577, 0.9329736828804016, 0.037695907056331635, 0.9910404682159424, 0.05329228937625885, 0.4973946809768677, 0.44410240650177, 0.07731034606695175, 0.9019540548324585, 0.8560341596603394, 0.13169756531715393, 0.977653443813324, 0.22149793803691864, 0.1771983504295349, 0.13289876282215118, 0.08859917521476746, 0.13289876282215118, 0.04429958760738373, 0.0063285124488174915, 0.012657024897634983, 0.1771983504295349, 0.06746280938386917, 0.06746280938386917, 0.8614481687545776, 0.9918186664581299, 0.9125477075576782, 0.9288897514343262, 0.2904154658317566, 0.7077351212501526, 0.07849586009979248, 0.22195380926132202, 0.03248104453086853, 0.27338212728500366, 0.02706753835082054, 0.1894727647304535, 0.17323224246501923, 0.06239573284983635, 0.051996443420648575, 0.7348830699920654, 0.09706003218889236, 0.055462874472141266, 0.16413766145706177, 0.5493586659431458, 0.05527084320783615, 0.028472859412431717, 0.16246278584003448, 0.028472859412431717, 0.006699496414512396, 0.006699496414512396, 0.04795607179403305, 0.9298149347305298, 0.007992678321897984, 0.010656904429197311, 0.11156392097473145, 0.8832144141197205, 0.9959049224853516, 0.9786003828048706, 0.017475007101893425, 0.9917821288108826, 0.0072925155982375145, 0.9923920035362244, 0.9934792518615723, 0.07144153863191605, 0.06123560294508934, 0.7807539105415344, 0.015308900736272335, 0.051029667258262634, 0.015308900736272335, 0.9918590188026428, 0.9404933452606201, 0.057749588042497635, 0.9881234765052795, 0.9787209630012512, 0.35645681619644165, 0.6268723607063293, 0.012584910728037357, 0.8148729801177979, 0.16989630460739136, 0.9180418252944946, 0.3032735586166382, 0.35663145780563354, 0.025082776322960854, 0.020978322252631187, 0.006840757094323635, 0.041956644505262375, 0.0013681513955816627, 0.043780844658613205, 0.12267757952213287, 0.008664959110319614, 0.06521521508693695, 0.00045605047489516437, 0.0022802522871643305, 0.9490733742713928, 0.06785811483860016, 0.9092987179756165, 0.9821084141731262, 0.960026741027832, 0.018782153725624084, 0.9578898549079895, 0.018782153725624084, 0.23378096520900726, 0.7660056948661804, 0.5050978064537048, 0.04349453002214432, 0.01683659292757511, 0.06945094466209412, 0.032971661537885666, 0.002104574115946889, 0.019642692059278488, 0.15363390743732452, 0.0007015247247181833, 0.06243569776415825, 0.0519128292798996, 0.03858385980129242, 0.002104574115946889, 0.9816930294036865, 0.990880012512207, 0.9427171945571899, 0.22457174956798553, 0.025145098567008972, 0.2341095358133316, 0.13613036274909973, 0.026012171059846878, 0.2185022383928299, 0.030347533524036407, 0.045954834669828415, 0.052024342119693756, 0.0069365790113806725, 0.8886615037918091, 0.08463443070650101, 0.07951620221138, 0.9195335507392883, 0.27311965823173523, 0.010862713679671288, 0.5850347280502319, 0.05896901711821556, 0.009310897439718246, 0.06207264959812164, 0.8612572550773621, 0.13872599601745605, 0.9891889691352844, 0.9872241020202637, 0.9596512317657471, 0.16807641088962555, 0.27666187286376953, 0.06873227655887604, 0.09010282158851624, 0.0011551643256098032, 0.06006854772567749, 0.031767021864652634, 0.0069309864193201065, 0.0005775821628049016, 0.07104260474443436, 0.2235243022441864, 0.0017327466048300266, 0.9836926460266113, 0.13905861973762512, 0.8343517184257507, 0.950302243232727, 0.20306934416294098, 0.4602905213832855, 0.3249109387397766, 0.005975224077701569, 0.04780179262161255, 0.944085419178009, 0.4182111620903015, 0.22989384829998016, 0.0016304528107866645, 0.05869630351662636, 0.18668684363365173, 0.028532924130558968, 0.026902472600340843, 0.007337037939578295, 0.009782716631889343, 0.030978603288531303, 0.9901789426803589, 0.0031129401177167892, 0.17121170461177826, 0.4513763189315796, 0.27393874526023865, 0.018677640706300735, 0.06848468631505966, 0.012451760470867157, 0.9747562408447266, 0.9632178544998169, 0.14019164443016052, 0.8559069037437439, 0.9649919271469116, 0.024447834119200706, 0.029337402433156967, 0.22980964183807373, 0.28848445415496826, 0.36671751737594604, 0.053785234689712524, 0.92662513256073, 0.06827764213085175, 0.9778650999069214, 0.9935711622238159, 0.9953916072845459, 0.06505999714136124, 0.06720483303070068, 0.11725097894668579, 0.08650834858417511, 0.06577493995428085, 0.12940505146980286, 0.30814129114151, 0.02359318546950817, 0.08078878372907639, 0.00857933983206749, 0.04218175634741783, 0.005719560198485851, 0.2312431037425995, 0.7597987651824951, 0.9459577202796936, 0.03783831000328064, 0.9445582032203674, 0.054574474692344666, 0.9897822737693787, 0.26290032267570496, 0.7261056900024414, 0.12344513833522797, 0.057416342198848724, 0.0947369635105133, 0.7234458923339844, 0.11042153090238571, 0.07779698818922043, 0.17818018794059753, 0.095364049077034, 0.3864753544330597, 0.04015328362584114, 0.027605382725596428, 0.08030656725168228, 0.28540265560150146, 0.7135066390037537, 0.13051292300224304, 0.04745924472808838, 0.12309741228818893, 0.04300994053483009, 0.04745924472808838, 0.1127156987786293, 0.02372962236404419, 0.4034035801887512, 0.0029662027955055237, 0.026695823296904564, 0.04004373773932457, 0.9952641129493713, 0.991322934627533, 0.9852102398872375, 0.3964523375034332, 0.05788905918598175, 0.1087612584233284, 0.0017542139394208789, 0.09121911972761154, 0.08069384098052979, 0.03333006426692009, 0.038592707365751266, 0.18594667315483093, 0.0035084278788417578, 0.9867440462112427, 0.9837080240249634, 0.982245683670044, 0.9824571013450623, 0.9989343881607056, 0.09857528656721115, 0.887177586555481, 0.9730729460716248, 0.979059100151062, 0.5624123811721802, 0.30593767762184143, 0.06411867588758469, 0.06595063954591751, 0.9871606826782227, 0.15397028625011444, 0.09623143076896667, 0.5889363884925842, 0.057738859206438065, 0.1000806912779808, 0.30453425645828247, 0.1470165252685547, 0.09976121783256531, 0.04725531488656998, 0.0052505903877317905, 0.026252951472997665, 0.3675413131713867, 0.03501899912953377, 0.9610769152641296, 0.9902226328849792, 0.9881300330162048, 0.9716493487358093, 0.28969743847846985, 0.11161147803068161, 0.1452590525150299, 0.0984807163476944, 0.05170237645506859, 0.036109596490859985, 0.0738605335354805, 0.04267497733235359, 0.0123100895434618, 0.006565380841493607, 0.0024620178155601025, 0.005744708236306906, 0.11981820315122604, 0.0032826904207468033, 0.9918010830879211, 0.9778882265090942, 0.9832766056060791, 0.9833353161811829, 0.01729670912027359, 0.9801468849182129, 0.04918554425239563, 0.9345253705978394, 0.29687175154685974, 0.17349648475646973, 0.5282003879547119, 0.9776766300201416, 0.9901854395866394, 0.9789349436759949, 0.5589146018028259, 0.05536526441574097, 0.01143910363316536, 0.11073052883148193, 0.19171938300132751, 0.024022119119763374, 0.01143910363316536, 0.03134314343333244, 0.0025166028644889593, 0.0004575641651172191, 0.001601474592462182, 0.04105163738131523, 0.052780672907829285, 0.06646455079317093, 0.04105163738131523, 0.0742839127779007, 0.015638718381524086, 0.027367757633328438, 0.02932259626686573, 0.6353229284286499, 0.015638718381524086, 0.9840040802955627, 0.9569715857505798, 0.9930940866470337, 0.4045925736427307, 0.017401831224560738, 0.03045320324599743, 0.04350457713007927, 0.07830823957920074, 0.1261632740497589, 0.2958311140537262, 0.9636929631233215, 0.1716575026512146, 0.06539333611726761, 0.21252834796905518, 0.028609585016965866, 0.0040870835073292255, 0.06539333611726761, 0.04495791718363762, 0.40462127327919006, 0.9868213534355164, 0.9887334108352661, 0.9777704477310181, 0.016161493957042694, 0.16409210860729218, 0.5410604476928711, 0.29270482063293457, 0.9774026870727539, 0.43096256256103516, 0.059151723980903625, 0.49856454133987427, 0.99372798204422, 0.9879661202430725, 0.03247137740254402, 0.030847808346152306, 0.5601312518119812, 0.04870706424117088, 0.32796090841293335, 0.13577452301979065, 0.8448192477226257, 0.015086058527231216, 0.8577468991279602, 0.018327925354242325, 0.12096431106328964, 0.9964751601219177, 0.1160699874162674, 0.8415074348449707, 0.01741049811244011, 0.02321399748325348, 0.9908888936042786, 0.9923809766769409, 0.15546731650829315, 0.08278129249811172, 0.009422261267900467, 0.03230489417910576, 0.009422261267900467, 0.006057167891412973, 0.638694703578949, 0.06460978835821152, 0.9665623903274536, 0.556873083114624, 0.10309775173664093, 0.055905118584632874, 0.04646659269928932, 0.010164567269384861, 0.04574055224657059, 0.0014520810218527913, 0.0355759859085083, 0.048644714057445526, 0.019603094086050987, 0.02904161997139454, 0.0036302024964243174, 0.04356243088841438, 0.9760124683380127, 0.1772020012140274, 0.08054636418819427, 0.0026848786510527134, 0.41615620255470276, 0.008054636418819427, 0.005369757302105427, 0.02684878744184971, 0.2577483654022217, 0.024163909256458282, 0.7676946520805359, 0.19253294169902802, 0.038994014263153076, 0.018711790442466736, 0.43037116527557373, 0.09355894476175308, 0.17963318526744843, 0.2769344747066498, 0.9815654754638672, 0.04734557121992111, 0.935075044631958, 0.09342711418867111, 0.9055243134498596, 0.4129891097545624, 0.06109306216239929, 0.008553029038012028, 0.007331167813390493, 0.06598050892353058, 0.030546531081199646, 0.3848862946033478, 0.021993502974510193, 0.004887444898486137, 0.0024437224492430687, 0.9788899421691895, 0.978158712387085, 0.10142368823289871, 0.3742184340953827, 0.05595789849758148, 0.07082170993089676, 0.05595789849758148, 0.09442894905805588, 0.06470131874084473, 0.1792401373386383, 0.0034973686560988426, 0.98375403881073, 0.9606471061706543, 0.9722341299057007, 0.09311280399560928, 0.9055970907211304, 0.09556072950363159, 0.1788700819015503, 0.634621262550354, 0.08820990473031998, 0.002450275234878063, 0.253707617521286, 0.5713119506835938, 0.018793156370520592, 0.09396578371524811, 0.026310419663786888, 0.03570699691772461, 0.010178119875490665, 0.5139950513839722, 0.003392706625163555, 0.03223071247339249, 0.003392706625163555, 0.003392706625163555, 0.4156065881252289, 0.01696353405714035, 0.12240222096443176, 0.016691211611032486, 0.42840775847435, 0.2336769551038742, 0.1891670674085617, 0.02162053994834423, 0.7567189335823059, 0.2162054032087326, 0.9970905184745789, 0.9971083402633667, 0.01833243854343891, 0.007856759242713451, 0.8380542993545532, 0.09951894730329514, 0.034045957028865814, 0.27955952286720276, 0.37735921144485474, 0.0664299875497818, 0.022143328562378883, 0.09595442563295364, 0.014762219041585922, 0.0765790119767189, 0.04428665712475777, 0.015684857964515686, 0.007381109520792961, 0.9808811545372009, 0.2119491994380951, 0.2950429320335388, 0.013246824964880943, 0.013246824964880943, 0.007827669382095337, 0.0024085137993097305, 0.11440440267324448, 0.07948095351457596, 0.1372852772474289, 0.12223207205533981, 0.001806385233066976, 0.07782106101512909, 0.3050083518028259, 0.09413837641477585, 0.006275891792029142, 0.013806961476802826, 0.06150373816490173, 0.006275891792029142, 0.22216656804084778, 0.13555926084518433, 0.0665244534611702, 0.010041426867246628, 0.027111444622278214, 0.8892553448677063, 0.0054222890175879, 0.07048975676298141, 0.9626455903053284, 0.9846985936164856, 0.25097301602363586, 0.17838768661022186, 0.4539659023284912, 0.06827942281961441, 0.047980137169361115, 0.971452534198761, 0.9862709641456604, 0.988506555557251, 0.8632270097732544, 0.05419362336397171, 0.058064594864845276, 0.02322583831846714, 0.02140795812010765, 0.1712636649608612, 0.6486611366271973, 0.009633581154048443, 0.14771491289138794, 0.0828273817896843, 0.911101222038269, 0.9625147581100464, 0.9919140934944153, 0.979664146900177, 0.9846060276031494, 0.9859028458595276, 0.9857438206672668, 0.6565672159194946, 0.05125289410352707, 0.055671244859695435, 0.0035346823278814554, 0.007069364655762911, 0.031812138855457306, 0.007953034713864326, 0.18291981518268585, 0.0008836705819703639, 0.0035346823278814554, 0.9768376350402832, 0.015926700085401535, 0.07512452453374863, 0.10294842720031738, 0.5008301734924316, 0.3171924352645874, 0.988659679889679, 0.20310205221176147, 0.7833936214447021, 0.4692383110523224, 0.06452026963233948, 0.07457537204027176, 0.009217181243002415, 0.00502755306661129, 0.007541330065578222, 0.23210537433624268, 0.01759643666446209, 0.01089303195476532, 0.10809239745140076, 0.9918791055679321, 0.3716963827610016, 0.3443561792373657, 0.0019528706325218081, 0.0019528706325218081, 0.1432105153799057, 0.0520765483379364, 0.04296315461397171, 0.041010282933712006, 0.19082964956760406, 0.8034932613372803, 0.6516707539558411, 0.1715622991323471, 0.01728922314941883, 0.05452755093574524, 0.04654791206121445, 0.01329940278083086, 0.04388802871108055, 0.9828704595565796, 0.9663816690444946, 0.9735867381095886, 0.9795629382133484, 0.1612459272146225, 0.3072799742221832, 0.11256791651248932, 0.003042376134544611, 0.01825425587594509, 0.08518653362989426, 0.11561029404401779, 0.057805147022008896, 0.13994930684566498, 0.9704673290252686, 0.9872788190841675, 0.961384654045105, 0.03627866506576538, 0.9916408061981201, 0.8941767811775208, 0.10556253790855408, 0.10382696986198425, 0.8916904926300049, 0.28041017055511475, 0.18488582968711853, 0.07703576236963272, 0.32817235589027405, 0.04314002767205238, 0.02773287519812584, 0.057006463408470154, 0.9690718054771423, 0.01900140754878521, 0.9539593458175659, 0.09115111827850342, 0.04557555913925171, 0.8477054238319397, 0.3354075253009796, 0.012196636758744717, 0.5488486886024475, 0.018294954672455788, 0.08232729882001877, 0.9596495628356934, 0.9560567140579224, 0.9783294796943665, 0.04100022837519646, 0.7934750318527222, 0.048235561698675156, 0.028941337019205093, 0.07717689871788025, 0.009647112339735031, 0.07847294211387634, 0.6188661456108093, 0.04280342161655426, 0.17656412720680237, 0.08203989267349243, 0.9874747395515442, 0.9845887422561646, 0.13683657348155975, 0.09002406895160675, 0.021605776622891426, 0.03600962460041046, 0.05401444062590599, 0.40690878033638, 0.10442791879177094, 0.05761540308594704, 0.0864231064915657, 0.054322727024555206, 0.0023618575651198626, 0.15824446082115173, 0.0023618575651198626, 0.5455891489982605, 0.040151581168174744, 0.05904644355177879, 0.06613201647996902, 0.07085572928190231, 0.0023618575651198626, 0.9929735660552979, 0.9645687341690063, 0.995486855506897, 0.693647563457489, 0.2972775399684906, 0.9834995269775391, 0.9951386451721191, 0.29540467262268066, 0.15648184716701508, 0.1673271209001541, 0.010845276527106762, 0.21070823073387146, 0.01549325231462717, 0.048029083758592606, 0.009812393225729465, 0.00826306827366352, 0.020657669752836227, 0.041315339505672455, 0.007746626157313585, 0.005164417438209057, 0.0025822087191045284, 0.7310580015182495, 0.08216501772403717, 0.029495134949684143, 0.15590286254882812, 0.1013253778219223, 0.8957163095474243, 0.12561030685901642, 0.022838236764073372, 0.0513860322535038, 0.03996691480278969, 0.7079853415489197, 0.011419118382036686, 0.03996691480278969, 0.9700682759284973, 0.03639678657054901, 0.04632318392395973, 0.08933756500482559, 0.04632318392395973, 0.04632318392395973, 0.006617597304284573, 0.7279357314109802, 0.9896969199180603, 0.12433896958827972, 0.8703727722167969, 0.9821650385856628, 0.010029127821326256, 0.9828544855117798, 0.04169332981109619, 0.9380999207496643, 0.9504181742668152, 0.04752090573310852, 0.9726906418800354, 0.3015229105949402, 0.04020305350422859, 0.6231473684310913, 0.03266498073935509, 0.9648343920707703, 0.9743534326553345, 0.15351523458957672, 0.3045937120914459, 0.026804247871041298, 0.4191209673881531, 0.01462049875408411, 0.08284949511289597, 0.12410968542098999, 0.7496225237846375, 0.12410968542098999, 0.5515092611312866, 0.3854936957359314, 0.014069112949073315, 0.047834984958171844, 0.9891941547393799, 0.9908009171485901, 0.2650850713253021, 0.07138925045728683, 0.3826673924922943, 0.1837223321199417, 0.062465593218803406, 0.028870653361082077, 0.003674446837976575, 0.0010498418705537915, 0.0005249209352768958, 0.9957812428474426, 0.9759849905967712, 0.9974263310432434, 0.9945652484893799, 0.9929877519607544, 0.16333429515361786, 0.8166714906692505, 0.15160289406776428, 0.08422382920980453, 0.758014440536499, 0.9631547331809998, 0.9291074872016907, 0.049370430409908295, 0.049370430409908295, 0.22866305708885193, 0.6392171382904053, 0.015590663067996502, 0.01299221906810999, 0.002598443767055869, 0.4771137833595276, 0.26528316736221313, 0.24746565520763397, 0.005939175840467215, 0.9949908256530762, 0.9389405846595764, 0.04890315607190132, 0.9890753030776978, 0.18572133779525757, 0.24913838505744934, 0.5209257006645203, 0.043032992631196976, 0.9894530773162842, 0.9983407855033875, 0.9410896897315979, 0.9987220168113708, 0.1318153589963913, 0.856799840927124, 0.14844414591789246, 0.11479680240154266, 0.18407073616981506, 0.08213909715414047, 0.06531542539596558, 0.06432579457759857, 0.11974494159221649, 0.012865159660577774, 0.06630504876375198, 0.00692739337682724, 0.016823669895529747, 0.11281754821538925, 0.0049481382593512535, 0.9452593922615051, 0.03513975441455841, 0.017569877207279205, 0.061672013252973557, 0.024668805301189423, 0.16651444137096405, 0.7400641441345215, 0.9807237982749939, 0.018976416438817978, 0.12861792743206024, 0.050603773444890976, 0.0358443409204483, 0.7084528207778931, 0.02108490653336048, 0.0358443409204483, 0.9977308511734009, 0.8715094923973083, 0.09214197099208832, 0.03263361379504204, 0.9483708739280701, 0.3657563328742981, 0.16287586092948914, 0.005714942701160908, 0.46291035413742065, 0.27248525619506836, 0.04890760779380798, 0.055894408375024796, 0.6148384809494019, 0.9533895254135132, 0.941908597946167, 0.987584114074707, 0.029758907854557037, 0.5493952035903931, 0.01602402701973915, 0.013734880834817886, 0.013734880834817886, 0.028614334762096405, 0.02518061362206936, 0.26210731267929077, 0.009156586602330208, 0.05265037342905998, 0.973860502243042, 0.9881988763809204, 0.038056354969739914, 0.6215871572494507, 0.3361644744873047, 0.12487396597862244, 0.11932401359081268, 0.06937442719936371, 0.0027749771252274513, 0.43012145161628723, 0.11099908500909805, 0.024974793195724487, 0.0027749771252274513, 0.06382447481155396, 0.049949586391448975, 0.9725058674812317, 0.9929472804069519, 0.005866749212145805, 0.9942733645439148, 0.3517230451107025, 0.21232061088085175, 0.06862888485193253, 0.021446526050567627, 0.34314441680908203, 0.012062177993357182, 0.03618653118610382, 0.9408498406410217, 0.9715394973754883, 0.9893373250961304, 0.9901717305183411, 0.9776126742362976, 0.023121874779462814, 0.9634113907814026, 0.007707291282713413, 0.9892609715461731, 0.06104356795549393, 0.2970786988735199, 0.11801756173372269, 0.0895305648446083, 0.06918270885944366, 0.3621918261051178, 0.19967885315418243, 0.039935771375894547, 0.7587796449661255, 0.9952806830406189, 0.07939937710762024, 0.27305641770362854, 0.044541116803884506, 0.3524557948112488, 0.003873140551149845, 0.00774628110229969, 0.13362334668636322, 0.0387314036488533, 0.04647768661379814, 0.01549256220459938, 0.01260626595467329, 0.932863712310791, 0.05042506381869316, 0.9744951128959656, 0.9948951601982117, 0.2805485129356384, 0.22267752885818481, 0.00943548884242773, 0.08680649846792221, 0.018241943791508675, 0.09183875471353531, 0.013209683820605278, 0.03208066150546074, 0.04906453937292099, 0.10379037261009216, 0.04906453937292099, 0.032709695398807526, 0.0006290325545705855, 0.002516130218282342, 0.008806455880403519, 0.16892091929912567, 0.7750489115715027, 0.0496826246380806, 0.1303918957710266, 0.009448687545955181, 0.011338424868881702, 0.6368415355682373, 0.05102291330695152, 0.10015609115362167, 0.04724343866109848, 0.009448687545955181, 0.9871669411659241, 0.04611615464091301, 0.061488207429647446, 0.8915790319442749, 0.9871996641159058, 0.959898054599762, 0.2706919014453888, 0.7259464859962463, 0.9876210689544678, 0.9466765522956848, 0.025585852563381195, 0.9877623915672302, 0.04927610605955124, 0.04927610605955124, 0.029565664008259773, 0.10840743780136108, 0.22667008638381958, 0.43855735659599304, 0.09362459927797318, 0.990515410900116, 0.9549772143363953, 0.9866412878036499, 0.9641086459159851, 0.9714689254760742, 0.7479346394538879, 0.22628885507583618, 0.02544613555073738, 0.989426851272583, 0.8023883700370789, 0.19466225802898407, 0.1902436465024948, 0.08370720595121384, 0.11034131795167923, 0.00760974595323205, 0.09131695330142975, 0.07990233600139618, 0.03804872930049896, 0.13317056000232697, 0.026634110137820244, 0.23590213060379028, 0.35409316420555115, 0.1473793238401413, 0.004785042721778154, 0.21436992287635803, 0.011484102346003056, 0.26796239614486694, 0.390032023191452, 0.22499564290046692, 0.0011873120674863458, 0.0017809681594371796, 0.2612086534500122, 0.047492485493421555, 0.012466777116060257, 0.0611465722322464, 0.1145174652338028, 0.013315984047949314, 0.4474170506000519, 0.10386467725038528, 0.015979180112481117, 0.1904185712337494, 0.04127955064177513, 0.03994795307517052, 0.01731077954173088, 0.014647582545876503, 0.004074507392942905, 0.03259605914354324, 0.15075677633285522, 0.6722937226295471, 0.057043105363845825, 0.08556465804576874, 0.8183872699737549, 0.17872825264930725, 0.024319833144545555, 0.04790269955992699, 0.9271014928817749, 0.9953802227973938, 0.9902698397636414, 0.2568102180957794, 0.7361893057823181, 0.4636501967906952, 0.016758441925048828, 0.005586147308349609, 0.44689175486564636, 0.0633096694946289, 0.8958747982978821, 0.9192876815795898, 0.06267870962619781, 0.010446451604366302, 0.9821783304214478, 0.9349125623703003, 0.9492160677909851, 0.9781220555305481, 0.05044703185558319, 0.09248622506856918, 0.20178812742233276, 0.6474035978317261, 0.9652944803237915, 0.06522826850414276, 0.02795497141778469, 0.9038774371147156, 0.986503541469574, 0.057405419647693634, 0.3229054808616638, 0.5740541815757751, 0.03587838634848595, 0.05433359369635582, 0.05835830420255661, 0.2273961454629898, 0.5232123732566833, 0.03421004116535187, 0.018111197277903557, 0.014086486771702766, 0.012074131518602371, 0.056345947086811066, 0.1343364119529724, 0.03463360667228699, 0.02833658829331398, 0.397761732339859, 0.04302963241934776, 0.18576207756996155, 0.023089071735739708, 0.0335841029882431, 0.11754436790943146, 0.0604235865175724, 0.35777121782302856, 0.02067122608423233, 0.4770283102989197, 0.00636037765070796, 0.07791462540626526, 0.06380928307771683, 0.02791655994951725, 0.003988080192357302, 0.23130863904953003, 0.07178544253110886, 0.031904641538858414, 0.5264265537261963, 0.03589272126555443, 0.06567004323005676, 0.8947543501853943, 0.03283502161502838, 0.9746897220611572, 0.9777724742889404, 0.01247167494148016, 0.9727905988693237, 0.9882962703704834, 0.28887003660202026, 0.2673226296901703, 0.02222077175974846, 0.012120421044528484, 0.0855163037776947, 0.1515052616596222, 0.0033667837269604206, 0.07204917073249817, 0.018853988498449326, 0.020874058827757835, 0.030301053076982498, 0.009426994249224663, 0.0013467133976519108, 0.010773707181215286, 0.006060210522264242, 0.9715736508369446, 0.2680211365222931, 0.038683462888002396, 0.08013002574443817, 0.4724908471107483, 0.005526208784431219, 0.0027631043922156096, 0.0884193405508995, 0.019341731444001198, 0.022104835137724876, 0.9707316756248474, 0.012007767334580421, 0.9846369028091431, 0.9617325067520142, 0.9932108521461487, 0.93940269947052, 0.07521853595972061, 0.8596404194831848, 0.05372752621769905, 0.15687108039855957, 0.27597689628601074, 0.48513832688331604, 0.07843554019927979, 0.1556025594472885, 0.5497956871986389, 0.1677049845457077, 0.027662675827741623, 0.050138600170612335, 0.012102421373128891, 0.0017289172392338514, 0.024204842746257782, 0.005186751950532198, 0.003457834478467703, 0.2326786071062088, 0.420210599899292, 0.05440743267536163, 0.01273365505039692, 0.05209222435951233, 0.006945630069822073, 0.035885754972696304, 0.028940124437212944, 0.12039091438055038, 0.03472815081477165, 0.9791245460510254, 0.9647610783576965, 0.01717308908700943, 0.16600653529167175, 0.2003527134656906, 0.6125068664550781, 0.9962627291679382, 0.9610949158668518, 0.985883355140686, 0.12361457943916321, 0.030903644859790802, 0.7828923463821411, 0.061807289719581604, 0.27885574102401733, 0.3505614995956421, 0.023105189204216003, 0.04860057309269905, 0.0031869227532297373, 0.11791614443063736, 0.07329922169446945, 0.023105189204216003, 0.01513788290321827, 0.06692537665367126, 0.07154223322868347, 0.049529239535331726, 0.05503248795866966, 0.11556822806596756, 0.49529239535331726, 0.20362021028995514, 0.936324417591095, 0.05454317107796669, 0.9907242059707642, 0.9568271636962891, 0.9787898659706116, 0.9851034283638, 0.9878466129302979, 0.3599082827568054, 0.6118440628051758, 0.17153126001358032, 0.806196928024292, 0.9546910524368286, 0.07599955797195435, 0.12332003563642502, 0.22991061210632324, 0.16347074508666992, 0.006213800515979528, 0.02294326201081276, 0.003823877079412341, 0.29300457239151, 0.01911938562989235, 0.056402187794446945, 0.006213800515979528, 0.0348600409924984, 0.05810006707906723, 0.4749680459499359, 0.09005510807037354, 0.08715010434389114, 0.15106017887592316, 0.06391007453203201, 0.03776504471898079, 0.324267715215683, 0.22019052505493164, 0.012744145467877388, 0.032568372786045074, 0.031860366463661194, 0.19965828955173492, 0.002124024322256446, 0.04743654280900955, 0.07929690927267075, 0.008496097289025784, 0.036816421896219254, 0.003540040459483862, 0.9846376776695251, 0.12255246937274933, 0.8390130996704102, 0.02828134037554264, 0.08463780581951141, 0.13300226628780365, 0.5833962559700012, 0.1964806169271469, 0.20062917470932007, 0.7891414165496826, 0.9680851101875305, 0.02682030014693737, 0.0038314713165163994, 0.9963674545288086, 0.09328124672174454, 0.8861718773841858, 0.9839125275611877, 0.9541261196136475, 0.9938356280326843, 0.3818102777004242, 0.1529441624879837, 0.002200635615736246, 0.013203812763094902, 0.24647118151187897, 0.0033009531907737255, 0.002200635615736246, 0.19695687294006348, 0.9879091382026672, 0.986781656742096, 0.9870609641075134, 0.16330695152282715, 0.20218956470489502, 0.626010000705719, 0.03467264398932457, 0.039510685950517654, 0.924872636795044, 0.9810150861740112, 0.18320122361183167, 0.7877652645111084, 0.237654447555542, 0.056112855672836304, 0.03300756216049194, 0.049511343240737915, 0.09242117404937744, 0.02970680594444275, 0.5050157308578491, 0.9846636056900024, 0.3817380368709564, 0.37888213992118835, 0.006663755979388952, 0.13232316076755524, 0.02189519815146923, 0.02855895459651947, 0.0009519651648588479, 0.042838431894779205, 0.005711791105568409, 0.5443094372749329, 0.21513906121253967, 0.037250228226184845, 0.0022806262131780386, 0.17484800517559052, 0.0030408347956836224, 0.009122504852712154, 0.0022806262131780386, 0.01064292248338461, 0.5465555787086487, 0.20742207765579224, 0.0009385613957419991, 0.0003128538082819432, 0.136091411113739, 0.0700792521238327, 0.019709790125489235, 0.0009385613957419991, 0.017832666635513306, 0.04524959251284599, 0.04094010964035988, 0.008618970401585102, 0.11204661428928375, 0.24995014071464539, 0.06033279374241829, 0.023702168837189674, 0.15729621052742004, 0.07110650837421417, 0.22624796628952026, 0.037775930017232895, 0.15682734549045563, 0.06295987963676453, 0.016026152297854424, 0.255273699760437, 0.0904332846403122, 0.05151263251900673, 0.02174977771937847, 0.11332778632640839, 0.034341756254434586, 0.004578900523483753, 0.02976285293698311, 0.05609153211116791, 0.06639406085014343, 0.003434175392612815, 0.9632832407951355, 0.9827278256416321, 0.9565610885620117, 0.24735291302204132, 0.2394147515296936, 0.030482515692710876, 0.025084570050239563, 0.045406244695186615, 0.1946435570716858, 0.01397115271538496, 0.06795060634613037, 0.04794645681977272, 0.038103144615888596, 0.006668050307780504, 0.021591780707240105, 0.01397115271538496, 0.007620628923177719, 0.1513623297214508, 0.14136670529842377, 0.005711785983294249, 0.04283839464187622, 0.11709161847829819, 0.1299431324005127, 0.05997375398874283, 0.0014279464958235621, 0.04712223634123802, 0.18134920299053192, 0.03998250141739845, 0.03855455666780472, 0.004283839371055365, 0.014279465191066265, 0.02427509054541588, 0.986052393913269, 0.14005446434020996, 0.8403268456459045, 0.9798315167427063, 0.9773527979850769, 0.08137483894824982, 0.00325499358586967, 0.05207989737391472, 0.0585898831486702, 0.7160985469818115, 0.04231491684913635, 0.00650998717173934, 0.035804927349090576, 0.1840732842683792, 0.7976508736610413, 0.9039217233657837, 0.09350913763046265, 0.9795238971710205, 0.16835254430770874, 0.21555419266223907, 0.012587105855345726, 0.3241179883480072, 0.2328614592552185, 0.009440328925848007, 0.03461454063653946, 0.9573203325271606, 0.9916914701461792, 0.09409025311470032, 0.9012855887413025, 0.9714494943618774, 0.9770992398262024, 0.05648820474743843, 0.9320554137229919, 0.9640605449676514, 0.0873265266418457, 0.11643536388874054, 0.1843559890985489, 0.25227662920951843, 0.03881178796291351, 0.3104943037033081, 0.13312241435050964, 0.10142660140991211, 0.7606995105743408, 0.9784237146377563, 0.6973043084144592, 0.01852976344525814, 0.009752507321536541, 0.06046554818749428, 0.07216855883598328, 0.016579262912273407, 0.014628761447966099, 0.04388628527522087, 0.01852976344525814, 0.04876253753900528, 0.9585767984390259, 0.9951202869415283, 0.0022312114015221596, 0.9794538617134094, 0.9308627247810364, 0.9979298114776611, 0.9973730444908142, 0.9949640035629272, 0.9830066561698914, 0.9739336967468262, 0.9726351499557495, 0.9643951654434204, 0.9706101417541504, 0.9789407253265381, 0.3112013638019562, 0.0484657846391201, 0.6198518872261047, 0.02040664665400982, 0.4496641159057617, 0.037923481315374374, 0.5092581510543823, 0.09350451081991196, 0.8748219013214111, 0.007924111559987068, 0.007924111559987068, 0.014263399876654148, 0.9280386567115784, 0.03379412367939949, 0.0363936722278595, 0.9520878195762634, 0.07761634886264801, 0.8255557417869568, 0.0987844467163086, 0.9706231355667114, 0.9626156091690063, 0.1672169268131256, 0.24958491325378418, 0.08782610297203064, 0.146376833319664, 0.022824862971901894, 0.09526899456977844, 0.04068779945373535, 0.06698600947856903, 0.05706215649843216, 0.016374358907341957, 0.0004961926606483757, 0.0014885780401527882, 0.001984770642593503, 0.046642109751701355, 0.12167208641767502, 0.8517045974731445, 0.022531867027282715, 0.7551347017288208, 0.04076562449336052, 0.1921808123588562, 0.009706101380288601, 0.012339920736849308, 0.72311931848526, 0.17275889217853546, 0.08884742856025696, 0.05910327658057213, 0.14647333323955536, 0.2023644745349884, 0.1265581101179123, 0.19722506403923035, 0.028909211978316307, 0.09893374890089035, 0.11884897947311401, 0.019915234297513962, 0.0012848537880927324, 0.9934685230255127, 0.9578415155410767, 0.03265368938446045, 0.9859063029289246, 0.9775536060333252, 0.9495737552642822, 0.9903028607368469, 0.050944890826940536, 0.024972986429929733, 0.8111225962638855, 0.011987033300101757, 0.05693840980529785, 0.04195461794734001, 0.02041284367442131, 0.8828554749488831, 0.02041284367442131, 0.07144495099782944, 0.9759190678596497, 0.010272832587361336, 0.0041366578079760075, 0.02895660512149334, 0.9638413190841675, 0.9864155054092407, 0.9770411849021912, 0.9920268058776855, 0.9544485807418823, 0.20038224756717682, 0.5314486026763916, 0.06969817727804184, 0.1829577088356018, 0.9524882435798645, 0.9779626727104187, 0.9929121136665344, 0.9804702997207642, 0.30168038606643677, 0.2909824848175049, 0.06525710225105286, 0.024070242419838905, 0.015511933714151382, 0.13586314022541046, 0.03262855112552643, 0.008558308705687523, 0.0010697885882109404, 0.12409546971321106, 0.009669896215200424, 0.9766595363616943, 0.009755312465131283, 0.05609304830431938, 0.7560366988182068, 0.09755312651395798, 0.0756036713719368, 0.045545607805252075, 0.13663682341575623, 0.08408419787883759, 0.7287297248840332, 0.9784478545188904, 0.9565353989601135, 0.036789823323488235, 0.9165191650390625, 0.058709412813186646, 0.01956980489194393, 0.9860082268714905, 0.3491228222846985, 0.24510464072227478, 0.03479880839586258, 0.03479880839586258, 0.03139457479119301, 0.14486894011497498, 0.030638080090284348, 0.014373419806361198, 0.062032654881477356, 0.03782479092478752, 0.003025983227416873, 0.007943205535411835, 0.004538974724709988, 0.10784544795751572, 0.30744001269340515, 0.457135945558548, 0.022534869611263275, 0.0032192671205848455, 0.09979728609323502, 0.9773213267326355, 0.932859480381012, 0.06128273904323578, 0.9890027642250061, 0.2081332802772522, 0.015461329370737076, 0.028543993830680847, 0.7231144905090332, 0.01902932859957218, 0.005946665070950985, 0.2785258889198303, 0.01939595304429531, 0.08922138065099716, 0.6121362447738647, 0.9730236530303955, 0.9920761585235596, 0.9883232712745667, 0.9954555034637451, 0.9946742653846741, 0.9908378720283508, 0.9540407061576843, 0.9728469252586365, 0.06841430813074112, 0.7023869156837463, 0.20980387926101685, 0.009121907874941826, 0.7854465842247009, 0.048296067863702774, 0.0025418982841074467, 0.12963680922985077, 0.02541898377239704, 0.00762569485232234, 0.005646150559186935, 0.12421531230211258, 0.8695071935653687, 0.6973918676376343, 0.036624517291784286, 0.10376947373151779, 0.02746838890016079, 0.025942368432879448, 0.0076301079243421555, 0.021364303305745125, 0.038150541484355927, 0.02746838890016079, 0.012208173051476479, 0.8205644488334656, 0.015276466496288776, 0.03491763770580292, 0.045829396694898605, 0.061105865985155106, 0.02400587499141693, 0.14107443392276764, 0.32822558283805847, 0.09158460795879364, 0.0005688485107384622, 0.014790061861276627, 0.07167491316795349, 0.09556654840707779, 0.04038824513554573, 0.03925054892897606, 0.08874037116765976, 0.08703382313251495, 0.9814901947975159, 0.5133901238441467, 0.05235228314995766, 0.013510266318917274, 0.19505447149276733, 0.0008443916449323297, 0.06332937628030777, 0.06164059042930603, 0.009288308210670948, 0.04053080081939697, 0.005910741630941629, 0.0396864078938961, 0.0033775665797293186, 0.9872134327888489, 0.38677799701690674, 0.1692836433649063, 0.09610942006111145, 0.013573895208537579, 0.11264772713184357, 0.00046806535101495683, 0.036197055131196976, 0.03276457637548447, 0.1482207030057907, 0.00031204355764202774, 0.0009361307020299137, 0.002496348461136222, 0.9691842198371887, 0.9639292359352112, 0.18826168775558472, 0.8075435757637024, 0.98122239112854, 0.9699524641036987, 0.922875702381134, 0.10248565673828125, 0.048680685460567474, 0.05956978723406792, 0.00448374729603529, 0.13579349219799042, 0.09864244610071182, 0.42723706364631653, 0.05572657659649849, 0.014732313342392445, 0.03843212127685547, 0.014091777615249157, 0.07817482203245163, 0.14615292847156525, 0.08089394867420197, 0.16246767342090607, 0.13799555599689484, 0.10876496881246567, 0.08837153762578964, 0.11964146792888641, 0.022432774305343628, 0.03942730277776718, 0.0006797810783609748, 0.014955183491110802, 0.9599292874336243, 0.023412909358739853, 0.9370774030685425, 0.06072540953755379, 0.9311229586601257], \"Term\": [\"abiding\", \"acid\", \"acid\", \"acid\", \"acids\", \"adaptec\", \"adapter\", \"adapter\", \"address\", \"address\", \"address\", \"address\", \"address\", \"address\", \"address\", \"administration\", \"administration\", \"administration\", \"advance\", \"advance\", \"adventures\", \"aerospace\", \"afraid\", \"afraid\", \"afraid\", \"agencies\", \"agencies\", \"agents\", \"agree\", \"agree\", \"agree\", \"agree\", \"agree\", \"aids\", \"aircraft\", \"albicans\", \"allah\", \"allah\", \"allergic\", \"allocation\", \"also\", \"also\", \"also\", \"also\", \"also\", \"also\", \"also\", \"also\", \"also\", \"also\", \"also\", \"also\", \"also\", \"also\", \"also\", \"also\", \"aluminum\", \"amendment\", \"american\", \"american\", \"american\", \"american\", \"american\", \"american\", \"american\", \"american\", \"ames\", \"ames\", \"among\", \"among\", \"among\", \"among\", \"among\", \"among\", \"among\", \"among\", \"among\", \"amour\", \"amps\", \"andy\", \"andy\", \"andy\", \"andy\", \"annual\", \"annual\", \"annual\", \"annual\", \"annual\", \"anon\", \"anonymous\", \"anonymous\", \"answering\", \"answering\", \"anti\", \"anti\", \"anti\", \"anti\", \"anti\", \"anybody\", \"anybody\", \"anybody\", \"anybody\", \"anybody\", \"anybody\", \"anybody\", \"anyone\", \"anyone\", \"anyone\", \"anyone\", \"anyone\", \"anyone\", \"anyone\", \"anyone\", \"anyone\", \"appears\", \"appears\", \"appears\", \"appears\", \"appears\", \"appears\", \"appears\", \"apple\", \"apple\", \"apple\", \"apple\", \"application\", \"application\", \"application\", \"appreciate\", \"appreciate\", \"appreciated\", \"april\", \"april\", \"april\", \"april\", \"april\", \"april\", \"april\", \"april\", \"april\", \"april\", \"april\", \"arab\", \"arabs\", \"arafat\", \"archbishop\", \"archer\", \"archive\", \"archive\", \"archive\", \"area\", \"area\", \"area\", \"area\", \"area\", \"area\", \"area\", \"area\", \"area\", \"area\", \"area\", \"area\", \"area\", \"area\", \"arena\", \"argc\", \"argic\", \"argument\", \"argument\", \"argv\", \"armegedon\", \"armenia\", \"armenian\", \"armenians\", \"around\", \"around\", \"around\", \"around\", \"around\", \"around\", \"around\", \"around\", \"around\", \"around\", \"around\", \"around\", \"around\", \"arrest\", \"asking\", \"asking\", \"asking\", \"asking\", \"asking\", \"associate\", \"association\", \"association\", \"association\", \"association\", \"association\", \"association\", \"astronomical\", \"astronomy\", \"astros\", \"atheism\", \"atheist\", \"atheists\", \"atlanta\", \"atlanta\", \"atlanta\", \"atmosphere\", \"atoms\", \"attacks\", \"attacks\", \"attacks\", \"attorney\", \"aunt\", \"auto\", \"auto\", \"auto\", \"autos\", \"available\", \"available\", \"available\", \"available\", \"available\", \"available\", \"available\", \"available\", \"avenue\", \"azerbaijan\", \"azerbaijani\", \"azerbaijanis\", \"azeri\", \"azeris\", \"back\", \"back\", \"back\", \"back\", \"back\", \"back\", \"back\", \"back\", \"back\", \"back\", \"back\", \"back\", \"backing\", \"backing\", \"bagged\", \"baku\", \"ball\", \"ball\", \"balloon\", \"baseball\", \"baseball\", \"based\", \"based\", \"based\", \"based\", \"based\", \"based\", \"based\", \"based\", \"based\", \"based\", \"based\", \"batman\", \"batteries\", \"battery\", \"battery\", \"baud\", \"baud\", \"bedroom\", \"beef\", \"began\", \"began\", \"belief\", \"beliefs\", \"beliefs\", \"believe\", \"believe\", \"believe\", \"believe\", \"believe\", \"believe\", \"believing\", \"best\", \"best\", \"best\", \"best\", \"best\", \"best\", \"best\", \"best\", \"best\", \"best\", \"better\", \"better\", \"better\", \"better\", \"better\", \"better\", \"better\", \"better\", \"better\", \"better\", \"better\", \"bible\", \"biblical\", \"bike\", \"bikes\", \"binaries\", \"bindings\", \"bios\", \"bishop\", \"bishop\", \"bits\", \"bits\", \"black\", \"black\", \"black\", \"black\", \"black\", \"black\", \"black\", \"black\", \"black\", \"black\", \"black\", \"black\", \"black\", \"blast\", \"blood\", \"blood\", \"blood\", \"blood\", \"bloody\", \"bloody\", \"blues\", \"board\", \"board\", \"board\", \"board\", \"board\", \"book\", \"book\", \"book\", \"book\", \"book\", \"book\", \"book\", \"book\", \"book\", \"book\", \"books\", \"books\", \"books\", \"books\", \"books\", \"books\", \"books\", \"books\", \"books\", \"boston\", \"boston\", \"boston\", \"bought\", \"bought\", \"bought\", \"bought\", \"bought\", \"bounced\", \"bradley\", \"bradley\", \"bradley\", \"brady\", \"brain\", \"brain\", \"brain\", \"brake\", \"brand\", \"brand\", \"brand\", \"braves\", \"breaker\", \"breaker\", \"brian\", \"brian\", \"brian\", \"brian\", \"brian\", \"brian\", \"briefing\", \"brind\", \"brown\", \"brown\", \"brown\", \"bruins\", \"build\", \"build\", \"build\", \"build\", \"build\", \"build\", \"build\", \"building\", \"building\", \"building\", \"building\", \"building\", \"building\", \"burned\", \"burned\", \"buying\", \"buying\", \"buying\", \"byte\", \"byte\", \"bytes\", \"cables\", \"cache\", \"cadre\", \"calgary\", \"california\", \"california\", \"california\", \"california\", \"california\", \"california\", \"call\", \"call\", \"call\", \"call\", \"call\", \"call\", \"call\", \"call\", \"call\", \"call\", \"call\", \"call\", \"call\", \"came\", \"came\", \"came\", \"came\", \"came\", \"came\", \"came\", \"came\", \"came\", \"cancer\", \"candida\", \"canon\", \"canon\", \"card\", \"card\", \"card\", \"cards\", \"cards\", \"cards\", \"carrier\", \"cars\", \"cars\", \"carson\", \"cases\", \"cases\", \"cases\", \"cases\", \"cases\", \"cases\", \"cases\", \"cassette\", \"catalog\", \"catalog\", \"catbyte\", \"catcher\", \"catholic\", \"catholic\", \"cause\", \"cause\", \"cause\", \"cause\", \"cause\", \"cause\", \"center\", \"center\", \"center\", \"center\", \"center\", \"center\", \"center\", \"center\", \"center\", \"centers\", \"centers\", \"centris\", \"cents\", \"channel\", \"channel\", \"channel\", \"char\", \"characteristic\", \"charlie\", \"chastity\", \"cheap\", \"cheap\", \"cheap\", \"cheap\", \"cheaper\", \"cheaper\", \"cheaper\", \"check\", \"check\", \"check\", \"check\", \"check\", \"check\", \"check\", \"check\", \"check\", \"cheers\", \"cheers\", \"cheers\", \"cheers\", \"chicago\", \"chicago\", \"chicago\", \"chicago\", \"chicago\", \"child\", \"child\", \"child\", \"child\", \"children\", \"children\", \"children\", \"children\", \"children\", \"chinese\", \"chinese\", \"chip\", \"chip\", \"chip\", \"chip\", \"chip\", \"chipset\", \"christ\", \"christ\", \"christian\", \"christian\", \"christian\", \"christianity\", \"christians\", \"christians\", \"chronic\", \"church\", \"church\", \"church\", \"cica\", \"cincinnati\", \"cipher\", \"ciphertext\", \"circuit\", \"circuit\", \"circuits\", \"citizens\", \"citizens\", \"citizens\", \"civic\", \"civilians\", \"civilians\", \"claim\", \"claim\", \"claim\", \"cleansing\", \"cleveland\", \"cleveland\", \"clipper\", \"clubs\", \"cluster\", \"coach\", \"coach\", \"coat\", \"code\", \"code\", \"code\", \"code\", \"code\", \"code\", \"college\", \"college\", \"college\", \"color\", \"color\", \"color\", \"color\", \"colorado\", \"colorado\", \"colorado\", \"colorado\", \"colorado\", \"colorado\", \"colorado\", \"colormap\", \"come\", \"come\", \"come\", \"come\", \"come\", \"come\", \"come\", \"come\", \"come\", \"come\", \"comic\", \"comics\", \"commercial\", \"commercial\", \"commercial\", \"commercial\", \"comp\", \"company\", \"company\", \"company\", \"company\", \"company\", \"company\", \"company\", \"compass\", \"compiled\", \"compiler\", \"computer\", \"computer\", \"computer\", \"computer\", \"computer\", \"computer\", \"computer\", \"conception\", \"condition\", \"condition\", \"condition\", \"condition\", \"condition\", \"conductor\", \"conference\", \"conference\", \"conference\", \"confidential\", \"config\", \"connected\", \"connected\", \"connected\", \"connected\", \"connectors\", \"conscience\", \"constitution\", \"constitutional\", \"contest\", \"contest\", \"contracts\", \"contrib\", \"control\", \"control\", \"control\", \"control\", \"control\", \"control\", \"control\", \"control\", \"control\", \"control\", \"control\", \"control\", \"control\", \"controller\", \"controllers\", \"cooling\", \"copies\", \"copies\", \"copies\", \"copies\", \"copies\", \"copy\", \"copy\", \"copy\", \"copy\", \"copy\", \"copy\", \"copy\", \"copy\", \"copy\", \"copy\", \"corn\", \"cost\", \"cost\", \"cost\", \"cost\", \"cost\", \"cost\", \"cost\", \"cost\", \"cost\", \"could\", \"could\", \"could\", \"could\", \"could\", \"could\", \"could\", \"could\", \"could\", \"could\", \"could\", \"countersteering\", \"countries\", \"countries\", \"countries\", \"countries\", \"countries\", \"country\", \"country\", \"country\", \"country\", \"country\", \"country\", \"country\", \"couples\", \"courses\", \"court\", \"court\", \"court\", \"cover\", \"cover\", \"cover\", \"cover\", \"cover\", \"cover\", \"cover\", \"cover\", \"cover\", \"crashes\", \"crime\", \"crime\", \"crime\", \"criminals\", \"criminals\", \"cross\", \"cross\", \"cross\", \"cross\", \"cross\", \"cross\", \"cross\", \"cross\", \"cross\", \"cross\", \"cross\", \"crypt\", \"cryptanalysis\", \"crypto\", \"crypto\", \"cryptography\", \"cryptology\", \"cryptosystems\", \"ctrl\", \"cube\", \"cubs\", \"cure\", \"cure\", \"current\", \"current\", \"current\", \"current\", \"current\", \"current\", \"current\", \"current\", \"current\", \"current\", \"current\", \"current\", \"current\", \"cursor\", \"cycles\", \"cylinder\", \"cyprus\", \"damaged\", \"darken\", \"data\", \"data\", \"data\", \"data\", \"data\", \"data\", \"data\", \"daughter\", \"dave\", \"dave\", \"dave\", \"dave\", \"dave\", \"dave\", \"dave\", \"dave\", \"david\", \"david\", \"david\", \"david\", \"david\", \"david\", \"david\", \"david\", \"dead\", \"dead\", \"dead\", \"dead\", \"dead\", \"dead\", \"deaf\", \"dealer\", \"dealer\", \"decenso\", \"deck\", \"defenseman\", \"define\", \"define\", \"define\", \"defining\", \"demo\", \"democrats\", \"department\", \"department\", \"department\", \"department\", \"department\", \"department\", \"dept\", \"dept\", \"deputy\", \"describes\", \"describes\", \"describes\", \"describes\", \"desired\", \"desired\", \"desired\", \"desired\", \"detector\", \"detectors\", \"detroit\", \"diabetes\", \"diagnosed\", \"diamond\", \"diet\", \"directory\", \"directory\", \"directory\", \"disease\", \"disease\", \"diseases\", \"diseases\", \"disk\", \"disk\", \"disks\", \"disks\", \"disks\", \"disks\", \"disks\", \"display\", \"display\", \"display\", \"display\", \"distributor\", \"division\", \"division\", \"division\", \"division\", \"division\", \"doctor\", \"doctor\", \"doctors\", \"doctors\", \"doctrine\", \"dole\", \"door\", \"door\", \"door\", \"door\", \"door\", \"dortmund\", \"doses\", \"dragon\", \"dragon\", \"drake\", \"dram\", \"drive\", \"drive\", \"driver\", \"driver\", \"driver\", \"driver\", \"driver\", \"driver\", \"drivers\", \"drivers\", \"drivers\", \"drivers\", \"drivers\", \"drivers\", \"drives\", \"driving\", \"driving\", \"driving\", \"driving\", \"drug\", \"drug\", \"drug\", \"drugs\", \"drugs\", \"dtmedin\", \"early\", \"early\", \"early\", \"early\", \"early\", \"early\", \"early\", \"early\", \"earth\", \"earth\", \"earth\", \"easter\", \"eaten\", \"echo\", \"edit\", \"edmonton\", \"education\", \"education\", \"education\", \"education\", \"effect\", \"effect\", \"effect\", \"effect\", \"effect\", \"effect\", \"effects\", \"effects\", \"effects\", \"effects\", \"eisa\", \"electronics\", \"electronics\", \"email\", \"email\", \"email\", \"email\", \"email\", \"encrypted\", \"encrypted\", \"encryption\", \"encyclopedia\", \"enforcement\", \"engine\", \"engine\", \"entries\", \"entry\", \"entry\", \"error\", \"error\", \"error\", \"error\", \"error\", \"errors\", \"errors\", \"escrow\", \"esdi\", \"espn\", \"eternal\", \"ether\", \"even\", \"even\", \"even\", \"even\", \"even\", \"even\", \"even\", \"even\", \"even\", \"even\", \"even\", \"even\", \"evidence\", \"evidence\", \"evidence\", \"evidence\", \"evidence\", \"evil\", \"excellent\", \"excellent\", \"excellent\", \"excellent\", \"excellent\", \"excellent\", \"executive\", \"exhaust\", \"exhaust\", \"exist\", \"exist\", \"exist\", \"exist\", \"exist\", \"existence\", \"existence\", \"existence\", \"exit\", \"expensive\", \"expensive\", \"expensive\", \"expensive\", \"experiment\", \"experiment\", \"exploration\", \"export\", \"export\", \"external\", \"external\", \"external\", \"external\", \"face\", \"face\", \"face\", \"face\", \"face\", \"face\", \"face\", \"face\", \"faces\", \"faces\", \"fact\", \"fact\", \"fact\", \"fact\", \"fact\", \"fact\", \"fact\", \"fact\", \"fact\", \"fact\", \"faith\", \"fans\", \"fans\", \"father\", \"father\", \"federal\", \"federal\", \"feds\", \"file\", \"file\", \"file\", \"filename\", \"filename\", \"files\", \"files\", \"files\", \"files\", \"filters\", \"finals\", \"financial\", \"find\", \"find\", \"find\", \"find\", \"find\", \"find\", \"find\", \"find\", \"find\", \"find\", \"fire\", \"fire\", \"fire\", \"fire\", \"fire\", \"fire\", \"firearm\", \"firearms\", \"first\", \"first\", \"first\", \"first\", \"first\", \"first\", \"first\", \"first\", \"first\", \"first\", \"first\", \"first\", \"first\", \"first\", \"first\", \"first\", \"flames\", \"flames\", \"flames\", \"fleet\", \"fleury\", \"flight\", \"flight\", \"flight\", \"floor\", \"floor\", \"floor\", \"floor\", \"floppies\", \"floppy\", \"floppy\", \"flyers\", \"flyers\", \"food\", \"food\", \"food\", \"food\", \"foods\", \"foods\", \"ford\", \"forged\", \"format\", \"format\", \"format\", \"formats\", \"forsale\", \"forwards\", \"forwards\", \"found\", \"found\", \"found\", \"found\", \"found\", \"found\", \"found\", \"found\", \"found\", \"found\", \"found\", \"found\", \"found\", \"fran\", \"franchise\", \"francis\", \"front\", \"front\", \"front\", \"front\", \"front\", \"front\", \"front\", \"function\", \"function\", \"function\", \"function\", \"function\", \"functionality\", \"fuse\", \"gainey\", \"game\", \"game\", \"games\", \"gangs\", \"gateway\", \"gateway\", \"gaza\", \"genes\", \"genetic\", \"genetic\", \"genocide\", \"gerard\", \"german\", \"german\", \"german\", \"german\", \"german\", \"german\", \"getting\", \"getting\", \"getting\", \"getting\", \"getting\", \"getting\", \"getting\", \"getting\", \"getting\", \"ghetto\", \"ghost\", \"gifs\", \"glutamate\", \"goal\", \"goal\", \"goal\", \"goal\", \"goal\", \"goal\", \"goal\", \"goaltender\", \"godhead\", \"gods\", \"going\", \"going\", \"going\", \"going\", \"going\", \"going\", \"going\", \"going\", \"going\", \"going\", \"good\", \"good\", \"good\", \"good\", \"good\", \"good\", \"good\", \"good\", \"good\", \"good\", \"good\", \"gordon\", \"gordon\", \"gordon\", \"gospel\", \"government\", \"government\", \"government\", \"graduate\", \"graeme\", \"graphics\", \"graphics\", \"graphics\", \"graphics\", \"grasp\", \"grateful\", \"great\", \"great\", \"great\", \"great\", \"great\", \"great\", \"great\", \"great\", \"great\", \"great\", \"great\", \"great\", \"great\", \"greatly\", \"greatly\", \"greatly\", \"greece\", \"greece\", \"greek\", \"greek\", \"greeks\", \"green\", \"green\", \"green\", \"green\", \"green\", \"green\", \"green\", \"green\", \"ground\", \"ground\", \"ground\", \"ground\", \"ground\", \"ground\", \"groups\", \"groups\", \"groups\", \"groups\", \"groups\", \"groups\", \"groups\", \"groups\", \"groups\", \"guidelines\", \"guidelines\", \"guns\", \"guns\", \"handgun\", \"handguns\", \"handler\", \"happen\", \"happen\", \"happen\", \"happen\", \"happen\", \"happen\", \"happen\", \"happen\", \"happen\", \"happened\", \"happened\", \"happened\", \"happened\", \"happened\", \"happened\", \"happening\", \"happening\", \"happening\", \"happening\", \"happening\", \"hard\", \"hard\", \"hard\", \"hard\", \"hard\", \"hard\", \"hard\", \"hardware\", \"hardware\", \"hardware\", \"hardware\", \"hardware\", \"hardware\", \"harley\", \"hartford\", \"hartford\", \"hash\", \"hawks\", \"hawks\", \"headaches\", \"health\", \"health\", \"health\", \"hell\", \"hell\", \"hell\", \"hell\", \"hello\", \"hello\", \"hello\", \"helmet\", \"help\", \"help\", \"help\", \"help\", \"help\", \"help\", \"help\", \"help\", \"help\", \"help\", \"henrik\", \"hicnet\", \"hidden\", \"hidden\", \"hidden\", \"hidden\", \"high\", \"high\", \"high\", \"high\", \"high\", \"high\", \"high\", \"high\", \"high\", \"high\", \"high\", \"high\", \"high\", \"high\", \"higher\", \"higher\", \"higher\", \"higher\", \"higher\", \"higher\", \"highway\", \"history\", \"history\", \"history\", \"history\", \"history\", \"history\", \"history\", \"hitler\", \"hitler\", \"hitter\", \"hockey\", \"holocaust\", \"homeland\", \"homicide\", \"homicides\", \"homosexual\", \"honda\", \"honda\", \"hong\", \"hook\", \"hook\", \"houston\", \"houston\", \"houston\", \"hulk\", \"hussein\", \"icon\", \"iisi\", \"illness\", \"image\", \"image\", \"image\", \"image\", \"image\", \"images\", \"images\", \"images\", \"immune\", \"imply\", \"imprisonment\", \"incapable\", \"inch\", \"inch\", \"inch\", \"included\", \"included\", \"included\", \"included\", \"included\", \"included\", \"included\", \"included\", \"included\", \"includes\", \"includes\", \"includes\", \"includes\", \"includes\", \"includes\", \"includes\", \"infection\", \"infectious\", \"inference\", \"info\", \"info\", \"info\", \"information\", \"information\", \"information\", \"information\", \"information\", \"information\", \"information\", \"information\", \"information\", \"ingr\", \"init\", \"injury\", \"injury\", \"injury\", \"inning\", \"input\", \"input\", \"input\", \"institute\", \"institute\", \"institute\", \"institute\", \"institute\", \"instruction\", \"instruction\", \"insurance\", \"insurance\", \"insurance\", \"intake\", \"intellect\", \"interactive\", \"interested\", \"interested\", \"interested\", \"interested\", \"interested\", \"interested\", \"interested\", \"interested\", \"internal\", \"internal\", \"internal\", \"internal\", \"internal\", \"internal\", \"internal\", \"internal\", \"internet\", \"internet\", \"internet\", \"internet\", \"internet\", \"internet\", \"internet\", \"internet\", \"internet\", \"interrupt\", \"intersection\", \"invading\", \"island\", \"island\", \"island\", \"israel\", \"israeli\", \"israelis\", \"issue\", \"issue\", \"issue\", \"issue\", \"issue\", \"issue\", \"issue\", \"issue\", \"issue\", \"istanbul\", \"items\", \"items\", \"items\", \"items\", \"items\", \"items\", \"items\", \"jagr\", \"jerusalem\", \"jesus\", \"jets\", \"jewish\", \"jewish\", \"jewish\", \"jews\", \"jews\", \"jobs\", \"jobs\", \"joining\", \"joshua\", \"journals\", \"joystick\", \"jpeg\", \"judas\", \"judas\", \"jumper\", \"jumpers\", \"june\", \"june\", \"june\", \"june\", \"june\", \"karabakh\", \"karina\", \"kent\", \"kevin\", \"kevin\", \"kevin\", \"keys\", \"keys\", \"killed\", \"killed\", \"killed\", \"killed\", \"kings\", \"kings\", \"kings\", \"know\", \"know\", \"know\", \"know\", \"know\", \"know\", \"know\", \"know\", \"know\", \"know\", \"kurds\", \"land\", \"land\", \"land\", \"land\", \"land\", \"land\", \"land\", \"last\", \"last\", \"last\", \"last\", \"last\", \"last\", \"last\", \"last\", \"last\", \"last\", \"last\", \"last\", \"last\", \"last\", \"last\", \"laughter\", \"launch\", \"launched\", \"launched\", \"launchers\", \"launches\", \"laws\", \"laws\", \"lciii\", \"leafs\", \"leafs\", \"league\", \"league\", \"league\", \"lebanese\", \"lebanon\", \"lefebvre\", \"left\", \"left\", \"left\", \"left\", \"left\", \"left\", \"left\", \"left\", \"left\", \"left\", \"left\", \"legal\", \"legal\", \"legal\", \"legally\", \"legislation\", \"lemieux\", \"less\", \"less\", \"less\", \"less\", \"less\", \"less\", \"less\", \"less\", \"less\", \"less\", \"less\", \"less\", \"less\", \"liar\", \"libertarians\", \"libraries\", \"libraries\", \"library\", \"library\", \"library\", \"library\", \"library\", \"life\", \"life\", \"life\", \"life\", \"life\", \"life\", \"life\", \"life\", \"like\", \"like\", \"like\", \"like\", \"like\", \"like\", \"like\", \"like\", \"like\", \"like\", \"like\", \"like\", \"like\", \"likely\", \"likely\", \"likely\", \"likely\", \"likely\", \"likely\", \"likely\", \"lindros\", \"line\", \"line\", \"line\", \"line\", \"line\", \"line\", \"line\", \"line\", \"line\", \"line\", \"line\", \"line\", \"line\", \"list\", \"list\", \"list\", \"list\", \"list\", \"list\", \"list\", \"list\", \"list\", \"list\", \"list\", \"list\", \"list\", \"list\", \"list\", \"little\", \"little\", \"little\", \"little\", \"little\", \"little\", \"little\", \"little\", \"little\", \"little\", \"little\", \"live\", \"live\", \"live\", \"live\", \"live\", \"live\", \"lock\", \"lock\", \"lock\", \"lock\", \"long\", \"long\", \"long\", \"long\", \"long\", \"long\", \"long\", \"long\", \"long\", \"long\", \"long\", \"long\", \"look\", \"look\", \"look\", \"look\", \"look\", \"look\", \"look\", \"look\", \"look\", \"look\", \"look\", \"look\", \"look\", \"looking\", \"looking\", \"looking\", \"looking\", \"looking\", \"looking\", \"looking\", \"looking\", \"looking\", \"lopez\", \"losses\", \"lost\", \"lost\", \"lost\", \"lost\", \"lost\", \"lost\", \"lost\", \"lost\", \"lost\", \"lost\", \"lost\", \"love\", \"love\", \"love\", \"love\", \"love\", \"lssu\", \"lunar\", \"lyme\", \"macs\", \"macs\", \"mail\", \"mail\", \"mail\", \"mail\", \"mail\", \"mail\", \"maine\", \"make\", \"make\", \"make\", \"make\", \"make\", \"make\", \"make\", \"make\", \"make\", \"make\", \"make\", \"make\", \"make\", \"mamma\", \"managing\", \"manual\", \"manual\", \"manual\", \"manual\", \"manual\", \"manuals\", \"manuals\", \"many\", \"many\", \"many\", \"many\", \"many\", \"many\", \"many\", \"many\", \"many\", \"many\", \"many\", \"many\", \"many\", \"many\", \"marginal\", \"mark\", \"mark\", \"mark\", \"mark\", \"mark\", \"mark\", \"mark\", \"mark\", \"mark\", \"mark\", \"mark\", \"married\", \"mars\", \"marvel\", \"massachusetts\", \"material\", \"material\", \"material\", \"material\", \"material\", \"material\", \"material\", \"matthew\", \"matthew\", \"maybe\", \"maybe\", \"maybe\", \"maybe\", \"maybe\", \"maybe\", \"maybe\", \"maybe\", \"maybe\", \"mean\", \"mean\", \"mean\", \"mean\", \"mean\", \"mean\", \"mean\", \"mean\", \"meaning\", \"meaning\", \"meaning\", \"measurements\", \"medical\", \"medical\", \"medical\", \"medical\", \"medicine\", \"medicine\", \"meeting\", \"meeting\", \"meeting\", \"meeting\", \"memory\", \"memory\", \"memory\", \"memory\", \"memory\", \"memory\", \"messenger\", \"meter\", \"mets\", \"micro\", \"microsoft\", \"might\", \"might\", \"might\", \"might\", \"might\", \"might\", \"might\", \"might\", \"might\", \"might\", \"might\", \"might\", \"mike\", \"mike\", \"mike\", \"mike\", \"mike\", \"mike\", \"mike\", \"mike\", \"mild\", \"miles\", \"miles\", \"miles\", \"militia\", \"miller\", \"miller\", \"miller\", \"mini\", \"mini\", \"minnesota\", \"minnesota\", \"mint\", \"missing\", \"missing\", \"missing\", \"missing\", \"missing\", \"missing\", \"missing\", \"missing\", \"missing\", \"mission\", \"mission\", \"mission\", \"missions\", \"mitch\", \"mixer\", \"mode\", \"mode\", \"model\", \"model\", \"model\", \"model\", \"model\", \"model\", \"model\", \"modem\", \"modem\", \"modem\", \"modem\", \"modem\", \"money\", \"money\", \"money\", \"money\", \"money\", \"money\", \"money\", \"money\", \"monitor\", \"monitor\", \"monitor\", \"monitor\", \"monitors\", \"monitors\", \"montreal\", \"moon\", \"moon\", \"moral\", \"moral\", \"morality\", \"morris\", \"mother\", \"mother\", \"mother\", \"mother\", \"mother\", \"mother\", \"motherboard\", \"motif\", \"motif\", \"motorcycle\", \"motorcycles\", \"motorola\", \"motorola\", \"mouse\", \"mouse\", \"mouse\", \"mozumder\", \"much\", \"much\", \"much\", \"much\", \"much\", \"much\", \"much\", \"much\", \"much\", \"much\", \"much\", \"much\", \"much\", \"multimedia\", \"murphy\", \"murphy\", \"murray\", \"muscles\", \"muslim\", \"muslim\", \"muslim\", \"muslims\", \"muslims\", \"must\", \"must\", \"must\", \"must\", \"must\", \"must\", \"must\", \"must\", \"must\", \"must\", \"must\", \"must\", \"must\", \"mydisplay\", \"myers\", \"nail\", \"name\", \"name\", \"name\", \"name\", \"name\", \"name\", \"name\", \"name\", \"name\", \"name\", \"namely\", \"namely\", \"nasa\", \"nasa\", \"national\", \"national\", \"national\", \"national\", \"national\", \"national\", \"nazi\", \"nazi\", \"nazis\", \"ncsl\", \"neck\", \"need\", \"need\", \"need\", \"need\", \"need\", \"need\", \"need\", \"need\", \"need\", \"need\", \"need\", \"need\", \"neely\", \"negotiations\", \"negotiations\", \"nervous\", \"netcom\", \"netcom\", \"netcom\", \"neutral\", \"neutral\", \"neutral\", \"never\", \"never\", \"never\", \"never\", \"never\", \"never\", \"never\", \"never\", \"never\", \"never\", \"newsletter\", \"night\", \"night\", \"night\", \"night\", \"night\", \"night\", \"night\", \"nights\", \"ninja\", \"nist\", \"nist\", \"nolan\", \"north\", \"north\", \"north\", \"north\", \"north\", \"north\", \"norton\", \"norton\", \"novell\", \"nubus\", \"null\", \"number\", \"number\", \"number\", \"number\", \"number\", \"number\", \"number\", \"number\", \"number\", \"number\", \"number\", \"number\", \"oakland\", \"oakland\", \"obfuscate\", \"obfuscate\", \"objective\", \"objective\", \"observatory\", \"occupied\", \"occupied\", \"offer\", \"offer\", \"offer\", \"offer\", \"office\", \"office\", \"office\", \"office\", \"office\", \"office\", \"office\", \"office\", \"oilers\", \"oilers\", \"open\", \"open\", \"open\", \"open\", \"open\", \"open\", \"open\", \"open\", \"open\", \"open\", \"open\", \"orbit\", \"orbital\", \"orbiter\", \"original\", \"original\", \"original\", \"original\", \"original\", \"original\", \"original\", \"original\", \"original\", \"original\", \"ottoman\", \"outlet\", \"outlets\", \"outline\", \"output\", \"outs\", \"outs\", \"overtime\", \"ozone\", \"package\", \"package\", \"package\", \"package\", \"packaging\", \"page\", \"page\", \"page\", \"page\", \"page\", \"paid\", \"paid\", \"paid\", \"paid\", \"paid\", \"paid\", \"paid\", \"pain\", \"pain\", \"palestinian\", \"palestinians\", \"parity\", \"part\", \"part\", \"part\", \"part\", \"part\", \"part\", \"part\", \"part\", \"part\", \"part\", \"part\", \"part\", \"part\", \"part\", \"passages\", \"passenger\", \"patents\", \"patient\", \"patients\", \"patients\", \"payload\", \"payload\", \"peace\", \"peace\", \"peace\", \"pennsylvania\", \"pens\", \"pentium\", \"people\", \"people\", \"people\", \"people\", \"people\", \"people\", \"people\", \"people\", \"people\", \"people\", \"people\", \"period\", \"period\", \"period\", \"period\", \"period\", \"period\", \"period\", \"period\", \"period\", \"period\", \"phillies\", \"philosophical\", \"phones\", \"physical\", \"physical\", \"physical\", \"physical\", \"physical\", \"physical\", \"physical\", \"physician\", \"picture\", \"picture\", \"picture\", \"picture\", \"picture\", \"picture\", \"picture\", \"picture\", \"pitcher\", \"pitching\", \"pitt\", \"pitt\", \"pittsburgh\", \"pittsburgh\", \"pittsburgh\", \"plaintext\", \"plane\", \"plane\", \"plane\", \"planetary\", \"platforms\", \"play\", \"play\", \"play\", \"play\", \"play\", \"played\", \"played\", \"played\", \"player\", \"player\", \"player\", \"players\", \"playing\", \"playing\", \"playing\", \"playing\", \"playoff\", \"playoffs\", \"please\", \"please\", \"please\", \"please\", \"please\", \"please\", \"please\", \"please\", \"plugs\", \"point\", \"point\", \"point\", \"point\", \"point\", \"point\", \"point\", \"point\", \"point\", \"point\", \"point\", \"point\", \"point\", \"pointer\", \"points\", \"points\", \"points\", \"points\", \"points\", \"points\", \"points\", \"points\", \"points\", \"police\", \"police\", \"police\", \"policy\", \"policy\", \"policy\", \"policy\", \"policy\", \"polygon\", \"pope\", \"pope\", \"port\", \"port\", \"post\", \"post\", \"post\", \"post\", \"post\", \"post\", \"post\", \"post\", \"post\", \"post\", \"potter\", \"potvin\", \"power\", \"power\", \"power\", \"power\", \"power\", \"power\", \"power\", \"power\", \"power\", \"powerbook\", \"powerpc\", \"presentation\", \"president\", \"president\", \"press\", \"press\", \"press\", \"press\", \"press\", \"pretty\", \"pretty\", \"pretty\", \"pretty\", \"pretty\", \"pretty\", \"price\", \"price\", \"price\", \"price\", \"price\", \"price\", \"price\", \"price\", \"print\", \"print\", \"print\", \"print\", \"print\", \"printer\", \"printer\", \"printer\", \"printf\", \"privacy\", \"private\", \"private\", \"private\", \"private\", \"private\", \"probably\", \"probably\", \"probably\", \"probably\", \"probably\", \"probably\", \"probably\", \"probably\", \"probably\", \"probably\", \"probes\", \"problem\", \"problem\", \"problem\", \"problem\", \"problem\", \"problem\", \"problem\", \"problem\", \"problem\", \"problem\", \"problem\", \"problems\", \"problems\", \"problems\", \"problems\", \"problems\", \"problems\", \"problems\", \"problems\", \"problems\", \"problems\", \"problems\", \"processing\", \"processing\", \"processing\", \"processing\", \"processors\", \"prog\", \"program\", \"program\", \"program\", \"program\", \"program\", \"promo\", \"prophet\", \"propulsion\", \"protect\", \"protect\", \"protect\", \"protect\", \"public\", \"public\", \"public\", \"public\", \"public\", \"puck\", \"puck\", \"punisher\", \"punishment\", \"qemm\", \"quadra\", \"quantum\", \"quebec\", \"question\", \"question\", \"question\", \"question\", \"question\", \"question\", \"question\", \"question\", \"question\", \"question\", \"quote\", \"quote\", \"rate\", \"rate\", \"rate\", \"rate\", \"rated\", \"reaction\", \"reaction\", \"read\", \"read\", \"read\", \"read\", \"read\", \"read\", \"read\", \"read\", \"read\", \"read\", \"readme\", \"really\", \"really\", \"really\", \"really\", \"really\", \"really\", \"really\", \"really\", \"rear\", \"rear\", \"reason\", \"reason\", \"reason\", \"reason\", \"reason\", \"reason\", \"reason\", \"recchi\", \"recovery\", \"rectangle\", \"reds\", \"reference\", \"reference\", \"reference\", \"reference\", \"reference\", \"reference\", \"reference\", \"reference\", \"reference\", \"refresh\", \"reject\", \"religion\", \"religion\", \"religions\", \"religious\", \"religious\", \"remark\", \"remark\", \"remember\", \"remember\", \"remember\", \"remember\", \"remember\", \"remember\", \"remember\", \"repair\", \"repair\", \"repairs\", \"replies\", \"replies\", \"replies\", \"reply\", \"reply\", \"reply\", \"reply\", \"reply\", \"repost\", \"representing\", \"republicans\", \"request\", \"request\", \"request\", \"request\", \"request\", \"request\", \"research\", \"research\", \"research\", \"research\", \"research\", \"researchers\", \"restaurant\", \"results\", \"results\", \"results\", \"results\", \"results\", \"results\", \"results\", \"results\", \"results\", \"return\", \"return\", \"return\", \"return\", \"return\", \"return\", \"return\", \"return\", \"return\", \"return\", \"revelation\", \"rickey\", \"ride\", \"rider\", \"rider\", \"riders\", \"riding\", \"right\", \"right\", \"right\", \"right\", \"right\", \"right\", \"right\", \"right\", \"right\", \"right\", \"right\", \"right\", \"right\", \"right\", \"rights\", \"rights\", \"rights\", \"rights\", \"ripem\", \"ripem\", \"risk\", \"risk\", \"risk\", \"risk\", \"risk\", \"risk\", \"risk\", \"river\", \"road\", \"road\", \"road\", \"road\", \"road\", \"road\", \"road\", \"rockefeller\", \"rocket\", \"rocket\", \"rockets\", \"roger\", \"roger\", \"rotation\", \"rotation\", \"routines\", \"routines\", \"rows\", \"rules\", \"rules\", \"rules\", \"rules\", \"rumor\", \"runner\", \"runs\", \"runs\", \"runs\", \"runs\", \"runs\", \"runs\", \"russia\", \"russia\", \"russia\", \"russian\", \"russian\", \"russian\", \"russian\", \"ryan\", \"sabbath\", \"said\", \"said\", \"said\", \"said\", \"said\", \"said\", \"said\", \"said\", \"said\", \"sale\", \"sanderson\", \"satellite\", \"satellites\", \"saturn\", \"saves\", \"saves\", \"scanner\", \"scanner\", \"scanner\", \"schism\", \"schismatic\", \"school\", \"school\", \"school\", \"school\", \"school\", \"school\", \"school\", \"science\", \"science\", \"science\", \"science\", \"score\", \"scored\", \"scored\", \"scorer\", \"screen\", \"screen\", \"screen\", \"screen\", \"scripture\", \"scsi\", \"seal\", \"season\", \"seat\", \"seat\", \"second\", \"second\", \"second\", \"second\", \"second\", \"second\", \"second\", \"second\", \"second\", \"second\", \"second\", \"second\", \"second\", \"secret\", \"secret\", \"secret\", \"secretary\", \"secretary\", \"secretary\", \"secretary\", \"sect\", \"section\", \"section\", \"section\", \"section\", \"section\", \"section\", \"section\", \"secure\", \"security\", \"security\", \"security\", \"sedan\", \"sell\", \"sell\", \"sell\", \"sell\", \"selling\", \"selling\", \"selling\", \"selling\", \"semitic\", \"semitism\", \"senator\", \"send\", \"send\", \"send\", \"send\", \"send\", \"send\", \"send\", \"send\", \"send\", \"send\", \"sensor\", \"serdar\", \"serial\", \"serial\", \"serial\", \"series\", \"series\", \"series\", \"series\", \"series\", \"series\", \"series\", \"series\", \"series\", \"series\", \"servant\", \"server\", \"server\", \"servers\", \"service\", \"service\", \"service\", \"service\", \"service\", \"settings\", \"settings\", \"settings\", \"shaft\", \"shameful\", \"shareware\", \"sharks\", \"shipping\", \"shipping\", \"shipping\", \"ships\", \"shot\", \"shot\", \"shot\", \"shot\", \"shot\", \"shot\", \"shots\", \"shots\", \"shots\", \"shuttle\", \"side\", \"side\", \"side\", \"side\", \"side\", \"side\", \"side\", \"side\", \"side\", \"side\", \"significantly\", \"significantly\", \"significantly\", \"simm\", \"simms\", \"since\", \"since\", \"since\", \"since\", \"since\", \"since\", \"since\", \"since\", \"since\", \"since\", \"since\", \"since\", \"since\", \"since\", \"since\", \"sitting\", \"sitting\", \"sitting\", \"size\", \"size\", \"size\", \"size\", \"size\", \"size\", \"size\", \"size\", \"skepticism\", \"skin\", \"skin\", \"skin\", \"skip\", \"skrudland\", \"slave\", \"slave\", \"sleeve\", \"slip\", \"slip\", \"slots\", \"smith\", \"smith\", \"smith\", \"smith\", \"smith\", \"smith\", \"smith\", \"smokeless\", \"smokers\", \"snow\", \"sockets\", \"soderstrom\", \"software\", \"software\", \"software\", \"solar\", \"soldiers\", \"soldiers\", \"solution\", \"solution\", \"solution\", \"solution\", \"solution\", \"solution\", \"solution\", \"solution\", \"solution\", \"solution\", \"someone\", \"someone\", \"someone\", \"someone\", \"someone\", \"someone\", \"something\", \"something\", \"something\", \"something\", \"something\", \"something\", \"something\", \"something\", \"source\", \"source\", \"source\", \"source\", \"source\", \"source\", \"source\", \"source\", \"source\", \"source\", \"south\", \"south\", \"south\", \"south\", \"south\", \"south\", \"soviet\", \"soviet\", \"space\", \"space\", \"space\", \"spacecraft\", \"sparc\", \"speakers\", \"speakers\", \"speed\", \"speed\", \"speed\", \"speed\", \"speed\", \"speedometer\", \"speeds\", \"speeds\", \"speeds\", \"sphere\", \"spider\", \"spiderman\", \"spin\", \"stage\", \"stage\", \"stage\", \"stage\", \"stalin\", \"standing\", \"standing\", \"standing\", \"stanley\", \"star\", \"star\", \"star\", \"star\", \"started\", \"started\", \"started\", \"started\", \"started\", \"started\", \"started\", \"started\", \"started\", \"state\", \"state\", \"state\", \"state\", \"state\", \"state\", \"state\", \"state\", \"state\", \"states\", \"states\", \"states\", \"states\", \"states\", \"states\", \"station\", \"station\", \"station\", \"station\", \"station\", \"station\", \"station\", \"station\", \"stats\", \"stats\", \"stats\", \"stauber\", \"steering\", \"stereo\", \"stereo\", \"stevens\", \"still\", \"still\", \"still\", \"still\", \"still\", \"still\", \"still\", \"still\", \"still\", \"still\", \"still\", \"still\", \"still\", \"still\", \"still\", \"stimulus\", \"stop\", \"stop\", \"stop\", \"stop\", \"stop\", \"stop\", \"stop\", \"stop\", \"stop\", \"straightforward\", \"stream\", \"stream\", \"strikes\", \"string\", \"stroke\", \"students\", \"students\", \"students\", \"study\", \"study\", \"study\", \"study\", \"stuff\", \"stuff\", \"stuff\", \"stuff\", \"stuff\", \"stuff\", \"stuff\", \"stuff\", \"stuff\", \"stuff\", \"subject\", \"subject\", \"subject\", \"subject\", \"subject\", \"subject\", \"subject\", \"subject\", \"subject\", \"subject\", \"subjective\", \"sugar\", \"suggestions\", \"suggestions\", \"suggestions\", \"suggestions\", \"sumgait\", \"summaries\", \"sunos\", \"superior\", \"superior\", \"superior\", \"superior\", \"sure\", \"sure\", \"sure\", \"sure\", \"sure\", \"sure\", \"sure\", \"sure\", \"sure\", \"sure\", \"surface\", \"surface\", \"surface\", \"surface\", \"surface\", \"surface\", \"surrender\", \"surrender\", \"svga\", \"swear\", \"sword\", \"symptoms\", \"sync\", \"syndrome\", \"syndrome\", \"syria\", \"syria\", \"syrian\", \"system\", \"system\", \"system\", \"system\", \"system\", \"system\", \"system\", \"system\", \"system\", \"system\", \"system\", \"systems\", \"systems\", \"systems\", \"systems\", \"systems\", \"systems\", \"systems\", \"systems\", \"take\", \"take\", \"take\", \"take\", \"take\", \"take\", \"take\", \"take\", \"take\", \"take\", \"take\", \"take\", \"tampa\", \"tanks\", \"tanks\", \"tanks\", \"tape\", \"tape\", \"tape\", \"tape\", \"tapes\", \"tapes\", \"team\", \"team\", \"team\", \"teams\", \"tear\", \"tear\", \"technician\", \"telepathy\", \"telescope\", \"tell\", \"tell\", \"tell\", \"tell\", \"tell\", \"tell\", \"tell\", \"tell\", \"temp\", \"terminals\", \"testament\", \"thank\", \"thank\", \"thank\", \"thanks\", \"thanks\", \"thanks\", \"thanx\", \"theories\", \"theories\", \"theory\", \"theory\", \"theory\", \"theory\", \"theory\", \"theory\", \"theory\", \"therapy\", \"thing\", \"thing\", \"thing\", \"thing\", \"thing\", \"thing\", \"thing\", \"thing\", \"thing\", \"things\", \"things\", \"things\", \"things\", \"things\", \"things\", \"things\", \"things\", \"things\", \"think\", \"think\", \"think\", \"think\", \"think\", \"think\", \"think\", \"think\", \"think\", \"third\", \"third\", \"third\", \"third\", \"third\", \"third\", \"third\", \"third\", \"third\", \"third\", \"three\", \"three\", \"three\", \"three\", \"three\", \"three\", \"three\", \"three\", \"three\", \"three\", \"three\", \"three\", \"three\", \"three\", \"three\", \"throttle\", \"tiff\", \"tiger\", \"time\", \"time\", \"time\", \"time\", \"time\", \"time\", \"time\", \"time\", \"time\", \"time\", \"time\", \"time\", \"time\", \"time\", \"times\", \"times\", \"times\", \"times\", \"times\", \"times\", \"times\", \"times\", \"times\", \"times\", \"times\", \"times\", \"times\", \"times\", \"times\", \"tire\", \"tires\", \"tires\", \"tissue\", \"titan\", \"title\", \"title\", \"title\", \"title\", \"title\", \"title\", \"title\", \"title\", \"titles\", \"titles\", \"tobacco\", \"tobacco\", \"tocchet\", \"told\", \"told\", \"told\", \"told\", \"told\", \"told\", \"told\", \"toner\", \"toolkit\", \"toronto\", \"toronto\", \"torque\", \"toshiba\", \"towns\", \"towns\", \"toxic\", \"trade\", \"trade\", \"trade\", \"trade\", \"trade\", \"trade\", \"treatment\", \"treatment\", \"treatment\", \"trips\", \"true\", \"true\", \"true\", \"true\", \"true\", \"true\", \"true\", \"true\", \"true\", \"true\", \"truetype\", \"truth\", \"truth\", \"tubes\", \"tuning\", \"turkey\", \"turkish\", \"turks\", \"twin\", \"twins\", \"tyre\", \"udel\", \"unassisted\", \"uncle\", \"united\", \"united\", \"united\", \"united\", \"universe\", \"universe\", \"universe\", \"university\", \"university\", \"university\", \"university\", \"university\", \"unix\", \"unix\", \"unix\", \"unregistered\", \"upgrade\", \"upgrade\", \"upgrade\", \"upgraded\", \"upgrading\", \"used\", \"used\", \"used\", \"used\", \"used\", \"used\", \"used\", \"used\", \"used\", \"used\", \"used\", \"used\", \"used\", \"used\", \"usenet\", \"usenet\", \"usenet\", \"user\", \"user\", \"user\", \"user\", \"users\", \"users\", \"users\", \"users\", \"using\", \"using\", \"using\", \"using\", \"using\", \"using\", \"using\", \"using\", \"using\", \"using\", \"uuencode\", \"variable\", \"variable\", \"vendor\", \"venus\", \"verlag\", \"verse\", \"version\", \"version\", \"version\", \"version\", \"version\", \"version\", \"versions\", \"versions\", \"versions\", \"versions\", \"vesa\", \"vesa\", \"video\", \"video\", \"video\", \"viewer\", \"void\", \"voltage\", \"volvo\", \"vote\", \"vote\", \"vote\", \"vote\", \"voting\", \"vpic\", \"vram\", \"wanna\", \"want\", \"want\", \"want\", \"want\", \"want\", \"want\", \"want\", \"want\", \"want\", \"want\", \"warrant\", \"warrant\", \"washington\", \"washington\", \"washington\", \"washington\", \"washington\", \"water\", \"water\", \"water\", \"water\", \"watts\", \"weapon\", \"weapon\", \"weapons\", \"weapons\", \"weapons\", \"weaver\", \"well\", \"well\", \"well\", \"well\", \"well\", \"well\", \"well\", \"well\", \"well\", \"well\", \"well\", \"well\", \"well\", \"went\", \"went\", \"went\", \"went\", \"went\", \"went\", \"wheels\", \"widgets\", \"widgets\", \"width\", \"window\", \"window\", \"window\", \"window\", \"window\", \"window\", \"windows\", \"windows\", \"windows\", \"windows\", \"winmarks\", \"winnipeg\", \"wins\", \"wire\", \"wiretap\", \"wiring\", \"withdraw\", \"wolverine\", \"woman\", \"woman\", \"woman\", \"woman\", \"women\", \"women\", \"women\", \"women\", \"women\", \"women\", \"wondering\", \"wondering\", \"wondering\", \"word\", \"word\", \"word\", \"word\", \"word\", \"word\", \"word\", \"word\", \"word\", \"word\", \"words\", \"words\", \"words\", \"words\", \"words\", \"words\", \"work\", \"work\", \"work\", \"work\", \"work\", \"work\", \"work\", \"work\", \"work\", \"work\", \"work\", \"workstations\", \"world\", \"world\", \"world\", \"world\", \"world\", \"world\", \"world\", \"world\", \"world\", \"world\", \"world\", \"world\", \"worship\", \"would\", \"would\", \"would\", \"would\", \"would\", \"would\", \"would\", \"would\", \"would\", \"would\", \"would\", \"would\", \"wright\", \"wrist\", \"xterm\", \"xterm\", \"yankees\", \"yassin\", \"yawney\", \"year\", \"year\", \"year\", \"year\", \"year\", \"year\", \"year\", \"year\", \"year\", \"year\", \"year\", \"years\", \"years\", \"years\", \"years\", \"years\", \"years\", \"years\", \"years\", \"years\", \"years\", \"years\", \"years\", \"yeast\", \"yeast\", \"zenith\", \"zionist\", \"zionist\"]}, \"R\": 30, \"lambda.step\": 0.01, \"plot.opts\": {\"xlab\": \"PC1\", \"ylab\": \"PC2\"}, \"topic.order\": [5, 7, 1, 2, 16, 20, 4, 12, 11, 9, 3, 15, 14, 8, 6, 19, 17, 10, 13, 18]};\n",
       "\n",
       "function LDAvis_load_lib(url, callback){\n",
       "  var s = document.createElement('script');\n",
       "  s.src = url;\n",
       "  s.async = true;\n",
       "  s.onreadystatechange = s.onload = callback;\n",
       "  s.onerror = function(){console.warn(\"failed to load library \" + url);};\n",
       "  document.getElementsByTagName(\"head\")[0].appendChild(s);\n",
       "}\n",
       "\n",
       "if(typeof(LDAvis) !== \"undefined\"){\n",
       "   // already loaded: just create the visualization\n",
       "   !function(LDAvis){\n",
       "       new LDAvis(\"#\" + \"ldavis_el972022528837936087507774927\", ldavis_el972022528837936087507774927_data);\n",
       "   }(LDAvis);\n",
       "}else if(typeof define === \"function\" && define.amd){\n",
       "   // require.js is available: use it to load d3/LDAvis\n",
       "   require.config({paths: {d3: \"https://cdnjs.cloudflare.com/ajax/libs/d3/3.5.5/d3.min\"}});\n",
       "   require([\"d3\"], function(d3){\n",
       "      window.d3 = d3;\n",
       "      LDAvis_load_lib(\"https://cdn.rawgit.com/bmabey/pyLDAvis/files/ldavis.v1.0.0.js\", function(){\n",
       "        new LDAvis(\"#\" + \"ldavis_el972022528837936087507774927\", ldavis_el972022528837936087507774927_data);\n",
       "      });\n",
       "    });\n",
       "}else{\n",
       "    // require.js not available: dynamically load d3 & LDAvis\n",
       "    LDAvis_load_lib(\"https://cdnjs.cloudflare.com/ajax/libs/d3/3.5.5/d3.min.js\", function(){\n",
       "         LDAvis_load_lib(\"https://cdn.rawgit.com/bmabey/pyLDAvis/files/ldavis.v1.0.0.js\", function(){\n",
       "                 new LDAvis(\"#\" + \"ldavis_el972022528837936087507774927\", ldavis_el972022528837936087507774927_data);\n",
       "            })\n",
       "         });\n",
       "}\n",
       "</script>"
      ],
      "text/plain": [
       "<IPython.core.display.HTML object>"
      ]
     },
     "execution_count": 81,
     "metadata": {},
     "output_type": "execute_result"
    }
   ],
   "source": [
    "pyLDAvis.enable_notebook()\n",
    "vis = pyLDAvis.gensim.prepare(ldamodel, corpus, dictionary)\n",
    "pyLDAvis.display(vis)"
   ]
  },
  {
   "cell_type": "markdown",
   "metadata": {},
   "source": [
    "#### 문서별 Topic 분포 보기"
   ]
  },
  {
   "cell_type": "code",
   "execution_count": 82,
   "metadata": {},
   "outputs": [
    {
     "name": "stdout",
     "output_type": "stream",
     "text": [
      "0 번째 문서의 topic 비율은 [(4, 0.32446972), (13, 0.20333473), (15, 0.26470718), (16, 0.1943609)]\n",
      "1 번째 문서의 topic 비율은 [(4, 0.87905365), (9, 0.029610919), (10, 0.036732722), (11, 0.033526752)]\n",
      "2 번째 문서의 topic 비율은 [(4, 0.35510767), (8, 0.023062138), (13, 0.042101134), (16, 0.36360443), (19, 0.20401168)]\n",
      "3 번째 문서의 topic 비율은 [(1, 0.40344712), (4, 0.17749041), (6, 0.28778008), (17, 0.015174172), (19, 0.10434727)]\n",
      "4 번째 문서의 topic 비율은 [(10, 0.8796864), (11, 0.086971514)]\n"
     ]
    }
   ],
   "source": [
    "for i, topic_list in enumerate(ldamodel[corpus]):\n",
    "    if i == 5:\n",
    "        break\n",
    "    print(i, \"번째 문서의 topic 비율은\", topic_list)"
   ]
  },
  {
   "cell_type": "code",
   "execution_count": 83,
   "metadata": {},
   "outputs": [
    {
     "name": "stdout",
     "output_type": "stream",
     "text": [
      "degree\n",
      "guilt\n",
      "ignore\n"
     ]
    }
   ],
   "source": [
    "print(dictionary[9])\n",
    "print(dictionary[16])\n",
    "print(dictionary[18])"
   ]
  },
  {
   "cell_type": "code",
   "execution_count": 85,
   "metadata": {},
   "outputs": [],
   "source": [
    "def make_topictable_per_doc(ldamodel, corpus, texts):\n",
    "    topic_table = pd.DataFrame()\n",
    "    for i, topic_list in enumerate(ldamodel[corpus]): # 문서 번호 / 토픽 비중\n",
    "        doc = topic_list[0] if ldamodel.per_word_topics else topic_list\n",
    "        doc = sorted(doc, key=lambda x:x[1], reverse=True)\n",
    "        for j, (topic_num, prop_topic) in enumerate(doc):\n",
    "            if j == 0:\n",
    "                topic_table = topic_table.append(pd.Series([int(topic_num), round(prop_topic, 4), topic_list]),ignore_index=True)\n",
    "            else:\n",
    "                break\n",
    "    return (topic_table)"
   ]
  },
  {
   "cell_type": "code",
   "execution_count": 87,
   "metadata": {},
   "outputs": [
    {
     "data": {
      "text/html": [
       "<div>\n",
       "<style scoped>\n",
       "    .dataframe tbody tr th:only-of-type {\n",
       "        vertical-align: middle;\n",
       "    }\n",
       "\n",
       "    .dataframe tbody tr th {\n",
       "        vertical-align: top;\n",
       "    }\n",
       "\n",
       "    .dataframe thead th {\n",
       "        text-align: right;\n",
       "    }\n",
       "</style>\n",
       "<table border=\"1\" class=\"dataframe\">\n",
       "  <thead>\n",
       "    <tr style=\"text-align: right;\">\n",
       "      <th></th>\n",
       "      <th>문서번호</th>\n",
       "      <th>가장 높은 비중 토픽</th>\n",
       "      <th>가장 높은 토픽 비중</th>\n",
       "      <th>각 토픽의 비중</th>\n",
       "    </tr>\n",
       "  </thead>\n",
       "  <tbody>\n",
       "    <tr>\n",
       "      <th>0</th>\n",
       "      <td>0</td>\n",
       "      <td>4.0</td>\n",
       "      <td>0.3245</td>\n",
       "      <td>[(4, 0.32446378), (13, 0.20335539), (15, 0.264...</td>\n",
       "    </tr>\n",
       "    <tr>\n",
       "      <th>1</th>\n",
       "      <td>1</td>\n",
       "      <td>4.0</td>\n",
       "      <td>0.8219</td>\n",
       "      <td>[(4, 0.82186335), (6, 0.09277664), (9, 0.02946...</td>\n",
       "    </tr>\n",
       "    <tr>\n",
       "      <th>2</th>\n",
       "      <td>2</td>\n",
       "      <td>16.0</td>\n",
       "      <td>0.3636</td>\n",
       "      <td>[(4, 0.3541277), (8, 0.023069227), (13, 0.0420...</td>\n",
       "    </tr>\n",
       "    <tr>\n",
       "      <th>3</th>\n",
       "      <td>3</td>\n",
       "      <td>1.0</td>\n",
       "      <td>0.4034</td>\n",
       "      <td>[(1, 0.40344718), (4, 0.17748939), (6, 0.28778...</td>\n",
       "    </tr>\n",
       "    <tr>\n",
       "      <th>4</th>\n",
       "      <td>4</td>\n",
       "      <td>10.0</td>\n",
       "      <td>0.8796</td>\n",
       "      <td>[(10, 0.87956333), (11, 0.08709466)]</td>\n",
       "    </tr>\n",
       "    <tr>\n",
       "      <th>5</th>\n",
       "      <td>5</td>\n",
       "      <td>4.0</td>\n",
       "      <td>0.4562</td>\n",
       "      <td>[(0, 0.06692075), (3, 0.0596813), (4, 0.456238...</td>\n",
       "    </tr>\n",
       "    <tr>\n",
       "      <th>6</th>\n",
       "      <td>6</td>\n",
       "      <td>2.0</td>\n",
       "      <td>0.3200</td>\n",
       "      <td>[(0, 0.14005034), (2, 0.3200112), (3, 0.017115...</td>\n",
       "    </tr>\n",
       "    <tr>\n",
       "      <th>7</th>\n",
       "      <td>7</td>\n",
       "      <td>6.0</td>\n",
       "      <td>0.4189</td>\n",
       "      <td>[(4, 0.33965296), (6, 0.41892412), (8, 0.02637...</td>\n",
       "    </tr>\n",
       "    <tr>\n",
       "      <th>8</th>\n",
       "      <td>8</td>\n",
       "      <td>4.0</td>\n",
       "      <td>0.3326</td>\n",
       "      <td>[(4, 0.3326395), (8, 0.16739987), (9, 0.071085...</td>\n",
       "    </tr>\n",
       "    <tr>\n",
       "      <th>9</th>\n",
       "      <td>9</td>\n",
       "      <td>6.0</td>\n",
       "      <td>0.5213</td>\n",
       "      <td>[(6, 0.5213222), (13, 0.13744214), (14, 0.0920...</td>\n",
       "    </tr>\n",
       "  </tbody>\n",
       "</table>\n",
       "</div>"
      ],
      "text/plain": [
       "   문서번호  가장 높은 비중 토픽  가장 높은 토픽 비중  \\\n",
       "0     0          4.0       0.3245   \n",
       "1     1          4.0       0.8219   \n",
       "2     2         16.0       0.3636   \n",
       "3     3          1.0       0.4034   \n",
       "4     4         10.0       0.8796   \n",
       "5     5          4.0       0.4562   \n",
       "6     6          2.0       0.3200   \n",
       "7     7          6.0       0.4189   \n",
       "8     8          4.0       0.3326   \n",
       "9     9          6.0       0.5213   \n",
       "\n",
       "                                            각 토픽의 비중  \n",
       "0  [(4, 0.32446378), (13, 0.20335539), (15, 0.264...  \n",
       "1  [(4, 0.82186335), (6, 0.09277664), (9, 0.02946...  \n",
       "2  [(4, 0.3541277), (8, 0.023069227), (13, 0.0420...  \n",
       "3  [(1, 0.40344718), (4, 0.17748939), (6, 0.28778...  \n",
       "4               [(10, 0.87956333), (11, 0.08709466)]  \n",
       "5  [(0, 0.06692075), (3, 0.0596813), (4, 0.456238...  \n",
       "6  [(0, 0.14005034), (2, 0.3200112), (3, 0.017115...  \n",
       "7  [(4, 0.33965296), (6, 0.41892412), (8, 0.02637...  \n",
       "8  [(4, 0.3326395), (8, 0.16739987), (9, 0.071085...  \n",
       "9  [(6, 0.5213222), (13, 0.13744214), (14, 0.0920...  "
      ]
     },
     "execution_count": 87,
     "metadata": {},
     "output_type": "execute_result"
    }
   ],
   "source": [
    "topic_table = make_topictable_per_doc(ldamodel, corpus, tokenize_doc)\n",
    "topic_table = topic_table.reset_index()\n",
    "topic_table.columns = ['문서번호', '가장 높은 비중 토픽', '가장 높은 토픽 비중', '각 토픽의 비중']\n",
    "topic_table.head(10)"
   ]
  },
  {
   "cell_type": "markdown",
   "metadata": {},
   "source": [
    "### Scikit Learn을 이용한 LDA"
   ]
  },
  {
   "cell_type": "code",
   "execution_count": 88,
   "metadata": {},
   "outputs": [],
   "source": [
    "import urllib.request\n",
    "\n",
    "urllib.request.urlretrieve('https://raw.githubusercontent.com/franciscadias/data/master/abcnews-date-text.csv', filename='abcnews-date-text.csv')\n",
    "data = pd.read_csv('abcnews-date-text.csv', error_bad_lines=False)"
   ]
  },
  {
   "cell_type": "code",
   "execution_count": 89,
   "metadata": {},
   "outputs": [
    {
     "name": "stdout",
     "output_type": "stream",
     "text": [
      "1082168\n"
     ]
    }
   ],
   "source": [
    "print(len(data))"
   ]
  },
  {
   "cell_type": "code",
   "execution_count": 90,
   "metadata": {},
   "outputs": [
    {
     "data": {
      "text/html": [
       "<div>\n",
       "<style scoped>\n",
       "    .dataframe tbody tr th:only-of-type {\n",
       "        vertical-align: middle;\n",
       "    }\n",
       "\n",
       "    .dataframe tbody tr th {\n",
       "        vertical-align: top;\n",
       "    }\n",
       "\n",
       "    .dataframe thead th {\n",
       "        text-align: right;\n",
       "    }\n",
       "</style>\n",
       "<table border=\"1\" class=\"dataframe\">\n",
       "  <thead>\n",
       "    <tr style=\"text-align: right;\">\n",
       "      <th></th>\n",
       "      <th>publish_date</th>\n",
       "      <th>headline_text</th>\n",
       "    </tr>\n",
       "  </thead>\n",
       "  <tbody>\n",
       "    <tr>\n",
       "      <th>0</th>\n",
       "      <td>20030219</td>\n",
       "      <td>aba decides against community broadcasting lic...</td>\n",
       "    </tr>\n",
       "    <tr>\n",
       "      <th>1</th>\n",
       "      <td>20030219</td>\n",
       "      <td>act fire witnesses must be aware of defamation</td>\n",
       "    </tr>\n",
       "    <tr>\n",
       "      <th>2</th>\n",
       "      <td>20030219</td>\n",
       "      <td>a g calls for infrastructure protection summit</td>\n",
       "    </tr>\n",
       "    <tr>\n",
       "      <th>3</th>\n",
       "      <td>20030219</td>\n",
       "      <td>air nz staff in aust strike for pay rise</td>\n",
       "    </tr>\n",
       "    <tr>\n",
       "      <th>4</th>\n",
       "      <td>20030219</td>\n",
       "      <td>air nz strike to affect australian travellers</td>\n",
       "    </tr>\n",
       "  </tbody>\n",
       "</table>\n",
       "</div>"
      ],
      "text/plain": [
       "   publish_date                                      headline_text\n",
       "0      20030219  aba decides against community broadcasting lic...\n",
       "1      20030219     act fire witnesses must be aware of defamation\n",
       "2      20030219     a g calls for infrastructure protection summit\n",
       "3      20030219           air nz staff in aust strike for pay rise\n",
       "4      20030219      air nz strike to affect australian travellers"
      ]
     },
     "execution_count": 90,
     "metadata": {},
     "output_type": "execute_result"
    }
   ],
   "source": [
    "data.head()"
   ]
  },
  {
   "cell_type": "code",
   "execution_count": 92,
   "metadata": {},
   "outputs": [
    {
     "data": {
      "text/html": [
       "<div>\n",
       "<style scoped>\n",
       "    .dataframe tbody tr th:only-of-type {\n",
       "        vertical-align: middle;\n",
       "    }\n",
       "\n",
       "    .dataframe tbody tr th {\n",
       "        vertical-align: top;\n",
       "    }\n",
       "\n",
       "    .dataframe thead th {\n",
       "        text-align: right;\n",
       "    }\n",
       "</style>\n",
       "<table border=\"1\" class=\"dataframe\">\n",
       "  <thead>\n",
       "    <tr style=\"text-align: right;\">\n",
       "      <th></th>\n",
       "      <th>headline_text</th>\n",
       "    </tr>\n",
       "  </thead>\n",
       "  <tbody>\n",
       "    <tr>\n",
       "      <th>0</th>\n",
       "      <td>aba decides against community broadcasting lic...</td>\n",
       "    </tr>\n",
       "    <tr>\n",
       "      <th>1</th>\n",
       "      <td>act fire witnesses must be aware of defamation</td>\n",
       "    </tr>\n",
       "    <tr>\n",
       "      <th>2</th>\n",
       "      <td>a g calls for infrastructure protection summit</td>\n",
       "    </tr>\n",
       "    <tr>\n",
       "      <th>3</th>\n",
       "      <td>air nz staff in aust strike for pay rise</td>\n",
       "    </tr>\n",
       "    <tr>\n",
       "      <th>4</th>\n",
       "      <td>air nz strike to affect australian travellers</td>\n",
       "    </tr>\n",
       "  </tbody>\n",
       "</table>\n",
       "</div>"
      ],
      "text/plain": [
       "                                       headline_text\n",
       "0  aba decides against community broadcasting lic...\n",
       "1     act fire witnesses must be aware of defamation\n",
       "2     a g calls for infrastructure protection summit\n",
       "3           air nz staff in aust strike for pay rise\n",
       "4      air nz strike to affect australian travellers"
      ]
     },
     "execution_count": 92,
     "metadata": {},
     "output_type": "execute_result"
    }
   ],
   "source": [
    "text = data[['headline_text']]\n",
    "text.head()"
   ]
  },
  {
   "cell_type": "markdown",
   "metadata": {},
   "source": [
    "#### Text Preprocessing"
   ]
  },
  {
   "cell_type": "code",
   "execution_count": 93,
   "metadata": {},
   "outputs": [],
   "source": [
    "import nltk"
   ]
  },
  {
   "cell_type": "code",
   "execution_count": 94,
   "metadata": {},
   "outputs": [
    {
     "name": "stderr",
     "output_type": "stream",
     "text": [
      "C:\\Users\\user\\Anaconda3\\envs\\nlp\\lib\\site-packages\\ipykernel_launcher.py:1: SettingWithCopyWarning: \n",
      "A value is trying to be set on a copy of a slice from a DataFrame.\n",
      "Try using .loc[row_indexer,col_indexer] = value instead\n",
      "\n",
      "See the caveats in the documentation: https://pandas.pydata.org/pandas-docs/stable/user_guide/indexing.html#returning-a-view-versus-a-copy\n",
      "  \"\"\"Entry point for launching an IPython kernel.\n"
     ]
    },
    {
     "data": {
      "text/html": [
       "<div>\n",
       "<style scoped>\n",
       "    .dataframe tbody tr th:only-of-type {\n",
       "        vertical-align: middle;\n",
       "    }\n",
       "\n",
       "    .dataframe tbody tr th {\n",
       "        vertical-align: top;\n",
       "    }\n",
       "\n",
       "    .dataframe thead th {\n",
       "        text-align: right;\n",
       "    }\n",
       "</style>\n",
       "<table border=\"1\" class=\"dataframe\">\n",
       "  <thead>\n",
       "    <tr style=\"text-align: right;\">\n",
       "      <th></th>\n",
       "      <th>headline_text</th>\n",
       "    </tr>\n",
       "  </thead>\n",
       "  <tbody>\n",
       "    <tr>\n",
       "      <th>0</th>\n",
       "      <td>[aba, decides, against, community, broadcastin...</td>\n",
       "    </tr>\n",
       "    <tr>\n",
       "      <th>1</th>\n",
       "      <td>[act, fire, witnesses, must, be, aware, of, de...</td>\n",
       "    </tr>\n",
       "    <tr>\n",
       "      <th>2</th>\n",
       "      <td>[a, g, calls, for, infrastructure, protection,...</td>\n",
       "    </tr>\n",
       "    <tr>\n",
       "      <th>3</th>\n",
       "      <td>[air, nz, staff, in, aust, strike, for, pay, r...</td>\n",
       "    </tr>\n",
       "    <tr>\n",
       "      <th>4</th>\n",
       "      <td>[air, nz, strike, to, affect, australian, trav...</td>\n",
       "    </tr>\n",
       "  </tbody>\n",
       "</table>\n",
       "</div>"
      ],
      "text/plain": [
       "                                       headline_text\n",
       "0  [aba, decides, against, community, broadcastin...\n",
       "1  [act, fire, witnesses, must, be, aware, of, de...\n",
       "2  [a, g, calls, for, infrastructure, protection,...\n",
       "3  [air, nz, staff, in, aust, strike, for, pay, r...\n",
       "4  [air, nz, strike, to, affect, australian, trav..."
      ]
     },
     "execution_count": 94,
     "metadata": {},
     "output_type": "execute_result"
    }
   ],
   "source": [
    "text['headline_text'] = text.apply(lambda row: nltk.word_tokenize(row['headline_text']), axis=1)\n",
    "text.head()"
   ]
  },
  {
   "cell_type": "code",
   "execution_count": 95,
   "metadata": {},
   "outputs": [
    {
     "name": "stderr",
     "output_type": "stream",
     "text": [
      "C:\\Users\\user\\Anaconda3\\envs\\nlp\\lib\\site-packages\\ipykernel_launcher.py:4: SettingWithCopyWarning: \n",
      "A value is trying to be set on a copy of a slice from a DataFrame.\n",
      "Try using .loc[row_indexer,col_indexer] = value instead\n",
      "\n",
      "See the caveats in the documentation: https://pandas.pydata.org/pandas-docs/stable/user_guide/indexing.html#returning-a-view-versus-a-copy\n",
      "  after removing the cwd from sys.path.\n"
     ]
    },
    {
     "data": {
      "text/html": [
       "<div>\n",
       "<style scoped>\n",
       "    .dataframe tbody tr th:only-of-type {\n",
       "        vertical-align: middle;\n",
       "    }\n",
       "\n",
       "    .dataframe tbody tr th {\n",
       "        vertical-align: top;\n",
       "    }\n",
       "\n",
       "    .dataframe thead th {\n",
       "        text-align: right;\n",
       "    }\n",
       "</style>\n",
       "<table border=\"1\" class=\"dataframe\">\n",
       "  <thead>\n",
       "    <tr style=\"text-align: right;\">\n",
       "      <th></th>\n",
       "      <th>headline_text</th>\n",
       "    </tr>\n",
       "  </thead>\n",
       "  <tbody>\n",
       "    <tr>\n",
       "      <th>0</th>\n",
       "      <td>[aba, decides, community, broadcasting, licence]</td>\n",
       "    </tr>\n",
       "    <tr>\n",
       "      <th>1</th>\n",
       "      <td>[act, fire, witnesses, must, aware, defamation]</td>\n",
       "    </tr>\n",
       "    <tr>\n",
       "      <th>2</th>\n",
       "      <td>[g, calls, infrastructure, protection, summit]</td>\n",
       "    </tr>\n",
       "    <tr>\n",
       "      <th>3</th>\n",
       "      <td>[air, nz, staff, aust, strike, pay, rise]</td>\n",
       "    </tr>\n",
       "    <tr>\n",
       "      <th>4</th>\n",
       "      <td>[air, nz, strike, affect, australian, travellers]</td>\n",
       "    </tr>\n",
       "  </tbody>\n",
       "</table>\n",
       "</div>"
      ],
      "text/plain": [
       "                                       headline_text\n",
       "0   [aba, decides, community, broadcasting, licence]\n",
       "1    [act, fire, witnesses, must, aware, defamation]\n",
       "2     [g, calls, infrastructure, protection, summit]\n",
       "3          [air, nz, staff, aust, strike, pay, rise]\n",
       "4  [air, nz, strike, affect, australian, travellers]"
      ]
     },
     "execution_count": 95,
     "metadata": {},
     "output_type": "execute_result"
    }
   ],
   "source": [
    "from nltk.corpus import stopwords\n",
    "\n",
    "stop = stopwords.words('english')\n",
    "text['headline_text'] = text['headline_text'].apply(lambda x: [word for word in x if word not in (stop)])\n",
    "text.head()"
   ]
  },
  {
   "cell_type": "code",
   "execution_count": 97,
   "metadata": {},
   "outputs": [
    {
     "name": "stderr",
     "output_type": "stream",
     "text": [
      "C:\\Users\\user\\Anaconda3\\envs\\nlp\\lib\\site-packages\\ipykernel_launcher.py:3: SettingWithCopyWarning: \n",
      "A value is trying to be set on a copy of a slice from a DataFrame.\n",
      "Try using .loc[row_indexer,col_indexer] = value instead\n",
      "\n",
      "See the caveats in the documentation: https://pandas.pydata.org/pandas-docs/stable/user_guide/indexing.html#returning-a-view-versus-a-copy\n",
      "  This is separate from the ipykernel package so we can avoid doing imports until\n"
     ]
    },
    {
     "data": {
      "text/html": [
       "<div>\n",
       "<style scoped>\n",
       "    .dataframe tbody tr th:only-of-type {\n",
       "        vertical-align: middle;\n",
       "    }\n",
       "\n",
       "    .dataframe tbody tr th {\n",
       "        vertical-align: top;\n",
       "    }\n",
       "\n",
       "    .dataframe thead th {\n",
       "        text-align: right;\n",
       "    }\n",
       "</style>\n",
       "<table border=\"1\" class=\"dataframe\">\n",
       "  <thead>\n",
       "    <tr style=\"text-align: right;\">\n",
       "      <th></th>\n",
       "      <th>headline_text</th>\n",
       "    </tr>\n",
       "  </thead>\n",
       "  <tbody>\n",
       "    <tr>\n",
       "      <th>0</th>\n",
       "      <td>[aba, decide, community, broadcast, licence]</td>\n",
       "    </tr>\n",
       "    <tr>\n",
       "      <th>1</th>\n",
       "      <td>[act, fire, witness, must, aware, defamation]</td>\n",
       "    </tr>\n",
       "    <tr>\n",
       "      <th>2</th>\n",
       "      <td>[g, call, infrastructure, protection, summit]</td>\n",
       "    </tr>\n",
       "    <tr>\n",
       "      <th>3</th>\n",
       "      <td>[air, nz, staff, aust, strike, pay, rise]</td>\n",
       "    </tr>\n",
       "    <tr>\n",
       "      <th>4</th>\n",
       "      <td>[air, nz, strike, affect, australian, travellers]</td>\n",
       "    </tr>\n",
       "  </tbody>\n",
       "</table>\n",
       "</div>"
      ],
      "text/plain": [
       "                                       headline_text\n",
       "0       [aba, decide, community, broadcast, licence]\n",
       "1      [act, fire, witness, must, aware, defamation]\n",
       "2      [g, call, infrastructure, protection, summit]\n",
       "3          [air, nz, staff, aust, strike, pay, rise]\n",
       "4  [air, nz, strike, affect, australian, travellers]"
      ]
     },
     "execution_count": 97,
     "metadata": {},
     "output_type": "execute_result"
    }
   ],
   "source": [
    "from nltk.stem import WordNetLemmatizer\n",
    "\n",
    "text['headline_text'] = text['headline_text'].apply(lambda x: [WordNetLemmatizer().lemmatize(word, pos='v') for word in x])\n",
    "\n",
    "text.head()"
   ]
  },
  {
   "cell_type": "code",
   "execution_count": 98,
   "metadata": {},
   "outputs": [
    {
     "data": {
      "text/plain": [
       "0         [aba, decide, community, broadcast, licence]\n",
       "1        [act, fire, witness, must, aware, defamation]\n",
       "2        [g, call, infrastructure, protection, summit]\n",
       "3            [air, nz, staff, aust, strike, pay, rise]\n",
       "4    [air, nz, strike, affect, australian, travellers]\n",
       "Name: headline_text, dtype: object"
      ]
     },
     "execution_count": 98,
     "metadata": {},
     "output_type": "execute_result"
    }
   ],
   "source": [
    "tokenize_doc = text['headline_text'].apply(lambda x: [word for word in x if len(word)])\n",
    "tokenize_doc[:5]"
   ]
  },
  {
   "cell_type": "markdown",
   "metadata": {},
   "source": [
    "### TF-IDF 행렬"
   ]
  },
  {
   "cell_type": "code",
   "execution_count": 99,
   "metadata": {},
   "outputs": [
    {
     "name": "stderr",
     "output_type": "stream",
     "text": [
      "C:\\Users\\user\\Anaconda3\\envs\\nlp\\lib\\site-packages\\ipykernel_launcher.py:7: SettingWithCopyWarning: \n",
      "A value is trying to be set on a copy of a slice from a DataFrame.\n",
      "Try using .loc[row_indexer,col_indexer] = value instead\n",
      "\n",
      "See the caveats in the documentation: https://pandas.pydata.org/pandas-docs/stable/user_guide/indexing.html#returning-a-view-versus-a-copy\n",
      "  import sys\n"
     ]
    }
   ],
   "source": [
    "# 역 토큰화\n",
    "dotokenize_doc = []\n",
    "\n",
    "for i in range(len(text)):\n",
    "    t = ' '.join(tokenize_doc[i])\n",
    "    dotokenize_doc.append(t)\n",
    "text['headline_text'] = dotokenize_doc"
   ]
  },
  {
   "cell_type": "code",
   "execution_count": 100,
   "metadata": {},
   "outputs": [
    {
     "data": {
      "text/plain": [
       "0        aba decide community broadcast licence\n",
       "1        act fire witness must aware defamation\n",
       "2       g call infrastructure protection summit\n",
       "3             air nz staff aust strike pay rise\n",
       "4    air nz strike affect australian travellers\n",
       "Name: headline_text, dtype: object"
      ]
     },
     "execution_count": 100,
     "metadata": {},
     "output_type": "execute_result"
    }
   ],
   "source": [
    "text['headline_text'][:5]"
   ]
  },
  {
   "cell_type": "code",
   "execution_count": 102,
   "metadata": {},
   "outputs": [
    {
     "data": {
      "text/plain": [
       "(1082168, 1000)"
      ]
     },
     "execution_count": 102,
     "metadata": {},
     "output_type": "execute_result"
    }
   ],
   "source": [
    "from sklearn.feature_extraction.text import TfidfVectorizer\n",
    "\n",
    "vectorizer = TfidfVectorizer(stop_words='english', max_features=1000)\n",
    "X = vectorizer.fit_transform(text['headline_text'])\n",
    "X.shape"
   ]
  },
  {
   "cell_type": "markdown",
   "metadata": {},
   "source": [
    "## Topic Modeling"
   ]
  },
  {
   "cell_type": "code",
   "execution_count": 104,
   "metadata": {},
   "outputs": [],
   "source": [
    "from sklearn.decomposition import LatentDirichletAllocation"
   ]
  },
  {
   "cell_type": "code",
   "execution_count": 107,
   "metadata": {},
   "outputs": [],
   "source": [
    "lda_model = LatentDirichletAllocation(n_components=10, learning_method='online', random_state=777, max_iter=1)"
   ]
  },
  {
   "cell_type": "code",
   "execution_count": 108,
   "metadata": {},
   "outputs": [],
   "source": [
    "lda_top = lda_model.fit_transform(X)"
   ]
  },
  {
   "cell_type": "code",
   "execution_count": 109,
   "metadata": {},
   "outputs": [
    {
     "name": "stdout",
     "output_type": "stream",
     "text": [
      "[[1.00018152e-01 1.00009467e-01 1.00015449e-01 ... 1.00002606e-01\n",
      "  1.00004950e-01 1.00006429e-01]\n",
      " [1.00006874e-01 1.00005980e-01 1.00004797e-01 ... 1.00003132e-01\n",
      "  1.00002046e-01 1.00003205e-01]\n",
      " [1.77580527e+03 8.45917150e+02 1.00008083e-01 ... 1.59773169e+03\n",
      "  1.48546651e+02 1.00003249e-01]\n",
      " ...\n",
      " [1.00009180e-01 1.00004753e-01 1.00004927e-01 ... 1.00002839e-01\n",
      "  1.00003218e-01 1.00007119e-01]\n",
      " [1.00004842e-01 1.00003624e-01 1.00005144e-01 ... 1.00001906e-01\n",
      "  1.00004197e-01 1.00003722e-01]\n",
      " [1.00007931e-01 1.00006322e-01 1.00004568e-01 ... 1.00002039e-01\n",
      "  1.00003229e-01 1.00006350e-01]]\n"
     ]
    }
   ],
   "source": [
    "print(lda_model.components_)"
   ]
  },
  {
   "cell_type": "code",
   "execution_count": 110,
   "metadata": {},
   "outputs": [
    {
     "name": "stdout",
     "output_type": "stream",
     "text": [
      "(10, 1000)\n"
     ]
    }
   ],
   "source": [
    "print(lda_model.components_.shape)"
   ]
  },
  {
   "cell_type": "code",
   "execution_count": 111,
   "metadata": {},
   "outputs": [
    {
     "name": "stdout",
     "output_type": "stream",
     "text": [
      "Topic 1:  [('police', 11348.96), ('change', 5589.45), ('year', 5087.17), ('years', 4707.07), ('china', 4357.2)]\n",
      "Topic 2:  [('wa', 9951.26), ('nsw', 5671.42), ('home', 5428.86), ('help', 4963.11), ('north', 4822.89)]\n",
      "Topic 3:  [('australia', 13075.66), ('new', 12611.87), ('win', 8443.99), ('election', 7155.36), ('south', 6377.83)]\n",
      "Topic 4:  [('world', 6251.81), ('market', 5414.7), ('report', 5385.28), ('school', 5265.04), ('rural', 5086.69)]\n",
      "Topic 5:  [('government', 8199.3), ('queensland', 7499.66), ('attack', 6676.9), ('die', 5494.57), ('open', 5432.46)]\n",
      "Topic 6:  [('trump', 11610.29), ('melbourne', 7140.61), ('kill', 5500.47), ('warn', 4936.73), ('test', 4799.35)]\n",
      "Topic 7:  [('say', 11990.15), ('miss', 4317.06), ('national', 3966.24), ('family', 3828.62), ('time', 3766.4)]\n",
      "Topic 8:  [('adelaide', 6534.91), ('make', 5377.82), ('2016', 5098.57), ('hit', 4908.13), ('ban', 4166.76)]\n",
      "Topic 9:  [('charge', 7909.66), ('court', 7223.5), ('day', 6791.23), ('murder', 6038.02), ('man', 5637.42)]\n",
      "Topic 10:  [('australian', 10707.87), ('sydney', 8094.19), ('sa', 6767.7), ('perth', 6215.36), ('house', 5891.43)]\n"
     ]
    }
   ],
   "source": [
    "terms = vectorizer.get_feature_names()\n",
    "\n",
    "def get_topics(components, feature_names, n=5):\n",
    "    for idx, topic in enumerate(components):\n",
    "        print(\"Topic %d: \"%(idx+1), [(feature_names[i], topic[i].round(2)) for i in topic.argsort()[:-n-1:-1]])\n",
    "        \n",
    "get_topics(lda_model.components_, terms)"
   ]
  },
  {
   "cell_type": "markdown",
   "metadata": {},
   "source": [
    "# 기계 학습(Machine Learning)"
   ]
  },
  {
   "cell_type": "markdown",
   "metadata": {},
   "source": [
    "- AI(인공 지능) : 사람과 같은 지능을 갖는 기계\n",
    "- ML(기계 학습) : 학습이라는 과정을 통해서 예측, 분류, 군집화\n",
    "- DL(심층 학습) : 사람의 뇌에 있는 뉴런(neuron)을 모방해서 학습 방식을 적용"
   ]
  },
  {
   "cell_type": "code",
   "execution_count": null,
   "metadata": {},
   "outputs": [],
   "source": []
  }
 ],
 "metadata": {
  "kernelspec": {
   "display_name": "Python 3",
   "language": "python",
   "name": "python3"
  },
  "language_info": {
   "codemirror_mode": {
    "name": "ipython",
    "version": 3
   },
   "file_extension": ".py",
   "mimetype": "text/x-python",
   "name": "python",
   "nbconvert_exporter": "python",
   "pygments_lexer": "ipython3",
   "version": "3.7.6"
  }
 },
 "nbformat": 4,
 "nbformat_minor": 4
}
